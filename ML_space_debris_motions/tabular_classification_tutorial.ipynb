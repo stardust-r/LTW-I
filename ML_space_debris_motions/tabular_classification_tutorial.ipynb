{
  "nbformat": 4,
  "nbformat_minor": 0,
  "metadata": {
    "colab": {
      "name": "tabular_classification_tutorial.ipynb",
      "provenance": [],
      "collapsed_sections": []
    },
    "kernelspec": {
      "name": "python3",
      "display_name": "Python 3"
    },
    "accelerator": "GPU",
    "widgets": {
      "application/vnd.jupyter.widget-state+json": {
        "0f913c135aac45718a387a41e801a8dc": {
          "model_module": "@jupyter-widgets/controls",
          "model_name": "HBoxModel",
          "state": {
            "_view_name": "HBoxView",
            "_dom_classes": [],
            "_model_name": "HBoxModel",
            "_view_module": "@jupyter-widgets/controls",
            "_model_module_version": "1.5.0",
            "_view_count": null,
            "_view_module_version": "1.5.0",
            "box_style": "",
            "layout": "IPY_MODEL_0e897e8e2a394d1d8e4996f4b82201d3",
            "_model_module": "@jupyter-widgets/controls",
            "children": [
              "IPY_MODEL_ce4b282b12f54decb5376cfd41c2184a",
              "IPY_MODEL_bccd1bd0653a49aabc7e9110bc260533"
            ]
          }
        },
        "0e897e8e2a394d1d8e4996f4b82201d3": {
          "model_module": "@jupyter-widgets/base",
          "model_name": "LayoutModel",
          "state": {
            "_view_name": "LayoutView",
            "grid_template_rows": null,
            "right": null,
            "justify_content": null,
            "_view_module": "@jupyter-widgets/base",
            "overflow": null,
            "_model_module_version": "1.2.0",
            "_view_count": null,
            "flex_flow": null,
            "width": null,
            "min_width": null,
            "border": null,
            "align_items": null,
            "bottom": null,
            "_model_module": "@jupyter-widgets/base",
            "top": null,
            "grid_column": null,
            "overflow_y": null,
            "overflow_x": null,
            "grid_auto_flow": null,
            "grid_area": null,
            "grid_template_columns": null,
            "flex": null,
            "_model_name": "LayoutModel",
            "justify_items": null,
            "grid_row": null,
            "max_height": null,
            "align_content": null,
            "visibility": null,
            "align_self": null,
            "height": null,
            "min_height": null,
            "padding": null,
            "grid_auto_rows": null,
            "grid_gap": null,
            "max_width": null,
            "order": null,
            "_view_module_version": "1.2.0",
            "grid_template_areas": null,
            "object_position": null,
            "object_fit": null,
            "grid_auto_columns": null,
            "margin": null,
            "display": null,
            "left": null
          }
        },
        "ce4b282b12f54decb5376cfd41c2184a": {
          "model_module": "@jupyter-widgets/controls",
          "model_name": "FloatProgressModel",
          "state": {
            "_view_name": "ProgressView",
            "style": "IPY_MODEL_a47ee9c58da745fcb380d3fc7c7e5b86",
            "_dom_classes": [],
            "description": "100%",
            "_model_name": "FloatProgressModel",
            "bar_style": "success",
            "max": 128,
            "_view_module": "@jupyter-widgets/controls",
            "_model_module_version": "1.5.0",
            "value": 128,
            "_view_count": null,
            "_view_module_version": "1.5.0",
            "orientation": "horizontal",
            "min": 0,
            "description_tooltip": null,
            "_model_module": "@jupyter-widgets/controls",
            "layout": "IPY_MODEL_2cbfe6026dc54342a759a42d212fba6c"
          }
        },
        "bccd1bd0653a49aabc7e9110bc260533": {
          "model_module": "@jupyter-widgets/controls",
          "model_name": "HTMLModel",
          "state": {
            "_view_name": "HTMLView",
            "style": "IPY_MODEL_f5093133f013470a89f03d1ed3ead015",
            "_dom_classes": [],
            "description": "",
            "_model_name": "HTMLModel",
            "placeholder": "​",
            "_view_module": "@jupyter-widgets/controls",
            "_model_module_version": "1.5.0",
            "value": " 128/128 [00:02&lt;00:00, 43.06it/s]",
            "_view_count": null,
            "_view_module_version": "1.5.0",
            "description_tooltip": null,
            "_model_module": "@jupyter-widgets/controls",
            "layout": "IPY_MODEL_0174da28400642388e886e8ed90f7488"
          }
        },
        "a47ee9c58da745fcb380d3fc7c7e5b86": {
          "model_module": "@jupyter-widgets/controls",
          "model_name": "ProgressStyleModel",
          "state": {
            "_view_name": "StyleView",
            "_model_name": "ProgressStyleModel",
            "description_width": "initial",
            "_view_module": "@jupyter-widgets/base",
            "_model_module_version": "1.5.0",
            "_view_count": null,
            "_view_module_version": "1.2.0",
            "bar_color": null,
            "_model_module": "@jupyter-widgets/controls"
          }
        },
        "2cbfe6026dc54342a759a42d212fba6c": {
          "model_module": "@jupyter-widgets/base",
          "model_name": "LayoutModel",
          "state": {
            "_view_name": "LayoutView",
            "grid_template_rows": null,
            "right": null,
            "justify_content": null,
            "_view_module": "@jupyter-widgets/base",
            "overflow": null,
            "_model_module_version": "1.2.0",
            "_view_count": null,
            "flex_flow": null,
            "width": null,
            "min_width": null,
            "border": null,
            "align_items": null,
            "bottom": null,
            "_model_module": "@jupyter-widgets/base",
            "top": null,
            "grid_column": null,
            "overflow_y": null,
            "overflow_x": null,
            "grid_auto_flow": null,
            "grid_area": null,
            "grid_template_columns": null,
            "flex": null,
            "_model_name": "LayoutModel",
            "justify_items": null,
            "grid_row": null,
            "max_height": null,
            "align_content": null,
            "visibility": null,
            "align_self": null,
            "height": null,
            "min_height": null,
            "padding": null,
            "grid_auto_rows": null,
            "grid_gap": null,
            "max_width": null,
            "order": null,
            "_view_module_version": "1.2.0",
            "grid_template_areas": null,
            "object_position": null,
            "object_fit": null,
            "grid_auto_columns": null,
            "margin": null,
            "display": null,
            "left": null
          }
        },
        "f5093133f013470a89f03d1ed3ead015": {
          "model_module": "@jupyter-widgets/controls",
          "model_name": "DescriptionStyleModel",
          "state": {
            "_view_name": "StyleView",
            "_model_name": "DescriptionStyleModel",
            "description_width": "",
            "_view_module": "@jupyter-widgets/base",
            "_model_module_version": "1.5.0",
            "_view_count": null,
            "_view_module_version": "1.2.0",
            "_model_module": "@jupyter-widgets/controls"
          }
        },
        "0174da28400642388e886e8ed90f7488": {
          "model_module": "@jupyter-widgets/base",
          "model_name": "LayoutModel",
          "state": {
            "_view_name": "LayoutView",
            "grid_template_rows": null,
            "right": null,
            "justify_content": null,
            "_view_module": "@jupyter-widgets/base",
            "overflow": null,
            "_model_module_version": "1.2.0",
            "_view_count": null,
            "flex_flow": null,
            "width": null,
            "min_width": null,
            "border": null,
            "align_items": null,
            "bottom": null,
            "_model_module": "@jupyter-widgets/base",
            "top": null,
            "grid_column": null,
            "overflow_y": null,
            "overflow_x": null,
            "grid_auto_flow": null,
            "grid_area": null,
            "grid_template_columns": null,
            "flex": null,
            "_model_name": "LayoutModel",
            "justify_items": null,
            "grid_row": null,
            "max_height": null,
            "align_content": null,
            "visibility": null,
            "align_self": null,
            "height": null,
            "min_height": null,
            "padding": null,
            "grid_auto_rows": null,
            "grid_gap": null,
            "max_width": null,
            "order": null,
            "_view_module_version": "1.2.0",
            "grid_template_areas": null,
            "object_position": null,
            "object_fit": null,
            "grid_auto_columns": null,
            "margin": null,
            "display": null,
            "left": null
          }
        }
      }
    }
  },
  "cells": [
    {
      "cell_type": "markdown",
      "metadata": {
        "id": "PiyMMUUY2G1j",
        "colab_type": "text"
      },
      "source": [
        "# Tutorial: Tabular classification model with fastai2\n",
        "\n"
      ]
    },
    {
      "cell_type": "markdown",
      "metadata": {
        "id": "auGoHfyOapE6",
        "colab_type": "text"
      },
      "source": [
        "Tabular modelling takes data in the form of a table (like a spreadsheet or CSV--comma separated values). The objective is to predict the value in one or more columns, based on the values in the other columns.\n",
        "\n",
        "A classification model is one which attempts to predict a class, or category. That is, it's predicting from a number of discrete possibilities, such as \\\"dog\\\" or \\\"cat.\\\"\n",
        "\n",
        "In this tutorial, we'll be looking at the so-called dataset [\"Adult\" dataset](https://archive.ics.uci.edu/ml/datasets/Adult), also known as \"Census Income\" dataset. The task is to predict whether income exceeds $50K/yr based on census data.. This tutorial is based on selected contents from these two notebooks:\n",
        "* https://github.com/fastai/fastbook/blob/master/09_tabular.ipynb\n",
        "* https://github.com/muellerzr/Practical-Deep-Learning-for-Coders-2.0/blob/master/Tabular%20Notebooks/01_Adults.ipynb\n",
        "\n",
        "This tutorial can then be used as starting point for the task of predicting the dynamical index of space debris motions."
      ]
    },
    {
      "cell_type": "markdown",
      "metadata": {
        "id": "N-O6gPY6W1IC",
        "colab_type": "text"
      },
      "source": [
        "## Setup the GPU"
      ]
    },
    {
      "cell_type": "markdown",
      "metadata": {
        "id": "kAPsD_VIhMEu",
        "colab_type": "text"
      },
      "source": [
        "Before starting, you will need to set colab to use the GPU:\n",
        "* Go to Edit > Notebook settings or Runtime > Change runtime type and select GPU as Hardware accelerator.\n",
        "* https://medium.com/deep-learning-turkey/google-colab-free-gpu-tutorial-e113627b9f5d"
      ]
    },
    {
      "cell_type": "markdown",
      "metadata": {
        "id": "A4CuOdYq9o9U",
        "colab_type": "text"
      },
      "source": [
        "## Install Fastai2 library"
      ]
    },
    {
      "cell_type": "markdown",
      "metadata": {
        "id": "voP1iR7ObeVJ",
        "colab_type": "text"
      },
      "source": [
        "The fastai2 library is not pre-installed in colab so we first need to pip install it. Using \"!\" at the beginning of a cell in a Jupyter notebook runs a shell command inside the notebook, and installs the library directly to the colab virtual machine. You only need to rerun this when restarting the kernel."
      ]
    },
    {
      "cell_type": "code",
      "metadata": {
        "id": "hWlStVmdAx72",
        "colab_type": "code",
        "outputId": "850fe4e9-fe14-4ca3-eecc-9a91625dd7bd",
        "colab": {
          "base_uri": "https://localhost:8080/",
          "height": 34
        }
      },
      "source": [
        "!pip install -q fastai2"
      ],
      "execution_count": 1,
      "outputs": [
        {
          "output_type": "stream",
          "text": [
            "\u001b[?25l\r\u001b[K     |█▊                              | 10kB 23.9MB/s eta 0:00:01\r\u001b[K     |███▌                            | 20kB 4.1MB/s eta 0:00:01\r\u001b[K     |█████▏                          | 30kB 5.7MB/s eta 0:00:01\r\u001b[K     |███████                         | 40kB 7.2MB/s eta 0:00:01\r\u001b[K     |████████▋                       | 51kB 4.8MB/s eta 0:00:01\r\u001b[K     |██████████▍                     | 61kB 5.6MB/s eta 0:00:01\r\u001b[K     |████████████                    | 71kB 6.3MB/s eta 0:00:01\r\u001b[K     |█████████████▉                  | 81kB 6.9MB/s eta 0:00:01\r\u001b[K     |███████████████▌                | 92kB 5.7MB/s eta 0:00:01\r\u001b[K     |█████████████████▎              | 102kB 6.2MB/s eta 0:00:01\r\u001b[K     |███████████████████             | 112kB 6.2MB/s eta 0:00:01\r\u001b[K     |████████████████████▊           | 122kB 6.2MB/s eta 0:00:01\r\u001b[K     |██████████████████████▍         | 133kB 6.2MB/s eta 0:00:01\r\u001b[K     |████████████████████████▏       | 143kB 6.2MB/s eta 0:00:01\r\u001b[K     |█████████████████████████▉      | 153kB 6.2MB/s eta 0:00:01\r\u001b[K     |███████████████████████████▋    | 163kB 6.2MB/s eta 0:00:01\r\u001b[K     |█████████████████████████████▎  | 174kB 6.2MB/s eta 0:00:01\r\u001b[K     |███████████████████████████████ | 184kB 6.2MB/s eta 0:00:01\r\u001b[K     |████████████████████████████████| 194kB 6.2MB/s \n",
            "\u001b[?25h"
          ],
          "name": "stdout"
        }
      ]
    },
    {
      "cell_type": "markdown",
      "metadata": {
        "id": "OAa6DBR4Q-lt",
        "colab_type": "text"
      },
      "source": [
        "In fastai2, all the modules related to tabular learning can be found under *fastai.tabular.all*.\n"
      ]
    },
    {
      "cell_type": "code",
      "metadata": {
        "id": "p1D1kqjS2Jjr",
        "colab_type": "code",
        "colab": {}
      },
      "source": [
        "from fastai2.tabular.all import *"
      ],
      "execution_count": 0,
      "outputs": []
    },
    {
      "cell_type": "markdown",
      "metadata": {
        "id": "f_PC7JNdgj1E",
        "colab_type": "text"
      },
      "source": [
        "We'll need to do some tabular data processing and querying, so we'll want to use the Pandas library. Finally, we'll also need numpy, since that's the main numeric programming library that Pandas rely on.\n"
      ]
    },
    {
      "cell_type": "code",
      "metadata": {
        "colab_type": "code",
        "id": "V8DpP16W2Izr",
        "colab": {}
      },
      "source": [
        "import numpy as np\n",
        "import pandas as pd"
      ],
      "execution_count": 0,
      "outputs": []
    },
    {
      "cell_type": "markdown",
      "metadata": {
        "id": "Fkqpiq-J390D",
        "colab_type": "text"
      },
      "source": [
        "## Download & Access Data"
      ]
    },
    {
      "cell_type": "markdown",
      "metadata": {
        "id": "tHzT31zPca5x",
        "colab_type": "text"
      },
      "source": [
        "A small fragment of the adults dataset is available in the fastai library under the url *ADULT_SAMPLE*"
      ]
    },
    {
      "cell_type": "code",
      "metadata": {
        "id": "W8_hCGlfkPLP",
        "colab_type": "code",
        "colab": {}
      },
      "source": [
        "from fastai2.data.all import *"
      ],
      "execution_count": 0,
      "outputs": []
    },
    {
      "cell_type": "code",
      "metadata": {
        "id": "D4Q7LjNu3wvA",
        "colab_type": "code",
        "outputId": "47f54756-c645-4355-c2db-699459c451ce",
        "colab": {
          "base_uri": "https://localhost:8080/",
          "height": 17
        }
      },
      "source": [
        "path = untar_data(URLs.ADULT_SAMPLE)"
      ],
      "execution_count": 5,
      "outputs": [
        {
          "output_type": "display_data",
          "data": {
            "text/html": [
              ""
            ],
            "text/plain": [
              "<IPython.core.display.HTML object>"
            ]
          },
          "metadata": {
            "tags": []
          }
        }
      ]
    },
    {
      "cell_type": "code",
      "metadata": {
        "id": "YAwoSjRZJDE9",
        "colab_type": "code",
        "outputId": "4fb7a2be-527b-40c0-c76d-44282d67fb2a",
        "colab": {
          "base_uri": "https://localhost:8080/",
          "height": 54
        }
      },
      "source": [
        "path.ls()"
      ],
      "execution_count": 6,
      "outputs": [
        {
          "output_type": "execute_result",
          "data": {
            "text/plain": [
              "(#3) [Path('/root/.fastai/data/adult_sample/export.pkl'),Path('/root/.fastai/data/adult_sample/models'),Path('/root/.fastai/data/adult_sample/adult.csv')]"
            ]
          },
          "metadata": {
            "tags": []
          },
          "execution_count": 6
        }
      ]
    },
    {
      "cell_type": "markdown",
      "metadata": {
        "id": "tLMSRMxhJLAg",
        "colab_type": "text"
      },
      "source": [
        "The data we want lives in `adult.csv`"
      ]
    },
    {
      "cell_type": "code",
      "metadata": {
        "id": "zd24E_p6Gxok",
        "colab_type": "code",
        "colab": {}
      },
      "source": [
        "df = pd.read_csv(path/'adult.csv')"
      ],
      "execution_count": 0,
      "outputs": []
    },
    {
      "cell_type": "markdown",
      "metadata": {
        "id": "kN-JL4igGxop",
        "colab_type": "text"
      },
      "source": [
        "Let's take a look at it:"
      ]
    },
    {
      "cell_type": "code",
      "metadata": {
        "id": "FjxuRxKTGxor",
        "colab_type": "code",
        "outputId": "7f546d15-6ccf-4752-f417-26c7f3c7eb48",
        "colab": {
          "base_uri": "https://localhost:8080/",
          "height": 360
        }
      },
      "source": [
        "df.head()"
      ],
      "execution_count": 8,
      "outputs": [
        {
          "output_type": "execute_result",
          "data": {
            "text/html": [
              "<div>\n",
              "<style scoped>\n",
              "    .dataframe tbody tr th:only-of-type {\n",
              "        vertical-align: middle;\n",
              "    }\n",
              "\n",
              "    .dataframe tbody tr th {\n",
              "        vertical-align: top;\n",
              "    }\n",
              "\n",
              "    .dataframe thead th {\n",
              "        text-align: right;\n",
              "    }\n",
              "</style>\n",
              "<table border=\"1\" class=\"dataframe\">\n",
              "  <thead>\n",
              "    <tr style=\"text-align: right;\">\n",
              "      <th></th>\n",
              "      <th>age</th>\n",
              "      <th>workclass</th>\n",
              "      <th>fnlwgt</th>\n",
              "      <th>education</th>\n",
              "      <th>education-num</th>\n",
              "      <th>marital-status</th>\n",
              "      <th>occupation</th>\n",
              "      <th>relationship</th>\n",
              "      <th>race</th>\n",
              "      <th>sex</th>\n",
              "      <th>capital-gain</th>\n",
              "      <th>capital-loss</th>\n",
              "      <th>hours-per-week</th>\n",
              "      <th>native-country</th>\n",
              "      <th>salary</th>\n",
              "    </tr>\n",
              "  </thead>\n",
              "  <tbody>\n",
              "    <tr>\n",
              "      <th>0</th>\n",
              "      <td>49</td>\n",
              "      <td>Private</td>\n",
              "      <td>101320</td>\n",
              "      <td>Assoc-acdm</td>\n",
              "      <td>12.0</td>\n",
              "      <td>Married-civ-spouse</td>\n",
              "      <td>NaN</td>\n",
              "      <td>Wife</td>\n",
              "      <td>White</td>\n",
              "      <td>Female</td>\n",
              "      <td>0</td>\n",
              "      <td>1902</td>\n",
              "      <td>40</td>\n",
              "      <td>United-States</td>\n",
              "      <td>&gt;=50k</td>\n",
              "    </tr>\n",
              "    <tr>\n",
              "      <th>1</th>\n",
              "      <td>44</td>\n",
              "      <td>Private</td>\n",
              "      <td>236746</td>\n",
              "      <td>Masters</td>\n",
              "      <td>14.0</td>\n",
              "      <td>Divorced</td>\n",
              "      <td>Exec-managerial</td>\n",
              "      <td>Not-in-family</td>\n",
              "      <td>White</td>\n",
              "      <td>Male</td>\n",
              "      <td>10520</td>\n",
              "      <td>0</td>\n",
              "      <td>45</td>\n",
              "      <td>United-States</td>\n",
              "      <td>&gt;=50k</td>\n",
              "    </tr>\n",
              "    <tr>\n",
              "      <th>2</th>\n",
              "      <td>38</td>\n",
              "      <td>Private</td>\n",
              "      <td>96185</td>\n",
              "      <td>HS-grad</td>\n",
              "      <td>NaN</td>\n",
              "      <td>Divorced</td>\n",
              "      <td>NaN</td>\n",
              "      <td>Unmarried</td>\n",
              "      <td>Black</td>\n",
              "      <td>Female</td>\n",
              "      <td>0</td>\n",
              "      <td>0</td>\n",
              "      <td>32</td>\n",
              "      <td>United-States</td>\n",
              "      <td>&lt;50k</td>\n",
              "    </tr>\n",
              "    <tr>\n",
              "      <th>3</th>\n",
              "      <td>38</td>\n",
              "      <td>Self-emp-inc</td>\n",
              "      <td>112847</td>\n",
              "      <td>Prof-school</td>\n",
              "      <td>15.0</td>\n",
              "      <td>Married-civ-spouse</td>\n",
              "      <td>Prof-specialty</td>\n",
              "      <td>Husband</td>\n",
              "      <td>Asian-Pac-Islander</td>\n",
              "      <td>Male</td>\n",
              "      <td>0</td>\n",
              "      <td>0</td>\n",
              "      <td>40</td>\n",
              "      <td>United-States</td>\n",
              "      <td>&gt;=50k</td>\n",
              "    </tr>\n",
              "    <tr>\n",
              "      <th>4</th>\n",
              "      <td>42</td>\n",
              "      <td>Self-emp-not-inc</td>\n",
              "      <td>82297</td>\n",
              "      <td>7th-8th</td>\n",
              "      <td>NaN</td>\n",
              "      <td>Married-civ-spouse</td>\n",
              "      <td>Other-service</td>\n",
              "      <td>Wife</td>\n",
              "      <td>Black</td>\n",
              "      <td>Female</td>\n",
              "      <td>0</td>\n",
              "      <td>0</td>\n",
              "      <td>50</td>\n",
              "      <td>United-States</td>\n",
              "      <td>&lt;50k</td>\n",
              "    </tr>\n",
              "  </tbody>\n",
              "</table>\n",
              "</div>"
            ],
            "text/plain": [
              "   age          workclass  fnlwgt  ... hours-per-week  native-country salary\n",
              "0   49            Private  101320  ...             40   United-States  >=50k\n",
              "1   44            Private  236746  ...             45   United-States  >=50k\n",
              "2   38            Private   96185  ...             32   United-States   <50k\n",
              "3   38       Self-emp-inc  112847  ...             40   United-States  >=50k\n",
              "4   42   Self-emp-not-inc   82297  ...             50   United-States   <50k\n",
              "\n",
              "[5 rows x 15 columns]"
            ]
          },
          "metadata": {
            "tags": []
          },
          "execution_count": 8
        }
      ]
    },
    {
      "cell_type": "code",
      "metadata": {
        "id": "qW2xYv03pQVT",
        "colab_type": "code",
        "colab": {
          "base_uri": "https://localhost:8080/",
          "height": 282
        },
        "outputId": "4a7849c5-474f-42bd-c92f-b6ded8dfe61a"
      },
      "source": [
        "df['salary'].hist()"
      ],
      "execution_count": 9,
      "outputs": [
        {
          "output_type": "execute_result",
          "data": {
            "text/plain": [
              "<matplotlib.axes._subplots.AxesSubplot at 0x7f3550620e80>"
            ]
          },
          "metadata": {
            "tags": []
          },
          "execution_count": 9
        },
        {
          "output_type": "display_data",
          "data": {
            "image/png": "[encoded data removed]",
            "text/plain": [
              "<Figure size 432x288 with 1 Axes>"
            ]
          },
          "metadata": {
            "tags": [],
            "needs_background": "light"
          }
        }
      ]
    },
    {
      "cell_type": "code",
      "metadata": {
        "id": "qb4t0Y3FJZT7",
        "colab_type": "code",
        "outputId": "0223f7ea-be8a-45ef-aac3-1a60cc7001f8",
        "colab": {
          "base_uri": "https://localhost:8080/",
          "height": 68
        }
      },
      "source": [
        "class_counts = np.unique(df['salary'], return_counts=True)\n",
        "class_counts[0], class_counts[1], class_counts[1]/len(df)"
      ],
      "execution_count": 10,
      "outputs": [
        {
          "output_type": "execute_result",
          "data": {
            "text/plain": [
              "(array(['<50k', '>=50k'], dtype=object),\n",
              " array([24720,  7841]),\n",
              " array([0.75919044, 0.24080956]))"
            ]
          },
          "metadata": {
            "tags": []
          },
          "execution_count": 10
        }
      ]
    },
    {
      "cell_type": "markdown",
      "metadata": {
        "id": "pGVadTNV6HXI",
        "colab_type": "text"
      },
      "source": [
        "## Preprocess Data"
      ]
    },
    {
      "cell_type": "markdown",
      "metadata": {
        "id": "_NWVWocDjunO",
        "colab_type": "text"
      },
      "source": [
        "We'll create two tabular dataloaders (for training and validation respectively) from a single dataframe in `fastai2` using the call `TabularDataLoaders.from_df`. It expects some dataframe, some `procs`, `cat_names`, `cont_names`, `y_names`, `y_block`, and some splits. We'll walk through all of them"
      ]
    },
    {
      "cell_type": "markdown",
      "metadata": {
        "id": "azUt3g6VKg5i",
        "colab_type": "text"
      },
      "source": [
        "First we need to grab our categorical and continuous variables, along with how we want to process our data. Since the aim of this tutorial is to be transfered to the space debris motion dataset, which only contains continuos variables, we will only add the `cont_names` from the dataset."
      ]
    },
    {
      "cell_type": "code",
      "metadata": {
        "id": "UZBhkxrA4A61",
        "colab_type": "code",
        "colab": {}
      },
      "source": [
        "cat_names = [] # This is omitted in this tutorial\n",
        "cont_names = ['age', 'fnlwgt', 'education-num']"
      ],
      "execution_count": 0,
      "outputs": []
    },
    {
      "cell_type": "code",
      "metadata": {
        "id": "wMbp4h5k34Qw",
        "colab_type": "code",
        "colab": {}
      },
      "source": [
        "dep_var = 'salary'"
      ],
      "execution_count": 0,
      "outputs": []
    },
    {
      "cell_type": "markdown",
      "metadata": {
        "id": "kAH-TTaqMbcf",
        "colab_type": "text"
      },
      "source": [
        "Instead of doing a random 80%-20% splitting of the original dataset, here we want to ensure that **the proportion of classes between train/valid datasets is the same**. This is specially useful in class imbalanced problems. This is known in ML as *stratification*. "
      ]
    },
    {
      "cell_type": "code",
      "metadata": {
        "id": "eOTiWxceMX3q",
        "colab_type": "code",
        "outputId": "a465513f-6cc8-4233-d163-31b6a164bf71",
        "colab": {
          "base_uri": "https://localhost:8080/",
          "height": 34
        }
      },
      "source": [
        "splitter = TrainTestSplitter(test_size=0.2, stratify=df['salary'])\n",
        "splits = splitter(range_of(df))\n",
        "[len(x) for x in splits] # 0 is training, 1 is validation"
      ],
      "execution_count": 13,
      "outputs": [
        {
          "output_type": "execute_result",
          "data": {
            "text/plain": [
              "[26048, 6513]"
            ]
          },
          "metadata": {
            "tags": []
          },
          "execution_count": 13
        }
      ]
    },
    {
      "cell_type": "code",
      "metadata": {
        "id": "bLkae0hpkhrl",
        "colab_type": "code",
        "colab": {}
      },
      "source": [
        "dls = TabularDataLoaders.from_df(df=df, \n",
        "                           procs=[FillMissing(add_col=False), Normalize], \n",
        "                           cont_names=cont_names, \n",
        "                           y_names=dep_var, \n",
        "                           y_block=CategoryBlock(vocab=['<50k','>=50k']), \n",
        "                           valid_idx=splits[1],\n",
        "                           bs=1024) # Be careful when copying this bs into your own dataset"
      ],
      "execution_count": 0,
      "outputs": []
    },
    {
      "cell_type": "code",
      "metadata": {
        "id": "nCD48L1dnHqh",
        "colab_type": "code",
        "outputId": "824ee419-9940-4f6b-8b0e-a57eec468807",
        "colab": {
          "base_uri": "https://localhost:8080/",
          "height": 34
        }
      },
      "source": [
        "dls.train.n, dls.valid.n"
      ],
      "execution_count": 15,
      "outputs": [
        {
          "output_type": "execute_result",
          "data": {
            "text/plain": [
              "(26048, 6513)"
            ]
          },
          "metadata": {
            "tags": []
          },
          "execution_count": 15
        }
      ]
    },
    {
      "cell_type": "code",
      "metadata": {
        "id": "mHNVM1gV2Zj9",
        "colab_type": "code",
        "outputId": "24628028-2dbb-423d-c72b-cb4504a8050f",
        "colab": {
          "base_uri": "https://localhost:8080/",
          "height": 34
        }
      },
      "source": [
        "dls.cont_names"
      ],
      "execution_count": 16,
      "outputs": [
        {
          "output_type": "execute_result",
          "data": {
            "text/plain": [
              "(#3) ['age','fnlwgt','education-num']"
            ]
          },
          "metadata": {
            "tags": []
          },
          "execution_count": 16
        }
      ]
    },
    {
      "cell_type": "markdown",
      "metadata": {
        "id": "A66hE8t8i72C",
        "colab_type": "text"
      },
      "source": [
        "The other important piece of information that we have to tell fastai is how to get the dependent variables from the dataset (the `ys`). For that purpose you use the argument `y_names`. The argument `y_block` specifies the type of ML task we are interestied in (in this case, classification, so we use a `CategoryBlock`)."
      ]
    },
    {
      "cell_type": "code",
      "metadata": {
        "id": "oxlk9wNIc1_m",
        "colab_type": "code",
        "outputId": "3befd2bf-7e32-4abd-a4c5-43e9e06ba7f2",
        "colab": {
          "base_uri": "https://localhost:8080/",
          "height": 34
        }
      },
      "source": [
        "dls.vocab"
      ],
      "execution_count": 17,
      "outputs": [
        {
          "output_type": "execute_result",
          "data": {
            "text/plain": [
              "(#2) ['<50k','>=50k']"
            ]
          },
          "metadata": {
            "tags": []
          },
          "execution_count": 17
        }
      ]
    },
    {
      "cell_type": "code",
      "metadata": {
        "id": "ow7VCAGM54xN",
        "colab_type": "code",
        "outputId": "80e90dea-7b73-4413-9efc-0b69b0fc8724",
        "colab": {
          "base_uri": "https://localhost:8080/",
          "height": 419
        }
      },
      "source": [
        "dls.ys"
      ],
      "execution_count": 18,
      "outputs": [
        {
          "output_type": "execute_result",
          "data": {
            "text/html": [
              "<div>\n",
              "<style scoped>\n",
              "    .dataframe tbody tr th:only-of-type {\n",
              "        vertical-align: middle;\n",
              "    }\n",
              "\n",
              "    .dataframe tbody tr th {\n",
              "        vertical-align: top;\n",
              "    }\n",
              "\n",
              "    .dataframe thead th {\n",
              "        text-align: right;\n",
              "    }\n",
              "</style>\n",
              "<table border=\"1\" class=\"dataframe\">\n",
              "  <thead>\n",
              "    <tr style=\"text-align: right;\">\n",
              "      <th></th>\n",
              "      <th>salary</th>\n",
              "    </tr>\n",
              "  </thead>\n",
              "  <tbody>\n",
              "    <tr>\n",
              "      <th>0</th>\n",
              "      <td>1</td>\n",
              "    </tr>\n",
              "    <tr>\n",
              "      <th>1</th>\n",
              "      <td>1</td>\n",
              "    </tr>\n",
              "    <tr>\n",
              "      <th>2</th>\n",
              "      <td>0</td>\n",
              "    </tr>\n",
              "    <tr>\n",
              "      <th>3</th>\n",
              "      <td>1</td>\n",
              "    </tr>\n",
              "    <tr>\n",
              "      <th>4</th>\n",
              "      <td>0</td>\n",
              "    </tr>\n",
              "    <tr>\n",
              "      <th>...</th>\n",
              "      <td>...</td>\n",
              "    </tr>\n",
              "    <tr>\n",
              "      <th>32556</th>\n",
              "      <td>1</td>\n",
              "    </tr>\n",
              "    <tr>\n",
              "      <th>32557</th>\n",
              "      <td>0</td>\n",
              "    </tr>\n",
              "    <tr>\n",
              "      <th>32558</th>\n",
              "      <td>1</td>\n",
              "    </tr>\n",
              "    <tr>\n",
              "      <th>32559</th>\n",
              "      <td>0</td>\n",
              "    </tr>\n",
              "    <tr>\n",
              "      <th>32560</th>\n",
              "      <td>0</td>\n",
              "    </tr>\n",
              "  </tbody>\n",
              "</table>\n",
              "<p>26048 rows × 1 columns</p>\n",
              "</div>"
            ],
            "text/plain": [
              "       salary\n",
              "0           1\n",
              "1           1\n",
              "2           0\n",
              "3           1\n",
              "4           0\n",
              "...       ...\n",
              "32556       1\n",
              "32557       0\n",
              "32558       1\n",
              "32559       0\n",
              "32560       0\n",
              "\n",
              "[26048 rows x 1 columns]"
            ]
          },
          "metadata": {
            "tags": []
          },
          "execution_count": 18
        }
      ]
    },
    {
      "cell_type": "markdown",
      "metadata": {
        "id": "PKq5tWeTGdA2",
        "colab_type": "text"
      },
      "source": [
        "A neural network cares about normalization of the input data. Therefore, we add the Normalize *processor* when we build our `TabularDataLoaders`. A `processor` transform the data auomatically for training."
      ]
    },
    {
      "cell_type": "code",
      "metadata": {
        "id": "y91dKH5xF2H3",
        "colab_type": "code",
        "outputId": "18dc7ffb-33c4-4729-c8e1-bb16bb5b8f22",
        "colab": {
          "base_uri": "https://localhost:8080/",
          "height": 34
        }
      },
      "source": [
        "dls.procs"
      ],
      "execution_count": 19,
      "outputs": [
        {
          "output_type": "execute_result",
          "data": {
            "text/plain": [
              "Pipeline: FillMissing -> Categorize -> Normalize"
            ]
          },
          "metadata": {
            "tags": []
          },
          "execution_count": 19
        }
      ]
    },
    {
      "cell_type": "markdown",
      "metadata": {
        "id": "aw-m4sKv6F6C",
        "colab_type": "text"
      },
      "source": [
        "In deep learning, we don't feed the model one item at a time but several of them (what we call a *mini-batch*, or just a *batch*). To group them in a big array (usually called a tensor) that is going to go through our model, they all need to be of the same size. DataLoader is a class that provides batches of a few items at a time to the GPU. When you loop through a DataLoader fastai will give you 64 (default batch size `bs`) items at a time, all stacked up into a single tensor. Tabular models and data don't generally require much GPU RAM, so we can use larger batch sizes. We can take a look at a few of those items by calling the `show_batch` method on a DataLoader. Note that the `DataLoaders` object `dls` includes validation and training DataLoaders. "
      ]
    },
    {
      "cell_type": "code",
      "metadata": {
        "id": "R1pTMq5I6QFM",
        "colab_type": "code",
        "outputId": "cec9767e-43ad-4ca5-e9a6-e56d13b97730",
        "colab": {
          "base_uri": "https://localhost:8080/",
          "height": 359
        }
      },
      "source": [
        "dls.valid.show_batch()"
      ],
      "execution_count": 20,
      "outputs": [
        {
          "output_type": "display_data",
          "data": {
            "text/html": [
              "<table border=\"1\" class=\"dataframe\">\n",
              "  <thead>\n",
              "    <tr style=\"text-align: right;\">\n",
              "      <th></th>\n",
              "      <th>age</th>\n",
              "      <th>fnlwgt</th>\n",
              "      <th>education-num</th>\n",
              "      <th>salary</th>\n",
              "    </tr>\n",
              "  </thead>\n",
              "  <tbody>\n",
              "    <tr>\n",
              "      <th>0</th>\n",
              "      <td>65.0</td>\n",
              "      <td>325089.0</td>\n",
              "      <td>6.0</td>\n",
              "      <td>&lt;50k</td>\n",
              "    </tr>\n",
              "    <tr>\n",
              "      <th>1</th>\n",
              "      <td>60.0</td>\n",
              "      <td>152369.0</td>\n",
              "      <td>11.0</td>\n",
              "      <td>&lt;50k</td>\n",
              "    </tr>\n",
              "    <tr>\n",
              "      <th>2</th>\n",
              "      <td>37.0</td>\n",
              "      <td>233490.0</td>\n",
              "      <td>9.0</td>\n",
              "      <td>&lt;50k</td>\n",
              "    </tr>\n",
              "    <tr>\n",
              "      <th>3</th>\n",
              "      <td>52.0</td>\n",
              "      <td>189728.0</td>\n",
              "      <td>9.0</td>\n",
              "      <td>&lt;50k</td>\n",
              "    </tr>\n",
              "    <tr>\n",
              "      <th>4</th>\n",
              "      <td>20.0</td>\n",
              "      <td>219262.0</td>\n",
              "      <td>10.0</td>\n",
              "      <td>&lt;50k</td>\n",
              "    </tr>\n",
              "    <tr>\n",
              "      <th>5</th>\n",
              "      <td>60.0</td>\n",
              "      <td>173960.0</td>\n",
              "      <td>10.0</td>\n",
              "      <td>&lt;50k</td>\n",
              "    </tr>\n",
              "    <tr>\n",
              "      <th>6</th>\n",
              "      <td>55.0</td>\n",
              "      <td>116878.0</td>\n",
              "      <td>16.0</td>\n",
              "      <td>&gt;=50k</td>\n",
              "    </tr>\n",
              "    <tr>\n",
              "      <th>7</th>\n",
              "      <td>46.0</td>\n",
              "      <td>377622.0</td>\n",
              "      <td>9.0</td>\n",
              "      <td>&lt;50k</td>\n",
              "    </tr>\n",
              "    <tr>\n",
              "      <th>8</th>\n",
              "      <td>51.0</td>\n",
              "      <td>106257.0</td>\n",
              "      <td>12.0</td>\n",
              "      <td>&lt;50k</td>\n",
              "    </tr>\n",
              "    <tr>\n",
              "      <th>9</th>\n",
              "      <td>31.0</td>\n",
              "      <td>308540.0</td>\n",
              "      <td>10.0</td>\n",
              "      <td>&gt;=50k</td>\n",
              "    </tr>\n",
              "  </tbody>\n",
              "</table>"
            ],
            "text/plain": [
              "<IPython.core.display.HTML object>"
            ]
          },
          "metadata": {
            "tags": []
          }
        }
      ]
    },
    {
      "cell_type": "markdown",
      "metadata": {
        "id": "AOmsLOBc6099",
        "colab_type": "text"
      },
      "source": [
        "## Training a Model"
      ]
    },
    {
      "cell_type": "markdown",
      "metadata": {
        "id": "kFoQ5UJ8DWpz",
        "colab_type": "text"
      },
      "source": [
        "First we set up a `tabular_learner`, and what data we want to train it on."
      ]
    },
    {
      "cell_type": "code",
      "metadata": {
        "id": "KvvP0mzbDZCc",
        "colab_type": "code",
        "colab": {}
      },
      "source": [
        "learn = tabular_learner(dls, loss_func=CrossEntropyLossFlat(), metrics=[accuracy])"
      ],
      "execution_count": 0,
      "outputs": []
    },
    {
      "cell_type": "markdown",
      "metadata": {
        "id": "EZ-sSCFGH6BS",
        "colab_type": "text"
      },
      "source": [
        "In order to define how well a model does on a single prediction, we need to define a loss function, which determines how we score a prediction as good or bad. We set the loss function to Cross Entropy loss (also called logistic loss), an standard in classification problems."
      ]
    },
    {
      "cell_type": "code",
      "metadata": {
        "id": "k0-jD_ayOfRn",
        "colab_type": "code",
        "colab": {}
      },
      "source": [
        "??learn.loss_func"
      ],
      "execution_count": 0,
      "outputs": []
    },
    {
      "cell_type": "markdown",
      "metadata": {
        "id": "KdS9nkKH9AWa",
        "colab_type": "text"
      },
      "source": [
        "![](https://i.imgur.com/12DWl7H.png)"
      ]
    },
    {
      "cell_type": "markdown",
      "metadata": {
        "id": "ZulWERH4Eno2",
        "colab_type": "text"
      },
      "source": [
        "We can take a look at the default architecture created for our tabular regression model. You can change the number of size of the linear layers when creating the learner (passing your own array as the argument `layers`)."
      ]
    },
    {
      "cell_type": "code",
      "metadata": {
        "id": "3KuRXgPlEw5A",
        "colab_type": "code",
        "outputId": "03652d49-76ca-449b-92a2-fc32c6ed83a2",
        "colab": {
          "base_uri": "https://localhost:8080/",
          "height": 561
        }
      },
      "source": [
        "learn.summary()"
      ],
      "execution_count": 35,
      "outputs": [
        {
          "output_type": "execute_result",
          "data": {
            "text/plain": [
              "TabularModel (Input shape: ['1024 x 0', '1024 x 3'])\n",
              "================================================================\n",
              "Layer (type)         Output Shape         Param #    Trainable \n",
              "================================================================\n",
              "BatchNorm1d          1024 x 3             6          True      \n",
              "________________________________________________________________\n",
              "BatchNorm1d          1024 x 3             6          True      \n",
              "________________________________________________________________\n",
              "Linear               1024 x 200           600        True      \n",
              "________________________________________________________________\n",
              "ReLU                 1024 x 200           0          False     \n",
              "________________________________________________________________\n",
              "BatchNorm1d          1024 x 200           400        True      \n",
              "________________________________________________________________\n",
              "Linear               1024 x 100           20,000     True      \n",
              "________________________________________________________________\n",
              "ReLU                 1024 x 100           0          False     \n",
              "________________________________________________________________\n",
              "Linear               1024 x 2             202        True      \n",
              "________________________________________________________________\n",
              "\n",
              "Total params: 21,214\n",
              "Total trainable params: 21,214\n",
              "Total non-trainable params: 0\n",
              "\n",
              "Optimizer used: <function Adam at 0x7f65bd669598>\n",
              "Loss function: FlattenedLoss of CrossEntropyLoss()\n",
              "\n",
              "Callbacks:\n",
              "  - TrainEvalCallback\n",
              "  - Recorder\n",
              "  - ProgressCallback"
            ]
          },
          "metadata": {
            "tags": []
          },
          "execution_count": 35
        }
      ]
    },
    {
      "cell_type": "markdown",
      "metadata": {
        "id": "wiLqmQoYfEK0",
        "colab_type": "text"
      },
      "source": [
        "Find a suitable learning rate through `lr_find`. For more information about this method go to the tutorial of Tuesday's LTW-I project `AI_navigation`."
      ]
    },
    {
      "cell_type": "code",
      "metadata": {
        "id": "8NHUaW0cdhRM",
        "colab_type": "code",
        "outputId": "9d35e0f2-0a0c-4f9c-9fbf-3347b6e66bec",
        "colab": {
          "base_uri": "https://localhost:8080/",
          "height": 300
        }
      },
      "source": [
        "learn.lr_find()"
      ],
      "execution_count": 36,
      "outputs": [
        {
          "output_type": "display_data",
          "data": {
            "text/html": [
              ""
            ],
            "text/plain": [
              "<IPython.core.display.HTML object>"
            ]
          },
          "metadata": {
            "tags": []
          }
        },
        {
          "output_type": "execute_result",
          "data": {
            "text/plain": [
              "SuggestedLRs(lr_min=0.003981071710586548, lr_steep=0.0006918309954926372)"
            ]
          },
          "metadata": {
            "tags": []
          },
          "execution_count": 36
        },
        {
          "output_type": "display_data",
          "data": {
            "image/png": "[encoded data removed]",
            "text/plain": [
              "<Figure size 432x288 with 1 Axes>"
            ]
          },
          "metadata": {
            "tags": [],
            "needs_background": "light"
          }
        }
      ]
    },
    {
      "cell_type": "markdown",
      "metadata": {
        "id": "rQsuLI8699ni",
        "colab_type": "text"
      },
      "source": [
        "To fit the architecture to the data, we use `fit_one_cycle`, the most commonly used method for training fastai models from scratch (i.e. without transfer learning):"
      ]
    },
    {
      "cell_type": "code",
      "metadata": {
        "id": "EGGCisEAAjPU",
        "colab_type": "code",
        "outputId": "7d9f42a5-5690-456e-9278-ecccf05bee65",
        "colab": {
          "base_uri": "https://localhost:8080/",
          "height": 452
        }
      },
      "source": [
        "learn.fit_one_cycle(n_epoch=5, lr_max=5e-3)\n",
        "learn.recorder.plot_loss()"
      ],
      "execution_count": 37,
      "outputs": [
        {
          "output_type": "display_data",
          "data": {
            "text/html": [
              "<table border=\"1\" class=\"dataframe\">\n",
              "  <thead>\n",
              "    <tr style=\"text-align: left;\">\n",
              "      <th>epoch</th>\n",
              "      <th>train_loss</th>\n",
              "      <th>valid_loss</th>\n",
              "      <th>accuracy</th>\n",
              "      <th>time</th>\n",
              "    </tr>\n",
              "  </thead>\n",
              "  <tbody>\n",
              "    <tr>\n",
              "      <td>0</td>\n",
              "      <td>0.493079</td>\n",
              "      <td>0.456007</td>\n",
              "      <td>0.779057</td>\n",
              "      <td>00:00</td>\n",
              "    </tr>\n",
              "    <tr>\n",
              "      <td>1</td>\n",
              "      <td>0.460980</td>\n",
              "      <td>0.443096</td>\n",
              "      <td>0.782589</td>\n",
              "      <td>00:00</td>\n",
              "    </tr>\n",
              "    <tr>\n",
              "      <td>2</td>\n",
              "      <td>0.449638</td>\n",
              "      <td>0.442015</td>\n",
              "      <td>0.786734</td>\n",
              "      <td>00:00</td>\n",
              "    </tr>\n",
              "    <tr>\n",
              "      <td>3</td>\n",
              "      <td>0.443698</td>\n",
              "      <td>0.440185</td>\n",
              "      <td>0.787502</td>\n",
              "      <td>00:00</td>\n",
              "    </tr>\n",
              "    <tr>\n",
              "      <td>4</td>\n",
              "      <td>0.439813</td>\n",
              "      <td>0.439498</td>\n",
              "      <td>0.789191</td>\n",
              "      <td>00:00</td>\n",
              "    </tr>\n",
              "  </tbody>\n",
              "</table>"
            ],
            "text/plain": [
              "<IPython.core.display.HTML object>"
            ]
          },
          "metadata": {
            "tags": []
          }
        },
        {
          "output_type": "display_data",
          "data": {
            "image/png": "[encoded data removed]",
            "text/plain": [
              "<Figure size 432x288 with 1 Axes>"
            ]
          },
          "metadata": {
            "tags": [],
            "needs_background": "light"
          }
        }
      ]
    },
    {
      "cell_type": "markdown",
      "metadata": {
        "id": "0AyxJI-EB7bn",
        "colab_type": "text"
      },
      "source": [
        "Deciding how to change our parameters based on the values of the gradients is an important part of the deep learning process. Nearly all approaches start with the basic idea of multiplying the gradient by some small number, called the learning rate (lr). The learning rate is often a number between 0.001 and 0.1, although it could be anything. Often, people select a learning rate just by trying a few, and finding which results in the best model after training (we'll show you more about this in tomorrow's project). If you pick a learning rate that's too low, it can mean having to do a lot of steps. But picking a learning rate that's too high is even worse--it can actually result in the loss getting worse."
      ]
    },
    {
      "cell_type": "code",
      "metadata": {
        "id": "AqMmqUGJsEMx",
        "colab_type": "code",
        "colab": {
          "base_uri": "https://localhost:8080/",
          "height": 328
        },
        "outputId": "2eb0d94d-64aa-4b3f-fad6-29d225c032ac"
      },
      "source": [
        "learn.show_results()"
      ],
      "execution_count": 38,
      "outputs": [
        {
          "output_type": "display_data",
          "data": {
            "text/html": [
              ""
            ],
            "text/plain": [
              "<IPython.core.display.HTML object>"
            ]
          },
          "metadata": {
            "tags": []
          }
        },
        {
          "output_type": "display_data",
          "data": {
            "text/html": [
              "<table border=\"1\" class=\"dataframe\">\n",
              "  <thead>\n",
              "    <tr style=\"text-align: right;\">\n",
              "      <th></th>\n",
              "      <th>age</th>\n",
              "      <th>fnlwgt</th>\n",
              "      <th>education-num</th>\n",
              "      <th>salary</th>\n",
              "      <th>salary_pred</th>\n",
              "    </tr>\n",
              "  </thead>\n",
              "  <tbody>\n",
              "    <tr>\n",
              "      <th>0</th>\n",
              "      <td>1.719441</td>\n",
              "      <td>-0.709699</td>\n",
              "      <td>-0.424531</td>\n",
              "      <td>0.0</td>\n",
              "      <td>0.0</td>\n",
              "    </tr>\n",
              "    <tr>\n",
              "      <th>1</th>\n",
              "      <td>-1.071176</td>\n",
              "      <td>2.485052</td>\n",
              "      <td>-0.034389</td>\n",
              "      <td>0.0</td>\n",
              "      <td>0.0</td>\n",
              "    </tr>\n",
              "    <tr>\n",
              "      <th>2</th>\n",
              "      <td>-0.043054</td>\n",
              "      <td>-0.862135</td>\n",
              "      <td>0.745894</td>\n",
              "      <td>0.0</td>\n",
              "      <td>0.0</td>\n",
              "    </tr>\n",
              "    <tr>\n",
              "      <th>3</th>\n",
              "      <td>-0.410240</td>\n",
              "      <td>-0.484176</td>\n",
              "      <td>-0.424531</td>\n",
              "      <td>1.0</td>\n",
              "      <td>0.0</td>\n",
              "    </tr>\n",
              "    <tr>\n",
              "      <th>4</th>\n",
              "      <td>-1.218050</td>\n",
              "      <td>-0.775260</td>\n",
              "      <td>0.355752</td>\n",
              "      <td>0.0</td>\n",
              "      <td>0.0</td>\n",
              "    </tr>\n",
              "    <tr>\n",
              "      <th>5</th>\n",
              "      <td>-1.071176</td>\n",
              "      <td>0.372403</td>\n",
              "      <td>0.745894</td>\n",
              "      <td>0.0</td>\n",
              "      <td>0.0</td>\n",
              "    </tr>\n",
              "    <tr>\n",
              "      <th>6</th>\n",
              "      <td>-0.924301</td>\n",
              "      <td>0.145155</td>\n",
              "      <td>-0.034389</td>\n",
              "      <td>0.0</td>\n",
              "      <td>0.0</td>\n",
              "    </tr>\n",
              "    <tr>\n",
              "      <th>7</th>\n",
              "      <td>0.764756</td>\n",
              "      <td>-0.206402</td>\n",
              "      <td>-0.424531</td>\n",
              "      <td>1.0</td>\n",
              "      <td>0.0</td>\n",
              "    </tr>\n",
              "    <tr>\n",
              "      <th>8</th>\n",
              "      <td>0.250695</td>\n",
              "      <td>0.293198</td>\n",
              "      <td>1.136036</td>\n",
              "      <td>0.0</td>\n",
              "      <td>1.0</td>\n",
              "    </tr>\n",
              "  </tbody>\n",
              "</table>"
            ],
            "text/plain": [
              "<IPython.core.display.HTML object>"
            ]
          },
          "metadata": {
            "tags": []
          }
        }
      ]
    },
    {
      "cell_type": "markdown",
      "metadata": {
        "id": "hCzVJvuKCak2",
        "colab_type": "text"
      },
      "source": [
        "## Understanding the results"
      ]
    },
    {
      "cell_type": "markdown",
      "metadata": {
        "id": "Va2TNEkjaGPQ",
        "colab_type": "text"
      },
      "source": [
        "### Baseline\n",
        "\n",
        "> A baseline is a simple model which you are confident should perform reasonably well. It should be very simple to implement, and very easy to test, so that you can then test each of your improved ideas, and make sure they are always better than your baseline. Without starting with a sensible baseline, it is very difficult to know whether your super-fancy models are actually any good.\n",
        "\n",
        "We can find the average value for every predictor in each of the classes. This will give us different group averages, defining what we might call the \"ideal\" set of features for each of the classes. Then, to classify a new item, we see which of these two ideal set of features the item is most similar to. This certainly seems like it should be better than nothing, so it will make a good baseline.\n"
      ]
    },
    {
      "cell_type": "code",
      "metadata": {
        "id": "T2mO_8HYQMOI",
        "colab_type": "code",
        "outputId": "d591d269-68e3-4432-fbff-8f7c6c6ad578",
        "colab": {
          "base_uri": "https://localhost:8080/",
          "height": 51
        }
      },
      "source": [
        "avg_less50k = dls.train.xs[dls.train.ys['salary'] == 1].values.mean(0)\n",
        "avg_more50k = dls.train.xs[dls.train.ys['salary'] == 0].values.mean(0)\n",
        "(avg_less50k, avg_more50k)"
      ],
      "execution_count": 0,
      "outputs": [
        {
          "output_type": "execute_result",
          "data": {
            "text/plain": [
              "(array([ 0.42141125, -0.01721727,  0.57799786], dtype=float32),\n",
              " array([-0.1336795 ,  0.00547929, -0.1833519 ], dtype=float32))"
            ]
          },
          "metadata": {
            "tags": []
          },
          "execution_count": 25
        }
      ]
    },
    {
      "cell_type": "code",
      "metadata": {
        "id": "61MwOWdZcp1c",
        "colab_type": "code",
        "colab": {}
      },
      "source": [
        "def item_distance(a,b):\n",
        "  return ((tensor(a) - tensor(b))**2).mean(-1)"
      ],
      "execution_count": 0,
      "outputs": []
    },
    {
      "cell_type": "code",
      "metadata": {
        "id": "Ab9gcadUcDVK",
        "colab_type": "code",
        "outputId": "bf8a35a8-e8f3-4f04-9a7a-47166f92b213",
        "colab": {
          "base_uri": "https://localhost:8080/",
          "height": 51
        }
      },
      "source": [
        "valid_distance = item_distance(dls.valid.xs.values, avg_less50k)\n",
        "valid_distance, valid_distance.shape"
      ],
      "execution_count": 0,
      "outputs": [
        {
          "output_type": "execute_result",
          "data": {
            "text/plain": [
              "(tensor([3.9998, 1.8117, 1.4709,  ..., 2.0335, 1.0458, 1.1036]),\n",
              " torch.Size([6513]))"
            ]
          },
          "metadata": {
            "tags": []
          },
          "execution_count": 27
        }
      ]
    },
    {
      "cell_type": "markdown",
      "metadata": {
        "id": "7dHHJfXmeV-3",
        "colab_type": "text"
      },
      "source": [
        "We can use this `motion_distance` to figure out whether a motion is chaotic or not by using the following logic: if the distance between the motion in question and the average chaotic motion is less than the distance to the average regular motion, then it's chaotic."
      ]
    },
    {
      "cell_type": "code",
      "metadata": {
        "id": "upR6AsbadqUK",
        "colab_type": "code",
        "colab": {}
      },
      "source": [
        "def is_less50k(x):\n",
        "  return item_distance(x, avg_less50k) < item_distance(x, avg_more50k)"
      ],
      "execution_count": 0,
      "outputs": []
    },
    {
      "cell_type": "markdown",
      "metadata": {
        "id": "tS7_GAmMeyxD",
        "colab_type": "text"
      },
      "source": [
        "\n",
        "Let's test it on a  example case."
      ]
    },
    {
      "cell_type": "code",
      "metadata": {
        "id": "6nEQuiZjezlD",
        "colab_type": "code",
        "outputId": "593ec1a2-1e1d-4c71-ff69-c441dcdfd8b4",
        "colab": {
          "base_uri": "https://localhost:8080/",
          "height": 34
        }
      },
      "source": [
        "is_less50k(dls.valid.xs.values[0]), is_less50k(dls.valid.xs.values[0]).float()"
      ],
      "execution_count": 0,
      "outputs": [
        {
          "output_type": "execute_result",
          "data": {
            "text/plain": [
              "(tensor(False), tensor(0.))"
            ]
          },
          "metadata": {
            "tags": []
          },
          "execution_count": 29
        }
      ]
    },
    {
      "cell_type": "code",
      "metadata": {
        "id": "DKQ_3dK_fzdv",
        "colab_type": "code",
        "outputId": "2e9c1bac-0ed7-42fc-c36d-f7f75c48ef91",
        "colab": {
          "base_uri": "https://localhost:8080/",
          "height": 34
        }
      },
      "source": [
        "acc = (is_less50k(dls.valid.xs.values).float() == tensor(dls.valid.y).float()).float().mean()\n",
        "acc"
      ],
      "execution_count": 0,
      "outputs": [
        {
          "output_type": "execute_result",
          "data": {
            "text/plain": [
              "tensor(0.6932)"
            ]
          },
          "metadata": {
            "tags": []
          },
          "execution_count": 30
        }
      ]
    },
    {
      "cell_type": "markdown",
      "metadata": {
        "id": "JMHn-f2WiwXL",
        "colab_type": "text"
      },
      "source": [
        "With this dummy approach, we can achieve an acuraccy of 68%."
      ]
    },
    {
      "cell_type": "markdown",
      "metadata": {
        "id": "TIAHSskBwu3Z",
        "colab_type": "text"
      },
      "source": [
        "### Show top losses\n",
        "\n",
        "Show the items where the model performs the worst (and best) to try and understanding what the model is deficient in, and successful at."
      ]
    },
    {
      "cell_type": "code",
      "metadata": {
        "id": "CJsg30UtaMzD",
        "colab_type": "code",
        "colab": {}
      },
      "source": [
        "def show_top_losses(tab_learner, k=None, largest=True):\n",
        "  interp = Interpretation.from_learner(tab_learner)\n",
        "  top_losses = interp.top_losses(k, largest)\n",
        "  to_top_losses = tab_learner.dls.valid.dataset.iloc[top_losses.indices]\n",
        "  to_top_losses.show()"
      ],
      "execution_count": 0,
      "outputs": []
    },
    {
      "cell_type": "code",
      "metadata": {
        "id": "cHoK0qnXaDtv",
        "colab_type": "code",
        "outputId": "f8dfd4d1-ce6e-4d7c-a6f8-560d5fe89bc4",
        "colab": {
          "base_uri": "https://localhost:8080/",
          "height": 359
        }
      },
      "source": [
        "show_top_losses(learn, k=10, largest=True)"
      ],
      "execution_count": 0,
      "outputs": [
        {
          "output_type": "display_data",
          "data": {
            "text/html": [
              ""
            ],
            "text/plain": [
              "<IPython.core.display.HTML object>"
            ]
          },
          "metadata": {
            "tags": []
          }
        },
        {
          "output_type": "display_data",
          "data": {
            "text/html": [
              "<table border=\"1\" class=\"dataframe\">\n",
              "  <thead>\n",
              "    <tr style=\"text-align: right;\">\n",
              "      <th></th>\n",
              "      <th>age</th>\n",
              "      <th>fnlwgt</th>\n",
              "      <th>education-num</th>\n",
              "      <th>salary</th>\n",
              "    </tr>\n",
              "  </thead>\n",
              "  <tbody>\n",
              "    <tr>\n",
              "      <th>29159</th>\n",
              "      <td>24.0</td>\n",
              "      <td>322931.0</td>\n",
              "      <td>4.0</td>\n",
              "      <td>&gt;=50k</td>\n",
              "    </tr>\n",
              "    <tr>\n",
              "      <th>25487</th>\n",
              "      <td>19.0</td>\n",
              "      <td>200790.0</td>\n",
              "      <td>8.0</td>\n",
              "      <td>&gt;=50k</td>\n",
              "    </tr>\n",
              "    <tr>\n",
              "      <th>7544</th>\n",
              "      <td>24.0</td>\n",
              "      <td>235071.0</td>\n",
              "      <td>7.0</td>\n",
              "      <td>&gt;=50k</td>\n",
              "    </tr>\n",
              "    <tr>\n",
              "      <th>22720</th>\n",
              "      <td>23.0</td>\n",
              "      <td>44064.0</td>\n",
              "      <td>10.0</td>\n",
              "      <td>&gt;=50k</td>\n",
              "    </tr>\n",
              "    <tr>\n",
              "      <th>1318</th>\n",
              "      <td>21.0</td>\n",
              "      <td>548303.0</td>\n",
              "      <td>9.0</td>\n",
              "      <td>&gt;=50k</td>\n",
              "    </tr>\n",
              "    <tr>\n",
              "      <th>29053</th>\n",
              "      <td>23.0</td>\n",
              "      <td>197918.0</td>\n",
              "      <td>10.0</td>\n",
              "      <td>&gt;=50k</td>\n",
              "    </tr>\n",
              "    <tr>\n",
              "      <th>29702</th>\n",
              "      <td>24.0</td>\n",
              "      <td>117959.0</td>\n",
              "      <td>9.0</td>\n",
              "      <td>&gt;=50k</td>\n",
              "    </tr>\n",
              "    <tr>\n",
              "      <th>25503</th>\n",
              "      <td>22.0</td>\n",
              "      <td>401451.0</td>\n",
              "      <td>10.0</td>\n",
              "      <td>&gt;=50k</td>\n",
              "    </tr>\n",
              "    <tr>\n",
              "      <th>14252</th>\n",
              "      <td>24.0</td>\n",
              "      <td>60783.0</td>\n",
              "      <td>10.0</td>\n",
              "      <td>&gt;=50k</td>\n",
              "    </tr>\n",
              "    <tr>\n",
              "      <th>15048</th>\n",
              "      <td>25.0</td>\n",
              "      <td>75759.0</td>\n",
              "      <td>9.0</td>\n",
              "      <td>&gt;=50k</td>\n",
              "    </tr>\n",
              "  </tbody>\n",
              "</table>"
            ],
            "text/plain": [
              "<IPython.core.display.HTML object>"
            ]
          },
          "metadata": {
            "tags": []
          }
        }
      ]
    },
    {
      "cell_type": "code",
      "metadata": {
        "id": "IE_691Jcalkx",
        "colab_type": "code",
        "outputId": "c8be184d-701b-44a5-fe18-4c9f5ee79142",
        "colab": {
          "base_uri": "https://localhost:8080/",
          "height": 359
        }
      },
      "source": [
        "show_top_losses(learn, k=10, largest=False)"
      ],
      "execution_count": 0,
      "outputs": [
        {
          "output_type": "display_data",
          "data": {
            "text/html": [
              ""
            ],
            "text/plain": [
              "<IPython.core.display.HTML object>"
            ]
          },
          "metadata": {
            "tags": []
          }
        },
        {
          "output_type": "display_data",
          "data": {
            "text/html": [
              "<table border=\"1\" class=\"dataframe\">\n",
              "  <thead>\n",
              "    <tr style=\"text-align: right;\">\n",
              "      <th></th>\n",
              "      <th>age</th>\n",
              "      <th>fnlwgt</th>\n",
              "      <th>education-num</th>\n",
              "      <th>salary</th>\n",
              "    </tr>\n",
              "  </thead>\n",
              "  <tbody>\n",
              "    <tr>\n",
              "      <th>12652</th>\n",
              "      <td>20.0</td>\n",
              "      <td>472789.0</td>\n",
              "      <td>2.0</td>\n",
              "      <td>&lt;50k</td>\n",
              "    </tr>\n",
              "    <tr>\n",
              "      <th>28848</th>\n",
              "      <td>19.0</td>\n",
              "      <td>277695.0</td>\n",
              "      <td>1.0</td>\n",
              "      <td>&lt;50k</td>\n",
              "    </tr>\n",
              "    <tr>\n",
              "      <th>25765</th>\n",
              "      <td>19.0</td>\n",
              "      <td>340567.0</td>\n",
              "      <td>2.0</td>\n",
              "      <td>&lt;50k</td>\n",
              "    </tr>\n",
              "    <tr>\n",
              "      <th>22513</th>\n",
              "      <td>17.0</td>\n",
              "      <td>413557.0</td>\n",
              "      <td>5.0</td>\n",
              "      <td>&lt;50k</td>\n",
              "    </tr>\n",
              "    <tr>\n",
              "      <th>17156</th>\n",
              "      <td>20.0</td>\n",
              "      <td>390817.0</td>\n",
              "      <td>3.0</td>\n",
              "      <td>&lt;50k</td>\n",
              "    </tr>\n",
              "    <tr>\n",
              "      <th>11775</th>\n",
              "      <td>23.0</td>\n",
              "      <td>409230.0</td>\n",
              "      <td>2.0</td>\n",
              "      <td>&lt;50k</td>\n",
              "    </tr>\n",
              "    <tr>\n",
              "      <th>8746</th>\n",
              "      <td>25.0</td>\n",
              "      <td>458549.0</td>\n",
              "      <td>2.0</td>\n",
              "      <td>&lt;50k</td>\n",
              "    </tr>\n",
              "    <tr>\n",
              "      <th>30227</th>\n",
              "      <td>21.0</td>\n",
              "      <td>376929.0</td>\n",
              "      <td>3.0</td>\n",
              "      <td>&lt;50k</td>\n",
              "    </tr>\n",
              "    <tr>\n",
              "      <th>16094</th>\n",
              "      <td>18.0</td>\n",
              "      <td>335065.0</td>\n",
              "      <td>4.0</td>\n",
              "      <td>&lt;50k</td>\n",
              "    </tr>\n",
              "    <tr>\n",
              "      <th>24481</th>\n",
              "      <td>19.0</td>\n",
              "      <td>365871.0</td>\n",
              "      <td>4.0</td>\n",
              "      <td>&lt;50k</td>\n",
              "    </tr>\n",
              "  </tbody>\n",
              "</table>"
            ],
            "text/plain": [
              "<IPython.core.display.HTML object>"
            ]
          },
          "metadata": {
            "tags": []
          }
        }
      ]
    },
    {
      "cell_type": "markdown",
      "metadata": {
        "id": "USFyAKx3azIQ",
        "colab_type": "text"
      },
      "source": [
        "### Interpreting the predictions with SHAP"
      ]
    },
    {
      "cell_type": "markdown",
      "metadata": {
        "id": "u5-6BjSybZ2e",
        "colab_type": "text"
      },
      "source": [
        "[SHAP](https://github.com/slundberg/shap) is a library for interpreting prediction models (of any kind), and we can use it to help us with tabular data too. SHAP measures the impact of variables taking into account the interaction with other variables. Shapley values calculate the importance of a feature by comparing what a model predicts with and without the feature. The library `FastSHAP` brings in part of the SHAP library into fastai2 and make it compatible.\n",
        "\n"
      ]
    },
    {
      "cell_type": "code",
      "metadata": {
        "id": "QsJpxZyybvqM",
        "colab_type": "code",
        "outputId": "3c1a127f-efa6-4023-9bc1-cfd1094e4be1",
        "colab": {
          "base_uri": "https://localhost:8080/",
          "height": 68
        }
      },
      "source": [
        "!pip install -q fastshap"
      ],
      "execution_count": 0,
      "outputs": [
        {
          "output_type": "stream",
          "text": [
            "\u001b[?25l\r\u001b[K     |█▏                              | 10kB 30.0MB/s eta 0:00:01\r\u001b[K     |██▍                             | 20kB 14.9MB/s eta 0:00:01\r\u001b[K     |███▋                            | 30kB 4.8MB/s eta 0:00:01\r\u001b[K     |████▉                           | 40kB 5.5MB/s eta 0:00:01\r\u001b[K     |██████                          | 51kB 5.9MB/s eta 0:00:01\r\u001b[K     |███████▏                        | 61kB 6.5MB/s eta 0:00:01\r\u001b[K     |████████▍                       | 71kB 6.4MB/s eta 0:00:01\r\u001b[K     |█████████▋                      | 81kB 6.0MB/s eta 0:00:01\r\u001b[K     |██████████▉                     | 92kB 6.3MB/s eta 0:00:01\r\u001b[K     |████████████                    | 102kB 6.9MB/s eta 0:00:01\r\u001b[K     |█████████████▏                  | 112kB 6.9MB/s eta 0:00:01\r\u001b[K     |██████████████▍                 | 122kB 6.9MB/s eta 0:00:01\r\u001b[K     |███████████████▋                | 133kB 6.9MB/s eta 0:00:01\r\u001b[K     |████████████████▉               | 143kB 6.9MB/s eta 0:00:01\r\u001b[K     |██████████████████              | 153kB 6.9MB/s eta 0:00:01\r\u001b[K     |███████████████████▏            | 163kB 6.9MB/s eta 0:00:01\r\u001b[K     |████████████████████▍           | 174kB 6.9MB/s eta 0:00:01\r\u001b[K     |█████████████████████▋          | 184kB 6.9MB/s eta 0:00:01\r\u001b[K     |██████████████████████▉         | 194kB 6.9MB/s eta 0:00:01\r\u001b[K     |████████████████████████        | 204kB 6.9MB/s eta 0:00:01\r\u001b[K     |█████████████████████████▏      | 215kB 6.9MB/s eta 0:00:01\r\u001b[K     |██████████████████████████▍     | 225kB 6.9MB/s eta 0:00:01\r\u001b[K     |███████████████████████████▋    | 235kB 6.9MB/s eta 0:00:01\r\u001b[K     |████████████████████████████▉   | 245kB 6.9MB/s eta 0:00:01\r\u001b[K     |██████████████████████████████  | 256kB 6.9MB/s eta 0:00:01\r\u001b[K     |███████████████████████████████▏| 266kB 6.9MB/s eta 0:00:01\r\u001b[K     |████████████████████████████████| 276kB 6.9MB/s \n",
            "\u001b[?25h  Building wheel for fastshap (setup.py) ... \u001b[?25l\u001b[?25hdone\n",
            "  Building wheel for shap (setup.py) ... \u001b[?25l\u001b[?25hdone\n"
          ],
          "name": "stdout"
        }
      ]
    },
    {
      "cell_type": "markdown",
      "metadata": {
        "id": "JDIIvRlVb4X0",
        "colab_type": "text"
      },
      "source": [
        "First let's import the interpretability module:\n"
      ]
    },
    {
      "cell_type": "code",
      "metadata": {
        "id": "EkZG7PRJcSfU",
        "colab_type": "code",
        "colab": {}
      },
      "source": [
        "from fastshap.interp import *"
      ],
      "execution_count": 0,
      "outputs": []
    },
    {
      "cell_type": "markdown",
      "metadata": {
        "id": "jVThCc-WcWm0",
        "colab_type": "text"
      },
      "source": [
        "And now we'll make a ShapInterpretation object. It expects your Learner along with some test data to look at and any keywords that SHAP can use. If you don't pass anything in it will use a subset of your validation data:"
      ]
    },
    {
      "cell_type": "code",
      "metadata": {
        "id": "kGkk341ycXjS",
        "colab_type": "code",
        "outputId": "74cefc82-9fe7-4dea-c406-cdaeec50593a",
        "colab": {
          "base_uri": "https://localhost:8080/",
          "height": 66,
          "referenced_widgets": [
            "0f913c135aac45718a387a41e801a8dc",
            "0e897e8e2a394d1d8e4996f4b82201d3",
            "ce4b282b12f54decb5376cfd41c2184a",
            "bccd1bd0653a49aabc7e9110bc260533",
            "a47ee9c58da745fcb380d3fc7c7e5b86",
            "2cbfe6026dc54342a759a42d212fba6c",
            "f5093133f013470a89f03d1ed3ead015",
            "0174da28400642388e886e8ed90f7488"
          ]
        }
      },
      "source": [
        "exp = ShapInterpretation(learn)"
      ],
      "execution_count": 0,
      "outputs": [
        {
          "output_type": "display_data",
          "data": {
            "application/vnd.jupyter.widget-view+json": {
              "model_id": "0f913c135aac45718a387a41e801a8dc",
              "version_minor": 0,
              "version_major": 2
            },
            "text/plain": [
              "HBox(children=(FloatProgress(value=0.0, max=128.0), HTML(value='')))"
            ]
          },
          "metadata": {
            "tags": []
          }
        },
        {
          "output_type": "stream",
          "text": [
            "\n"
          ],
          "name": "stdout"
        }
      ]
    },
    {
      "cell_type": "markdown",
      "metadata": {
        "id": "TTBisre9cja8",
        "colab_type": "text"
      },
      "source": [
        "To get an overview of which features are most important for a model we can plot the SHAP values of every feature for every sample. The plot below (summary plot) sorts features by the sum of SHAP value magnitudes over all samples, and uses SHAP values to show the distribution of the impacts each feature has on the model output. The color represents the feature value (red high, blue low)."
      ]
    },
    {
      "cell_type": "code",
      "metadata": {
        "id": "n0DjChRfd2Br",
        "colab_type": "code",
        "outputId": "0a4ccbed-afe0-4176-b5f6-f44577c6ae60",
        "colab": {
          "base_uri": "https://localhost:8080/",
          "height": 212
        }
      },
      "source": [
        "exp.summary_plot()"
      ],
      "execution_count": 0,
      "outputs": [
        {
          "output_type": "display_data",
          "data": {
            "image/png": "[encoded data removed]",
            "text/plain": [
              "<Figure size 576x194.4 with 1 Axes>"
            ]
          },
          "metadata": {
            "tags": [],
            "needs_background": "light"
          }
        }
      ]
    },
    {
      "cell_type": "markdown",
      "metadata": {
        "id": "hicn11xcevFl",
        "colab_type": "text"
      },
      "source": [
        "To understand how a single feature effects the output of the model we can plot the SHAP value of that feature vs. the value of the feature for all the examples in a dataset. Since SHAP values represent a feature's responsibility for a change in the model output, the plot below represents the change in predicted dependent variable as 'Mean_TemperatureC' changes. Vertical dispersion at a single value of 'Mean_TemperatureC' represents interaction effects with other features. To help reveal these interactions `dependence_plot` automatically selects another feature for coloring. In this case coloring by 'Mean_Humidity' highlights that the mean temperature rooms per house has less impact on the dependant variable (SAHP values close to 0) for areas with a humidiy around 0. You can change the interaction variable to visualize trhough the argument `interaction_index=\"CloudCover\"`"
      ]
    },
    {
      "cell_type": "code",
      "metadata": {
        "id": "JbeFIIisd4vY",
        "colab_type": "code",
        "outputId": "97b9d6d3-1884-4e75-e122-2d3162abfe78",
        "colab": {
          "base_uri": "https://localhost:8080/",
          "height": 371
        }
      },
      "source": [
        "exp.dependence_plot('age', class_id='<50k')"
      ],
      "execution_count": 0,
      "outputs": [
        {
          "output_type": "stream",
          "text": [
            "Classification model detected, displaying score for the class <50k.\n",
            "(use `class_id` to specify another class)\n"
          ],
          "name": "stdout"
        },
        {
          "output_type": "display_data",
          "data": {
            "image/png": "[encoded data removed]",
            "text/plain": [
              "<Figure size 540x360 with 2 Axes>"
            ]
          },
          "metadata": {
            "tags": [],
            "needs_background": "light"
          }
        }
      ]
    },
    {
      "cell_type": "markdown",
      "metadata": {
        "id": "2FTgdBzGnvRW",
        "colab_type": "text"
      },
      "source": [
        "### Confusion matrix"
      ]
    },
    {
      "cell_type": "markdown",
      "metadata": {
        "id": "PhVM59-huagA",
        "colab_type": "text"
      },
      "source": [
        "Example of confusion matrix usage to evaluate the quality of the output of a classifier. The diagonal elements represent the number of points for which the predicted label is equal to the true label, while off-diagonal elements are those that are mislabeled by the classifier. The higher the diagonal values of the confusion matrix the better, indicating many correct predictions.\n",
        "\n",
        "The figures show the confusion matrix with and without normalization by class support size (number of elements in each class). This kind of normalization can be interesting in case of class imbalance to have a more visual interpretation of which class is being misclassified.\n",
        "\n",
        "![](https://qph.fs.quoracdn.net/main-qimg-d1f717f321a4ebc8e6d2c1d1cc19f9fc)\n"
      ]
    },
    {
      "cell_type": "code",
      "metadata": {
        "id": "8d9j8WCunxn_",
        "colab_type": "code",
        "outputId": "5d01a6cb-dcfb-4de2-b7d6-c8e71775dddb",
        "colab": {
          "base_uri": "https://localhost:8080/",
          "height": 17
        }
      },
      "source": [
        "interp = ClassificationInterpretation.from_learner(learn)"
      ],
      "execution_count": 0,
      "outputs": [
        {
          "output_type": "display_data",
          "data": {
            "text/html": [
              ""
            ],
            "text/plain": [
              "<IPython.core.display.HTML object>"
            ]
          },
          "metadata": {
            "tags": []
          }
        }
      ]
    },
    {
      "cell_type": "code",
      "metadata": {
        "id": "3LIElrJeulHw",
        "colab_type": "code",
        "outputId": "c9ff1689-58e6-4f49-d282-dbe02f39da03",
        "colab": {
          "base_uri": "https://localhost:8080/",
          "height": 311
        }
      },
      "source": [
        "interp.plot_confusion_matrix()"
      ],
      "execution_count": 0,
      "outputs": [
        {
          "output_type": "display_data",
          "data": {
            "image/png": "[encoded data removed]",
            "text/plain": [
              "<Figure size 432x288 with 1 Axes>"
            ]
          },
          "metadata": {
            "tags": [],
            "needs_background": "light"
          }
        }
      ]
    },
    {
      "cell_type": "code",
      "metadata": {
        "id": "OemJQl9DunEG",
        "colab_type": "code",
        "outputId": "4e976e6b-fb97-49aa-fb69-d74a938cae4b",
        "colab": {
          "base_uri": "https://localhost:8080/",
          "height": 311
        }
      },
      "source": [
        "interp.plot_confusion_matrix(normalize=True)"
      ],
      "execution_count": 0,
      "outputs": [
        {
          "output_type": "display_data",
          "data": {
            "image/png": "[encoded data removed]",
            "text/plain": [
              "<Figure size 432x288 with 1 Axes>"
            ]
          },
          "metadata": {
            "tags": [],
            "needs_background": "light"
          }
        }
      ]
    },
    {
      "cell_type": "markdown",
      "metadata": {
        "id": "iEECaXxXyESL",
        "colab_type": "text"
      },
      "source": [
        "As it can be seen, there is a clear distinction betweeb the performance of the predictions for each class. This can be a result of the imbalance in the class ratio. Class imbalance problem affects the quality and reliability of results in machine learning task and, for this reason, it should be managed by specific techniques and measures of quality."
      ]
    },
    {
      "cell_type": "markdown",
      "metadata": {
        "id": "pCt7z_08yLkZ",
        "colab_type": "text"
      },
      "source": [
        "## Class-imbalaced problems\n",
        "\n",
        "Imbalance datasets are characterized by a rare class, which represents a small portion of the entire population (1 out of 1000 or 1 out of 10000 or even more). Class imbalance can be intrinsic to the problem, it is imbalanced by its own nature, or it can be determined by the limitation of data collection, caused by economic or privacy reasons.\n",
        "\n",
        "The minority class is scarce and its own characteristics and own patterns are scarce as well, but those information is extremely important for the trained model to discriminate the small samples from the crowd. Standard classification algorithms, that don’t take into account class distribution, are overwhelmed by the large class and they ignore and misclassify the minority one: there aren’t enough examples to recognize the patterns and the properties of the rare class."
      ]
    },
    {
      "cell_type": "markdown",
      "metadata": {
        "id": "sGlKb3XOzA-w",
        "colab_type": "text"
      },
      "source": [
        "## Evaluation metrics for imbalanced datasets"
      ]
    },
    {
      "cell_type": "markdown",
      "metadata": {
        "id": "-NmWSo_1zALi",
        "colab_type": "text"
      },
      "source": [
        "Accuracy evaluates all the classes as equally important and that’s why it can’t be used as measure of goodness for models working on imbalanced class dataset.\n",
        "Other metrics are necessary, such as:\n",
        "\n",
        "* Recall\n",
        "* Precision\n",
        "* F1/F2... Measures\n",
        "* ROC curve and AUC\n",
        "\n",
        "Which one is better? There isn’t a better metric. It depends on many factors, such as the goal, the context, and the cost function: is it better to classify correctly one more unit of the rare class but, at the same time, increasing False Positive errors (classify no-spam email as spam email), or misclassify some units of the rare class, but decreasing False Positive errors?\n",
        "\n"
      ]
    },
    {
      "cell_type": "markdown",
      "metadata": {
        "id": "Ibqa5Ek2qzlt",
        "colab_type": "text"
      },
      "source": [
        "![image.png](data:image/png;base64,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)"
      ]
    },
    {
      "cell_type": "markdown",
      "metadata": {
        "id": "XGS3Jc-52zmC",
        "colab_type": "text"
      },
      "source": [
        "### Penalizing false negatives\n",
        "\n",
        "Normally, in class imbalanced problems we are interested in reducing the number of false negatives, i.e.: the model says \"negative\" class, but it is actually \"positive\", because we don't want to miss the \"rare\" events, which are encoded as the positive class. **Recall** and **F2** are good examples of metrics that focus on the false negatives.\n",
        "\n",
        "$$\\textit{Recall} = TP/(TP + FN)$$\n",
        "\n",
        "$$F_{\\beta} =  (1+\\beta^2)\\frac{precision \\times recall}{(\\beta^2 \\times precision)+recall}$$"
      ]
    },
    {
      "cell_type": "code",
      "metadata": {
        "id": "9ppP6Eci1lYM",
        "colab_type": "code",
        "colab": {}
      },
      "source": [
        "recall = Recall(pos_label=1)\n",
        "f2 = FBeta(beta=2, pos_label=1)"
      ],
      "execution_count": 0,
      "outputs": []
    },
    {
      "cell_type": "markdown",
      "metadata": {
        "id": "k1oeVc-E3qmT",
        "colab_type": "text"
      },
      "source": [
        "Let's re-evaluate our learner based on these metrics"
      ]
    },
    {
      "cell_type": "code",
      "metadata": {
        "id": "R2Uy1uow4jpe",
        "colab_type": "code",
        "outputId": "c974f321-9f9d-4c11-98c4-47571a85775a",
        "colab": {
          "base_uri": "https://localhost:8080/",
          "height": 34
        }
      },
      "source": [
        "learn.metrics = [accuracy, recall, f2]\n",
        "[x.name for x in learn.metrics]"
      ],
      "execution_count": 0,
      "outputs": [
        {
          "output_type": "execute_result",
          "data": {
            "text/html": [
              "['accuracy', 'recall_score', 'fbeta_score']"
            ],
            "text/plain": [
              "['accuracy', 'recall_score', 'fbeta_score']"
            ]
          },
          "metadata": {
            "tags": []
          },
          "execution_count": 77
        }
      ]
    },
    {
      "cell_type": "code",
      "metadata": {
        "id": "fR7NgIXp51OJ",
        "colab_type": "code",
        "outputId": "ee1da479-a8bf-47f7-dd35-80361fdb39ae",
        "colab": {
          "base_uri": "https://localhost:8080/",
          "height": 34
        }
      },
      "source": [
        "res = learn.validate()\n",
        "print(f'accuracy={res[1]}, recall={res[2]}, f2={res[3]}')"
      ],
      "execution_count": 0,
      "outputs": [
        {
          "output_type": "display_data",
          "data": {
            "text/html": [
              ""
            ],
            "text/plain": [
              "<IPython.core.display.HTML object>"
            ]
          },
          "metadata": {
            "tags": []
          }
        },
        {
          "output_type": "stream",
          "text": [
            "accuracy=0.7977890372276306, recall=0.40114795918367346, f2=0.432064844071988\n"
          ],
          "name": "stdout"
        }
      ]
    },
    {
      "cell_type": "markdown",
      "metadata": {
        "id": "A1BBaDBV6kuS",
        "colab_type": "text"
      },
      "source": [
        "As it can be  seen, the accuracy of the model can be said as \"good\", but that does not imply that it is a good model for all the cases, specially for the false negative (bad recall and f2)"
      ]
    },
    {
      "cell_type": "markdown",
      "metadata": {
        "id": "rYKtxvFw60Bt",
        "colab_type": "text"
      },
      "source": [
        "### Adding weights to the loss function (CrossEntropyLoss)\n",
        "\n",
        "We can also our loss function to penalize misclassifications of the minority class more than the majority. Pytorch can incorporate different weights in the `CrossEntropyLoss` using the `weights` argument. For the\n",
        "experiments in this tutorial, we adjust the weights using $w_j = 1/n_j$, where $n_j$ is the population in class j."
      ]
    },
    {
      "cell_type": "code",
      "metadata": {
        "id": "h27QSy8f59Um",
        "colab_type": "code",
        "colab": {}
      },
      "source": [
        "from torch.nn import CrossEntropyLoss"
      ],
      "execution_count": 0,
      "outputs": []
    },
    {
      "cell_type": "code",
      "metadata": {
        "id": "OYE5OI367EhS",
        "colab_type": "code",
        "outputId": "20db9498-1fb2-4ae8-cb62-8cbe2fcd9bff",
        "colab": {
          "base_uri": "https://localhost:8080/",
          "height": 34
        }
      },
      "source": [
        "_, class_size = np.unique(dls.train.y, return_counts=True)\n",
        "class_size"
      ],
      "execution_count": 0,
      "outputs": [
        {
          "output_type": "execute_result",
          "data": {
            "text/plain": [
              "array([19775,  6273])"
            ]
          },
          "metadata": {
            "tags": []
          },
          "execution_count": 50
        }
      ]
    },
    {
      "cell_type": "code",
      "metadata": {
        "id": "GWIRCa2f9Zo5",
        "colab_type": "code",
        "colab": {}
      },
      "source": [
        "from fastai2.torch_core import *"
      ],
      "execution_count": 0,
      "outputs": []
    },
    {
      "cell_type": "code",
      "metadata": {
        "id": "8M23A7li8DUm",
        "colab_type": "code",
        "colab": {}
      },
      "source": [
        "class_weights = tensor(1/class_size).to('cuda')"
      ],
      "execution_count": 0,
      "outputs": []
    },
    {
      "cell_type": "code",
      "metadata": {
        "id": "-EfOQ9c46McM",
        "colab_type": "code",
        "colab": {}
      },
      "source": [
        "wce = CrossEntropyLossFlat(weight=class_weights)"
      ],
      "execution_count": 0,
      "outputs": []
    },
    {
      "cell_type": "code",
      "metadata": {
        "id": "foLTQgSN5C1F",
        "colab_type": "code",
        "colab": {}
      },
      "source": [
        "learn_wce = tabular_learner(dls=learn.dls, loss_func=wce, metrics=learn.metrics)"
      ],
      "execution_count": 0,
      "outputs": []
    },
    {
      "cell_type": "code",
      "metadata": {
        "id": "omrV8i9K-1Pi",
        "colab_type": "code",
        "outputId": "f89377dc-3e51-4646-9611-d38849c40037",
        "colab": {
          "base_uri": "https://localhost:8080/",
          "height": 301
        }
      },
      "source": [
        "suggested_lrs = learn_wce.lr_find()\n",
        "suggested_lrs"
      ],
      "execution_count": 0,
      "outputs": [
        {
          "output_type": "display_data",
          "data": {
            "text/html": [
              ""
            ],
            "text/plain": [
              "<IPython.core.display.HTML object>"
            ]
          },
          "metadata": {
            "tags": []
          }
        },
        {
          "output_type": "execute_result",
          "data": {
            "text/plain": [
              "SuggestedLRs(lr_min=0.005754399299621582, lr_steep=0.0005754399462603033)"
            ]
          },
          "metadata": {
            "tags": []
          },
          "execution_count": 55
        },
        {
          "output_type": "display_data",
          "data": {
            "image/png": "[encoded data removed]",
            "text/plain": [
              "<Figure size 432x288 with 1 Axes>"
            ]
          },
          "metadata": {
            "tags": [],
            "needs_background": "light"
          }
        }
      ]
    },
    {
      "cell_type": "code",
      "metadata": {
        "id": "iUuzaActUdnG",
        "colab_type": "code",
        "outputId": "471081e7-a682-4de6-aee6-e3c0feaf8076",
        "colab": {
          "base_uri": "https://localhost:8080/",
          "height": 498
        }
      },
      "source": [
        "learn_wce.fit_one_cycle(5, lr_max=1e-2)\n",
        "interp = ClassificationInterpretation.from_learner(learn_wce)\n",
        "interp.plot_confusion_matrix(normalize=True)"
      ],
      "execution_count": 0,
      "outputs": [
        {
          "output_type": "display_data",
          "data": {
            "text/html": [
              "<table border=\"1\" class=\"dataframe\">\n",
              "  <thead>\n",
              "    <tr style=\"text-align: left;\">\n",
              "      <th>epoch</th>\n",
              "      <th>train_loss</th>\n",
              "      <th>valid_loss</th>\n",
              "      <th>accuracy</th>\n",
              "      <th>recall_score</th>\n",
              "      <th>fbeta_score</th>\n",
              "      <th>recall_score</th>\n",
              "      <th>fbeta_score</th>\n",
              "      <th>recall_score</th>\n",
              "      <th>fbeta_score</th>\n",
              "      <th>recall_score</th>\n",
              "      <th>fbeta_score</th>\n",
              "      <th>recall_score</th>\n",
              "      <th>fbeta_score</th>\n",
              "      <th>time</th>\n",
              "    </tr>\n",
              "  </thead>\n",
              "  <tbody>\n",
              "    <tr>\n",
              "      <td>0</td>\n",
              "      <td>0.571680</td>\n",
              "      <td>0.540532</td>\n",
              "      <td>0.707508</td>\n",
              "      <td>0.739796</td>\n",
              "      <td>0.649569</td>\n",
              "      <td>0.739796</td>\n",
              "      <td>0.649569</td>\n",
              "      <td>0.739796</td>\n",
              "      <td>0.649569</td>\n",
              "      <td>0.739796</td>\n",
              "      <td>0.649569</td>\n",
              "      <td>0.739796</td>\n",
              "      <td>0.649569</td>\n",
              "      <td>00:00</td>\n",
              "    </tr>\n",
              "    <tr>\n",
              "      <td>1</td>\n",
              "      <td>0.553386</td>\n",
              "      <td>0.530915</td>\n",
              "      <td>0.673422</td>\n",
              "      <td>0.825255</td>\n",
              "      <td>0.686909</td>\n",
              "      <td>0.825255</td>\n",
              "      <td>0.686909</td>\n",
              "      <td>0.825255</td>\n",
              "      <td>0.686909</td>\n",
              "      <td>0.825255</td>\n",
              "      <td>0.686909</td>\n",
              "      <td>0.825255</td>\n",
              "      <td>0.686909</td>\n",
              "      <td>00:00</td>\n",
              "    </tr>\n",
              "    <tr>\n",
              "      <td>2</td>\n",
              "      <td>0.544648</td>\n",
              "      <td>0.527360</td>\n",
              "      <td>0.675418</td>\n",
              "      <td>0.809311</td>\n",
              "      <td>0.678174</td>\n",
              "      <td>0.809311</td>\n",
              "      <td>0.678174</td>\n",
              "      <td>0.809311</td>\n",
              "      <td>0.678174</td>\n",
              "      <td>0.809311</td>\n",
              "      <td>0.678174</td>\n",
              "      <td>0.809311</td>\n",
              "      <td>0.678174</td>\n",
              "      <td>00:00</td>\n",
              "    </tr>\n",
              "    <tr>\n",
              "      <td>3</td>\n",
              "      <td>0.541448</td>\n",
              "      <td>0.527106</td>\n",
              "      <td>0.709043</td>\n",
              "      <td>0.758929</td>\n",
              "      <td>0.662657</td>\n",
              "      <td>0.758929</td>\n",
              "      <td>0.662657</td>\n",
              "      <td>0.758929</td>\n",
              "      <td>0.662657</td>\n",
              "      <td>0.758929</td>\n",
              "      <td>0.662657</td>\n",
              "      <td>0.758929</td>\n",
              "      <td>0.662657</td>\n",
              "      <td>00:00</td>\n",
              "    </tr>\n",
              "    <tr>\n",
              "      <td>4</td>\n",
              "      <td>0.537236</td>\n",
              "      <td>0.525535</td>\n",
              "      <td>0.698910</td>\n",
              "      <td>0.779974</td>\n",
              "      <td>0.671167</td>\n",
              "      <td>0.779974</td>\n",
              "      <td>0.671167</td>\n",
              "      <td>0.779974</td>\n",
              "      <td>0.671167</td>\n",
              "      <td>0.779974</td>\n",
              "      <td>0.671167</td>\n",
              "      <td>0.779974</td>\n",
              "      <td>0.671167</td>\n",
              "      <td>00:00</td>\n",
              "    </tr>\n",
              "  </tbody>\n",
              "</table>"
            ],
            "text/plain": [
              "<IPython.core.display.HTML object>"
            ]
          },
          "metadata": {
            "tags": []
          }
        },
        {
          "output_type": "display_data",
          "data": {
            "text/html": [
              ""
            ],
            "text/plain": [
              "<IPython.core.display.HTML object>"
            ]
          },
          "metadata": {
            "tags": []
          }
        },
        {
          "output_type": "display_data",
          "data": {
            "image/png": "[encoded data removed]",
            "text/plain": [
              "<Figure size 432x288 with 1 Axes>"
            ]
          },
          "metadata": {
            "tags": [],
            "needs_background": "light"
          }
        }
      ]
    },
    {
      "cell_type": "code",
      "metadata": {
        "id": "cYb-fWBf9aAR",
        "colab_type": "code",
        "outputId": "8dab0ee0-6c27-45e6-f5f1-6f0b45da895f",
        "colab": {
          "base_uri": "https://localhost:8080/",
          "height": 34
        }
      },
      "source": [
        "res = learn_wce.final_record\n",
        "print(f'accuracy={res[1]}, recall={res[2]}, f2={res[3]}')"
      ],
      "execution_count": 0,
      "outputs": [
        {
          "output_type": "stream",
          "text": [
            "accuracy=0.6989098787307739, recall=0.7799744897959183, f2=0.6711667215453848\n"
          ],
          "name": "stdout"
        }
      ]
    },
    {
      "cell_type": "markdown",
      "metadata": {
        "id": "-QQrSmNA3XYz",
        "colab_type": "text"
      },
      "source": [
        "We have achieved better results in the false interested measures! (recall and f2), despite the drop in the general accuracy.\n",
        "\n",
        "Keep in mind that in a bigger than 90/10 unbalance setting, you will be presenting your network with more than 90 % cases of fairly small losses (weighted by 1/n_samples). While once in a while the other class of less than 10 % will pop up with a huge loss resulting in a relatively huge update step, forcing you to nevertheless stay at a moderate learning rate."
      ]
    },
    {
      "cell_type": "markdown",
      "metadata": {
        "id": "DtkgMIQp_jTh",
        "colab_type": "text"
      },
      "source": [
        "### Undersampling and Oversampling"
      ]
    },
    {
      "cell_type": "markdown",
      "metadata": {
        "id": "AjdLG0_gsNST",
        "colab_type": "text"
      },
      "source": [
        "A well-known approach\n",
        "to handling class-imbalance is to make our training dataset\n",
        "balanced. This is often done by undersampling (that is, tak-\n",
        "ing out instances from the majority class) or oversampling\n",
        "(that is, providing more instances to the minority class by\n",
        "replication). \n",
        "\n",
        "Undersampling results in using only as many\n",
        "negative instances (majority) as there are positive instances\n",
        "(minority) in the training phase, thus achieving a 1:1 balance\n",
        "ratio. This solution, however, comes at some cost. When\n",
        "undersampling, we leave out a great portion of the data during\n",
        "training, therefore not learning from the entire collection. To avoid the enormous data waste, a very large dataset should be available overall."
      ]
    },
    {
      "cell_type": "markdown",
      "metadata": {
        "id": "9EOfo3wM6AR2",
        "colab_type": "text"
      },
      "source": [
        "![](https://miro.medium.com/max/335/1*YH_vPYQEDIW0JoUYMeLz_A.png)"
      ]
    },
    {
      "cell_type": "code",
      "metadata": {
        "id": "Uow7Z8zA_m2W",
        "colab_type": "code",
        "outputId": "c7e276b9-3273-4265-b899-83a3c85b8fac",
        "colab": {
          "base_uri": "https://localhost:8080/",
          "height": 51
        }
      },
      "source": [
        "from imblearn.under_sampling import RandomUnderSampler # Find more techniques at https://imbalanced-learn.readthedocs.io/en/stable/api.html\n",
        "resampling_instance = RandomUnderSampler()\n",
        "resampling_instance"
      ],
      "execution_count": 0,
      "outputs": [
        {
          "output_type": "execute_result",
          "data": {
            "text/plain": [
              "RandomUnderSampler(random_state=None, ratio=None, replacement=False,\n",
              "                   return_indices=False, sampling_strategy='auto')"
            ]
          },
          "metadata": {
            "tags": []
          },
          "execution_count": 89
        }
      ]
    },
    {
      "cell_type": "markdown",
      "metadata": {
        "id": "HGHnECk_s2Tr",
        "colab_type": "text"
      },
      "source": [
        "The undersampling and oversampling processors are only taken in the training partition, as undersampling of the validation partition distorts reality and would\n",
        "not reflect the true model’s performance."
      ]
    },
    {
      "cell_type": "code",
      "metadata": {
        "id": "pb2kmro_tIJY",
        "colab_type": "code",
        "outputId": "c030284b-765a-4dce-a6a1-a1b753cb3fae",
        "colab": {
          "base_uri": "https://localhost:8080/",
          "height": 34
        }
      },
      "source": [
        "X_train, y_train = dls.train.xs.values, dls.train.y.values\n",
        "(X_train.shape, y_train.shape)"
      ],
      "execution_count": 0,
      "outputs": [
        {
          "output_type": "execute_result",
          "data": {
            "text/plain": [
              "((12546, 3), (12546,))"
            ]
          },
          "metadata": {
            "tags": []
          },
          "execution_count": 80
        }
      ]
    },
    {
      "cell_type": "code",
      "metadata": {
        "id": "1QgjW2dOtKdi",
        "colab_type": "code",
        "outputId": "e86b09e0-1180-4088-d359-6c8e3674b643",
        "colab": {
          "base_uri": "https://localhost:8080/",
          "height": 51
        }
      },
      "source": [
        "X_train_resampled, y_train_resampled = resampling_instance.fit_resample(X_train, y_train)\n",
        "(X_train_resampled.shape, y_train_resampled.shape)"
      ],
      "execution_count": 0,
      "outputs": [
        {
          "output_type": "stream",
          "text": [
            "Function safe_indexing is deprecated; safe_indexing is deprecated in version 0.22 and will be removed in version 0.24.\n"
          ],
          "name": "stderr"
        },
        {
          "output_type": "execute_result",
          "data": {
            "text/plain": [
              "((12546, 3), (12546,))"
            ]
          },
          "metadata": {
            "tags": []
          },
          "execution_count": 79
        }
      ]
    },
    {
      "cell_type": "markdown",
      "metadata": {
        "id": "vEfuBpPdtWGC",
        "colab_type": "text"
      },
      "source": [
        "Check how the size of the training set has been diminished! We can check again the classs imbalanced ratio:"
      ]
    },
    {
      "cell_type": "code",
      "metadata": {
        "id": "X20EI_netiDM",
        "colab_type": "code",
        "outputId": "e9dfa51c-b3c6-4e7a-db8e-51678879c180",
        "colab": {
          "base_uri": "https://localhost:8080/",
          "height": 34
        }
      },
      "source": [
        "class_counts = np.unique(y_train_resampled, return_counts=True)\n",
        "class_counts[0], class_counts[1], class_counts[1]/len(y_train_resampled)"
      ],
      "execution_count": 0,
      "outputs": [
        {
          "output_type": "execute_result",
          "data": {
            "text/plain": [
              "(array([0, 1], dtype=int8), array([6273, 6273]), array([0.5, 0.5]))"
            ]
          },
          "metadata": {
            "tags": []
          },
          "execution_count": 81
        }
      ]
    },
    {
      "cell_type": "markdown",
      "metadata": {
        "id": "VjrXi8ektxuf",
        "colab_type": "text"
      },
      "source": [
        "Now let's replace the training `Dataloader` inside the object `dls` with this new training data."
      ]
    },
    {
      "cell_type": "code",
      "metadata": {
        "id": "-yL4-T53uCDB",
        "colab_type": "code",
        "outputId": "a5d3becf-3d62-4d1f-9811-42dbf0083e06",
        "colab": {
          "base_uri": "https://localhost:8080/",
          "height": 419
        }
      },
      "source": [
        "undersampled_df = pd.DataFrame(X_train_resampled, columns=dls.valid.x_names)\n",
        "undersampled_df[dls.valid.y_names[0]] = y_train_resampled\n",
        "undersampled_df"
      ],
      "execution_count": 0,
      "outputs": [
        {
          "output_type": "execute_result",
          "data": {
            "text/html": [
              "<div>\n",
              "<style scoped>\n",
              "    .dataframe tbody tr th:only-of-type {\n",
              "        vertical-align: middle;\n",
              "    }\n",
              "\n",
              "    .dataframe tbody tr th {\n",
              "        vertical-align: top;\n",
              "    }\n",
              "\n",
              "    .dataframe thead th {\n",
              "        text-align: right;\n",
              "    }\n",
              "</style>\n",
              "<table border=\"1\" class=\"dataframe\">\n",
              "  <thead>\n",
              "    <tr style=\"text-align: right;\">\n",
              "      <th></th>\n",
              "      <th>age</th>\n",
              "      <th>fnlwgt</th>\n",
              "      <th>education-num</th>\n",
              "      <th>salary</th>\n",
              "    </tr>\n",
              "  </thead>\n",
              "  <tbody>\n",
              "    <tr>\n",
              "      <th>0</th>\n",
              "      <td>-1.139608</td>\n",
              "      <td>1.550318</td>\n",
              "      <td>-0.028469</td>\n",
              "      <td>0</td>\n",
              "    </tr>\n",
              "    <tr>\n",
              "      <th>1</th>\n",
              "      <td>-0.993090</td>\n",
              "      <td>0.430322</td>\n",
              "      <td>0.364098</td>\n",
              "      <td>0</td>\n",
              "    </tr>\n",
              "    <tr>\n",
              "      <th>2</th>\n",
              "      <td>1.131412</td>\n",
              "      <td>-0.167850</td>\n",
              "      <td>1.149232</td>\n",
              "      <td>0</td>\n",
              "    </tr>\n",
              "    <tr>\n",
              "      <th>3</th>\n",
              "      <td>0.325566</td>\n",
              "      <td>0.318832</td>\n",
              "      <td>-2.776438</td>\n",
              "      <td>0</td>\n",
              "    </tr>\n",
              "    <tr>\n",
              "      <th>4</th>\n",
              "      <td>-1.286125</td>\n",
              "      <td>1.142349</td>\n",
              "      <td>-0.028469</td>\n",
              "      <td>0</td>\n",
              "    </tr>\n",
              "    <tr>\n",
              "      <th>...</th>\n",
              "      <td>...</td>\n",
              "      <td>...</td>\n",
              "      <td>...</td>\n",
              "      <td>...</td>\n",
              "    </tr>\n",
              "    <tr>\n",
              "      <th>12541</th>\n",
              "      <td>-0.113986</td>\n",
              "      <td>-1.020036</td>\n",
              "      <td>-1.991304</td>\n",
              "      <td>1</td>\n",
              "    </tr>\n",
              "    <tr>\n",
              "      <th>12542</th>\n",
              "      <td>0.032532</td>\n",
              "      <td>-0.712050</td>\n",
              "      <td>1.934366</td>\n",
              "      <td>1</td>\n",
              "    </tr>\n",
              "    <tr>\n",
              "      <th>12543</th>\n",
              "      <td>-0.993090</td>\n",
              "      <td>0.136732</td>\n",
              "      <td>0.364098</td>\n",
              "      <td>1</td>\n",
              "    </tr>\n",
              "    <tr>\n",
              "      <th>12544</th>\n",
              "      <td>-0.187244</td>\n",
              "      <td>1.028904</td>\n",
              "      <td>1.149232</td>\n",
              "      <td>1</td>\n",
              "    </tr>\n",
              "    <tr>\n",
              "      <th>12545</th>\n",
              "      <td>1.058154</td>\n",
              "      <td>-0.309477</td>\n",
              "      <td>0.756665</td>\n",
              "      <td>1</td>\n",
              "    </tr>\n",
              "  </tbody>\n",
              "</table>\n",
              "<p>12546 rows × 4 columns</p>\n",
              "</div>"
            ],
            "text/plain": [
              "            age    fnlwgt  education-num  salary\n",
              "0     -1.139608  1.550318      -0.028469       0\n",
              "1     -0.993090  0.430322       0.364098       0\n",
              "2      1.131412 -0.167850       1.149232       0\n",
              "3      0.325566  0.318832      -2.776438       0\n",
              "4     -1.286125  1.142349      -0.028469       0\n",
              "...         ...       ...            ...     ...\n",
              "12541 -0.113986 -1.020036      -1.991304       1\n",
              "12542  0.032532 -0.712050       1.934366       1\n",
              "12543 -0.993090  0.136732       0.364098       1\n",
              "12544 -0.187244  1.028904       1.149232       1\n",
              "12545  1.058154 -0.309477       0.756665       1\n",
              "\n",
              "[12546 rows x 4 columns]"
            ]
          },
          "metadata": {
            "tags": []
          },
          "execution_count": 82
        }
      ]
    },
    {
      "cell_type": "code",
      "metadata": {
        "id": "pTbDKqmfuHFY",
        "colab_type": "code",
        "outputId": "631cffb6-3ff8-44da-a785-920bb19ee95d",
        "colab": {
          "base_uri": "https://localhost:8080/",
          "height": 34
        }
      },
      "source": [
        "dl_train_original = dls.train # keep it in case you want to come back to the original setup later\n",
        "dls.train.n"
      ],
      "execution_count": 0,
      "outputs": [
        {
          "output_type": "execute_result",
          "data": {
            "text/plain": [
              "12546"
            ]
          },
          "metadata": {
            "tags": []
          },
          "execution_count": 83
        }
      ]
    },
    {
      "cell_type": "code",
      "metadata": {
        "id": "2LTx9glot3JS",
        "colab_type": "code",
        "outputId": "31a446e9-173d-41c7-a9b0-f1287a98cafe",
        "colab": {
          "base_uri": "https://localhost:8080/",
          "height": 34
        }
      },
      "source": [
        "dl_train_undersampled = dls.train.new(dls.train.dataset.new(undersampled_df))\n",
        "dls.train = dl_train_undersampled\n",
        "dls.train.n"
      ],
      "execution_count": 0,
      "outputs": [
        {
          "output_type": "execute_result",
          "data": {
            "text/plain": [
              "12546"
            ]
          },
          "metadata": {
            "tags": []
          },
          "execution_count": 84
        }
      ]
    },
    {
      "cell_type": "code",
      "metadata": {
        "id": "YaxAQCfAwk-t",
        "colab_type": "code",
        "outputId": "20c2afc3-7b8a-46bf-b24d-906d17adfea5",
        "colab": {
          "base_uri": "https://localhost:8080/",
          "height": 300
        }
      },
      "source": [
        "learn_undersampled = tabular_learner(dls, metrics=learn.metrics)\n",
        "learn_undersampled.lr_find()"
      ],
      "execution_count": 0,
      "outputs": [
        {
          "output_type": "display_data",
          "data": {
            "text/html": [
              ""
            ],
            "text/plain": [
              "<IPython.core.display.HTML object>"
            ]
          },
          "metadata": {
            "tags": []
          }
        },
        {
          "output_type": "execute_result",
          "data": {
            "text/plain": [
              "SuggestedLRs(lr_min=0.003981071710586548, lr_steep=1.9054607152938843)"
            ]
          },
          "metadata": {
            "tags": []
          },
          "execution_count": 85
        },
        {
          "output_type": "display_data",
          "data": {
            "image/png": "[encoded data removed]",
            "text/plain": [
              "<Figure size 432x288 with 1 Axes>"
            ]
          },
          "metadata": {
            "tags": [],
            "needs_background": "light"
          }
        }
      ]
    },
    {
      "cell_type": "code",
      "metadata": {
        "id": "gaqT5KezwxZP",
        "colab_type": "code",
        "outputId": "c22c7543-89e5-49f3-c7db-c342af47efe6",
        "colab": {
          "base_uri": "https://localhost:8080/",
          "height": 746
        }
      },
      "source": [
        "learn_undersampled.fit_one_cycle(n_epoch=5, lr_max=1e-3)\n",
        "learn_undersampled.recorder.plot_loss()\n",
        "interp = ClassificationInterpretation.from_learner(learn_undersampled)\n",
        "interp.plot_confusion_matrix()"
      ],
      "execution_count": 0,
      "outputs": [
        {
          "output_type": "display_data",
          "data": {
            "text/html": [
              "<table border=\"1\" class=\"dataframe\">\n",
              "  <thead>\n",
              "    <tr style=\"text-align: left;\">\n",
              "      <th>epoch</th>\n",
              "      <th>train_loss</th>\n",
              "      <th>valid_loss</th>\n",
              "      <th>accuracy</th>\n",
              "      <th>recall_score</th>\n",
              "      <th>fbeta_score</th>\n",
              "      <th>time</th>\n",
              "    </tr>\n",
              "  </thead>\n",
              "  <tbody>\n",
              "    <tr>\n",
              "      <td>0</td>\n",
              "      <td>0.654438</td>\n",
              "      <td>0.609296</td>\n",
              "      <td>0.713650</td>\n",
              "      <td>0.698980</td>\n",
              "      <td>0.625499</td>\n",
              "      <td>00:00</td>\n",
              "    </tr>\n",
              "    <tr>\n",
              "      <td>1</td>\n",
              "      <td>0.593769</td>\n",
              "      <td>0.537285</td>\n",
              "      <td>0.697528</td>\n",
              "      <td>0.757653</td>\n",
              "      <td>0.656354</td>\n",
              "      <td>00:00</td>\n",
              "    </tr>\n",
              "    <tr>\n",
              "      <td>2</td>\n",
              "      <td>0.568943</td>\n",
              "      <td>0.547635</td>\n",
              "      <td>0.672041</td>\n",
              "      <td>0.802934</td>\n",
              "      <td>0.672686</td>\n",
              "      <td>00:00</td>\n",
              "    </tr>\n",
              "    <tr>\n",
              "      <td>3</td>\n",
              "      <td>0.556434</td>\n",
              "      <td>0.546526</td>\n",
              "      <td>0.669277</td>\n",
              "      <td>0.809949</td>\n",
              "      <td>0.675676</td>\n",
              "      <td>00:00</td>\n",
              "    </tr>\n",
              "    <tr>\n",
              "      <td>4</td>\n",
              "      <td>0.548981</td>\n",
              "      <td>0.546786</td>\n",
              "      <td>0.670812</td>\n",
              "      <td>0.812500</td>\n",
              "      <td>0.677948</td>\n",
              "      <td>00:00</td>\n",
              "    </tr>\n",
              "  </tbody>\n",
              "</table>"
            ],
            "text/plain": [
              "<IPython.core.display.HTML object>"
            ]
          },
          "metadata": {
            "tags": []
          }
        },
        {
          "output_type": "display_data",
          "data": {
            "text/html": [
              ""
            ],
            "text/plain": [
              "<IPython.core.display.HTML object>"
            ]
          },
          "metadata": {
            "tags": []
          }
        },
        {
          "output_type": "display_data",
          "data": {
            "image/png": "[encoded data removed]",
            "text/plain": [
              "<Figure size 432x288 with 1 Axes>"
            ]
          },
          "metadata": {
            "tags": [],
            "needs_background": "light"
          }
        },
        {
          "output_type": "display_data",
          "data": {
            "image/png": "[encoded data removed]",
            "text/plain": [
              "<Figure size 432x288 with 1 Axes>"
            ]
          },
          "metadata": {
            "tags": [],
            "needs_background": "light"
          }
        }
      ]
    },
    {
      "cell_type": "code",
      "metadata": {
        "id": "aIkyJsb1xbjS",
        "colab_type": "code",
        "outputId": "a4e240f2-1902-42f3-a3ee-ddb558d1a573",
        "colab": {
          "base_uri": "https://localhost:8080/",
          "height": 51
        }
      },
      "source": [
        "res_us = learn_undersampled.final_record\n",
        "print(f'Original performance: acc= {res[1]}, recall={res[2]}, f2={res[3]}')\n",
        "print(f'Undersampling performance: acc= {res_us[1]}, recall={res_us[2]}, f2={res_us[3]}')"
      ],
      "execution_count": 0,
      "outputs": [
        {
          "output_type": "stream",
          "text": [
            "Original performance: acc= 0.6989098787307739, recall=0.7799744897959183, f2=0.6711667215453848\n",
            "Undersampling performance: acc= 0.6708122491836548, recall=0.8125, f2=0.6779480630055343\n"
          ],
          "name": "stdout"
        }
      ]
    },
    {
      "cell_type": "markdown",
      "metadata": {
        "id": "tssO7MByzbO7",
        "colab_type": "text"
      },
      "source": [
        "When oversampling, we add replicates of the\n",
        "existing instances. This may cause a model to memorize the\n",
        "patterns and structures of minority events in the data instead\n",
        "of generalizing and learning about them; a bad practice that\n",
        "is very prone to overfitting.\n",
        "\n",
        "![image](https://miro.medium.com/max/375/1*aKJJOozIlVVH1gT-4rYy4w.png)"
      ]
    },
    {
      "cell_type": "code",
      "metadata": {
        "id": "kLTJTNa32O0M",
        "colab_type": "code",
        "outputId": "95458553-f5b4-4912-b147-08926d7ac3d6",
        "colab": {
          "base_uri": "https://localhost:8080/",
          "height": 51
        }
      },
      "source": [
        "from imblearn.over_sampling import RandomOverSampler # Find more techniques at https://imbalanced-learn.readthedocs.io/en/stable/api.html\n",
        "os = RandomOverSampler()\n",
        "os"
      ],
      "execution_count": 0,
      "outputs": [
        {
          "output_type": "execute_result",
          "data": {
            "text/plain": [
              "RandomOverSampler(random_state=None, ratio=None, return_indices=False,\n",
              "                  sampling_strategy='auto')"
            ]
          },
          "metadata": {
            "tags": []
          },
          "execution_count": 102
        }
      ]
    },
    {
      "cell_type": "code",
      "metadata": {
        "id": "cu_ZxBw73Ip6",
        "colab_type": "code",
        "colab": {}
      },
      "source": [
        "dls.train = dl_train_original"
      ],
      "execution_count": 0,
      "outputs": []
    },
    {
      "cell_type": "code",
      "metadata": {
        "id": "Jka6LWGR2xJJ",
        "colab_type": "code",
        "outputId": "48dd89a1-6a9f-44c3-a8bb-55fc481c516c",
        "colab": {
          "base_uri": "https://localhost:8080/",
          "height": 34
        }
      },
      "source": [
        "X_train, y_train = dls.train.xs.values, dls.train.y.values\n",
        "(X_train.shape, y_train.shape)"
      ],
      "execution_count": 0,
      "outputs": [
        {
          "output_type": "execute_result",
          "data": {
            "text/plain": [
              "((26048, 3), (26048,))"
            ]
          },
          "metadata": {
            "tags": []
          },
          "execution_count": 99
        }
      ]
    },
    {
      "cell_type": "code",
      "metadata": {
        "id": "j3usff93zhun",
        "colab_type": "code",
        "outputId": "c95cc657-39b8-444e-e4cf-d4aa964c3619",
        "colab": {
          "base_uri": "https://localhost:8080/",
          "height": 51
        }
      },
      "source": [
        "X_train_os, y_train_os = os.fit_resample(X_train, y_train)\n",
        "(X_train_os.shape, y_train_os.shape)"
      ],
      "execution_count": 0,
      "outputs": [
        {
          "output_type": "stream",
          "text": [
            "Function safe_indexing is deprecated; safe_indexing is deprecated in version 0.22 and will be removed in version 0.24.\n"
          ],
          "name": "stderr"
        },
        {
          "output_type": "execute_result",
          "data": {
            "text/plain": [
              "((39550, 3), (39550,))"
            ]
          },
          "metadata": {
            "tags": []
          },
          "execution_count": 107
        }
      ]
    },
    {
      "cell_type": "code",
      "metadata": {
        "id": "fGb3ZwG72tz9",
        "colab_type": "code",
        "outputId": "cb27ce39-5654-47e4-963b-ac968faed4d1",
        "colab": {
          "base_uri": "https://localhost:8080/",
          "height": 34
        }
      },
      "source": [
        "class_counts = np.unique(y_train_os, return_counts=True)\n",
        "class_counts[0], class_counts[1], class_counts[1]/len(y_train_os)"
      ],
      "execution_count": 0,
      "outputs": [
        {
          "output_type": "execute_result",
          "data": {
            "text/plain": [
              "(array([0, 1], dtype=int8), array([19775, 19775]), array([0.5, 0.5]))"
            ]
          },
          "metadata": {
            "tags": []
          },
          "execution_count": 106
        }
      ]
    },
    {
      "cell_type": "code",
      "metadata": {
        "colab_type": "code",
        "outputId": "ff3cbd06-4e3a-473d-846d-423de44bad1d",
        "id": "RW4xjPCO4NIe",
        "colab": {
          "base_uri": "https://localhost:8080/",
          "height": 419
        }
      },
      "source": [
        "df_os = pd.DataFrame(X_train_os, columns=dls.valid.x_names)\n",
        "df_os[dls.valid.y_names[0]] = y_train_os\n",
        "df_os"
      ],
      "execution_count": 0,
      "outputs": [
        {
          "output_type": "execute_result",
          "data": {
            "text/html": [
              "<div>\n",
              "<style scoped>\n",
              "    .dataframe tbody tr th:only-of-type {\n",
              "        vertical-align: middle;\n",
              "    }\n",
              "\n",
              "    .dataframe tbody tr th {\n",
              "        vertical-align: top;\n",
              "    }\n",
              "\n",
              "    .dataframe thead th {\n",
              "        text-align: right;\n",
              "    }\n",
              "</style>\n",
              "<table border=\"1\" class=\"dataframe\">\n",
              "  <thead>\n",
              "    <tr style=\"text-align: right;\">\n",
              "      <th></th>\n",
              "      <th>age</th>\n",
              "      <th>fnlwgt</th>\n",
              "      <th>education-num</th>\n",
              "      <th>salary</th>\n",
              "    </tr>\n",
              "  </thead>\n",
              "  <tbody>\n",
              "    <tr>\n",
              "      <th>0</th>\n",
              "      <td>0.765119</td>\n",
              "      <td>-0.840988</td>\n",
              "      <td>0.756665</td>\n",
              "      <td>1</td>\n",
              "    </tr>\n",
              "    <tr>\n",
              "      <th>1</th>\n",
              "      <td>0.398825</td>\n",
              "      <td>0.450162</td>\n",
              "      <td>1.541799</td>\n",
              "      <td>1</td>\n",
              "    </tr>\n",
              "    <tr>\n",
              "      <th>2</th>\n",
              "      <td>-0.040727</td>\n",
              "      <td>-0.731089</td>\n",
              "      <td>1.934366</td>\n",
              "      <td>1</td>\n",
              "    </tr>\n",
              "    <tr>\n",
              "      <th>3</th>\n",
              "      <td>0.252308</td>\n",
              "      <td>-1.022353</td>\n",
              "      <td>-0.028469</td>\n",
              "      <td>0</td>\n",
              "    </tr>\n",
              "    <tr>\n",
              "      <th>4</th>\n",
              "      <td>-0.113986</td>\n",
              "      <td>-0.482319</td>\n",
              "      <td>-1.206170</td>\n",
              "      <td>0</td>\n",
              "    </tr>\n",
              "    <tr>\n",
              "      <th>...</th>\n",
              "      <td>...</td>\n",
              "      <td>...</td>\n",
              "      <td>...</td>\n",
              "      <td>...</td>\n",
              "    </tr>\n",
              "    <tr>\n",
              "      <th>39545</th>\n",
              "      <td>-0.113986</td>\n",
              "      <td>3.988245</td>\n",
              "      <td>1.149232</td>\n",
              "      <td>1</td>\n",
              "    </tr>\n",
              "    <tr>\n",
              "      <th>39546</th>\n",
              "      <td>-0.626797</td>\n",
              "      <td>1.751237</td>\n",
              "      <td>0.364098</td>\n",
              "      <td>1</td>\n",
              "    </tr>\n",
              "    <tr>\n",
              "      <th>39547</th>\n",
              "      <td>-0.700055</td>\n",
              "      <td>1.929084</td>\n",
              "      <td>0.364098</td>\n",
              "      <td>1</td>\n",
              "    </tr>\n",
              "    <tr>\n",
              "      <th>39548</th>\n",
              "      <td>1.644223</td>\n",
              "      <td>-1.520256</td>\n",
              "      <td>-0.421036</td>\n",
              "      <td>1</td>\n",
              "    </tr>\n",
              "    <tr>\n",
              "      <th>39549</th>\n",
              "      <td>0.325566</td>\n",
              "      <td>-0.694679</td>\n",
              "      <td>1.934366</td>\n",
              "      <td>1</td>\n",
              "    </tr>\n",
              "  </tbody>\n",
              "</table>\n",
              "<p>39550 rows × 4 columns</p>\n",
              "</div>"
            ],
            "text/plain": [
              "            age    fnlwgt  education-num  salary\n",
              "0      0.765119 -0.840988       0.756665       1\n",
              "1      0.398825  0.450162       1.541799       1\n",
              "2     -0.040727 -0.731089       1.934366       1\n",
              "3      0.252308 -1.022353      -0.028469       0\n",
              "4     -0.113986 -0.482319      -1.206170       0\n",
              "...         ...       ...            ...     ...\n",
              "39545 -0.113986  3.988245       1.149232       1\n",
              "39546 -0.626797  1.751237       0.364098       1\n",
              "39547 -0.700055  1.929084       0.364098       1\n",
              "39548  1.644223 -1.520256      -0.421036       1\n",
              "39549  0.325566 -0.694679       1.934366       1\n",
              "\n",
              "[39550 rows x 4 columns]"
            ]
          },
          "metadata": {
            "tags": []
          },
          "execution_count": 108
        }
      ]
    },
    {
      "cell_type": "code",
      "metadata": {
        "colab_type": "code",
        "outputId": "7147bcdc-0ef2-4b94-99bf-a11b9421d6b3",
        "id": "uq_UHu0y4NIt",
        "colab": {
          "base_uri": "https://localhost:8080/",
          "height": 34
        }
      },
      "source": [
        "dl_train_original = dls.train # keep it in case you want to come back to the original setup later\n",
        "dls.train.n"
      ],
      "execution_count": 0,
      "outputs": [
        {
          "output_type": "execute_result",
          "data": {
            "text/plain": [
              "26048"
            ]
          },
          "metadata": {
            "tags": []
          },
          "execution_count": 109
        }
      ]
    },
    {
      "cell_type": "code",
      "metadata": {
        "colab_type": "code",
        "outputId": "d6dd325d-5a6e-45ed-932b-f9610794b9aa",
        "id": "5QGYrLtL4NI4",
        "colab": {
          "base_uri": "https://localhost:8080/",
          "height": 34
        }
      },
      "source": [
        "dl_train_os = dls.train.new(dls.train.dataset.new(df_os))\n",
        "dls.train = dl_train_os\n",
        "dls.train.n"
      ],
      "execution_count": 0,
      "outputs": [
        {
          "output_type": "execute_result",
          "data": {
            "text/plain": [
              "39550"
            ]
          },
          "metadata": {
            "tags": []
          },
          "execution_count": 110
        }
      ]
    },
    {
      "cell_type": "code",
      "metadata": {
        "colab_type": "code",
        "outputId": "8c280180-82f8-4aca-f5ac-ebfd9060b836",
        "id": "Wr56WZrz4NJG",
        "colab": {
          "base_uri": "https://localhost:8080/",
          "height": 300
        }
      },
      "source": [
        "learn_os = tabular_learner(dls, metrics=learn.metrics)\n",
        "learn_os.lr_find()"
      ],
      "execution_count": 0,
      "outputs": [
        {
          "output_type": "display_data",
          "data": {
            "text/html": [
              ""
            ],
            "text/plain": [
              "<IPython.core.display.HTML object>"
            ]
          },
          "metadata": {
            "tags": []
          }
        },
        {
          "output_type": "execute_result",
          "data": {
            "text/plain": [
              "SuggestedLRs(lr_min=0.003981071710586548, lr_steep=0.0014454397605732083)"
            ]
          },
          "metadata": {
            "tags": []
          },
          "execution_count": 113
        },
        {
          "output_type": "display_data",
          "data": {
            "image/png": "[encoded data removed]",
            "text/plain": [
              "<Figure size 432x288 with 1 Axes>"
            ]
          },
          "metadata": {
            "tags": [],
            "needs_background": "light"
          }
        }
      ]
    },
    {
      "cell_type": "code",
      "metadata": {
        "colab_type": "code",
        "outputId": "838b468d-d561-460a-83fb-ded88c2e489f",
        "id": "DSd5DpZM4NJQ",
        "colab": {
          "base_uri": "https://localhost:8080/",
          "height": 901
        }
      },
      "source": [
        "learn_os.fit_one_cycle(n_epoch=10, lr_max=5e-3)\n",
        "learn_os.recorder.plot_loss()\n",
        "interp = ClassificationInterpretation.from_learner(learn_os)\n",
        "interp.plot_confusion_matrix()"
      ],
      "execution_count": 0,
      "outputs": [
        {
          "output_type": "display_data",
          "data": {
            "text/html": [
              "<table border=\"1\" class=\"dataframe\">\n",
              "  <thead>\n",
              "    <tr style=\"text-align: left;\">\n",
              "      <th>epoch</th>\n",
              "      <th>train_loss</th>\n",
              "      <th>valid_loss</th>\n",
              "      <th>accuracy</th>\n",
              "      <th>recall_score</th>\n",
              "      <th>fbeta_score</th>\n",
              "      <th>time</th>\n",
              "    </tr>\n",
              "  </thead>\n",
              "  <tbody>\n",
              "    <tr>\n",
              "      <td>0</td>\n",
              "      <td>0.575081</td>\n",
              "      <td>0.564364</td>\n",
              "      <td>0.658376</td>\n",
              "      <td>0.805485</td>\n",
              "      <td>0.667901</td>\n",
              "      <td>00:00</td>\n",
              "    </tr>\n",
              "    <tr>\n",
              "      <td>1</td>\n",
              "      <td>0.551133</td>\n",
              "      <td>0.559983</td>\n",
              "      <td>0.674497</td>\n",
              "      <td>0.814413</td>\n",
              "      <td>0.680849</td>\n",
              "      <td>00:00</td>\n",
              "    </tr>\n",
              "    <tr>\n",
              "      <td>2</td>\n",
              "      <td>0.543582</td>\n",
              "      <td>0.528180</td>\n",
              "      <td>0.697374</td>\n",
              "      <td>0.782526</td>\n",
              "      <td>0.672034</td>\n",
              "      <td>00:00</td>\n",
              "    </tr>\n",
              "    <tr>\n",
              "      <td>3</td>\n",
              "      <td>0.539901</td>\n",
              "      <td>0.535985</td>\n",
              "      <td>0.705512</td>\n",
              "      <td>0.772321</td>\n",
              "      <td>0.669505</td>\n",
              "      <td>00:00</td>\n",
              "    </tr>\n",
              "    <tr>\n",
              "      <td>4</td>\n",
              "      <td>0.536836</td>\n",
              "      <td>0.540985</td>\n",
              "      <td>0.692615</td>\n",
              "      <td>0.792730</td>\n",
              "      <td>0.676131</td>\n",
              "      <td>00:00</td>\n",
              "    </tr>\n",
              "    <tr>\n",
              "      <td>5</td>\n",
              "      <td>0.535112</td>\n",
              "      <td>0.522448</td>\n",
              "      <td>0.709351</td>\n",
              "      <td>0.767219</td>\n",
              "      <td>0.668111</td>\n",
              "      <td>00:00</td>\n",
              "    </tr>\n",
              "    <tr>\n",
              "      <td>6</td>\n",
              "      <td>0.534472</td>\n",
              "      <td>0.553300</td>\n",
              "      <td>0.671887</td>\n",
              "      <td>0.823980</td>\n",
              "      <td>0.685411</td>\n",
              "      <td>00:00</td>\n",
              "    </tr>\n",
              "    <tr>\n",
              "      <td>7</td>\n",
              "      <td>0.532014</td>\n",
              "      <td>0.547793</td>\n",
              "      <td>0.689851</td>\n",
              "      <td>0.805485</td>\n",
              "      <td>0.682703</td>\n",
              "      <td>00:00</td>\n",
              "    </tr>\n",
              "    <tr>\n",
              "      <td>8</td>\n",
              "      <td>0.531505</td>\n",
              "      <td>0.544454</td>\n",
              "      <td>0.690465</td>\n",
              "      <td>0.805485</td>\n",
              "      <td>0.682998</td>\n",
              "      <td>00:00</td>\n",
              "    </tr>\n",
              "    <tr>\n",
              "      <td>9</td>\n",
              "      <td>0.531096</td>\n",
              "      <td>0.543825</td>\n",
              "      <td>0.692922</td>\n",
              "      <td>0.800383</td>\n",
              "      <td>0.681029</td>\n",
              "      <td>00:00</td>\n",
              "    </tr>\n",
              "  </tbody>\n",
              "</table>"
            ],
            "text/plain": [
              "<IPython.core.display.HTML object>"
            ]
          },
          "metadata": {
            "tags": []
          }
        },
        {
          "output_type": "display_data",
          "data": {
            "text/html": [
              ""
            ],
            "text/plain": [
              "<IPython.core.display.HTML object>"
            ]
          },
          "metadata": {
            "tags": []
          }
        },
        {
          "output_type": "display_data",
          "data": {
            "image/png": "[encoded data removed]",
            "text/plain": [
              "<Figure size 432x288 with 1 Axes>"
            ]
          },
          "metadata": {
            "tags": [],
            "needs_background": "light"
          }
        },
        {
          "output_type": "display_data",
          "data": {
            "image/png": "[encoded data removed]",
            "text/plain": [
              "<Figure size 432x288 with 1 Axes>"
            ]
          },
          "metadata": {
            "tags": [],
            "needs_background": "light"
          }
        }
      ]
    },
    {
      "cell_type": "code",
      "metadata": {
        "id": "z6_TRTP85KcF",
        "colab_type": "code",
        "outputId": "0cb894fd-a56d-4c4f-ea82-1ecdd0fed234",
        "colab": {
          "base_uri": "https://localhost:8080/",
          "height": 51
        }
      },
      "source": [
        "res_os = learn_os.final_record\n",
        "print(f'Original performance: acc= {res[1]}, recall={res[2]}, f2={res[3]}')\n",
        "print(f'Oversampling performance: acc= {res_os[1]}, recall={res_os[2]}, f2={res_os[3]}')"
      ],
      "execution_count": 0,
      "outputs": [
        {
          "output_type": "stream",
          "text": [
            "Original performance: acc= 0.6989098787307739, recall=0.7799744897959183, f2=0.6711667215453848\n",
            "Oversampling performance: acc= 0.6929218769073486, recall=0.8003826530612245, f2=0.6810288691122206\n"
          ],
          "name": "stdout"
        }
      ]
    },
    {
      "cell_type": "markdown",
      "metadata": {
        "id": "o7dOzIdN5Eeq",
        "colab_type": "text"
      },
      "source": [
        "Our results are not much better in terms of the variables of interest, and there seems to be a bit of overfitting in terms of the validation loss."
      ]
    }
  ]
}