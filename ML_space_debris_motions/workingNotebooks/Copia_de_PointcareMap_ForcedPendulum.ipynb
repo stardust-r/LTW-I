{
  "nbformat": 4,
  "nbformat_minor": 0,
  "metadata": {
    "colab": {
      "name": "Copia de PointcareMap_ForcedPendulum.ipynb",
      "provenance": []
    },
    "kernelspec": {
      "name": "python3",
      "display_name": "Python 3"
    }
  },
  "cells": [
    {
      "cell_type": "markdown",
      "metadata": {
        "id": "cuAkDlwVQN4X",
        "colab_type": "text"
      },
      "source": [
        ""
      ]
    },
    {
      "cell_type": "code",
      "metadata": {
        "id": "PXSPfECzQkQG",
        "colab_type": "code",
        "colab": {}
      },
      "source": [
        "import numpy as np\n",
        "import math\n",
        "from scipy.integrate import solve_ivp\n",
        "import matplotlib.pyplot as plt\n"
      ],
      "execution_count": 0,
      "outputs": []
    },
    {
      "cell_type": "code",
      "metadata": {
        "id": "Z3iDXgiIRGJc",
        "colab_type": "code",
        "colab": {}
      },
      "source": [
        "PI = math.pi\n",
        "TWOPI = math.pi * 2"
      ],
      "execution_count": 0,
      "outputs": []
    },
    {
      "cell_type": "markdown",
      "metadata": {
        "id": "tGbDpMUIQ1Cs",
        "colab_type": "text"
      },
      "source": [
        "We define our dynamics"
      ]
    },
    {
      "cell_type": "code",
      "metadata": {
        "id": "V36APv5PQCeo",
        "colab_type": "code",
        "colab": {}
      },
      "source": [
        "def fx(x0, y0, t0, h, eps):\n",
        "  # y1 = y0 + h * (-eps * (np.sin(x0)))\n",
        "  y1 = y0 + h * (-eps * (np.sin(x0 - t0)))\n",
        "  x1 = (x0 + h * y1) % TWOPI\n",
        "  t1 = t0 + h\n",
        "\n",
        "  return x1, y1, t1"
      ],
      "execution_count": 0,
      "outputs": []
    },
    {
      "cell_type": "markdown",
      "metadata": {
        "id": "CIEIrhqnRqL1",
        "colab_type": "text"
      },
      "source": [
        "integrate with initial conditions. 3 cases:"
      ]
    },
    {
      "cell_type": "code",
      "metadata": {
        "id": "516pbwYjRrRz",
        "colab_type": "code",
        "colab": {}
      },
      "source": [
        "# rotational motion\n",
        "x0_a = PI\n",
        "y0_a = 1.4\n",
        "t0_a = 0\n",
        "\n",
        "# libration motion\n",
        "x0_b = 0.1\n",
        "y0_b = 1.2\n",
        "t0_b = 0\n",
        "\n",
        "# chaotic motion\n",
        "x0_c = PI\n",
        "y0_c = 0.945\n",
        "t0_c = 0"
      ],
      "execution_count": 0,
      "outputs": []
    },
    {
      "cell_type": "markdown",
      "metadata": {
        "id": "Gpbre02QTnts",
        "colab_type": "text"
      },
      "source": [
        "Integrate"
      ]
    },
    {
      "cell_type": "code",
      "metadata": {
        "id": "xRAfWOvnTm6H",
        "colab_type": "code",
        "colab": {}
      },
      "source": [
        "h = TWOPI / 1e3\n",
        "eps = 0.025\n",
        "xVec = []\n",
        "xVec.append(x0_a)\n",
        "yVec = []\n",
        "yVec.append(y0_a)\n",
        "tVec = []\n",
        "tVec.append(t0_a)\n",
        "poinMap_a = []\n",
        "poinMap_a.append([x0_a, y0_a])\n",
        "\n",
        "for ii in range(200000):\n",
        "  x1, y1, t1 = fx(xVec[-1], yVec[-1], tVec[-1], h, eps)\n",
        "  xVec.append(x1)\n",
        "  yVec.append(y1)\n",
        "  tVec.append(t1)\n",
        "\n",
        "  if ii % 1000 == 0:\n",
        "    poinMap_a.append([x1, y1])\n"
      ],
      "execution_count": 0,
      "outputs": []
    },
    {
      "cell_type": "markdown",
      "metadata": {
        "id": "meSaQi7jV4Ed",
        "colab_type": "text"
      },
      "source": [
        "we plot our rotational motion"
      ]
    },
    {
      "cell_type": "code",
      "metadata": {
        "id": "PZiICVODVXYg",
        "colab_type": "code",
        "outputId": "14fc3086-8063-4585-8cc0-f863ecd40524",
        "colab": {
          "base_uri": "https://localhost:8080/",
          "height": 283
        }
      },
      "source": [
        "plt.scatter(np.array(poinMap_a).T[0], np.array(poinMap_a).T[1])"
      ],
      "execution_count": 0,
      "outputs": [
        {
          "output_type": "execute_result",
          "data": {
            "text/plain": [
              "<matplotlib.collections.PathCollection at 0x7fc97c40f278>"
            ]
          },
          "metadata": {
            "tags": []
          },
          "execution_count": 36
        },
        {
          "output_type": "display_data",
          "data": {
            "image/png": "[encoded data removed]",
            "text/plain": [
              "<Figure size 432x288 with 1 Axes>"
            ]
          },
          "metadata": {
            "tags": [],
            "needs_background": "light"
          }
        }
      ]
    },
    {
      "cell_type": "markdown",
      "metadata": {
        "id": "qkznLXRgWSh1",
        "colab_type": "text"
      },
      "source": [
        ""
      ]
    },
    {
      "cell_type": "code",
      "metadata": {
        "colab_type": "code",
        "id": "eVoMqv5PWG3b",
        "colab": {}
      },
      "source": [
        "h = TWOPI / 1e3\n",
        "eps = 0.025\n",
        "xVec = []\n",
        "xVec.append(x0_b)\n",
        "yVec = []\n",
        "yVec.append(y0_b)\n",
        "tVec = []\n",
        "tVec.append(t0_b)\n",
        "poinMap_b = []\n",
        "poinMap_b.append([x0_b, y0_b])\n",
        "\n",
        "for ii in range(200000):\n",
        "  x1, y1, t1 = fx(xVec[-1], yVec[-1], tVec[-1], h, eps)\n",
        "  xVec.append(x1)\n",
        "  yVec.append(y1)\n",
        "  tVec.append(t1)\n",
        "\n",
        "  if ii % 1000 == 0:\n",
        "    poinMap_b.append([x1, y1])\n"
      ],
      "execution_count": 0,
      "outputs": []
    },
    {
      "cell_type": "code",
      "metadata": {
        "id": "Hnsd-27KWRQe",
        "colab_type": "code",
        "outputId": "73b2a44c-c647-4904-fd2f-5872ca40dbea",
        "colab": {
          "base_uri": "https://localhost:8080/",
          "height": 283
        }
      },
      "source": [
        "plt.scatter(np.array(poinMap_b).T[0], np.array(poinMap_b).T[1])"
      ],
      "execution_count": 0,
      "outputs": [
        {
          "output_type": "execute_result",
          "data": {
            "text/plain": [
              "<matplotlib.collections.PathCollection at 0x7fc97fb81898>"
            ]
          },
          "metadata": {
            "tags": []
          },
          "execution_count": 38
        },
        {
          "output_type": "display_data",
          "data": {
            "image/png": "[encoded data removed]",
            "text/plain": [
              "<Figure size 432x288 with 1 Axes>"
            ]
          },
          "metadata": {
            "tags": [],
            "needs_background": "light"
          }
        }
      ]
    },
    {
      "cell_type": "markdown",
      "metadata": {
        "id": "dl2923qCWR1E",
        "colab_type": "text"
      },
      "source": [
        ""
      ]
    },
    {
      "cell_type": "code",
      "metadata": {
        "colab_type": "code",
        "id": "UE1kAOv_WH88",
        "colab": {}
      },
      "source": [
        "h = TWOPI / 1e3\n",
        "eps = 0.025\n",
        "xVec = []\n",
        "xVec.append(x0_c)\n",
        "yVec = []\n",
        "yVec.append(y0_c)\n",
        "tVec = []\n",
        "tVec.append(t0_c)\n",
        "poinMap_c = []\n",
        "poinMap_c.append([x0_c, y0_c])\n",
        "\n",
        "for ii in range(200000):\n",
        "  x1, y1, t1 = fx(xVec[-1], yVec[-1], tVec[-1], h, eps)\n",
        "  xVec.append(x1)\n",
        "  yVec.append(y1)\n",
        "  tVec.append(t1)\n",
        "\n",
        "  if ii % 1000 == 0:\n",
        "    poinMap_c.append([x1, y1])\n"
      ],
      "execution_count": 0,
      "outputs": []
    },
    {
      "cell_type": "code",
      "metadata": {
        "id": "H1iggddfWW_t",
        "colab_type": "code",
        "outputId": "1ddc8060-f239-4cb7-9fe4-0cf4f8b88087",
        "colab": {
          "base_uri": "https://localhost:8080/",
          "height": 283
        }
      },
      "source": [
        "plt.scatter(np.array(poinMap_c).T[0], np.array(poinMap_c).T[1])"
      ],
      "execution_count": 0,
      "outputs": [
        {
          "output_type": "execute_result",
          "data": {
            "text/plain": [
              "<matplotlib.collections.PathCollection at 0x7fc97c35a278>"
            ]
          },
          "metadata": {
            "tags": []
          },
          "execution_count": 40
        },
        {
          "output_type": "display_data",
          "data": {
            "image/png": "[encoded data removed]",
            "text/plain": [
              "<Figure size 432x288 with 1 Axes>"
            ]
          },
          "metadata": {
            "tags": [],
            "needs_background": "light"
          }
        }
      ]
    },
    {
      "cell_type": "markdown",
      "metadata": {
        "id": "tTKdasZ5XO0l",
        "colab_type": "text"
      },
      "source": [
        "all together"
      ]
    },
    {
      "cell_type": "code",
      "metadata": {
        "id": "WyLAGyJGXQXh",
        "colab_type": "code",
        "outputId": "349fc672-a007-4a68-d36f-265d9db10b13",
        "colab": {
          "base_uri": "https://localhost:8080/",
          "height": 265
        }
      },
      "source": [
        "fig = plt.figure()\n",
        "axis = fig.add_subplot(111)\n",
        "axis.scatter(np.array(poinMap_a).T[0], np.array(poinMap_a).T[1], c=\"r\")\n",
        "axis.scatter(np.array(poinMap_b).T[0], np.array(poinMap_b).T[1], c=\"g\")\n",
        "axis.scatter(np.array(poinMap_c).T[0], np.array(poinMap_c).T[1], c=\"b\")\n",
        "plt.show()"
      ],
      "execution_count": 0,
      "outputs": [
        {
          "output_type": "display_data",
          "data": {
            "image/png": "[encoded data removed]",
            "text/plain": [
              "<Figure size 432x288 with 1 Axes>"
            ]
          },
          "metadata": {
            "tags": [],
            "needs_background": "light"
          }
        }
      ]
    },
    {
      "cell_type": "markdown",
      "metadata": {
        "id": "EvAK-n2KYxtW",
        "colab_type": "text"
      },
      "source": [
        "2nd part"
      ]
    },
    {
      "cell_type": "code",
      "metadata": {
        "id": "eu-S70WzYyvA",
        "colab_type": "code",
        "colab": {}
      },
      "source": [
        "# initial conditions\n",
        "\n",
        "fig = plt.figure()\n",
        "axis = fig.add_subplot(111)\n",
        "%matplotlib inline\n",
        "\n",
        "y0 = []\n",
        "t0 = []\n",
        "x0_a = []\n",
        "x0_b = []\n",
        "x0_c = []\n",
        "x0_d = []\n",
        "\n",
        "for ii in range(1, 10):\n",
        "  x0_a.append(0.1)\n",
        "  y0.append(ii*0.123)\n",
        "  t0.append(0)\n",
        "  x0_b.append(1.1)\n",
        "  x0_c.append(2.1)\n",
        "  x0_d.append(3.1)\n"
      ],
      "execution_count": 0,
      "outputs": []
    },
    {
      "cell_type": "code",
      "metadata": {
        "id": "Rq016e-saYid",
        "colab_type": "code",
        "colab": {}
      },
      "source": [
        "h = TWOPI / 1e3\n",
        "eps = 0.025\n",
        "\n",
        "for jj in range(9):\n",
        "  xVec = []\n",
        "  xVec.append(x0_a[jj])\n",
        "  yVec = []\n",
        "  yVec.append(y0[jj])\n",
        "  tVec = []\n",
        "  tVec.append(t0[jj])\n",
        "  poinMap_a = []\n",
        "  poinMap_a.append([x0_a[jj], y0[jj]])\n",
        "\n",
        "  for ii in range(200000):\n",
        "    x1, y1, t1 = fx(xVec[-1], yVec[-1], tVec[-1], h, eps)\n",
        "    xVec.append(x1)\n",
        "    yVec.append(y1)\n",
        "    tVec.append(t1)\n",
        "\n",
        "    if ii % 1000 == 0:\n",
        "      poinMap_a.append([x1, y1])\n",
        "      \n",
        "  axis.scatter(np.array(poinMap_a).T[0], np.array(poinMap_a).T[1], c=\"r\")"
      ],
      "execution_count": 0,
      "outputs": []
    },
    {
      "cell_type": "code",
      "metadata": {
        "id": "HF3GSM6vbU74",
        "colab_type": "code",
        "colab": {}
      },
      "source": [
        "h = TWOPI / 1e3\n",
        "eps = 0.025\n",
        "\n",
        "for jj in range(9):\n",
        "  xVec = []\n",
        "  xVec.append(x0_b[jj])\n",
        "  yVec = []\n",
        "  yVec.append(y0[jj])\n",
        "  tVec = []\n",
        "  tVec.append(t0[jj])\n",
        "  poinMap_b = []\n",
        "  poinMap_b.append([x0_b[jj], y0[jj]])\n",
        "\n",
        "  for ii in range(200000):\n",
        "    x1, y1, t1 = fx(xVec[-1], yVec[-1], tVec[-1], h, eps)\n",
        "    xVec.append(x1)\n",
        "    yVec.append(y1)\n",
        "    tVec.append(t1)\n",
        "\n",
        "    if ii % 1000 == 0:\n",
        "      poinMap_b.append([x1, y1])\n",
        "\n",
        "  axis.scatter(np.array(poinMap_b).T[0], np.array(poinMap_b).T[1], c=\"g\")"
      ],
      "execution_count": 0,
      "outputs": []
    },
    {
      "cell_type": "code",
      "metadata": {
        "id": "EVsu5SgsbVeb",
        "colab_type": "code",
        "colab": {}
      },
      "source": [
        "h = TWOPI / 1e3\n",
        "eps = 0.025\n",
        "\n",
        "for jj in range(9):\n",
        "  xVec = []\n",
        "  xVec.append(x0_c[jj])\n",
        "  yVec = []\n",
        "  yVec.append(y0[jj])\n",
        "  tVec = []\n",
        "  tVec.append(t0[jj])\n",
        "  poinMap_c = []\n",
        "  poinMap_c.append([x0_c[jj], y0[jj]])\n",
        "\n",
        "  for ii in range(200000):\n",
        "    x1, y1, t1 = fx(xVec[-1], yVec[-1], tVec[-1], h, eps)\n",
        "    xVec.append(x1)\n",
        "    yVec.append(y1)\n",
        "    tVec.append(t1)\n",
        "\n",
        "    if ii % 1000 == 0:\n",
        "      poinMap_c.append([x1, y1])\n",
        "\n",
        "  axis.scatter(np.array(poinMap_c).T[0], np.array(poinMap_c).T[1], c=\"b\")"
      ],
      "execution_count": 0,
      "outputs": []
    },
    {
      "cell_type": "code",
      "metadata": {
        "id": "qIOp7ngLbVwD",
        "colab_type": "code",
        "colab": {}
      },
      "source": [
        "h = TWOPI / 1e3\n",
        "eps = 0.025\n",
        "\n",
        "for jj in range(9):\n",
        "  xVec = []\n",
        "  xVec.append(x0_d[jj])\n",
        "  yVec = []\n",
        "  yVec.append(y0[jj])\n",
        "  tVec = []\n",
        "  tVec.append(t0[jj])\n",
        "  poinMap_d = []\n",
        "  poinMap_d.append([x0_d[jj], y0[jj]])\n",
        "\n",
        "  for ii in range(200000):\n",
        "    x1, y1, t1 = fx(xVec[-1], yVec[-1], tVec[-1], h, eps)\n",
        "    xVec.append(x1)\n",
        "    yVec.append(y1)\n",
        "    tVec.append(t1)\n",
        "\n",
        "    if ii % 1000 == 0:\n",
        "      poinMap_d.append([x1, y1])\n",
        "\n",
        "  axis.scatter(np.array(poinMap_d).T[0], np.array(poinMap_d).T[1], c=\"orange\")"
      ],
      "execution_count": 0,
      "outputs": []
    },
    {
      "cell_type": "code",
      "metadata": {
        "id": "4bdZ2RsWbl4F",
        "colab_type": "code",
        "outputId": "5a0373b4-0064-4894-a8a1-0b56a77e3aba",
        "colab": {
          "base_uri": "https://localhost:8080/",
          "height": 265
        }
      },
      "source": [
        "fig"
      ],
      "execution_count": 0,
      "outputs": [
        {
          "output_type": "execute_result",
          "data": {
            "image/png": "[encoded data removed]",
            "text/plain": [
              "<Figure size 432x288 with 1 Axes>"
            ]
          },
          "metadata": {
            "tags": []
          },
          "execution_count": 47
        }
      ]
    },
    {
      "cell_type": "code",
      "metadata": {
        "id": "alh8OEN4cGb5",
        "colab_type": "code",
        "outputId": "af656353-18f3-4b93-f6bc-82408ca90070",
        "colab": {
          "base_uri": "https://localhost:8080/",
          "height": 35
        }
      },
      "source": [
        "np.array(poinMap_a).shape"
      ],
      "execution_count": 0,
      "outputs": [
        {
          "output_type": "execute_result",
          "data": {
            "text/plain": [
              "(201, 2)"
            ]
          },
          "metadata": {
            "tags": []
          },
          "execution_count": 48
        }
      ]
    }
  ]
}