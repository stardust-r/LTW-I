{
  "nbformat": 4,
  "nbformat_minor": 0,
  "metadata": {
    "colab": {
      "name": "ML_chaos.ipynb",
      "provenance": []
    },
    "kernelspec": {
      "name": "python3",
      "display_name": "Python 3"
    },
    "widgets": {
      "application/vnd.jupyter.widget-state+json": {
        "8499f43dca1c4391a05a2044b7292c3e": {
          "model_module": "@jupyter-widgets/controls",
          "model_name": "HBoxModel",
          "state": {
            "_view_name": "HBoxView",
            "_dom_classes": [],
            "_model_name": "HBoxModel",
            "_view_module": "@jupyter-widgets/controls",
            "_model_module_version": "1.5.0",
            "_view_count": null,
            "_view_module_version": "1.5.0",
            "box_style": "",
            "layout": "IPY_MODEL_bb7e8b284801463fb9a46cc0f6ae7ad5",
            "_model_module": "@jupyter-widgets/controls",
            "children": [
              "IPY_MODEL_3c627545409d455a9c29b2a03ad6cd25",
              "IPY_MODEL_4eee7675bc964bcdb00c71740263e215"
            ]
          }
        },
        "bb7e8b284801463fb9a46cc0f6ae7ad5": {
          "model_module": "@jupyter-widgets/base",
          "model_name": "LayoutModel",
          "state": {
            "_view_name": "LayoutView",
            "grid_template_rows": null,
            "right": null,
            "justify_content": null,
            "_view_module": "@jupyter-widgets/base",
            "overflow": null,
            "_model_module_version": "1.2.0",
            "_view_count": null,
            "flex_flow": null,
            "width": null,
            "min_width": null,
            "border": null,
            "align_items": null,
            "bottom": null,
            "_model_module": "@jupyter-widgets/base",
            "top": null,
            "grid_column": null,
            "overflow_y": null,
            "overflow_x": null,
            "grid_auto_flow": null,
            "grid_area": null,
            "grid_template_columns": null,
            "flex": null,
            "_model_name": "LayoutModel",
            "justify_items": null,
            "grid_row": null,
            "max_height": null,
            "align_content": null,
            "visibility": null,
            "align_self": null,
            "height": null,
            "min_height": null,
            "padding": null,
            "grid_auto_rows": null,
            "grid_gap": null,
            "max_width": null,
            "order": null,
            "_view_module_version": "1.2.0",
            "grid_template_areas": null,
            "object_position": null,
            "object_fit": null,
            "grid_auto_columns": null,
            "margin": null,
            "display": null,
            "left": null
          }
        },
        "3c627545409d455a9c29b2a03ad6cd25": {
          "model_module": "@jupyter-widgets/controls",
          "model_name": "FloatProgressModel",
          "state": {
            "_view_name": "ProgressView",
            "style": "IPY_MODEL_78da92623174496e88f7c884c1070879",
            "_dom_classes": [],
            "description": "100%",
            "_model_name": "FloatProgressModel",
            "bar_style": "success",
            "max": 128,
            "_view_module": "@jupyter-widgets/controls",
            "_model_module_version": "1.5.0",
            "value": 128,
            "_view_count": null,
            "_view_module_version": "1.5.0",
            "orientation": "horizontal",
            "min": 0,
            "description_tooltip": null,
            "_model_module": "@jupyter-widgets/controls",
            "layout": "IPY_MODEL_7ccbff077daf4fb990967b651515bd13"
          }
        },
        "4eee7675bc964bcdb00c71740263e215": {
          "model_module": "@jupyter-widgets/controls",
          "model_name": "HTMLModel",
          "state": {
            "_view_name": "HTMLView",
            "style": "IPY_MODEL_428b1657ae1d46f083a8e27b91977980",
            "_dom_classes": [],
            "description": "",
            "_model_name": "HTMLModel",
            "placeholder": "​",
            "_view_module": "@jupyter-widgets/controls",
            "_model_module_version": "1.5.0",
            "value": " 128/128 [00:04&lt;00:00, 31.78it/s]",
            "_view_count": null,
            "_view_module_version": "1.5.0",
            "description_tooltip": null,
            "_model_module": "@jupyter-widgets/controls",
            "layout": "IPY_MODEL_86f67eec23aa41699e6d6762c0d74238"
          }
        },
        "78da92623174496e88f7c884c1070879": {
          "model_module": "@jupyter-widgets/controls",
          "model_name": "ProgressStyleModel",
          "state": {
            "_view_name": "StyleView",
            "_model_name": "ProgressStyleModel",
            "description_width": "initial",
            "_view_module": "@jupyter-widgets/base",
            "_model_module_version": "1.5.0",
            "_view_count": null,
            "_view_module_version": "1.2.0",
            "bar_color": null,
            "_model_module": "@jupyter-widgets/controls"
          }
        },
        "7ccbff077daf4fb990967b651515bd13": {
          "model_module": "@jupyter-widgets/base",
          "model_name": "LayoutModel",
          "state": {
            "_view_name": "LayoutView",
            "grid_template_rows": null,
            "right": null,
            "justify_content": null,
            "_view_module": "@jupyter-widgets/base",
            "overflow": null,
            "_model_module_version": "1.2.0",
            "_view_count": null,
            "flex_flow": null,
            "width": null,
            "min_width": null,
            "border": null,
            "align_items": null,
            "bottom": null,
            "_model_module": "@jupyter-widgets/base",
            "top": null,
            "grid_column": null,
            "overflow_y": null,
            "overflow_x": null,
            "grid_auto_flow": null,
            "grid_area": null,
            "grid_template_columns": null,
            "flex": null,
            "_model_name": "LayoutModel",
            "justify_items": null,
            "grid_row": null,
            "max_height": null,
            "align_content": null,
            "visibility": null,
            "align_self": null,
            "height": null,
            "min_height": null,
            "padding": null,
            "grid_auto_rows": null,
            "grid_gap": null,
            "max_width": null,
            "order": null,
            "_view_module_version": "1.2.0",
            "grid_template_areas": null,
            "object_position": null,
            "object_fit": null,
            "grid_auto_columns": null,
            "margin": null,
            "display": null,
            "left": null
          }
        },
        "428b1657ae1d46f083a8e27b91977980": {
          "model_module": "@jupyter-widgets/controls",
          "model_name": "DescriptionStyleModel",
          "state": {
            "_view_name": "StyleView",
            "_model_name": "DescriptionStyleModel",
            "description_width": "",
            "_view_module": "@jupyter-widgets/base",
            "_model_module_version": "1.5.0",
            "_view_count": null,
            "_view_module_version": "1.2.0",
            "_model_module": "@jupyter-widgets/controls"
          }
        },
        "86f67eec23aa41699e6d6762c0d74238": {
          "model_module": "@jupyter-widgets/base",
          "model_name": "LayoutModel",
          "state": {
            "_view_name": "LayoutView",
            "grid_template_rows": null,
            "right": null,
            "justify_content": null,
            "_view_module": "@jupyter-widgets/base",
            "overflow": null,
            "_model_module_version": "1.2.0",
            "_view_count": null,
            "flex_flow": null,
            "width": null,
            "min_width": null,
            "border": null,
            "align_items": null,
            "bottom": null,
            "_model_module": "@jupyter-widgets/base",
            "top": null,
            "grid_column": null,
            "overflow_y": null,
            "overflow_x": null,
            "grid_auto_flow": null,
            "grid_area": null,
            "grid_template_columns": null,
            "flex": null,
            "_model_name": "LayoutModel",
            "justify_items": null,
            "grid_row": null,
            "max_height": null,
            "align_content": null,
            "visibility": null,
            "align_self": null,
            "height": null,
            "min_height": null,
            "padding": null,
            "grid_auto_rows": null,
            "grid_gap": null,
            "max_width": null,
            "order": null,
            "_view_module_version": "1.2.0",
            "grid_template_areas": null,
            "object_position": null,
            "object_fit": null,
            "grid_auto_columns": null,
            "margin": null,
            "display": null,
            "left": null
          }
        }
      }
    }
  },
  "cells": [
    {
      "cell_type": "markdown",
      "metadata": {
        "id": "cuAkDlwVQN4X",
        "colab_type": "text"
      },
      "source": [
        ""
      ]
    },
    {
      "cell_type": "code",
      "metadata": {
        "id": "NaIkE68s-Dlw",
        "colab_type": "code",
        "colab": {}
      },
      "source": [
        "!pip install -q fastai2"
      ],
      "execution_count": 0,
      "outputs": []
    },
    {
      "cell_type": "code",
      "metadata": {
        "id": "PXSPfECzQkQG",
        "colab_type": "code",
        "colab": {}
      },
      "source": [
        "import numpy as np\n",
        "import math\n",
        "from scipy.integrate import solve_ivp\n",
        "import matplotlib.pyplot as plt\n",
        "import pandas as pd\n",
        "from fastai2.data.all import *\n",
        "from fastai2.tabular.all import *"
      ],
      "execution_count": 0,
      "outputs": []
    },
    {
      "cell_type": "code",
      "metadata": {
        "id": "Z3iDXgiIRGJc",
        "colab_type": "code",
        "colab": {}
      },
      "source": [
        "PI = math.pi\n",
        "TWOPI = math.pi * 2"
      ],
      "execution_count": 0,
      "outputs": []
    },
    {
      "cell_type": "markdown",
      "metadata": {
        "id": "_2uKhGaMlbPN",
        "colab_type": "text"
      },
      "source": [
        "get data from figures"
      ]
    },
    {
      "cell_type": "code",
      "metadata": {
        "id": "XekL2BkGldKL",
        "colab_type": "code",
        "colab": {}
      },
      "source": [
        "filename_left3 = '/content/left_fig3_index012.plt'\n",
        "df_left3 = pd.read_csv(filename_left3, sep='\\s+',header=None, names=[\"sigma\", \"a\", \"FLI1\", \"FLI2\", \"FLI3\", \"FLI5\", \"FLI10\", \"FLI19\", \"label\"])\n",
        "\n",
        "filename_left9 = '/content/left_fig9_index012.plt'\n",
        "df_left9 = pd.read_csv(filename_left9, sep='\\s+',header=None, names=[\"sigma\", \"a\", \"FLI1\", \"FLI2\", \"FLI3\", \"FLI5\", \"FLI10\", \"FLI19\", \"label\"])\n",
        "\n",
        "filename_right3 = '/content/right_fig3_index012.plt'\n",
        "df_right3 = pd.read_csv(filename_right3, sep='\\s+',header=None, names=[\"sigma\", \"a\", \"FLI1\", \"FLI2\", \"FLI3\", \"FLI5\", \"FLI10\", \"FLI19\", \"label\"])\n",
        "\n",
        "filename_right9 = '/content/right_fig9_index012.plt'\n",
        "df_right9 = pd.read_csv(filename_right9, sep='\\s+',header=None, names=[\"sigma\", \"a\", \"FLI1\", \"FLI2\", \"FLI3\", \"FLI5\", \"FLI10\", \"FLI19\", \"label\"])"
      ],
      "execution_count": 0,
      "outputs": []
    },
    {
      "cell_type": "code",
      "metadata": {
        "id": "Q8waQMk5tfME",
        "colab_type": "code",
        "colab": {
          "base_uri": "https://localhost:8080/",
          "height": 195
        },
        "outputId": "52f398fc-4a68-4d0d-83fe-767cc5df0d2a"
      },
      "source": [
        "df_left3.head()"
      ],
      "execution_count": 181,
      "outputs": [
        {
          "output_type": "execute_result",
          "data": {
            "text/html": [
              "<div>\n",
              "<style scoped>\n",
              "    .dataframe tbody tr th:only-of-type {\n",
              "        vertical-align: middle;\n",
              "    }\n",
              "\n",
              "    .dataframe tbody tr th {\n",
              "        vertical-align: top;\n",
              "    }\n",
              "\n",
              "    .dataframe thead th {\n",
              "        text-align: right;\n",
              "    }\n",
              "</style>\n",
              "<table border=\"1\" class=\"dataframe\">\n",
              "  <thead>\n",
              "    <tr style=\"text-align: right;\">\n",
              "      <th></th>\n",
              "      <th>sigma</th>\n",
              "      <th>a</th>\n",
              "      <th>FLI1</th>\n",
              "      <th>FLI2</th>\n",
              "      <th>FLI3</th>\n",
              "      <th>FLI5</th>\n",
              "      <th>FLI10</th>\n",
              "      <th>FLI19</th>\n",
              "      <th>label</th>\n",
              "    </tr>\n",
              "  </thead>\n",
              "  <tbody>\n",
              "    <tr>\n",
              "      <th>0</th>\n",
              "      <td>-220.0</td>\n",
              "      <td>42120.0</td>\n",
              "      <td>3.415044</td>\n",
              "      <td>3.783702</td>\n",
              "      <td>3.935543</td>\n",
              "      <td>4.153215</td>\n",
              "      <td>4.470386</td>\n",
              "      <td>4.759377</td>\n",
              "      <td>1.0</td>\n",
              "    </tr>\n",
              "    <tr>\n",
              "      <th>1</th>\n",
              "      <td>-216.0</td>\n",
              "      <td>42120.0</td>\n",
              "      <td>3.420663</td>\n",
              "      <td>3.778179</td>\n",
              "      <td>3.920139</td>\n",
              "      <td>4.168725</td>\n",
              "      <td>4.457279</td>\n",
              "      <td>4.746740</td>\n",
              "      <td>1.0</td>\n",
              "    </tr>\n",
              "    <tr>\n",
              "      <th>2</th>\n",
              "      <td>-212.0</td>\n",
              "      <td>42120.0</td>\n",
              "      <td>3.426416</td>\n",
              "      <td>3.768147</td>\n",
              "      <td>3.906649</td>\n",
              "      <td>4.166645</td>\n",
              "      <td>4.446171</td>\n",
              "      <td>4.736115</td>\n",
              "      <td>1.0</td>\n",
              "    </tr>\n",
              "    <tr>\n",
              "      <th>3</th>\n",
              "      <td>-208.0</td>\n",
              "      <td>42120.0</td>\n",
              "      <td>3.431792</td>\n",
              "      <td>3.755950</td>\n",
              "      <td>3.895131</td>\n",
              "      <td>4.156764</td>\n",
              "      <td>4.437114</td>\n",
              "      <td>4.742599</td>\n",
              "      <td>1.0</td>\n",
              "    </tr>\n",
              "    <tr>\n",
              "      <th>4</th>\n",
              "      <td>-204.0</td>\n",
              "      <td>42120.0</td>\n",
              "      <td>3.436535</td>\n",
              "      <td>3.745154</td>\n",
              "      <td>3.885641</td>\n",
              "      <td>4.148871</td>\n",
              "      <td>4.446517</td>\n",
              "      <td>4.738418</td>\n",
              "      <td>1.0</td>\n",
              "    </tr>\n",
              "  </tbody>\n",
              "</table>\n",
              "</div>"
            ],
            "text/plain": [
              "   sigma        a      FLI1      FLI2  ...      FLI5     FLI10     FLI19  label\n",
              "0 -220.0  42120.0  3.415044  3.783702  ...  4.153215  4.470386  4.759377    1.0\n",
              "1 -216.0  42120.0  3.420663  3.778179  ...  4.168725  4.457279  4.746740    1.0\n",
              "2 -212.0  42120.0  3.426416  3.768147  ...  4.166645  4.446171  4.736115    1.0\n",
              "3 -208.0  42120.0  3.431792  3.755950  ...  4.156764  4.437114  4.742599    1.0\n",
              "4 -204.0  42120.0  3.436535  3.745154  ...  4.148871  4.446517  4.738418    1.0\n",
              "\n",
              "[5 rows x 9 columns]"
            ]
          },
          "metadata": {
            "tags": []
          },
          "execution_count": 181
        }
      ]
    },
    {
      "cell_type": "markdown",
      "metadata": {
        "id": "_JxMcdFkq01O",
        "colab_type": "text"
      },
      "source": [
        "we label chaotic behaviour like 1 and others like 0"
      ]
    },
    {
      "cell_type": "code",
      "metadata": {
        "id": "05QPS8FfnN8x",
        "colab_type": "code",
        "colab": {}
      },
      "source": [
        "for index, item in enumerate(df_left3[\"label\"]):\n",
        "  if item == 1 or item == 2:\n",
        "    df_left3[\"label\"][index] = 0 # regular\n",
        "  elif item == 0:\n",
        "    df_left3[\"label\"][index] = 1 # chaotic\n",
        "\n",
        "for index, item in enumerate(df_left9[\"label\"]):\n",
        "  if item == 1 or item == 2:\n",
        "    df_left9[\"label\"][index] = 0 # regular\n",
        "  elif item == 0:\n",
        "    df_left9[\"label\"][index] = 1 # chaotic\n",
        "\n",
        "for index, item in enumerate(df_right3[\"label\"]):\n",
        "  if item == 1 or item == 2:\n",
        "    df_right3[\"label\"][index] = 0 # regular\n",
        "  elif item == 0:\n",
        "    df_right3[\"label\"][index] = 1 # chaotic\n",
        "\n",
        "for index, item in enumerate(df_right9[\"label\"]):\n",
        "  if item == 1 or item == 2:\n",
        "    df_right9[\"label\"][index] = 0 # regular\n",
        "  elif item == 0:\n",
        "    df_right9[\"label\"][index] = 1 # chaotic"
      ],
      "execution_count": 0,
      "outputs": []
    },
    {
      "cell_type": "code",
      "metadata": {
        "id": "3oP7aA8lojHm",
        "colab_type": "code",
        "colab": {
          "base_uri": "https://localhost:8080/",
          "height": 298
        },
        "outputId": "931d6a78-ede2-4fc4-8b3d-9e511c65bff4"
      },
      "source": [
        "df_left3[\"label\"].hist()\n",
        "plt.title('1:1 resonance  J2 and J22')"
      ],
      "execution_count": 183,
      "outputs": [
        {
          "output_type": "execute_result",
          "data": {
            "text/plain": [
              "Text(0.5, 1.0, '1:1 resonance  J2 and J22')"
            ]
          },
          "metadata": {
            "tags": []
          },
          "execution_count": 183
        },
        {
          "output_type": "display_data",
          "data": {
            "image/png": "[encoded data removed]",
            "text/plain": [
              "<Figure size 432x288 with 1 Axes>"
            ]
          },
          "metadata": {
            "tags": [],
            "needs_background": "light"
          }
        }
      ]
    },
    {
      "cell_type": "code",
      "metadata": {
        "id": "QdfzN3lUqkdW",
        "colab_type": "code",
        "colab": {
          "base_uri": "https://localhost:8080/",
          "height": 298
        },
        "outputId": "03e928c3-25a1-4ca6-d963-8e700957a8f7"
      },
      "source": [
        "df_left9[\"label\"].hist()\n",
        "plt.title('2:1 resonance  e=0.1')"
      ],
      "execution_count": 184,
      "outputs": [
        {
          "output_type": "execute_result",
          "data": {
            "text/plain": [
              "Text(0.5, 1.0, '2:1 resonance  e=0.1')"
            ]
          },
          "metadata": {
            "tags": []
          },
          "execution_count": 184
        },
        {
          "output_type": "display_data",
          "data": {
            "image/png": "[encoded data removed]",
            "text/plain": [
              "<Figure size 432x288 with 1 Axes>"
            ]
          },
          "metadata": {
            "tags": [],
            "needs_background": "light"
          }
        }
      ]
    },
    {
      "cell_type": "code",
      "metadata": {
        "id": "NpHQUZvRqpFz",
        "colab_type": "code",
        "colab": {
          "base_uri": "https://localhost:8080/",
          "height": 298
        },
        "outputId": "3ce46219-fbda-424b-92d0-d7fefc2d9abf"
      },
      "source": [
        "df_right3[\"label\"].hist()\n",
        "plt.title('1:1 resonance  n=m=3')"
      ],
      "execution_count": 185,
      "outputs": [
        {
          "output_type": "execute_result",
          "data": {
            "text/plain": [
              "Text(0.5, 1.0, '1:1 resonance  n=m=3')"
            ]
          },
          "metadata": {
            "tags": []
          },
          "execution_count": 185
        },
        {
          "output_type": "display_data",
          "data": {
            "image/png": "[encoded data removed]",
            "text/plain": [
              "<Figure size 432x288 with 1 Axes>"
            ]
          },
          "metadata": {
            "tags": [],
            "needs_background": "light"
          }
        }
      ]
    },
    {
      "cell_type": "code",
      "metadata": {
        "id": "aSdEp3Znqphi",
        "colab_type": "code",
        "colab": {
          "base_uri": "https://localhost:8080/",
          "height": 298
        },
        "outputId": "ab026d05-cd82-4f2c-e1fe-556a8b85610a"
      },
      "source": [
        "df_right9[\"label\"].hist()\n",
        "plt.title('2:1 resonance  e=0.5')"
      ],
      "execution_count": 186,
      "outputs": [
        {
          "output_type": "execute_result",
          "data": {
            "text/plain": [
              "Text(0.5, 1.0, '2:1 resonance  e=0.5')"
            ]
          },
          "metadata": {
            "tags": []
          },
          "execution_count": 186
        },
        {
          "output_type": "display_data",
          "data": {
            "image/png": "[encoded data removed]",
            "text/plain": [
              "<Figure size 432x288 with 1 Axes>"
            ]
          },
          "metadata": {
            "tags": [],
            "needs_background": "light"
          }
        }
      ]
    },
    {
      "cell_type": "markdown",
      "metadata": {
        "id": "d7TW22d2sBzy",
        "colab_type": "text"
      },
      "source": [
        "Learner for right 9"
      ]
    },
    {
      "cell_type": "code",
      "metadata": {
        "id": "a5KhrhezuGMQ",
        "colab_type": "code",
        "colab": {}
      },
      "source": [
        "# cont_names = [\"sigma\", \"a\", \"FLI1\", \"FLI2\", \"FLI3\", \"FLI5\", \"FLI10\"]\n",
        "# cont_names = [\"sigma\", \"a\", \"FLI1\", \"FLI2\", \"FLI3\", \"FLI5\"]\n",
        "# cont_names = [\"sigma\", \"a\", \"FLI1\", \"FLI2\", \"FLI3\"]\n",
        "cont_names = [\"sigma\", \"a\", \"FLI1\", \"FLI2\"]\n",
        "# cont_names = [\"sigma\", \"a\", \"FLI1\"]\n",
        "# cont_names = [\"sigma\", \"a\"]\n",
        "dep_var = \"label\""
      ],
      "execution_count": 0,
      "outputs": []
    },
    {
      "cell_type": "code",
      "metadata": {
        "id": "bMEmAleXvHO1",
        "colab_type": "code",
        "colab": {
          "base_uri": "https://localhost:8080/",
          "height": 34
        },
        "outputId": "b6e01686-a064-41ee-8cd9-af290a2e53cf"
      },
      "source": [
        "splitter = TrainTestSplitter(test_size=0.2, stratify=df_right9['label'])\n",
        "splits = splitter(range_of(df_right9))\n",
        "[len(x) for x in splits] # 0 is training, 1 is validation"
      ],
      "execution_count": 801,
      "outputs": [
        {
          "output_type": "execute_result",
          "data": {
            "text/html": [
              "[8160, 2041]"
            ],
            "text/plain": [
              "[8160, 2041]"
            ]
          },
          "metadata": {
            "tags": []
          },
          "execution_count": 801
        }
      ]
    },
    {
      "cell_type": "code",
      "metadata": {
        "id": "fGWVVbeCvNUt",
        "colab_type": "code",
        "colab": {}
      },
      "source": [
        "dls = TabularDataLoaders.from_df(df=df_right9, \n",
        "                           procs=[FillMissing(add_col=False), Normalize], \n",
        "                           cont_names=cont_names, \n",
        "                           y_names=dep_var, \n",
        "                           y_block=CategoryBlock(vocab=['0.0','1.0']), \n",
        "                           valid_idx=splits[1],\n",
        "                           bs=64) # Be careful when copying this bs into your own dataset"
      ],
      "execution_count": 0,
      "outputs": []
    },
    {
      "cell_type": "code",
      "metadata": {
        "id": "wvJAnTxbvteX",
        "colab_type": "code",
        "colab": {
          "base_uri": "https://localhost:8080/",
          "height": 34
        },
        "outputId": "4b1efbd0-5088-4e18-d8b3-f7c4393477e8"
      },
      "source": [
        "dls.train.n, dls.valid.n"
      ],
      "execution_count": 803,
      "outputs": [
        {
          "output_type": "execute_result",
          "data": {
            "text/plain": [
              "(8160, 2041)"
            ]
          },
          "metadata": {
            "tags": []
          },
          "execution_count": 803
        }
      ]
    },
    {
      "cell_type": "code",
      "metadata": {
        "id": "BDNL9YJ8-6EB",
        "colab_type": "code",
        "colab": {
          "base_uri": "https://localhost:8080/",
          "height": 34
        },
        "outputId": "584718b4-37fb-4b66-b770-5095ad02b26f"
      },
      "source": [
        "dls.cont_names"
      ],
      "execution_count": 804,
      "outputs": [
        {
          "output_type": "execute_result",
          "data": {
            "text/plain": [
              "(#4) ['sigma','a','FLI1','FLI2']"
            ]
          },
          "metadata": {
            "tags": []
          },
          "execution_count": 804
        }
      ]
    },
    {
      "cell_type": "code",
      "metadata": {
        "id": "OUP03SS4_AKW",
        "colab_type": "code",
        "colab": {
          "base_uri": "https://localhost:8080/",
          "height": 343
        },
        "outputId": "dd69892e-47cc-487c-c097-987667066f12"
      },
      "source": [
        "dls.valid.show_batch()"
      ],
      "execution_count": 805,
      "outputs": [
        {
          "output_type": "display_data",
          "data": {
            "text/html": [
              "<table border=\"1\" class=\"dataframe\">\n",
              "  <thead>\n",
              "    <tr style=\"text-align: right;\">\n",
              "      <th></th>\n",
              "      <th>sigma</th>\n",
              "      <th>a</th>\n",
              "      <th>FLI1</th>\n",
              "      <th>FLI2</th>\n",
              "      <th>label</th>\n",
              "    </tr>\n",
              "  </thead>\n",
              "  <tbody>\n",
              "    <tr>\n",
              "      <th>0</th>\n",
              "      <td>180.000000</td>\n",
              "      <td>26586.400391</td>\n",
              "      <td>3.779093</td>\n",
              "      <td>4.116316</td>\n",
              "      <td>0.0</td>\n",
              "    </tr>\n",
              "    <tr>\n",
              "      <th>1</th>\n",
              "      <td>75.000000</td>\n",
              "      <td>26557.150391</td>\n",
              "      <td>4.009394</td>\n",
              "      <td>4.484472</td>\n",
              "      <td>1.0</td>\n",
              "    </tr>\n",
              "    <tr>\n",
              "      <th>2</th>\n",
              "      <td>-175.000015</td>\n",
              "      <td>26580.099609</td>\n",
              "      <td>3.878648</td>\n",
              "      <td>4.131017</td>\n",
              "      <td>0.0</td>\n",
              "    </tr>\n",
              "    <tr>\n",
              "      <th>3</th>\n",
              "      <td>-125.000015</td>\n",
              "      <td>26554.900391</td>\n",
              "      <td>3.731694</td>\n",
              "      <td>4.370694</td>\n",
              "      <td>1.0</td>\n",
              "    </tr>\n",
              "    <tr>\n",
              "      <th>4</th>\n",
              "      <td>-80.000000</td>\n",
              "      <td>26572.000000</td>\n",
              "      <td>3.779059</td>\n",
              "      <td>3.788827</td>\n",
              "      <td>1.0</td>\n",
              "    </tr>\n",
              "    <tr>\n",
              "      <th>5</th>\n",
              "      <td>260.000000</td>\n",
              "      <td>26561.199219</td>\n",
              "      <td>3.676811</td>\n",
              "      <td>3.676811</td>\n",
              "      <td>0.0</td>\n",
              "    </tr>\n",
              "    <tr>\n",
              "      <th>6</th>\n",
              "      <td>139.999985</td>\n",
              "      <td>26556.250000</td>\n",
              "      <td>3.875552</td>\n",
              "      <td>3.883302</td>\n",
              "      <td>0.0</td>\n",
              "    </tr>\n",
              "    <tr>\n",
              "      <th>7</th>\n",
              "      <td>-75.000000</td>\n",
              "      <td>26555.349609</td>\n",
              "      <td>3.764816</td>\n",
              "      <td>4.458443</td>\n",
              "      <td>1.0</td>\n",
              "    </tr>\n",
              "    <tr>\n",
              "      <th>8</th>\n",
              "      <td>45.000000</td>\n",
              "      <td>26568.849609</td>\n",
              "      <td>3.680456</td>\n",
              "      <td>3.680456</td>\n",
              "      <td>1.0</td>\n",
              "    </tr>\n",
              "    <tr>\n",
              "      <th>9</th>\n",
              "      <td>-120.000015</td>\n",
              "      <td>26580.099609</td>\n",
              "      <td>4.015913</td>\n",
              "      <td>4.188138</td>\n",
              "      <td>0.0</td>\n",
              "    </tr>\n",
              "  </tbody>\n",
              "</table>"
            ],
            "text/plain": [
              "<IPython.core.display.HTML object>"
            ]
          },
          "metadata": {
            "tags": []
          }
        }
      ]
    },
    {
      "cell_type": "markdown",
      "metadata": {
        "id": "DGeg24ho_PMe",
        "colab_type": "text"
      },
      "source": [
        "# training model"
      ]
    },
    {
      "cell_type": "code",
      "metadata": {
        "id": "cDN0IaaJ_Qt1",
        "colab_type": "code",
        "colab": {}
      },
      "source": [
        "learn = tabular_learner(dls, layers=[100, 50], loss_func=CrossEntropyLossFlat(), metrics=[accuracy])"
      ],
      "execution_count": 0,
      "outputs": []
    },
    {
      "cell_type": "code",
      "metadata": {
        "id": "lW0Ox8Pr_UTt",
        "colab_type": "code",
        "colab": {
          "base_uri": "https://localhost:8080/",
          "height": 554
        },
        "outputId": "39494d60-0818-40b7-d7ae-f4d019832fe0"
      },
      "source": [
        "learn.summary()"
      ],
      "execution_count": 807,
      "outputs": [
        {
          "output_type": "execute_result",
          "data": {
            "text/plain": [
              "TabularModel (Input shape: ['64 x 0', '64 x 4'])\n",
              "================================================================\n",
              "Layer (type)         Output Shape         Param #    Trainable \n",
              "================================================================\n",
              "BatchNorm1d          64 x 4               8          True      \n",
              "________________________________________________________________\n",
              "BatchNorm1d          64 x 4               8          True      \n",
              "________________________________________________________________\n",
              "Linear               64 x 100             400        True      \n",
              "________________________________________________________________\n",
              "ReLU                 64 x 100             0          False     \n",
              "________________________________________________________________\n",
              "BatchNorm1d          64 x 100             200        True      \n",
              "________________________________________________________________\n",
              "Linear               64 x 50              5,000      True      \n",
              "________________________________________________________________\n",
              "ReLU                 64 x 50              0          False     \n",
              "________________________________________________________________\n",
              "Linear               64 x 2               102        True      \n",
              "________________________________________________________________\n",
              "\n",
              "Total params: 5,718\n",
              "Total trainable params: 5,718\n",
              "Total non-trainable params: 0\n",
              "\n",
              "Optimizer used: <function Adam at 0x7f7bc973c158>\n",
              "Loss function: FlattenedLoss of CrossEntropyLoss()\n",
              "\n",
              "Callbacks:\n",
              "  - TrainEvalCallback\n",
              "  - Recorder\n",
              "  - ProgressCallback"
            ]
          },
          "metadata": {
            "tags": []
          },
          "execution_count": 807
        }
      ]
    },
    {
      "cell_type": "code",
      "metadata": {
        "id": "fAqbvX3l_ZTO",
        "colab_type": "code",
        "colab": {
          "base_uri": "https://localhost:8080/",
          "height": 285
        },
        "outputId": "1bfbd840-5ec1-4537-9d09-1b69e4f498a5"
      },
      "source": [
        "suggested_lrs = learn.lr_find()"
      ],
      "execution_count": 808,
      "outputs": [
        {
          "output_type": "display_data",
          "data": {
            "text/html": [
              ""
            ],
            "text/plain": [
              "<IPython.core.display.HTML object>"
            ]
          },
          "metadata": {
            "tags": []
          }
        },
        {
          "output_type": "display_data",
          "data": {
            "image/png": "[encoded data removed]",
            "text/plain": [
              "<Figure size 432x288 with 1 Axes>"
            ]
          },
          "metadata": {
            "tags": [],
            "needs_background": "light"
          }
        }
      ]
    },
    {
      "cell_type": "code",
      "metadata": {
        "id": "LMrQTWevAJW4",
        "colab_type": "code",
        "colab": {}
      },
      "source": [
        "lr = suggested_lrs.lr_steep\n",
        "# lr = suggested_lrs.lr_min"
      ],
      "execution_count": 0,
      "outputs": []
    },
    {
      "cell_type": "code",
      "metadata": {
        "id": "0AVFMw8G_dZU",
        "colab_type": "code",
        "colab": {
          "base_uri": "https://localhost:8080/",
          "height": 443
        },
        "outputId": "b73077ca-c6c9-4051-fb12-6ca5b47dd0e6"
      },
      "source": [
        "learn.fit_one_cycle(n_epoch=5, lr_max=lr)\n",
        "learn.recorder.plot_loss()"
      ],
      "execution_count": 810,
      "outputs": [
        {
          "output_type": "display_data",
          "data": {
            "text/html": [
              "<table border=\"1\" class=\"dataframe\">\n",
              "  <thead>\n",
              "    <tr style=\"text-align: left;\">\n",
              "      <th>epoch</th>\n",
              "      <th>train_loss</th>\n",
              "      <th>valid_loss</th>\n",
              "      <th>accuracy</th>\n",
              "      <th>time</th>\n",
              "    </tr>\n",
              "  </thead>\n",
              "  <tbody>\n",
              "    <tr>\n",
              "      <td>0</td>\n",
              "      <td>0.495942</td>\n",
              "      <td>0.419992</td>\n",
              "      <td>0.789809</td>\n",
              "      <td>00:01</td>\n",
              "    </tr>\n",
              "    <tr>\n",
              "      <td>1</td>\n",
              "      <td>0.452280</td>\n",
              "      <td>0.402768</td>\n",
              "      <td>0.799608</td>\n",
              "      <td>00:01</td>\n",
              "    </tr>\n",
              "    <tr>\n",
              "      <td>2</td>\n",
              "      <td>0.427301</td>\n",
              "      <td>0.397018</td>\n",
              "      <td>0.798628</td>\n",
              "      <td>00:01</td>\n",
              "    </tr>\n",
              "    <tr>\n",
              "      <td>3</td>\n",
              "      <td>0.403943</td>\n",
              "      <td>0.365181</td>\n",
              "      <td>0.829005</td>\n",
              "      <td>00:01</td>\n",
              "    </tr>\n",
              "    <tr>\n",
              "      <td>4</td>\n",
              "      <td>0.383034</td>\n",
              "      <td>0.356974</td>\n",
              "      <td>0.837825</td>\n",
              "      <td>00:01</td>\n",
              "    </tr>\n",
              "  </tbody>\n",
              "</table>"
            ],
            "text/plain": [
              "<IPython.core.display.HTML object>"
            ]
          },
          "metadata": {
            "tags": []
          }
        },
        {
          "output_type": "display_data",
          "data": {
            "image/png": "[encoded data removed]",
            "text/plain": [
              "<Figure size 432x288 with 1 Axes>"
            ]
          },
          "metadata": {
            "tags": [],
            "needs_background": "light"
          }
        }
      ]
    },
    {
      "cell_type": "code",
      "metadata": {
        "id": "Dx6Ue1QqAc7H",
        "colab_type": "code",
        "colab": {}
      },
      "source": [
        "# learn.show_results()"
      ],
      "execution_count": 0,
      "outputs": []
    },
    {
      "cell_type": "code",
      "metadata": {
        "id": "Um5H7ObQAjzc",
        "colab_type": "code",
        "colab": {}
      },
      "source": [
        "def show_top_losses(tab_learner, k=None, largest=True):\n",
        "  interp = Interpretation.from_learner(tab_learner)\n",
        "  top_losses = interp.top_losses(k, largest)\n",
        "  to_top_losses = tab_learner.dls.valid.dataset.iloc[top_losses.indices]\n",
        "  to_top_losses.show()"
      ],
      "execution_count": 0,
      "outputs": []
    },
    {
      "cell_type": "code",
      "metadata": {
        "id": "OBAWGhuyAopw",
        "colab_type": "code",
        "colab": {
          "base_uri": "https://localhost:8080/",
          "height": 343
        },
        "outputId": "1bfa8834-f668-4b9e-caad-f82462e48ef5"
      },
      "source": [
        "show_top_losses(learn, k=10, largest=True)"
      ],
      "execution_count": 813,
      "outputs": [
        {
          "output_type": "display_data",
          "data": {
            "text/html": [
              ""
            ],
            "text/plain": [
              "<IPython.core.display.HTML object>"
            ]
          },
          "metadata": {
            "tags": []
          }
        },
        {
          "output_type": "display_data",
          "data": {
            "text/html": [
              "<table border=\"1\" class=\"dataframe\">\n",
              "  <thead>\n",
              "    <tr style=\"text-align: right;\">\n",
              "      <th></th>\n",
              "      <th>sigma</th>\n",
              "      <th>a</th>\n",
              "      <th>FLI1</th>\n",
              "      <th>FLI2</th>\n",
              "      <th>label</th>\n",
              "    </tr>\n",
              "  </thead>\n",
              "  <tbody>\n",
              "    <tr>\n",
              "      <th>8223</th>\n",
              "      <td>10.000000</td>\n",
              "      <td>26581.449219</td>\n",
              "      <td>3.775902</td>\n",
              "      <td>4.562516</td>\n",
              "      <td>0.0</td>\n",
              "    </tr>\n",
              "    <tr>\n",
              "      <th>2233</th>\n",
              "      <td>-145.000015</td>\n",
              "      <td>26554.900391</td>\n",
              "      <td>3.731517</td>\n",
              "      <td>4.256199</td>\n",
              "      <td>0.0</td>\n",
              "    </tr>\n",
              "    <tr>\n",
              "      <th>2720</th>\n",
              "      <td>270.000000</td>\n",
              "      <td>26556.699219</td>\n",
              "      <td>3.722039</td>\n",
              "      <td>4.154030</td>\n",
              "      <td>0.0</td>\n",
              "    </tr>\n",
              "    <tr>\n",
              "      <th>8077</th>\n",
              "      <td>290.000000</td>\n",
              "      <td>26580.550781</td>\n",
              "      <td>3.951863</td>\n",
              "      <td>4.685473</td>\n",
              "      <td>0.0</td>\n",
              "    </tr>\n",
              "    <tr>\n",
              "      <th>2716</th>\n",
              "      <td>250.000000</td>\n",
              "      <td>26556.699219</td>\n",
              "      <td>3.712585</td>\n",
              "      <td>4.106067</td>\n",
              "      <td>0.0</td>\n",
              "    </tr>\n",
              "    <tr>\n",
              "      <th>7367</th>\n",
              "      <td>275.000000</td>\n",
              "      <td>26577.400391</td>\n",
              "      <td>3.929156</td>\n",
              "      <td>4.643074</td>\n",
              "      <td>0.0</td>\n",
              "    </tr>\n",
              "    <tr>\n",
              "      <th>7314</th>\n",
              "      <td>10.000000</td>\n",
              "      <td>26577.400391</td>\n",
              "      <td>3.690053</td>\n",
              "      <td>3.873088</td>\n",
              "      <td>0.0</td>\n",
              "    </tr>\n",
              "    <tr>\n",
              "      <th>7115</th>\n",
              "      <td>25.000000</td>\n",
              "      <td>26576.500000</td>\n",
              "      <td>3.659233</td>\n",
              "      <td>3.750908</td>\n",
              "      <td>0.0</td>\n",
              "    </tr>\n",
              "    <tr>\n",
              "      <th>2249</th>\n",
              "      <td>-65.000000</td>\n",
              "      <td>26554.900391</td>\n",
              "      <td>3.789002</td>\n",
              "      <td>4.563735</td>\n",
              "      <td>0.0</td>\n",
              "    </tr>\n",
              "    <tr>\n",
              "      <th>7018</th>\n",
              "      <td>45.000000</td>\n",
              "      <td>26576.050781</td>\n",
              "      <td>3.647634</td>\n",
              "      <td>3.788872</td>\n",
              "      <td>0.0</td>\n",
              "    </tr>\n",
              "  </tbody>\n",
              "</table>"
            ],
            "text/plain": [
              "<IPython.core.display.HTML object>"
            ]
          },
          "metadata": {
            "tags": []
          }
        }
      ]
    },
    {
      "cell_type": "code",
      "metadata": {
        "id": "8wynSIvoAtMD",
        "colab_type": "code",
        "colab": {
          "base_uri": "https://localhost:8080/",
          "height": 343
        },
        "outputId": "2bf6984f-7d09-49fd-bea8-d9207be8406c"
      },
      "source": [
        "show_top_losses(learn, k=10, largest=False)"
      ],
      "execution_count": 814,
      "outputs": [
        {
          "output_type": "display_data",
          "data": {
            "text/html": [
              ""
            ],
            "text/plain": [
              "<IPython.core.display.HTML object>"
            ]
          },
          "metadata": {
            "tags": []
          }
        },
        {
          "output_type": "display_data",
          "data": {
            "text/html": [
              "<table border=\"1\" class=\"dataframe\">\n",
              "  <thead>\n",
              "    <tr style=\"text-align: right;\">\n",
              "      <th></th>\n",
              "      <th>sigma</th>\n",
              "      <th>a</th>\n",
              "      <th>FLI1</th>\n",
              "      <th>FLI2</th>\n",
              "      <th>label</th>\n",
              "    </tr>\n",
              "  </thead>\n",
              "  <tbody>\n",
              "    <tr>\n",
              "      <th>10087</th>\n",
              "      <td>240.000000</td>\n",
              "      <td>26589.550781</td>\n",
              "      <td>3.855477</td>\n",
              "      <td>4.159001</td>\n",
              "      <td>0.0</td>\n",
              "    </tr>\n",
              "    <tr>\n",
              "      <th>10084</th>\n",
              "      <td>225.000000</td>\n",
              "      <td>26589.550781</td>\n",
              "      <td>3.827646</td>\n",
              "      <td>4.129758</td>\n",
              "      <td>0.0</td>\n",
              "    </tr>\n",
              "    <tr>\n",
              "      <th>9985</th>\n",
              "      <td>235.000000</td>\n",
              "      <td>26589.099609</td>\n",
              "      <td>3.851391</td>\n",
              "      <td>4.158267</td>\n",
              "      <td>0.0</td>\n",
              "    </tr>\n",
              "    <tr>\n",
              "      <th>9982</th>\n",
              "      <td>220.000000</td>\n",
              "      <td>26589.099609</td>\n",
              "      <td>3.823235</td>\n",
              "      <td>4.129180</td>\n",
              "      <td>0.0</td>\n",
              "    </tr>\n",
              "    <tr>\n",
              "      <th>10080</th>\n",
              "      <td>205.000000</td>\n",
              "      <td>26589.550781</td>\n",
              "      <td>3.799252</td>\n",
              "      <td>4.095995</td>\n",
              "      <td>0.0</td>\n",
              "    </tr>\n",
              "    <tr>\n",
              "      <th>9880</th>\n",
              "      <td>215.000000</td>\n",
              "      <td>26588.650391</td>\n",
              "      <td>3.818676</td>\n",
              "      <td>4.128716</td>\n",
              "      <td>0.0</td>\n",
              "    </tr>\n",
              "    <tr>\n",
              "      <th>10177</th>\n",
              "      <td>185.000000</td>\n",
              "      <td>26590.000000</td>\n",
              "      <td>3.783663</td>\n",
              "      <td>4.084904</td>\n",
              "      <td>0.0</td>\n",
              "    </tr>\n",
              "    <tr>\n",
              "      <th>10176</th>\n",
              "      <td>180.000000</td>\n",
              "      <td>26590.000000</td>\n",
              "      <td>3.781682</td>\n",
              "      <td>4.085180</td>\n",
              "      <td>0.0</td>\n",
              "    </tr>\n",
              "    <tr>\n",
              "      <th>10103</th>\n",
              "      <td>-184.999985</td>\n",
              "      <td>26590.000000</td>\n",
              "      <td>3.780295</td>\n",
              "      <td>4.085943</td>\n",
              "      <td>0.0</td>\n",
              "    </tr>\n",
              "    <tr>\n",
              "      <th>9577</th>\n",
              "      <td>215.000000</td>\n",
              "      <td>26587.300781</td>\n",
              "      <td>3.832926</td>\n",
              "      <td>4.155499</td>\n",
              "      <td>0.0</td>\n",
              "    </tr>\n",
              "  </tbody>\n",
              "</table>"
            ],
            "text/plain": [
              "<IPython.core.display.HTML object>"
            ]
          },
          "metadata": {
            "tags": []
          }
        }
      ]
    },
    {
      "cell_type": "markdown",
      "metadata": {
        "id": "S0b14kP4AyOl",
        "colab_type": "text"
      },
      "source": [
        "# SHAP"
      ]
    },
    {
      "cell_type": "code",
      "metadata": {
        "id": "4Jf25UEnAzRu",
        "colab_type": "code",
        "colab": {}
      },
      "source": [
        "!pip install -q fastshap"
      ],
      "execution_count": 0,
      "outputs": []
    },
    {
      "cell_type": "code",
      "metadata": {
        "id": "Ew73ey2zA3M0",
        "colab_type": "code",
        "colab": {}
      },
      "source": [
        "from fastshap.interp import *"
      ],
      "execution_count": 0,
      "outputs": []
    },
    {
      "cell_type": "code",
      "metadata": {
        "id": "6RuS-MKBA4_v",
        "colab_type": "code",
        "colab": {
          "base_uri": "https://localhost:8080/",
          "height": 66,
          "referenced_widgets": [
            "8499f43dca1c4391a05a2044b7292c3e",
            "bb7e8b284801463fb9a46cc0f6ae7ad5",
            "3c627545409d455a9c29b2a03ad6cd25",
            "4eee7675bc964bcdb00c71740263e215",
            "78da92623174496e88f7c884c1070879",
            "7ccbff077daf4fb990967b651515bd13",
            "428b1657ae1d46f083a8e27b91977980",
            "86f67eec23aa41699e6d6762c0d74238"
          ]
        },
        "outputId": "5ab6b63a-35de-4d91-d9f9-f0286cb9dc11"
      },
      "source": [
        "exp = ShapInterpretation(learn)"
      ],
      "execution_count": 817,
      "outputs": [
        {
          "output_type": "display_data",
          "data": {
            "application/vnd.jupyter.widget-view+json": {
              "model_id": "8499f43dca1c4391a05a2044b7292c3e",
              "version_minor": 0,
              "version_major": 2
            },
            "text/plain": [
              "HBox(children=(FloatProgress(value=0.0, max=128.0), HTML(value='')))"
            ]
          },
          "metadata": {
            "tags": []
          }
        },
        {
          "output_type": "stream",
          "text": [
            "\n"
          ],
          "name": "stdout"
        }
      ]
    },
    {
      "cell_type": "code",
      "metadata": {
        "id": "gtA8SNMnA8aY",
        "colab_type": "code",
        "colab": {
          "base_uri": "https://localhost:8080/",
          "height": 233
        },
        "outputId": "20c36bba-00e6-49a1-9447-37a8b27e8cab"
      },
      "source": [
        "exp.summary_plot()"
      ],
      "execution_count": 818,
      "outputs": [
        {
          "output_type": "display_data",
          "data": {
            "image/png": "[encoded data removed]",
            "text/plain": [
              "<Figure size 576x223.2 with 1 Axes>"
            ]
          },
          "metadata": {
            "tags": [],
            "needs_background": "light"
          }
        }
      ]
    },
    {
      "cell_type": "code",
      "metadata": {
        "id": "t-8aIrdMA_HN",
        "colab_type": "code",
        "colab": {
          "base_uri": "https://localhost:8080/",
          "height": 370
        },
        "outputId": "d54980a1-2096-4c1d-c174-ec2431e0df58"
      },
      "source": [
        "exp.dependence_plot('sigma', class_id=0, interaction_index='a')"
      ],
      "execution_count": 819,
      "outputs": [
        {
          "output_type": "stream",
          "text": [
            "Classification model detected, displaying score for the class 0.0.\n",
            "(use `class_id` to specify another class)\n"
          ],
          "name": "stdout"
        },
        {
          "output_type": "display_data",
          "data": {
            "image/png": "[encoded data removed]",
            "text/plain": [
              "<Figure size 540x360 with 2 Axes>"
            ]
          },
          "metadata": {
            "tags": [],
            "needs_background": "light"
          }
        }
      ]
    },
    {
      "cell_type": "code",
      "metadata": {
        "id": "NAZhpdFXBjzt",
        "colab_type": "code",
        "colab": {
          "base_uri": "https://localhost:8080/",
          "height": 311
        },
        "outputId": "446a7127-43df-4303-c7f2-366c9efdebf8"
      },
      "source": [
        "interp = ClassificationInterpretation.from_learner(learn)\n",
        "interp.plot_confusion_matrix()"
      ],
      "execution_count": 820,
      "outputs": [
        {
          "output_type": "display_data",
          "data": {
            "text/html": [
              ""
            ],
            "text/plain": [
              "<IPython.core.display.HTML object>"
            ]
          },
          "metadata": {
            "tags": []
          }
        },
        {
          "output_type": "display_data",
          "data": {
            "image/png": "[encoded data removed]",
            "text/plain": [
              "<Figure size 432x288 with 1 Axes>"
            ]
          },
          "metadata": {
            "tags": [],
            "needs_background": "light"
          }
        }
      ]
    },
    {
      "cell_type": "code",
      "metadata": {
        "id": "u32faMcoBq3j",
        "colab_type": "code",
        "colab": {
          "base_uri": "https://localhost:8080/",
          "height": 311
        },
        "outputId": "da3afb04-e768-4140-bcc6-b3071c68dc4d"
      },
      "source": [
        "interp.plot_confusion_matrix(normalize=True)"
      ],
      "execution_count": 821,
      "outputs": [
        {
          "output_type": "display_data",
          "data": {
            "image/png": "[encoded data removed]",
            "text/plain": [
              "<Figure size 432x288 with 1 Axes>"
            ]
          },
          "metadata": {
            "tags": [],
            "needs_background": "light"
          }
        }
      ]
    },
    {
      "cell_type": "code",
      "metadata": {
        "id": "5o6M3p_4B07F",
        "colab_type": "code",
        "colab": {}
      },
      "source": [
        "recall = Recall(pos_label=1)\n",
        "f2 = FBeta(beta=2, pos_label=1)"
      ],
      "execution_count": 0,
      "outputs": []
    },
    {
      "cell_type": "code",
      "metadata": {
        "id": "ubY_UbiFB8On",
        "colab_type": "code",
        "colab": {
          "base_uri": "https://localhost:8080/",
          "height": 34
        },
        "outputId": "48fe7b84-381b-4c03-bbce-a09f27862636"
      },
      "source": [
        "learn.metrics = [accuracy, recall, f2]\n",
        "[x.name for x in learn.metrics]"
      ],
      "execution_count": 823,
      "outputs": [
        {
          "output_type": "execute_result",
          "data": {
            "text/html": [
              "['accuracy', 'recall_score', 'fbeta_score']"
            ],
            "text/plain": [
              "['accuracy', 'recall_score', 'fbeta_score']"
            ]
          },
          "metadata": {
            "tags": []
          },
          "execution_count": 823
        }
      ]
    },
    {
      "cell_type": "code",
      "metadata": {
        "id": "8o_hVm8qB9qw",
        "colab_type": "code",
        "colab": {
          "base_uri": "https://localhost:8080/",
          "height": 34
        },
        "outputId": "c68b2789-5f21-47a9-93ec-d1883fd8f74f"
      },
      "source": [
        "res = learn.validate()\n",
        "print(f'accuracy={res[1]}, recall={res[2]}, f2={res[3]}')"
      ],
      "execution_count": 824,
      "outputs": [
        {
          "output_type": "display_data",
          "data": {
            "text/html": [
              ""
            ],
            "text/plain": [
              "<IPython.core.display.HTML object>"
            ]
          },
          "metadata": {
            "tags": []
          }
        },
        {
          "output_type": "stream",
          "text": [
            "accuracy=0.8378245830535889, recall=0.9163669064748201, f2=0.8930762489044698\n"
          ],
          "name": "stdout"
        }
      ]
    }
  ]
}