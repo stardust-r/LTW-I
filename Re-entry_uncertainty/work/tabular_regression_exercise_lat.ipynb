{
  "nbformat": 4,
  "nbformat_minor": 0,
  "metadata": {
    "colab": {
      "name": "Copia de tabular_regression_exercise.ipynb",
      "provenance": [],
      "collapsed_sections": [],
      "toc_visible": true
    },
    "kernelspec": {
      "name": "python3",
      "display_name": "Python 3"
    },
    "accelerator": "GPU",
    "widgets": {
      "application/vnd.jupyter.widget-state+json": {
        "b02d46c6f579452baaf560fec51bef5f": {
          "model_module": "@jupyter-widgets/controls",
          "model_name": "HBoxModel",
          "state": {
            "_view_name": "HBoxView",
            "_dom_classes": [],
            "_model_name": "HBoxModel",
            "_view_module": "@jupyter-widgets/controls",
            "_model_module_version": "1.5.0",
            "_view_count": null,
            "_view_module_version": "1.5.0",
            "box_style": "",
            "layout": "IPY_MODEL_f7fb2e838a2d4f4286f0cb1a93466917",
            "_model_module": "@jupyter-widgets/controls",
            "children": [
              "IPY_MODEL_e8926b497f9c483e9a0bca6ba21c9960",
              "IPY_MODEL_fa32fe0fab254ac2a9dcf50ea62f2519"
            ]
          }
        },
        "f7fb2e838a2d4f4286f0cb1a93466917": {
          "model_module": "@jupyter-widgets/base",
          "model_name": "LayoutModel",
          "state": {
            "_view_name": "LayoutView",
            "grid_template_rows": null,
            "right": null,
            "justify_content": null,
            "_view_module": "@jupyter-widgets/base",
            "overflow": null,
            "_model_module_version": "1.2.0",
            "_view_count": null,
            "flex_flow": null,
            "width": null,
            "min_width": null,
            "border": null,
            "align_items": null,
            "bottom": null,
            "_model_module": "@jupyter-widgets/base",
            "top": null,
            "grid_column": null,
            "overflow_y": null,
            "overflow_x": null,
            "grid_auto_flow": null,
            "grid_area": null,
            "grid_template_columns": null,
            "flex": null,
            "_model_name": "LayoutModel",
            "justify_items": null,
            "grid_row": null,
            "max_height": null,
            "align_content": null,
            "visibility": null,
            "align_self": null,
            "height": null,
            "min_height": null,
            "padding": null,
            "grid_auto_rows": null,
            "grid_gap": null,
            "max_width": null,
            "order": null,
            "_view_module_version": "1.2.0",
            "grid_template_areas": null,
            "object_position": null,
            "object_fit": null,
            "grid_auto_columns": null,
            "margin": null,
            "display": null,
            "left": null
          }
        },
        "e8926b497f9c483e9a0bca6ba21c9960": {
          "model_module": "@jupyter-widgets/controls",
          "model_name": "FloatProgressModel",
          "state": {
            "_view_name": "ProgressView",
            "style": "IPY_MODEL_2d6bd51b6ab24582ba60a118caa1e3aa",
            "_dom_classes": [],
            "description": "100%",
            "_model_name": "FloatProgressModel",
            "bar_style": "success",
            "max": 40,
            "_view_module": "@jupyter-widgets/controls",
            "_model_module_version": "1.5.0",
            "value": 40,
            "_view_count": null,
            "_view_module_version": "1.5.0",
            "orientation": "horizontal",
            "min": 0,
            "description_tooltip": null,
            "_model_module": "@jupyter-widgets/controls",
            "layout": "IPY_MODEL_caa579be11464cf4b4d35290374ceb90"
          }
        },
        "fa32fe0fab254ac2a9dcf50ea62f2519": {
          "model_module": "@jupyter-widgets/controls",
          "model_name": "HTMLModel",
          "state": {
            "_view_name": "HTMLView",
            "style": "IPY_MODEL_63baa1d9e68848a89405d82f9c3f1286",
            "_dom_classes": [],
            "description": "",
            "_model_name": "HTMLModel",
            "placeholder": "​",
            "_view_module": "@jupyter-widgets/controls",
            "_model_module_version": "1.5.0",
            "value": " 40/40 [00:06&lt;00:00,  5.76it/s]",
            "_view_count": null,
            "_view_module_version": "1.5.0",
            "description_tooltip": null,
            "_model_module": "@jupyter-widgets/controls",
            "layout": "IPY_MODEL_d997dd53d91b4f4ca6ee21ad86c4d7b2"
          }
        },
        "2d6bd51b6ab24582ba60a118caa1e3aa": {
          "model_module": "@jupyter-widgets/controls",
          "model_name": "ProgressStyleModel",
          "state": {
            "_view_name": "StyleView",
            "_model_name": "ProgressStyleModel",
            "description_width": "initial",
            "_view_module": "@jupyter-widgets/base",
            "_model_module_version": "1.5.0",
            "_view_count": null,
            "_view_module_version": "1.2.0",
            "bar_color": null,
            "_model_module": "@jupyter-widgets/controls"
          }
        },
        "caa579be11464cf4b4d35290374ceb90": {
          "model_module": "@jupyter-widgets/base",
          "model_name": "LayoutModel",
          "state": {
            "_view_name": "LayoutView",
            "grid_template_rows": null,
            "right": null,
            "justify_content": null,
            "_view_module": "@jupyter-widgets/base",
            "overflow": null,
            "_model_module_version": "1.2.0",
            "_view_count": null,
            "flex_flow": null,
            "width": null,
            "min_width": null,
            "border": null,
            "align_items": null,
            "bottom": null,
            "_model_module": "@jupyter-widgets/base",
            "top": null,
            "grid_column": null,
            "overflow_y": null,
            "overflow_x": null,
            "grid_auto_flow": null,
            "grid_area": null,
            "grid_template_columns": null,
            "flex": null,
            "_model_name": "LayoutModel",
            "justify_items": null,
            "grid_row": null,
            "max_height": null,
            "align_content": null,
            "visibility": null,
            "align_self": null,
            "height": null,
            "min_height": null,
            "padding": null,
            "grid_auto_rows": null,
            "grid_gap": null,
            "max_width": null,
            "order": null,
            "_view_module_version": "1.2.0",
            "grid_template_areas": null,
            "object_position": null,
            "object_fit": null,
            "grid_auto_columns": null,
            "margin": null,
            "display": null,
            "left": null
          }
        },
        "63baa1d9e68848a89405d82f9c3f1286": {
          "model_module": "@jupyter-widgets/controls",
          "model_name": "DescriptionStyleModel",
          "state": {
            "_view_name": "StyleView",
            "_model_name": "DescriptionStyleModel",
            "description_width": "",
            "_view_module": "@jupyter-widgets/base",
            "_model_module_version": "1.5.0",
            "_view_count": null,
            "_view_module_version": "1.2.0",
            "_model_module": "@jupyter-widgets/controls"
          }
        },
        "d997dd53d91b4f4ca6ee21ad86c4d7b2": {
          "model_module": "@jupyter-widgets/base",
          "model_name": "LayoutModel",
          "state": {
            "_view_name": "LayoutView",
            "grid_template_rows": null,
            "right": null,
            "justify_content": null,
            "_view_module": "@jupyter-widgets/base",
            "overflow": null,
            "_model_module_version": "1.2.0",
            "_view_count": null,
            "flex_flow": null,
            "width": null,
            "min_width": null,
            "border": null,
            "align_items": null,
            "bottom": null,
            "_model_module": "@jupyter-widgets/base",
            "top": null,
            "grid_column": null,
            "overflow_y": null,
            "overflow_x": null,
            "grid_auto_flow": null,
            "grid_area": null,
            "grid_template_columns": null,
            "flex": null,
            "_model_name": "LayoutModel",
            "justify_items": null,
            "grid_row": null,
            "max_height": null,
            "align_content": null,
            "visibility": null,
            "align_self": null,
            "height": null,
            "min_height": null,
            "padding": null,
            "grid_auto_rows": null,
            "grid_gap": null,
            "max_width": null,
            "order": null,
            "_view_module_version": "1.2.0",
            "grid_template_areas": null,
            "object_position": null,
            "object_fit": null,
            "grid_auto_columns": null,
            "margin": null,
            "display": null,
            "left": null
          }
        }
      }
    }
  },
  "cells": [
    {
      "cell_type": "markdown",
      "metadata": {
        "id": "PiyMMUUY2G1j",
        "colab_type": "text"
      },
      "source": [
        "# Re-entry estimation exercise"
      ]
    },
    {
      "cell_type": "code",
      "metadata": {
        "id": "m-rOjhom3de8",
        "colab_type": "code",
        "colab": {
          "base_uri": "https://localhost:8080/",
          "height": 35
        },
        "outputId": "06725da7-31ad-479c-f82e-ffa6af8a11a9"
      },
      "source": [
        "!pip install -q fastai2"
      ],
      "execution_count": 1,
      "outputs": [
        {
          "output_type": "stream",
          "text": [
            "\u001b[?25l\r\u001b[K     |█▊                              | 10kB 35.7MB/s eta 0:00:01\r\u001b[K     |███▌                            | 20kB 6.3MB/s eta 0:00:01\r\u001b[K     |█████▏                          | 30kB 7.3MB/s eta 0:00:01\r\u001b[K     |███████                         | 40kB 7.8MB/s eta 0:00:01\r\u001b[K     |████████▋                       | 51kB 6.9MB/s eta 0:00:01\r\u001b[K     |██████████▍                     | 61kB 8.1MB/s eta 0:00:01\r\u001b[K     |████████████                    | 71kB 8.6MB/s eta 0:00:01\r\u001b[K     |█████████████▉                  | 81kB 9.5MB/s eta 0:00:01\r\u001b[K     |███████████████▌                | 92kB 8.6MB/s eta 0:00:01\r\u001b[K     |█████████████████▎              | 102kB 9.0MB/s eta 0:00:01\r\u001b[K     |███████████████████             | 112kB 9.0MB/s eta 0:00:01\r\u001b[K     |████████████████████▊           | 122kB 9.0MB/s eta 0:00:01\r\u001b[K     |██████████████████████▍         | 133kB 9.0MB/s eta 0:00:01\r\u001b[K     |████████████████████████▏       | 143kB 9.0MB/s eta 0:00:01\r\u001b[K     |█████████████████████████▉      | 153kB 9.0MB/s eta 0:00:01\r\u001b[K     |███████████████████████████▋    | 163kB 9.0MB/s eta 0:00:01\r\u001b[K     |█████████████████████████████▎  | 174kB 9.0MB/s eta 0:00:01\r\u001b[K     |███████████████████████████████ | 184kB 9.0MB/s eta 0:00:01\r\u001b[K     |████████████████████████████████| 194kB 9.0MB/s \n",
            "\u001b[?25h"
          ],
          "name": "stdout"
        }
      ]
    },
    {
      "cell_type": "code",
      "metadata": {
        "id": "agx7cjXXKbZ6",
        "colab_type": "code",
        "colab": {
          "base_uri": "https://localhost:8080/",
          "height": 35
        },
        "outputId": "a9e79ae6-bc9e-4abf-b891-172f86b75b77"
      },
      "source": [
        "!pip3 install -q bootstrapped"
      ],
      "execution_count": 2,
      "outputs": [
        {
          "output_type": "stream",
          "text": [
            "  Building wheel for bootstrapped (setup.py) ... \u001b[?25l\u001b[?25hdone\n"
          ],
          "name": "stdout"
        }
      ]
    },
    {
      "cell_type": "code",
      "metadata": {
        "id": "UQNhZgVI3t4t",
        "colab_type": "code",
        "colab": {}
      },
      "source": [
        "from fastai2.tabular.all import *"
      ],
      "execution_count": 0,
      "outputs": []
    },
    {
      "cell_type": "code",
      "metadata": {
        "id": "qWLfIlZk3v7Q",
        "colab_type": "code",
        "colab": {}
      },
      "source": [
        "import numpy as np\n",
        "import pandas as pd"
      ],
      "execution_count": 0,
      "outputs": []
    },
    {
      "cell_type": "markdown",
      "metadata": {
        "id": "auGoHfyOapE6",
        "colab_type": "text"
      },
      "source": [
        "This exercise follows the tabular regression model tutorial, but applies it to the problem of predicting values of the re-entry trajectory and ground impact location, based on the uncertanties on initial conditions, object properties and atmospheric characteristics (See Table 1 of the paper attached to the project preview)"
      ]
    },
    {
      "cell_type": "markdown",
      "metadata": {
        "id": "wYutgbte9yA-",
        "colab_type": "text"
      },
      "source": [
        "The outputs of the regression model will be:\n",
        "1. Latitude\n",
        "2. Longitude\n",
        "\n",
        "Since there are more than one output in the regression model, you can either create a single learner that outputs the two variables, or create two different learners, one to predict each of the outputs. In case you go for the first approach, it’s important to scale your dependent variables before the prediction, otherwise the largest one might dominate everything and you end up optimizing your NN for only one of them. Here are two possible scaling tabular processors (instances of the fastai's `TabularProc` class) that you can introduce when creating the dataloader. You can also do this transformations manually in the input dataframe. "
      ]
    },
    {
      "cell_type": "code",
      "metadata": {
        "id": "oM7FKJGxALwM",
        "colab_type": "code",
        "colab": {}
      },
      "source": [
        "class NormalizeDep(TabularProc):\n",
        "    \"Normalize the dependent variables of a TabularPandas object\"\n",
        "    order = 3\n",
        "    def setups(self, dsets): self.y_means,self.y_stds = dsets.ys.mean(),dsets.ys.std(ddof=0)+1e-7\n",
        "    def encodes(self, to): to.ys = (to.ys-self.y_means) / self.y_stds\n",
        "    def decodes(self, to): to.ys = (to.ys*self.y_stds ) + self.y_means"
      ],
      "execution_count": 0,
      "outputs": []
    },
    {
      "cell_type": "code",
      "metadata": {
        "id": "8NS00VqsAbf3",
        "colab_type": "code",
        "colab": {}
      },
      "source": [
        "class LogDep(TabularProc):\n",
        "    \"Log-transform the dependent variables of a TabularPandas object. If \\\n",
        "    there are negative values in any of the variables, a translation is applied \\\n",
        "    first using the minimum value of that variable plus 1\"\n",
        "    order = 3\n",
        "    def setups(self, dsets): self.y_log_translation = [abs(x)+1 if x<=0 else 0 for x in list(dsets.ys.min())]\n",
        "    def encodes(self, to): to.ys = np.log(to.ys + self.y_log_translation)\n",
        "    def decodes(self, to): to.ys = np.exp(to.ys) -self.y_log_translation"
      ],
      "execution_count": 0,
      "outputs": []
    },
    {
      "cell_type": "markdown",
      "metadata": {
        "id": "SkRIuybODFlz",
        "colab_type": "text"
      },
      "source": [
        "More specifically, the tasks you are expected to do in this exercise are:\n",
        "\n",
        "1. Create a regression model based on the data that you've previously generated from the black-box propagation model. You should have at least around 200-300 items to create a proper model.\n",
        "\n",
        "2. Test that model with a big input test set (around 1e6 points), generated from sampling the random input variables.\n",
        "\n",
        "3. Perform an analysis of the most important features in the regression model."
      ]
    },
    {
      "cell_type": "markdown",
      "metadata": {
        "id": "RXPA8RRf_9rJ",
        "colab_type": "text"
      },
      "source": [
        "Remember to use the LTW-I Slack workspace to ask questions and request mentors to your Zoom room. You can also visit the [fastai2 documentation website](https://dev.fast.ai/) for technical troubleshooting if you use fastai2 as ML library. If you are already familiar with any other ML library for training tabular regression models (NNs, tree-based models, SVMs...), you can perfectly use that instead of the one showed in the tutorial, as long as you fulfill the tasks mentioned above."
      ]
    },
    {
      "cell_type": "markdown",
      "metadata": {
        "id": "M17msAIJ1rFZ",
        "colab_type": "text"
      },
      "source": [
        "# Beginning of the exercise for group A"
      ]
    },
    {
      "cell_type": "markdown",
      "metadata": {
        "id": "KLRZY0DM1H_2",
        "colab_type": "text"
      },
      "source": [
        "First, we load teh csv data produced with the MATLAB propagator."
      ]
    },
    {
      "cell_type": "code",
      "metadata": {
        "id": "D_7H5n961i1f",
        "colab_type": "code",
        "colab": {}
      },
      "source": [
        "csvFile = \"data.csv\"\n",
        "pd.read_csv(csvFile)"
      ],
      "execution_count": 0,
      "outputs": []
    },
    {
      "cell_type": "markdown",
      "metadata": {
        "id": "G626F31JHnyc",
        "colab_type": "text"
      },
      "source": [
        "load as .mat file"
      ]
    },
    {
      "cell_type": "code",
      "metadata": {
        "id": "c0-DyG9CHpZu",
        "colab_type": "code",
        "colab": {}
      },
      "source": [
        "import scipy.io as sio\n",
        "data = sio.loadmat(\"Sample_200.mat\")"
      ],
      "execution_count": 0,
      "outputs": []
    },
    {
      "cell_type": "code",
      "metadata": {
        "id": "QxMX5duFIFTh",
        "colab_type": "code",
        "colab": {}
      },
      "source": [
        "samples = pd.DataFrame(data[\"Sample\"], columns=['T_h0', 'T_h20', 'T_h50', 'T_h70', 'T_h90', 'T_h120', 'rho_h0',\n",
        "             'rho_h40', 'rho_h90', 'rho_h120', 'parts_n2', 'cp', 'gamma', 'res',\n",
        "             'mod', 'Xi', 'long', 'lat'])"
      ],
      "execution_count": 0,
      "outputs": []
    },
    {
      "cell_type": "markdown",
      "metadata": {
        "id": "QZDFFtH1__fU",
        "colab_type": "text"
      },
      "source": [
        "## Statistical Measures: Confidence intervals"
      ]
    },
    {
      "cell_type": "code",
      "metadata": {
        "id": "2YQlvF5zAq8m",
        "colab_type": "code",
        "colab": {}
      },
      "source": [
        "import numpy as np\n",
        "import bootstrapped.bootstrap as bs\n",
        "import bootstrapped.stats_functions as bs_stats"
      ],
      "execution_count": 0,
      "outputs": []
    },
    {
      "cell_type": "code",
      "metadata": {
        "id": "iTODnDQGAuC-",
        "colab_type": "code",
        "colab": {}
      },
      "source": [
        "def ComputeStatParam(samples):\n",
        "  # mean\n",
        "  mean = bs.bootstrap(samples, stat_func=bs_stats.mean)\n",
        "\n",
        "  # std\n",
        "  std = bs.bootstrap(samples, stat_func=bs_stats.std)\n",
        "\n",
        "  # # skewness\n",
        "  # skew = bs.bootstrap(samples, stat_func=bs_stats.skew)\n",
        "\n",
        "  # # kurtosis\n",
        "  # kurt = bs.bootstrap(samples, stat_func=bs_stats.kurt)\n",
        "\n",
        "  sumSkew = 0\n",
        "  sumKurt = 0\n",
        "  for item in samples:\n",
        "    sumSkew += (item - mean.value)**3\n",
        "    sumKurt += (item - mean.value)**4\n",
        "\n",
        "  skew = sumSkew / (len(samples) * std.value**3)\n",
        "  kurt = sumKurt / (len(samples) * std.value**4)\n",
        "\n",
        "  # return parameters\n",
        "  return [mean, std, skew, kurt]"
      ],
      "execution_count": 0,
      "outputs": []
    },
    {
      "cell_type": "markdown",
      "metadata": {
        "id": "uZlAwsVX90vK",
        "colab_type": "text"
      },
      "source": [
        "## MC Approach"
      ]
    },
    {
      "cell_type": "code",
      "metadata": {
        "id": "ng2mV_CDKAvY",
        "colab_type": "code",
        "colab": {}
      },
      "source": [
        "statsMC = ComputeStatParam(np.array(samples[\"lat\"]))"
      ],
      "execution_count": 0,
      "outputs": []
    },
    {
      "cell_type": "code",
      "metadata": {
        "id": "D8Ksji9KLfoQ",
        "colab_type": "code",
        "outputId": "773d8dea-7a2d-4557-f782-4f68e2963f5a",
        "colab": {
          "base_uri": "https://localhost:8080/",
          "height": 88
        }
      },
      "source": [
        "statsMC"
      ],
      "execution_count": 11,
      "outputs": [
        {
          "output_type": "execute_result",
          "data": {
            "text/plain": [
              "[49.105226041223794    (48.229480395285734, 49.98190400597762),\n",
              " 6.224626557390092    (5.665015646745401, 6.839887004880882),\n",
              " 0.7965901206658668,\n",
              " 2.863546918575362]"
            ]
          },
          "metadata": {
            "tags": []
          },
          "execution_count": 11
        }
      ]
    },
    {
      "cell_type": "markdown",
      "metadata": {
        "id": "gtnKz-tI9izK",
        "colab_type": "text"
      },
      "source": [
        "## ML Approach"
      ]
    },
    {
      "cell_type": "markdown",
      "metadata": {
        "id": "XFKCkaeG3H_W",
        "colab_type": "text"
      },
      "source": [
        "Normalise the data to account for the different scales in the parameters."
      ]
    },
    {
      "cell_type": "code",
      "metadata": {
        "id": "YQCOExPk3d-W",
        "colab_type": "code",
        "colab": {}
      },
      "source": [
        "# normalise data per columns"
      ],
      "execution_count": 0,
      "outputs": []
    },
    {
      "cell_type": "markdown",
      "metadata": {
        "id": "fFIkGSSx2Sat",
        "colab_type": "text"
      },
      "source": [
        "We will split the ML blocks in two: one for the longitude prediction, and another one for the latitude prediction."
      ]
    },
    {
      "cell_type": "code",
      "metadata": {
        "id": "7Hes_vdb2b8p",
        "colab_type": "code",
        "colab": {}
      },
      "source": [
        "# dependent variable\n",
        "dep_var = 'lat'"
      ],
      "execution_count": 0,
      "outputs": []
    },
    {
      "cell_type": "markdown",
      "metadata": {
        "id": "S_kg1GfG4vGY",
        "colab_type": "text"
      },
      "source": [
        "Independent variables that will be used to predict:"
      ]
    },
    {
      "cell_type": "code",
      "metadata": {
        "id": "qvkCLGRp47HI",
        "colab_type": "code",
        "colab": {}
      },
      "source": [
        "cont_vars = ['T_h0', 'T_h20', 'T_h50', 'T_h70', 'T_h90', 'T_h120', 'rho_h0',\n",
        "             'rho_h40', 'rho_h90', 'rho_h120', 'parts_n2', 'cp', 'gamma', 'res',\n",
        "             'mod', 'Xi']"
      ],
      "execution_count": 0,
      "outputs": []
    },
    {
      "cell_type": "markdown",
      "metadata": {
        "id": "7YmTGrDc5Mpn",
        "colab_type": "text"
      },
      "source": [
        "Create dataloader:"
      ]
    },
    {
      "cell_type": "code",
      "metadata": {
        "id": "kSBZ1OQz5OmB",
        "colab_type": "code",
        "colab": {}
      },
      "source": [
        "dls = TabularDataLoaders.from_df(df=samples, \n",
        "                          #  procs=[FillMissing(add_col=False), Normalize], \n",
        "                           procs=[Normalize],\n",
        "                           cont_names=cont_vars, \n",
        "                           y_names=dep_var, \n",
        "                           y_block=RegressionBlock(), \n",
        "                           valid_pct=0.2,\n",
        "                           bs=20) # play with this"
      ],
      "execution_count": 0,
      "outputs": []
    },
    {
      "cell_type": "code",
      "metadata": {
        "id": "X94i-UNF6hld",
        "colab_type": "code",
        "outputId": "0237ace6-6cd0-425c-bcba-1f9e9961b88d",
        "colab": {
          "base_uri": "https://localhost:8080/",
          "height": 529
        }
      },
      "source": [
        "dls.valid.show_batch()"
      ],
      "execution_count": 16,
      "outputs": [
        {
          "output_type": "display_data",
          "data": {
            "text/html": [
              "<table border=\"1\" class=\"dataframe\">\n",
              "  <thead>\n",
              "    <tr style=\"text-align: right;\">\n",
              "      <th></th>\n",
              "      <th>T_h0</th>\n",
              "      <th>T_h20</th>\n",
              "      <th>T_h50</th>\n",
              "      <th>T_h70</th>\n",
              "      <th>T_h90</th>\n",
              "      <th>T_h120</th>\n",
              "      <th>rho_h0</th>\n",
              "      <th>rho_h40</th>\n",
              "      <th>rho_h90</th>\n",
              "      <th>rho_h120</th>\n",
              "      <th>parts_n2</th>\n",
              "      <th>cp</th>\n",
              "      <th>gamma</th>\n",
              "      <th>res</th>\n",
              "      <th>mod</th>\n",
              "      <th>Xi</th>\n",
              "      <th>lat</th>\n",
              "    </tr>\n",
              "  </thead>\n",
              "  <tbody>\n",
              "    <tr>\n",
              "      <th>0</th>\n",
              "      <td>296.314728</td>\n",
              "      <td>210.614273</td>\n",
              "      <td>295.668915</td>\n",
              "      <td>227.296722</td>\n",
              "      <td>237.728592</td>\n",
              "      <td>381.807343</td>\n",
              "      <td>1.048012</td>\n",
              "      <td>0.003172</td>\n",
              "      <td>0.000004</td>\n",
              "      <td>2.184842e-08</td>\n",
              "      <td>0.790735</td>\n",
              "      <td>1366.478638</td>\n",
              "      <td>-2.339370</td>\n",
              "      <td>7567.810059</td>\n",
              "      <td>204.833221</td>\n",
              "      <td>41.347679</td>\n",
              "      <td>41.595306</td>\n",
              "    </tr>\n",
              "    <tr>\n",
              "      <th>1</th>\n",
              "      <td>287.493866</td>\n",
              "      <td>216.852905</td>\n",
              "      <td>267.351013</td>\n",
              "      <td>210.136398</td>\n",
              "      <td>199.668823</td>\n",
              "      <td>306.405609</td>\n",
              "      <td>1.353495</td>\n",
              "      <td>0.005015</td>\n",
              "      <td>0.000002</td>\n",
              "      <td>1.482851e-08</td>\n",
              "      <td>0.876445</td>\n",
              "      <td>1484.458862</td>\n",
              "      <td>-2.182430</td>\n",
              "      <td>7571.682617</td>\n",
              "      <td>273.124878</td>\n",
              "      <td>40.112301</td>\n",
              "      <td>42.745674</td>\n",
              "    </tr>\n",
              "    <tr>\n",
              "      <th>2</th>\n",
              "      <td>281.728729</td>\n",
              "      <td>218.171707</td>\n",
              "      <td>265.883179</td>\n",
              "      <td>231.864166</td>\n",
              "      <td>136.298538</td>\n",
              "      <td>330.205597</td>\n",
              "      <td>1.240571</td>\n",
              "      <td>0.003855</td>\n",
              "      <td>0.000002</td>\n",
              "      <td>1.578263e-08</td>\n",
              "      <td>0.737538</td>\n",
              "      <td>1489.134766</td>\n",
              "      <td>-1.145471</td>\n",
              "      <td>7605.622070</td>\n",
              "      <td>207.553116</td>\n",
              "      <td>37.271175</td>\n",
              "      <td>51.713295</td>\n",
              "    </tr>\n",
              "    <tr>\n",
              "      <th>3</th>\n",
              "      <td>290.851532</td>\n",
              "      <td>204.896271</td>\n",
              "      <td>266.989441</td>\n",
              "      <td>262.509277</td>\n",
              "      <td>183.848511</td>\n",
              "      <td>407.512970</td>\n",
              "      <td>1.161318</td>\n",
              "      <td>0.002863</td>\n",
              "      <td>0.000003</td>\n",
              "      <td>2.379512e-08</td>\n",
              "      <td>0.869444</td>\n",
              "      <td>1349.667847</td>\n",
              "      <td>-1.692910</td>\n",
              "      <td>7596.274414</td>\n",
              "      <td>281.085663</td>\n",
              "      <td>33.986034</td>\n",
              "      <td>46.745930</td>\n",
              "    </tr>\n",
              "    <tr>\n",
              "      <th>4</th>\n",
              "      <td>274.998016</td>\n",
              "      <td>223.048035</td>\n",
              "      <td>281.199890</td>\n",
              "      <td>258.525024</td>\n",
              "      <td>202.962585</td>\n",
              "      <td>387.520172</td>\n",
              "      <td>1.202120</td>\n",
              "      <td>0.003880</td>\n",
              "      <td>0.000003</td>\n",
              "      <td>2.614702e-08</td>\n",
              "      <td>0.755322</td>\n",
              "      <td>1463.597168</td>\n",
              "      <td>-0.651211</td>\n",
              "      <td>7585.150879</td>\n",
              "      <td>205.752808</td>\n",
              "      <td>39.021729</td>\n",
              "      <td>57.912369</td>\n",
              "    </tr>\n",
              "    <tr>\n",
              "      <th>5</th>\n",
              "      <td>285.147644</td>\n",
              "      <td>222.158447</td>\n",
              "      <td>251.469543</td>\n",
              "      <td>204.543579</td>\n",
              "      <td>191.230942</td>\n",
              "      <td>347.811676</td>\n",
              "      <td>1.316502</td>\n",
              "      <td>0.005178</td>\n",
              "      <td>0.000003</td>\n",
              "      <td>2.341273e-08</td>\n",
              "      <td>0.734689</td>\n",
              "      <td>1316.074951</td>\n",
              "      <td>-2.264034</td>\n",
              "      <td>7638.697754</td>\n",
              "      <td>214.416794</td>\n",
              "      <td>40.783112</td>\n",
              "      <td>42.327168</td>\n",
              "    </tr>\n",
              "    <tr>\n",
              "      <th>6</th>\n",
              "      <td>322.720551</td>\n",
              "      <td>212.127258</td>\n",
              "      <td>303.013611</td>\n",
              "      <td>200.062347</td>\n",
              "      <td>120.821564</td>\n",
              "      <td>374.255157</td>\n",
              "      <td>1.144589</td>\n",
              "      <td>0.004212</td>\n",
              "      <td>0.000004</td>\n",
              "      <td>1.571727e-08</td>\n",
              "      <td>0.761498</td>\n",
              "      <td>1385.415894</td>\n",
              "      <td>-1.484599</td>\n",
              "      <td>7596.285645</td>\n",
              "      <td>298.020081</td>\n",
              "      <td>36.632587</td>\n",
              "      <td>47.852406</td>\n",
              "    </tr>\n",
              "    <tr>\n",
              "      <th>7</th>\n",
              "      <td>270.427063</td>\n",
              "      <td>212.982208</td>\n",
              "      <td>251.475021</td>\n",
              "      <td>236.975708</td>\n",
              "      <td>191.089981</td>\n",
              "      <td>360.235596</td>\n",
              "      <td>1.176936</td>\n",
              "      <td>0.004291</td>\n",
              "      <td>0.000004</td>\n",
              "      <td>2.427257e-08</td>\n",
              "      <td>0.774467</td>\n",
              "      <td>1383.021606</td>\n",
              "      <td>-2.252162</td>\n",
              "      <td>7601.703125</td>\n",
              "      <td>200.818695</td>\n",
              "      <td>40.211964</td>\n",
              "      <td>42.072655</td>\n",
              "    </tr>\n",
              "    <tr>\n",
              "      <th>8</th>\n",
              "      <td>289.846466</td>\n",
              "      <td>208.742233</td>\n",
              "      <td>274.781464</td>\n",
              "      <td>248.215424</td>\n",
              "      <td>216.852783</td>\n",
              "      <td>332.492767</td>\n",
              "      <td>1.332554</td>\n",
              "      <td>0.004045</td>\n",
              "      <td>0.000003</td>\n",
              "      <td>2.277000e-08</td>\n",
              "      <td>0.712158</td>\n",
              "      <td>1372.857422</td>\n",
              "      <td>-1.169109</td>\n",
              "      <td>7612.366211</td>\n",
              "      <td>234.762329</td>\n",
              "      <td>42.864475</td>\n",
              "      <td>50.735577</td>\n",
              "    </tr>\n",
              "    <tr>\n",
              "      <th>9</th>\n",
              "      <td>291.968231</td>\n",
              "      <td>212.979126</td>\n",
              "      <td>262.141571</td>\n",
              "      <td>221.239731</td>\n",
              "      <td>202.473465</td>\n",
              "      <td>340.716034</td>\n",
              "      <td>1.324776</td>\n",
              "      <td>0.003988</td>\n",
              "      <td>0.000003</td>\n",
              "      <td>3.838653e-08</td>\n",
              "      <td>0.793964</td>\n",
              "      <td>1305.582520</td>\n",
              "      <td>-0.873550</td>\n",
              "      <td>7597.560547</td>\n",
              "      <td>264.806427</td>\n",
              "      <td>37.615463</td>\n",
              "      <td>55.427921</td>\n",
              "    </tr>\n",
              "  </tbody>\n",
              "</table>"
            ],
            "text/plain": [
              "<IPython.core.display.HTML object>"
            ]
          },
          "metadata": {
            "tags": []
          }
        }
      ]
    },
    {
      "cell_type": "code",
      "metadata": {
        "id": "ISWuKjzP6iKm",
        "colab_type": "code",
        "colab": {}
      },
      "source": [
        "learn = tabular_learner(dls, loss_func=MSELossFlat())"
      ],
      "execution_count": 0,
      "outputs": []
    },
    {
      "cell_type": "code",
      "metadata": {
        "id": "8PjtORXUMBbG",
        "colab_type": "code",
        "outputId": "373e591c-517d-4125-a19c-670db23e50ea",
        "colab": {
          "base_uri": "https://localhost:8080/",
          "height": 586
        }
      },
      "source": [
        "learn.summary()"
      ],
      "execution_count": 18,
      "outputs": [
        {
          "output_type": "execute_result",
          "data": {
            "text/plain": [
              "TabularModel (Input shape: ['20 x 0', '20 x 16'])\n",
              "================================================================\n",
              "Layer (type)         Output Shape         Param #    Trainable \n",
              "================================================================\n",
              "BatchNorm1d          20 x 16              32         True      \n",
              "________________________________________________________________\n",
              "BatchNorm1d          20 x 16              32         True      \n",
              "________________________________________________________________\n",
              "Linear               20 x 200             3,200      True      \n",
              "________________________________________________________________\n",
              "ReLU                 20 x 200             0          False     \n",
              "________________________________________________________________\n",
              "BatchNorm1d          20 x 200             400        True      \n",
              "________________________________________________________________\n",
              "Linear               20 x 100             20,000     True      \n",
              "________________________________________________________________\n",
              "ReLU                 20 x 100             0          False     \n",
              "________________________________________________________________\n",
              "Linear               20 x 1               101        True      \n",
              "________________________________________________________________\n",
              "\n",
              "Total params: 23,765\n",
              "Total trainable params: 23,765\n",
              "Total non-trainable params: 0\n",
              "\n",
              "Optimizer used: <function Adam at 0x7f932f3f90d0>\n",
              "Loss function: FlattenedLoss of MSELoss()\n",
              "\n",
              "Callbacks:\n",
              "  - TrainEvalCallback\n",
              "  - Recorder\n",
              "  - ProgressCallback"
            ]
          },
          "metadata": {
            "tags": []
          },
          "execution_count": 18
        }
      ]
    },
    {
      "cell_type": "code",
      "metadata": {
        "id": "1es7zTTh7LLG",
        "colab_type": "code",
        "outputId": "f7f398f2-42fe-4055-e61e-58d65aa43097",
        "colab": {
          "base_uri": "https://localhost:8080/",
          "height": 300
        }
      },
      "source": [
        "suggested_lrs = learn.lr_find()\n",
        "suggested_lrs.lr_min"
      ],
      "execution_count": 19,
      "outputs": [
        {
          "output_type": "display_data",
          "data": {
            "text/html": [
              ""
            ],
            "text/plain": [
              "<IPython.core.display.HTML object>"
            ]
          },
          "metadata": {
            "tags": []
          }
        },
        {
          "output_type": "execute_result",
          "data": {
            "text/plain": [
              "0.03630780577659607"
            ]
          },
          "metadata": {
            "tags": []
          },
          "execution_count": 19
        },
        {
          "output_type": "display_data",
          "data": {
            "image/png": "[encoded data removed]",
            "text/plain": [
              "<Figure size 432x288 with 1 Axes>"
            ]
          },
          "metadata": {
            "tags": [],
            "needs_background": "light"
          }
        }
      ]
    },
    {
      "cell_type": "code",
      "metadata": {
        "id": "SQa0vwoz6lp7",
        "colab_type": "code",
        "outputId": "4e005e8b-6acf-4f5d-e693-db9557edbcfe",
        "colab": {
          "base_uri": "https://localhost:8080/",
          "height": 882
        }
      },
      "source": [
        "learn.fit_one_cycle(n_epoch=20, lr_max=suggested_lrs.lr_min)\n",
        "learn.recorder.plot_loss()"
      ],
      "execution_count": 20,
      "outputs": [
        {
          "output_type": "display_data",
          "data": {
            "text/html": [
              "<table border=\"1\" class=\"dataframe\">\n",
              "  <thead>\n",
              "    <tr style=\"text-align: left;\">\n",
              "      <th>epoch</th>\n",
              "      <th>train_loss</th>\n",
              "      <th>valid_loss</th>\n",
              "      <th>time</th>\n",
              "    </tr>\n",
              "  </thead>\n",
              "  <tbody>\n",
              "    <tr>\n",
              "      <td>0</td>\n",
              "      <td>2444.681396</td>\n",
              "      <td>2229.954102</td>\n",
              "      <td>00:00</td>\n",
              "    </tr>\n",
              "    <tr>\n",
              "      <td>1</td>\n",
              "      <td>2262.520996</td>\n",
              "      <td>1722.106689</td>\n",
              "      <td>00:00</td>\n",
              "    </tr>\n",
              "    <tr>\n",
              "      <td>2</td>\n",
              "      <td>1680.936523</td>\n",
              "      <td>165.106659</td>\n",
              "      <td>00:00</td>\n",
              "    </tr>\n",
              "    <tr>\n",
              "      <td>3</td>\n",
              "      <td>1224.368042</td>\n",
              "      <td>175.409485</td>\n",
              "      <td>00:00</td>\n",
              "    </tr>\n",
              "    <tr>\n",
              "      <td>4</td>\n",
              "      <td>916.648315</td>\n",
              "      <td>110.417038</td>\n",
              "      <td>00:00</td>\n",
              "    </tr>\n",
              "    <tr>\n",
              "      <td>5</td>\n",
              "      <td>712.018982</td>\n",
              "      <td>48.785042</td>\n",
              "      <td>00:00</td>\n",
              "    </tr>\n",
              "    <tr>\n",
              "      <td>6</td>\n",
              "      <td>566.470764</td>\n",
              "      <td>79.928383</td>\n",
              "      <td>00:00</td>\n",
              "    </tr>\n",
              "    <tr>\n",
              "      <td>7</td>\n",
              "      <td>456.248260</td>\n",
              "      <td>16.637503</td>\n",
              "      <td>00:00</td>\n",
              "    </tr>\n",
              "    <tr>\n",
              "      <td>8</td>\n",
              "      <td>371.093262</td>\n",
              "      <td>28.186945</td>\n",
              "      <td>00:00</td>\n",
              "    </tr>\n",
              "    <tr>\n",
              "      <td>9</td>\n",
              "      <td>307.227234</td>\n",
              "      <td>27.386921</td>\n",
              "      <td>00:00</td>\n",
              "    </tr>\n",
              "    <tr>\n",
              "      <td>10</td>\n",
              "      <td>254.515427</td>\n",
              "      <td>23.970165</td>\n",
              "      <td>00:00</td>\n",
              "    </tr>\n",
              "    <tr>\n",
              "      <td>11</td>\n",
              "      <td>212.894547</td>\n",
              "      <td>22.961288</td>\n",
              "      <td>00:00</td>\n",
              "    </tr>\n",
              "    <tr>\n",
              "      <td>12</td>\n",
              "      <td>178.883972</td>\n",
              "      <td>21.833866</td>\n",
              "      <td>00:00</td>\n",
              "    </tr>\n",
              "    <tr>\n",
              "      <td>13</td>\n",
              "      <td>151.245712</td>\n",
              "      <td>18.361790</td>\n",
              "      <td>00:00</td>\n",
              "    </tr>\n",
              "    <tr>\n",
              "      <td>14</td>\n",
              "      <td>127.549484</td>\n",
              "      <td>14.191600</td>\n",
              "      <td>00:00</td>\n",
              "    </tr>\n",
              "    <tr>\n",
              "      <td>15</td>\n",
              "      <td>108.070648</td>\n",
              "      <td>18.112152</td>\n",
              "      <td>00:00</td>\n",
              "    </tr>\n",
              "    <tr>\n",
              "      <td>16</td>\n",
              "      <td>92.404404</td>\n",
              "      <td>15.233139</td>\n",
              "      <td>00:00</td>\n",
              "    </tr>\n",
              "    <tr>\n",
              "      <td>17</td>\n",
              "      <td>78.651215</td>\n",
              "      <td>13.782229</td>\n",
              "      <td>00:00</td>\n",
              "    </tr>\n",
              "    <tr>\n",
              "      <td>18</td>\n",
              "      <td>67.103928</td>\n",
              "      <td>13.672373</td>\n",
              "      <td>00:00</td>\n",
              "    </tr>\n",
              "    <tr>\n",
              "      <td>19</td>\n",
              "      <td>57.543385</td>\n",
              "      <td>13.244733</td>\n",
              "      <td>00:00</td>\n",
              "    </tr>\n",
              "  </tbody>\n",
              "</table>"
            ],
            "text/plain": [
              "<IPython.core.display.HTML object>"
            ]
          },
          "metadata": {
            "tags": []
          }
        },
        {
          "output_type": "display_data",
          "data": {
            "image/png": "[encoded data removed]",
            "text/plain": [
              "<Figure size 432x288 with 1 Axes>"
            ]
          },
          "metadata": {
            "tags": [],
            "needs_background": "light"
          }
        }
      ]
    },
    {
      "cell_type": "code",
      "metadata": {
        "id": "MzgMsR8UNVlR",
        "colab_type": "code",
        "colab": {}
      },
      "source": [
        "nCases = 200\n",
        "samplesANN = []\n",
        "\n",
        "for ii in range(nCases):\n",
        "\n",
        "  T_h0 = 280 + 20*np.random.randn() ;\n",
        "  T_h20= 218 + 10*np.random.randn() ;\n",
        "  T_h50= 270 + 20*np.random.randn() ;\n",
        "  T_h70= 216 + 25*np.random.randn() ;\n",
        "  T_h90= 185 + 25*np.random.randn() ;\n",
        "  T_h120 = 360 + 25*np.random.randn() ;\n",
        "\n",
        "  rho_h0 = 1.225 + 0.1*np.random.randn() ;\n",
        "  rho_h40 = 4e-3 + 5e-4*np.random.randn() ;\n",
        "  rho_h90 = 3.5e-6 + 6e-7*np.random.randn() ;\n",
        "  rho_h120 = 2.5e-8 + 5e-9*np.random.randn() ; \n",
        "\n",
        "  parts_n2 = np.random.uniform()*(0.2) + 0.7 ;\n",
        "  cp = np.random.uniform()*200 + 1300 ;\n",
        "  gamma = np.random.uniform()*(-2) - 0.5 ;\n",
        "  res = np.random.uniform()*100 + 7550 ;\n",
        "  mod = np.random.uniform()*100 + 200 ;\n",
        "  Xi = np.random.uniform()*10 + 33 ;\n",
        "\n",
        "  samplesANN.append([T_h0, T_h20, T_h50, T_h70, T_h90, T_h120, rho_h0, rho_h40, rho_h90, rho_h120, parts_n2, cp, gamma, res, mod, Xi])\n",
        "\n",
        "samplesANN = np.array(samplesANN)"
      ],
      "execution_count": 0,
      "outputs": []
    },
    {
      "cell_type": "code",
      "metadata": {
        "id": "XyBgA8asPCuL",
        "colab_type": "code",
        "colab": {}
      },
      "source": [
        "samplesANN = pd.DataFrame(samplesANN, columns=['T_h0', 'T_h20', 'T_h50', 'T_h70', 'T_h90', 'T_h120', 'rho_h0',\n",
        "             'rho_h40', 'rho_h90', 'rho_h120', 'parts_n2', 'cp', 'gamma', 'res',\n",
        "             'mod', 'Xi'])"
      ],
      "execution_count": 0,
      "outputs": []
    },
    {
      "cell_type": "code",
      "metadata": {
        "id": "RlUwJPECO2tV",
        "colab_type": "code",
        "colab": {}
      },
      "source": [
        "dl = learn.dls.test_dl(samplesANN)"
      ],
      "execution_count": 0,
      "outputs": []
    },
    {
      "cell_type": "code",
      "metadata": {
        "id": "1IGyO2mjPS1q",
        "colab_type": "code",
        "outputId": "5aeb16f5-b20d-4087-d210-a3b095cf817f",
        "colab": {
          "base_uri": "https://localhost:8080/",
          "height": 17
        }
      },
      "source": [
        "raw_test_preds = learn.get_preds(dl=dl)\n",
        "predArray = np.array(raw_test_preds[0])"
      ],
      "execution_count": 24,
      "outputs": [
        {
          "output_type": "display_data",
          "data": {
            "text/html": [
              ""
            ],
            "text/plain": [
              "<IPython.core.display.HTML object>"
            ]
          },
          "metadata": {
            "tags": []
          }
        }
      ]
    },
    {
      "cell_type": "code",
      "metadata": {
        "id": "rYHOKPtpO1zb",
        "colab_type": "code",
        "colab": {
          "base_uri": "https://localhost:8080/",
          "height": 88
        },
        "outputId": "c32f1a69-a924-4f32-b05a-b687a2e69f57"
      },
      "source": [
        "statsML = ComputeStatParam(predArray.T[0])\n",
        "statsML"
      ],
      "execution_count": 26,
      "outputs": [
        {
          "output_type": "execute_result",
          "data": {
            "text/plain": [
              "[46.91507339477539    (46.11564178466797, 47.697355842590326),\n",
              " 5.647927284240723    (5.157721018791199, 6.180571436882019),\n",
              " 0.41150403253353357,\n",
              " 2.671267329791721]"
            ]
          },
          "metadata": {
            "tags": []
          },
          "execution_count": 26
        }
      ]
    },
    {
      "cell_type": "markdown",
      "metadata": {
        "id": "KCfhHggQ8gl3",
        "colab_type": "text"
      },
      "source": [
        "### SHAP"
      ]
    },
    {
      "cell_type": "code",
      "metadata": {
        "id": "p5CDFdX_8hwL",
        "colab_type": "code",
        "outputId": "79ad6233-6a28-4f23-9160-7915b6fd269b",
        "colab": {
          "base_uri": "https://localhost:8080/",
          "height": 70
        }
      },
      "source": [
        "!pip install -q fastshap"
      ],
      "execution_count": 27,
      "outputs": [
        {
          "output_type": "stream",
          "text": [
            "\u001b[?25l\r\u001b[K     |█▏                              | 10kB 26.5MB/s eta 0:00:01\r\u001b[K     |██▍                             | 20kB 31.5MB/s eta 0:00:01\r\u001b[K     |███▋                            | 30kB 9.4MB/s eta 0:00:01\r\u001b[K     |████▉                           | 40kB 11.8MB/s eta 0:00:01\r\u001b[K     |██████                          | 51kB 12.1MB/s eta 0:00:01\r\u001b[K     |███████▏                        | 61kB 12.6MB/s eta 0:00:01\r\u001b[K     |████████▍                       | 71kB 11.9MB/s eta 0:00:01\r\u001b[K     |█████████▋                      | 81kB 11.5MB/s eta 0:00:01\r\u001b[K     |██████████▉                     | 92kB 10.9MB/s eta 0:00:01\r\u001b[K     |████████████                    | 102kB 11.1MB/s eta 0:00:01\r\u001b[K     |█████████████▏                  | 112kB 11.1MB/s eta 0:00:01\r\u001b[K     |██████████████▍                 | 122kB 11.1MB/s eta 0:00:01\r\u001b[K     |███████████████▋                | 133kB 11.1MB/s eta 0:00:01\r\u001b[K     |████████████████▉               | 143kB 11.1MB/s eta 0:00:01\r\u001b[K     |██████████████████              | 153kB 11.1MB/s eta 0:00:01\r\u001b[K     |███████████████████▏            | 163kB 11.1MB/s eta 0:00:01\r\u001b[K     |████████████████████▍           | 174kB 11.1MB/s eta 0:00:01\r\u001b[K     |█████████████████████▋          | 184kB 11.1MB/s eta 0:00:01\r\u001b[K     |██████████████████████▉         | 194kB 11.1MB/s eta 0:00:01\r\u001b[K     |████████████████████████        | 204kB 11.1MB/s eta 0:00:01\r\u001b[K     |█████████████████████████▏      | 215kB 11.1MB/s eta 0:00:01\r\u001b[K     |██████████████████████████▍     | 225kB 11.1MB/s eta 0:00:01\r\u001b[K     |███████████████████████████▋    | 235kB 11.1MB/s eta 0:00:01\r\u001b[K     |████████████████████████████▉   | 245kB 11.1MB/s eta 0:00:01\r\u001b[K     |██████████████████████████████  | 256kB 11.1MB/s eta 0:00:01\r\u001b[K     |███████████████████████████████▏| 266kB 11.1MB/s eta 0:00:01\r\u001b[K     |████████████████████████████████| 276kB 11.1MB/s \n",
            "\u001b[?25h  Building wheel for fastshap (setup.py) ... \u001b[?25l\u001b[?25hdone\n",
            "  Building wheel for shap (setup.py) ... \u001b[?25l\u001b[?25hdone\n"
          ],
          "name": "stdout"
        }
      ]
    },
    {
      "cell_type": "code",
      "metadata": {
        "id": "avR7I7RS8mT9",
        "colab_type": "code",
        "colab": {}
      },
      "source": [
        "from fastshap.interp import *"
      ],
      "execution_count": 0,
      "outputs": []
    },
    {
      "cell_type": "code",
      "metadata": {
        "id": "fuZIHiz-8nL-",
        "colab_type": "code",
        "outputId": "effcb257-0264-438e-f27e-2775d83fd98d",
        "colab": {
          "base_uri": "https://localhost:8080/",
          "height": 67,
          "referenced_widgets": [
            "b02d46c6f579452baaf560fec51bef5f",
            "f7fb2e838a2d4f4286f0cb1a93466917",
            "e8926b497f9c483e9a0bca6ba21c9960",
            "fa32fe0fab254ac2a9dcf50ea62f2519",
            "2d6bd51b6ab24582ba60a118caa1e3aa",
            "caa579be11464cf4b4d35290374ceb90",
            "63baa1d9e68848a89405d82f9c3f1286",
            "d997dd53d91b4f4ca6ee21ad86c4d7b2"
          ]
        }
      },
      "source": [
        "learn.dl.vocab = learn.dl.y_names # This is only needed for regression problems\n",
        "exp = ShapInterpretation(learn)"
      ],
      "execution_count": 29,
      "outputs": [
        {
          "output_type": "display_data",
          "data": {
            "application/vnd.jupyter.widget-view+json": {
              "model_id": "b02d46c6f579452baaf560fec51bef5f",
              "version_minor": 0,
              "version_major": 2
            },
            "text/plain": [
              "HBox(children=(FloatProgress(value=0.0, max=40.0), HTML(value='')))"
            ]
          },
          "metadata": {
            "tags": []
          }
        },
        {
          "output_type": "stream",
          "text": [
            "\n"
          ],
          "name": "stdout"
        }
      ]
    },
    {
      "cell_type": "code",
      "metadata": {
        "id": "KuSo5PbF8qNA",
        "colab_type": "code",
        "outputId": "ff87b9a3-f76e-439b-9b7a-5a59c4c20590",
        "colab": {
          "base_uri": "https://localhost:8080/",
          "height": 498
        }
      },
      "source": [
        "exp.summary_plot()"
      ],
      "execution_count": 30,
      "outputs": [
        {
          "output_type": "display_data",
          "data": {
            "image/png": "[encoded data removed]",
            "text/plain": [
              "<Figure size 576x568.8 with 2 Axes>"
            ]
          },
          "metadata": {
            "tags": [],
            "needs_background": "light"
          }
        }
      ]
    },
    {
      "cell_type": "markdown",
      "metadata": {
        "id": "EH14XSLsBobi",
        "colab_type": "text"
      },
      "source": [
        "## KS Test"
      ]
    },
    {
      "cell_type": "code",
      "metadata": {
        "id": "hJ9HcBDuFQgM",
        "colab_type": "code",
        "colab": {}
      },
      "source": [
        "from scipy import stats\n",
        "\n",
        "import numpy as np\n",
        "import matplotlib.pyplot as plt"
      ],
      "execution_count": 0,
      "outputs": []
    },
    {
      "cell_type": "code",
      "metadata": {
        "id": "drGfx7HSFaVA",
        "colab_type": "code",
        "colab": {}
      },
      "source": [
        "Nsamples1=len(np.array(samples[\"lat\"]))\n",
        "Nsamples2=len(predArray.T[0])"
      ],
      "execution_count": 0,
      "outputs": []
    },
    {
      "cell_type": "code",
      "metadata": {
        "id": "lFgXqpleGBmu",
        "colab_type": "code",
        "colab": {}
      },
      "source": [
        "Nruns=1000\n",
        "VV=[];\n",
        "Calpha05=1.358\n",
        "Calpha01=1.628\n",
        "nrj05=0\n",
        "nrj01=0"
      ],
      "execution_count": 0,
      "outputs": []
    },
    {
      "cell_type": "code",
      "metadata": {
        "id": "NUFAenKgGYbW",
        "colab_type": "code",
        "colab": {}
      },
      "source": [
        "for i in range(Nruns):\n",
        "\txs1 = np.array(samples[\"lat\"])\n",
        "\txs2 = predArray.T[0]\n",
        "\tKsStat,Ks_pvalue=stats.ks_2samp(xs1, xs2)\n",
        "\n",
        "\tDT05=Calpha05*np.sqrt((Nsamples1+Nsamples2)/Nsamples1/Nsamples2)\n",
        "\tif KsStat>DT05:\n",
        "\t\trj05=1;\n",
        "\t\tnrj05=nrj05+1\n",
        "\telse:\n",
        "\t\trj05=0;\n",
        "\tDT01=Calpha01*np.sqrt((Nsamples1+Nsamples2)/Nsamples1/Nsamples2)\n",
        "\tif KsStat>DT01:\n",
        "\t\trj01=1;\n",
        "\t\tnrj01=nrj01+1\n",
        "\telse:\n",
        "\t\trj01=0;\n",
        "\tVV.append([KsStat,Ks_pvalue, DT05, DT01, rj05, rj01])"
      ],
      "execution_count": 0,
      "outputs": []
    },
    {
      "cell_type": "code",
      "metadata": {
        "id": "ouxOJ1M4Ga7p",
        "colab_type": "code",
        "outputId": "5fde6785-9ab5-4f4e-f737-f44fe902175f",
        "colab": {
          "base_uri": "https://localhost:8080/",
          "height": 548
        }
      },
      "source": [
        "VV=np.array(VV)\n",
        "sortedVV = VV[VV[:,1].argsort()]\n",
        "np.savetxt('VVKS2s.dat', sortedVV, delimiter=' ')\n",
        "plt.figure()\n",
        "plt.plot(sortedVV[:,0])\n",
        "plt.figure()\n",
        "plt.plot(sortedVV[:,1])\n",
        "print(\"The Null Hypothesis (distributions are equal) is rejected \",nrj05,\" times over \",Nruns,\" (\",nrj05/Nruns*100,\"%) with alpha=0.05\")\n",
        "print(\"The Null Hypothesis (distributions are equal) is rejected \",nrj01,\" times over \",Nruns,\" (\",nrj01/Nruns*100,\"%) with alpha=0.01\")"
      ],
      "execution_count": 44,
      "outputs": [
        {
          "output_type": "stream",
          "text": [
            "The Null Hypothesis (distributions are equal) is rejected  1000  times over  1000  ( 100.0 %) with alpha=0.05\n",
            "The Null Hypothesis (distributions are equal) is rejected  0  times over  1000  ( 0.0 %) with alpha=0.01\n"
          ],
          "name": "stdout"
        },
        {
          "output_type": "display_data",
          "data": {
            "image/png": "[encoded data removed]",
            "text/plain": [
              "<Figure size 432x288 with 1 Axes>"
            ]
          },
          "metadata": {
            "tags": [],
            "needs_background": "light"
          }
        },
        {
          "output_type": "display_data",
          "data": {
            "image/png": "[encoded data removed]",
            "text/plain": [
              "<Figure size 432x288 with 1 Axes>"
            ]
          },
          "metadata": {
            "tags": [],
            "needs_background": "light"
          }
        }
      ]
    },
    {
      "cell_type": "markdown",
      "metadata": {
        "id": "y4ICJQWCBfP0",
        "colab_type": "text"
      },
      "source": [
        "## Histograms"
      ]
    },
    {
      "cell_type": "code",
      "metadata": {
        "id": "1bLXcGmxBhT4",
        "colab_type": "code",
        "outputId": "17e735af-1d9c-4b72-a6f8-9d4ade607233",
        "colab": {
          "base_uri": "https://localhost:8080/",
          "height": 35
        }
      },
      "source": [
        "import seaborn as sns"
      ],
      "execution_count": 36,
      "outputs": [
        {
          "output_type": "stream",
          "text": [
            "pandas.util.testing is deprecated. Use the functions in the public API at pandas.testing instead.\n"
          ],
          "name": "stderr"
        }
      ]
    },
    {
      "cell_type": "markdown",
      "metadata": {
        "id": "lhMr5cYTCe2j",
        "colab_type": "text"
      },
      "source": [
        "https://cmdlinetips.com/2019/02/how-to-make-histogram-in-python-with-pandas-and-seaborn/"
      ]
    },
    {
      "cell_type": "code",
      "metadata": {
        "id": "F5gtxh00CO-a",
        "colab_type": "code",
        "outputId": "ef9f9ff4-9256-4bb4-a3c7-4932cf958349",
        "colab": {
          "base_uri": "https://localhost:8080/",
          "height": 313
        }
      },
      "source": [
        "# 1d hist\n",
        "# data['lon'].hist(bins=100)\n",
        "\n",
        "#\n",
        "sns.distplot(np.array(samples[\"lat\"]), hist = True, kde = True, label='MC')\n",
        "#\n",
        "sns.distplot(predArray.T[0], hist = True, kde = True, label='ML')\n",
        "# Plot formatting\n",
        "plt.legend(prop={'size': 12})\n",
        "plt.title('KS Statistic: {}'.format(0))\n",
        "plt.xlabel('Latitude')\n",
        "plt.ylabel('Density')  "
      ],
      "execution_count": 46,
      "outputs": [
        {
          "output_type": "execute_result",
          "data": {
            "text/plain": [
              "Text(0, 0.5, 'Density')"
            ]
          },
          "metadata": {
            "tags": []
          },
          "execution_count": 46
        },
        {
          "output_type": "display_data",
          "data": {
            "image/png": "[encoded data removed]",
            "text/plain": [
              "<Figure size 432x288 with 1 Axes>"
            ]
          },
          "metadata": {
            "tags": [],
            "needs_background": "light"
          }
        }
      ]
    },
    {
      "cell_type": "code",
      "metadata": {
        "id": "ShnX_E1YBl2v",
        "colab_type": "code",
        "colab": {}
      },
      "source": [
        "# 2d hist\n",
        "# sns.jointplot(x=preds_longitude, y=preds_latitude, kind=\"hex\") "
      ],
      "execution_count": 0,
      "outputs": []
    }
  ]
}