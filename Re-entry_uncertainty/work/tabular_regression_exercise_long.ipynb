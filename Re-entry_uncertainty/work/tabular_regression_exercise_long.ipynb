{
  "nbformat": 4,
  "nbformat_minor": 0,
  "metadata": {
    "colab": {
      "name": "tabular_regression_exercise.ipynb",
      "provenance": [],
      "collapsed_sections": []
    },
    "kernelspec": {
      "name": "python3",
      "display_name": "Python 3"
    },
    "accelerator": "GPU",
    "widgets": {
      "application/vnd.jupyter.widget-state+json": {
        "dddb30f369b24864b61012a59bb7e292": {
          "model_module": "@jupyter-widgets/controls",
          "model_name": "HBoxModel",
          "state": {
            "_view_name": "HBoxView",
            "_dom_classes": [],
            "_model_name": "HBoxModel",
            "_view_module": "@jupyter-widgets/controls",
            "_model_module_version": "1.5.0",
            "_view_count": null,
            "_view_module_version": "1.5.0",
            "box_style": "",
            "layout": "IPY_MODEL_f3d6740042ca4307a5dfbe05d1cb750b",
            "_model_module": "@jupyter-widgets/controls",
            "children": [
              "IPY_MODEL_c9aee4688bb64885b53fcaff3b0da27a",
              "IPY_MODEL_d0ec34a95a23409587c25df0dba90969"
            ]
          }
        },
        "f3d6740042ca4307a5dfbe05d1cb750b": {
          "model_module": "@jupyter-widgets/base",
          "model_name": "LayoutModel",
          "state": {
            "_view_name": "LayoutView",
            "grid_template_rows": null,
            "right": null,
            "justify_content": null,
            "_view_module": "@jupyter-widgets/base",
            "overflow": null,
            "_model_module_version": "1.2.0",
            "_view_count": null,
            "flex_flow": null,
            "width": null,
            "min_width": null,
            "border": null,
            "align_items": null,
            "bottom": null,
            "_model_module": "@jupyter-widgets/base",
            "top": null,
            "grid_column": null,
            "overflow_y": null,
            "overflow_x": null,
            "grid_auto_flow": null,
            "grid_area": null,
            "grid_template_columns": null,
            "flex": null,
            "_model_name": "LayoutModel",
            "justify_items": null,
            "grid_row": null,
            "max_height": null,
            "align_content": null,
            "visibility": null,
            "align_self": null,
            "height": null,
            "min_height": null,
            "padding": null,
            "grid_auto_rows": null,
            "grid_gap": null,
            "max_width": null,
            "order": null,
            "_view_module_version": "1.2.0",
            "grid_template_areas": null,
            "object_position": null,
            "object_fit": null,
            "grid_auto_columns": null,
            "margin": null,
            "display": null,
            "left": null
          }
        },
        "c9aee4688bb64885b53fcaff3b0da27a": {
          "model_module": "@jupyter-widgets/controls",
          "model_name": "FloatProgressModel",
          "state": {
            "_view_name": "ProgressView",
            "style": "IPY_MODEL_b0161512d3fc453fbf34aefc5439b877",
            "_dom_classes": [],
            "description": "100%",
            "_model_name": "FloatProgressModel",
            "bar_style": "success",
            "max": 40,
            "_view_module": "@jupyter-widgets/controls",
            "_model_module_version": "1.5.0",
            "value": 40,
            "_view_count": null,
            "_view_module_version": "1.5.0",
            "orientation": "horizontal",
            "min": 0,
            "description_tooltip": null,
            "_model_module": "@jupyter-widgets/controls",
            "layout": "IPY_MODEL_8d0ec073f75d445988182acbc864c928"
          }
        },
        "d0ec34a95a23409587c25df0dba90969": {
          "model_module": "@jupyter-widgets/controls",
          "model_name": "HTMLModel",
          "state": {
            "_view_name": "HTMLView",
            "style": "IPY_MODEL_6f0ebfbc13b64d91b63fc8c7c289de97",
            "_dom_classes": [],
            "description": "",
            "_model_name": "HTMLModel",
            "placeholder": "​",
            "_view_module": "@jupyter-widgets/controls",
            "_model_module_version": "1.5.0",
            "value": " 40/40 [00:15&lt;00:00,  2.64it/s]",
            "_view_count": null,
            "_view_module_version": "1.5.0",
            "description_tooltip": null,
            "_model_module": "@jupyter-widgets/controls",
            "layout": "IPY_MODEL_1cbfbf80ad59465d8780ca20b25715f2"
          }
        },
        "b0161512d3fc453fbf34aefc5439b877": {
          "model_module": "@jupyter-widgets/controls",
          "model_name": "ProgressStyleModel",
          "state": {
            "_view_name": "StyleView",
            "_model_name": "ProgressStyleModel",
            "description_width": "initial",
            "_view_module": "@jupyter-widgets/base",
            "_model_module_version": "1.5.0",
            "_view_count": null,
            "_view_module_version": "1.2.0",
            "bar_color": null,
            "_model_module": "@jupyter-widgets/controls"
          }
        },
        "8d0ec073f75d445988182acbc864c928": {
          "model_module": "@jupyter-widgets/base",
          "model_name": "LayoutModel",
          "state": {
            "_view_name": "LayoutView",
            "grid_template_rows": null,
            "right": null,
            "justify_content": null,
            "_view_module": "@jupyter-widgets/base",
            "overflow": null,
            "_model_module_version": "1.2.0",
            "_view_count": null,
            "flex_flow": null,
            "width": null,
            "min_width": null,
            "border": null,
            "align_items": null,
            "bottom": null,
            "_model_module": "@jupyter-widgets/base",
            "top": null,
            "grid_column": null,
            "overflow_y": null,
            "overflow_x": null,
            "grid_auto_flow": null,
            "grid_area": null,
            "grid_template_columns": null,
            "flex": null,
            "_model_name": "LayoutModel",
            "justify_items": null,
            "grid_row": null,
            "max_height": null,
            "align_content": null,
            "visibility": null,
            "align_self": null,
            "height": null,
            "min_height": null,
            "padding": null,
            "grid_auto_rows": null,
            "grid_gap": null,
            "max_width": null,
            "order": null,
            "_view_module_version": "1.2.0",
            "grid_template_areas": null,
            "object_position": null,
            "object_fit": null,
            "grid_auto_columns": null,
            "margin": null,
            "display": null,
            "left": null
          }
        },
        "6f0ebfbc13b64d91b63fc8c7c289de97": {
          "model_module": "@jupyter-widgets/controls",
          "model_name": "DescriptionStyleModel",
          "state": {
            "_view_name": "StyleView",
            "_model_name": "DescriptionStyleModel",
            "description_width": "",
            "_view_module": "@jupyter-widgets/base",
            "_model_module_version": "1.5.0",
            "_view_count": null,
            "_view_module_version": "1.2.0",
            "_model_module": "@jupyter-widgets/controls"
          }
        },
        "1cbfbf80ad59465d8780ca20b25715f2": {
          "model_module": "@jupyter-widgets/base",
          "model_name": "LayoutModel",
          "state": {
            "_view_name": "LayoutView",
            "grid_template_rows": null,
            "right": null,
            "justify_content": null,
            "_view_module": "@jupyter-widgets/base",
            "overflow": null,
            "_model_module_version": "1.2.0",
            "_view_count": null,
            "flex_flow": null,
            "width": null,
            "min_width": null,
            "border": null,
            "align_items": null,
            "bottom": null,
            "_model_module": "@jupyter-widgets/base",
            "top": null,
            "grid_column": null,
            "overflow_y": null,
            "overflow_x": null,
            "grid_auto_flow": null,
            "grid_area": null,
            "grid_template_columns": null,
            "flex": null,
            "_model_name": "LayoutModel",
            "justify_items": null,
            "grid_row": null,
            "max_height": null,
            "align_content": null,
            "visibility": null,
            "align_self": null,
            "height": null,
            "min_height": null,
            "padding": null,
            "grid_auto_rows": null,
            "grid_gap": null,
            "max_width": null,
            "order": null,
            "_view_module_version": "1.2.0",
            "grid_template_areas": null,
            "object_position": null,
            "object_fit": null,
            "grid_auto_columns": null,
            "margin": null,
            "display": null,
            "left": null
          }
        }
      }
    }
  },
  "cells": [
    {
      "cell_type": "markdown",
      "metadata": {
        "id": "PiyMMUUY2G1j",
        "colab_type": "text"
      },
      "source": [
        "# Re-entry estimation exercise"
      ]
    },
    {
      "cell_type": "code",
      "metadata": {
        "id": "m-rOjhom3de8",
        "colab_type": "code",
        "colab": {}
      },
      "source": [
        "!pip install -q fastai2"
      ],
      "execution_count": 0,
      "outputs": []
    },
    {
      "cell_type": "code",
      "metadata": {
        "id": "agx7cjXXKbZ6",
        "colab_type": "code",
        "colab": {}
      },
      "source": [
        "!pip3 install -q bootstrapped"
      ],
      "execution_count": 0,
      "outputs": []
    },
    {
      "cell_type": "code",
      "metadata": {
        "id": "UQNhZgVI3t4t",
        "colab_type": "code",
        "colab": {}
      },
      "source": [
        "from fastai2.tabular.all import *"
      ],
      "execution_count": 0,
      "outputs": []
    },
    {
      "cell_type": "code",
      "metadata": {
        "id": "qWLfIlZk3v7Q",
        "colab_type": "code",
        "colab": {}
      },
      "source": [
        "import numpy as np\n",
        "import pandas as pd"
      ],
      "execution_count": 0,
      "outputs": []
    },
    {
      "cell_type": "markdown",
      "metadata": {
        "id": "auGoHfyOapE6",
        "colab_type": "text"
      },
      "source": [
        "This exercise follows the tabular regression model tutorial, but applies it to the problem of predicting values of the re-entry trajectory and ground impact location, based on the uncertanties on initial conditions, object properties and atmospheric characteristics (See Table 1 of the paper attached to the project preview)"
      ]
    },
    {
      "cell_type": "markdown",
      "metadata": {
        "id": "wYutgbte9yA-",
        "colab_type": "text"
      },
      "source": [
        "The outputs of the regression model will be:\n",
        "1. Latitude\n",
        "2. Longitude\n",
        "\n",
        "Since there are more than one output in the regression model, you can either create a single learner that outputs the two variables, or create two different learners, one to predict each of the outputs. In case you go for the first approach, it’s important to scale your dependent variables before the prediction, otherwise the largest one might dominate everything and you end up optimizing your NN for only one of them. Here are two possible scaling tabular processors (instances of the fastai's `TabularProc` class) that you can introduce when creating the dataloader. You can also do this transformations manually in the input dataframe. "
      ]
    },
    {
      "cell_type": "code",
      "metadata": {
        "id": "oM7FKJGxALwM",
        "colab_type": "code",
        "colab": {}
      },
      "source": [
        "class NormalizeDep(TabularProc):\n",
        "    \"Normalize the dependent variables of a TabularPandas object\"\n",
        "    order = 3\n",
        "    def setups(self, dsets): self.y_means,self.y_stds = dsets.ys.mean(),dsets.ys.std(ddof=0)+1e-7\n",
        "    def encodes(self, to): to.ys = (to.ys-self.y_means) / self.y_stds\n",
        "    def decodes(self, to): to.ys = (to.ys*self.y_stds ) + self.y_means"
      ],
      "execution_count": 0,
      "outputs": []
    },
    {
      "cell_type": "code",
      "metadata": {
        "id": "8NS00VqsAbf3",
        "colab_type": "code",
        "colab": {}
      },
      "source": [
        "class LogDep(TabularProc):\n",
        "    \"Log-transform the dependent variables of a TabularPandas object. If \\\n",
        "    there are negative values in any of the variables, a translation is applied \\\n",
        "    first using the minimum value of that variable plus 1\"\n",
        "    order = 3\n",
        "    def setups(self, dsets): self.y_log_translation = [abs(x)+1 if x<=0 else 0 for x in list(dsets.ys.min())]\n",
        "    def encodes(self, to): to.ys = np.log(to.ys + self.y_log_translation)\n",
        "    def decodes(self, to): to.ys = np.exp(to.ys) -self.y_log_translation"
      ],
      "execution_count": 0,
      "outputs": []
    },
    {
      "cell_type": "markdown",
      "metadata": {
        "id": "SkRIuybODFlz",
        "colab_type": "text"
      },
      "source": [
        "More specifically, the tasks you are expected to do in this exercise are:\n",
        "\n",
        "1. Create a regression model based on the data that you've previously generated from the black-box propagation model. You should have at least around 200-300 items to create a proper model.\n",
        "\n",
        "2. Test that model with a big input test set (around 1e6 points), generated from sampling the random input variables.\n",
        "\n",
        "3. Perform an analysis of the most important features in the regression model."
      ]
    },
    {
      "cell_type": "markdown",
      "metadata": {
        "id": "RXPA8RRf_9rJ",
        "colab_type": "text"
      },
      "source": [
        "Remember to use the LTW-I Slack workspace to ask questions and request mentors to your Zoom room. You can also visit the [fastai2 documentation website](https://dev.fast.ai/) for technical troubleshooting if you use fastai2 as ML library. If you are already familiar with any other ML library for training tabular regression models (NNs, tree-based models, SVMs...), you can perfectly use that instead of the one showed in the tutorial, as long as you fulfill the tasks mentioned above."
      ]
    },
    {
      "cell_type": "markdown",
      "metadata": {
        "id": "M17msAIJ1rFZ",
        "colab_type": "text"
      },
      "source": [
        "# Beginning of the exercise for group A"
      ]
    },
    {
      "cell_type": "markdown",
      "metadata": {
        "id": "KLRZY0DM1H_2",
        "colab_type": "text"
      },
      "source": [
        "First, we load teh csv data produced with the MATLAB propagator."
      ]
    },
    {
      "cell_type": "code",
      "metadata": {
        "id": "D_7H5n961i1f",
        "colab_type": "code",
        "colab": {}
      },
      "source": [
        "csvFile = \"data.csv\"\n",
        "pd.read_csv(csvFile)"
      ],
      "execution_count": 0,
      "outputs": []
    },
    {
      "cell_type": "markdown",
      "metadata": {
        "id": "G626F31JHnyc",
        "colab_type": "text"
      },
      "source": [
        "load as .mat file"
      ]
    },
    {
      "cell_type": "code",
      "metadata": {
        "id": "c0-DyG9CHpZu",
        "colab_type": "code",
        "colab": {}
      },
      "source": [
        "import scipy.io as sio\n",
        "data = sio.loadmat(\"Sample_200.mat\")"
      ],
      "execution_count": 0,
      "outputs": []
    },
    {
      "cell_type": "code",
      "metadata": {
        "id": "QxMX5duFIFTh",
        "colab_type": "code",
        "colab": {}
      },
      "source": [
        "samples = pd.DataFrame(data[\"Sample\"], columns=['T_h0', 'T_h20', 'T_h50', 'T_h70', 'T_h90', 'T_h120', 'rho_h0',\n",
        "             'rho_h40', 'rho_h90', 'rho_h120', 'parts_n2', 'cp', 'gamma', 'res',\n",
        "             'mod', 'Xi', 'long', 'lat'])"
      ],
      "execution_count": 0,
      "outputs": []
    },
    {
      "cell_type": "markdown",
      "metadata": {
        "id": "QZDFFtH1__fU",
        "colab_type": "text"
      },
      "source": [
        "## Statistical Measures: Confidence intervals"
      ]
    },
    {
      "cell_type": "code",
      "metadata": {
        "id": "2YQlvF5zAq8m",
        "colab_type": "code",
        "colab": {}
      },
      "source": [
        "import numpy as np\n",
        "import bootstrapped.bootstrap as bs\n",
        "import bootstrapped.stats_functions as bs_stats"
      ],
      "execution_count": 0,
      "outputs": []
    },
    {
      "cell_type": "code",
      "metadata": {
        "id": "iTODnDQGAuC-",
        "colab_type": "code",
        "colab": {}
      },
      "source": [
        "def ComputeStatParam(samples):\n",
        "  # mean\n",
        "  mean = bs.bootstrap(samples, stat_func=bs_stats.mean)\n",
        "\n",
        "  # std\n",
        "  std = bs.bootstrap(samples, stat_func=bs_stats.std)\n",
        "\n",
        "  # # skewness\n",
        "  # skew = bs.bootstrap(samples, stat_func=bs_stats.skew)\n",
        "\n",
        "  # # kurtosis\n",
        "  # kurt = bs.bootstrap(samples, stat_func=bs_stats.kurt)\n",
        "\n",
        "  sumSkew = 0\n",
        "  sumKurt = 0\n",
        "  for item in samples:\n",
        "    sumSkew += (item - mean.value)**3\n",
        "    sumKurt += (item - mean.value)**4\n",
        "\n",
        "  skew = sumSkew / (len(samples) * std.value**3)\n",
        "  kurt = sumKurt / (len(samples) * std.value**4)\n",
        "\n",
        "  # return parameters\n",
        "  return [mean, std, skew, kurt]"
      ],
      "execution_count": 0,
      "outputs": []
    },
    {
      "cell_type": "markdown",
      "metadata": {
        "id": "uZlAwsVX90vK",
        "colab_type": "text"
      },
      "source": [
        "## MC Approach"
      ]
    },
    {
      "cell_type": "code",
      "metadata": {
        "id": "ng2mV_CDKAvY",
        "colab_type": "code",
        "colab": {}
      },
      "source": [
        "statsMC = ComputeStatParam(np.array(samples[\"lat\"]))"
      ],
      "execution_count": 0,
      "outputs": []
    },
    {
      "cell_type": "code",
      "metadata": {
        "id": "D8Ksji9KLfoQ",
        "colab_type": "code",
        "outputId": "478b170c-6da7-4037-c2ae-2907c7a06c1a",
        "colab": {
          "base_uri": "https://localhost:8080/",
          "height": 88
        }
      },
      "source": [
        "statsMC"
      ],
      "execution_count": 0,
      "outputs": [
        {
          "output_type": "execute_result",
          "data": {
            "text/plain": [
              "[12.600991200954208    (11.728512466017676, 13.428384498679446),\n",
              " 6.151926530838312    (5.445630721220604, 6.915295587070431),\n",
              " 1.1225501051396063,\n",
              " 3.9996118935427503]"
            ]
          },
          "metadata": {
            "tags": []
          },
          "execution_count": 54
        }
      ]
    },
    {
      "cell_type": "markdown",
      "metadata": {
        "id": "gtnKz-tI9izK",
        "colab_type": "text"
      },
      "source": [
        "## ML Approach"
      ]
    },
    {
      "cell_type": "markdown",
      "metadata": {
        "id": "XFKCkaeG3H_W",
        "colab_type": "text"
      },
      "source": [
        "Normalise the data to account for the different scales in the parameters."
      ]
    },
    {
      "cell_type": "code",
      "metadata": {
        "id": "YQCOExPk3d-W",
        "colab_type": "code",
        "colab": {}
      },
      "source": [
        "# normalise data per columns"
      ],
      "execution_count": 0,
      "outputs": []
    },
    {
      "cell_type": "markdown",
      "metadata": {
        "id": "fFIkGSSx2Sat",
        "colab_type": "text"
      },
      "source": [
        "We will split the ML blocks in two: one for the longitude prediction, and another one for the latitude prediction."
      ]
    },
    {
      "cell_type": "code",
      "metadata": {
        "id": "7Hes_vdb2b8p",
        "colab_type": "code",
        "colab": {}
      },
      "source": [
        "# dependent variable\n",
        "dep_var = 'lat'"
      ],
      "execution_count": 0,
      "outputs": []
    },
    {
      "cell_type": "markdown",
      "metadata": {
        "id": "S_kg1GfG4vGY",
        "colab_type": "text"
      },
      "source": [
        "Independent variables that will be used to predict:"
      ]
    },
    {
      "cell_type": "code",
      "metadata": {
        "id": "qvkCLGRp47HI",
        "colab_type": "code",
        "colab": {}
      },
      "source": [
        "cont_vars = ['T_h0', 'T_h20', 'T_h50', 'T_h70', 'T_h90', 'T_h120', 'rho_h0',\n",
        "             'rho_h40', 'rho_h90', 'rho_h120', 'parts_n2', 'cp', 'gamma', 'res',\n",
        "             'mod', 'Xi']"
      ],
      "execution_count": 0,
      "outputs": []
    },
    {
      "cell_type": "markdown",
      "metadata": {
        "id": "7YmTGrDc5Mpn",
        "colab_type": "text"
      },
      "source": [
        "Create dataloader:"
      ]
    },
    {
      "cell_type": "code",
      "metadata": {
        "id": "kSBZ1OQz5OmB",
        "colab_type": "code",
        "colab": {}
      },
      "source": [
        "dls = TabularDataLoaders.from_df(df=samples, \n",
        "                          #  procs=[FillMissing(add_col=False), Normalize], \n",
        "                           procs=[Normalize],\n",
        "                           cont_names=cont_vars, \n",
        "                           y_names=dep_var, \n",
        "                           y_block=RegressionBlock(), \n",
        "                           valid_pct=0.2,\n",
        "                           bs=20) # play with this"
      ],
      "execution_count": 0,
      "outputs": []
    },
    {
      "cell_type": "code",
      "metadata": {
        "id": "X94i-UNF6hld",
        "colab_type": "code",
        "outputId": "7513feed-55c9-48bd-c705-eb4c017dfb92",
        "colab": {
          "base_uri": "https://localhost:8080/",
          "height": 529
        }
      },
      "source": [
        "dls.valid.show_batch()"
      ],
      "execution_count": 0,
      "outputs": [
        {
          "output_type": "display_data",
          "data": {
            "text/html": [
              "<table border=\"1\" class=\"dataframe\">\n",
              "  <thead>\n",
              "    <tr style=\"text-align: right;\">\n",
              "      <th></th>\n",
              "      <th>T_h0</th>\n",
              "      <th>T_h20</th>\n",
              "      <th>T_h50</th>\n",
              "      <th>T_h70</th>\n",
              "      <th>T_h90</th>\n",
              "      <th>T_h120</th>\n",
              "      <th>rho_h0</th>\n",
              "      <th>rho_h40</th>\n",
              "      <th>rho_h90</th>\n",
              "      <th>rho_h120</th>\n",
              "      <th>parts_n2</th>\n",
              "      <th>cp</th>\n",
              "      <th>gamma</th>\n",
              "      <th>res</th>\n",
              "      <th>mod</th>\n",
              "      <th>Xi</th>\n",
              "      <th>long</th>\n",
              "    </tr>\n",
              "  </thead>\n",
              "  <tbody>\n",
              "    <tr>\n",
              "      <th>0</th>\n",
              "      <td>282.310974</td>\n",
              "      <td>217.756500</td>\n",
              "      <td>254.362488</td>\n",
              "      <td>194.448257</td>\n",
              "      <td>187.765396</td>\n",
              "      <td>368.635315</td>\n",
              "      <td>1.323115</td>\n",
              "      <td>0.003785</td>\n",
              "      <td>0.000004</td>\n",
              "      <td>1.840216e-08</td>\n",
              "      <td>0.767956</td>\n",
              "      <td>1378.529785</td>\n",
              "      <td>-2.146061</td>\n",
              "      <td>7618.675293</td>\n",
              "      <td>237.279099</td>\n",
              "      <td>38.063850</td>\n",
              "      <td>6.995473</td>\n",
              "    </tr>\n",
              "    <tr>\n",
              "      <th>1</th>\n",
              "      <td>279.930664</td>\n",
              "      <td>213.024292</td>\n",
              "      <td>282.589630</td>\n",
              "      <td>216.216904</td>\n",
              "      <td>146.570374</td>\n",
              "      <td>340.174713</td>\n",
              "      <td>1.281684</td>\n",
              "      <td>0.002886</td>\n",
              "      <td>0.000003</td>\n",
              "      <td>2.528089e-08</td>\n",
              "      <td>0.795102</td>\n",
              "      <td>1486.951416</td>\n",
              "      <td>-1.283002</td>\n",
              "      <td>7561.444336</td>\n",
              "      <td>239.166031</td>\n",
              "      <td>39.271397</td>\n",
              "      <td>12.577774</td>\n",
              "    </tr>\n",
              "    <tr>\n",
              "      <th>2</th>\n",
              "      <td>294.928436</td>\n",
              "      <td>226.026581</td>\n",
              "      <td>252.929321</td>\n",
              "      <td>179.194153</td>\n",
              "      <td>191.697830</td>\n",
              "      <td>324.335236</td>\n",
              "      <td>1.345478</td>\n",
              "      <td>0.004962</td>\n",
              "      <td>0.000003</td>\n",
              "      <td>2.922654e-08</td>\n",
              "      <td>0.749554</td>\n",
              "      <td>1463.349609</td>\n",
              "      <td>-0.655892</td>\n",
              "      <td>7618.877930</td>\n",
              "      <td>273.844360</td>\n",
              "      <td>34.586952</td>\n",
              "      <td>21.032240</td>\n",
              "    </tr>\n",
              "    <tr>\n",
              "      <th>3</th>\n",
              "      <td>306.658295</td>\n",
              "      <td>218.300797</td>\n",
              "      <td>261.014648</td>\n",
              "      <td>197.169540</td>\n",
              "      <td>208.775482</td>\n",
              "      <td>396.404205</td>\n",
              "      <td>1.250725</td>\n",
              "      <td>0.003161</td>\n",
              "      <td>0.000003</td>\n",
              "      <td>2.800277e-08</td>\n",
              "      <td>0.808572</td>\n",
              "      <td>1413.753662</td>\n",
              "      <td>-1.534378</td>\n",
              "      <td>7570.411133</td>\n",
              "      <td>277.213684</td>\n",
              "      <td>33.906845</td>\n",
              "      <td>8.719314</td>\n",
              "    </tr>\n",
              "    <tr>\n",
              "      <th>4</th>\n",
              "      <td>263.777405</td>\n",
              "      <td>209.178635</td>\n",
              "      <td>262.259460</td>\n",
              "      <td>241.603394</td>\n",
              "      <td>184.033707</td>\n",
              "      <td>364.142944</td>\n",
              "      <td>1.078188</td>\n",
              "      <td>0.004174</td>\n",
              "      <td>0.000004</td>\n",
              "      <td>2.144614e-08</td>\n",
              "      <td>0.787125</td>\n",
              "      <td>1427.660767</td>\n",
              "      <td>-1.858334</td>\n",
              "      <td>7649.725098</td>\n",
              "      <td>209.043472</td>\n",
              "      <td>33.003654</td>\n",
              "      <td>6.745399</td>\n",
              "    </tr>\n",
              "    <tr>\n",
              "      <th>5</th>\n",
              "      <td>312.414154</td>\n",
              "      <td>214.930679</td>\n",
              "      <td>280.657928</td>\n",
              "      <td>220.437302</td>\n",
              "      <td>163.242050</td>\n",
              "      <td>367.401642</td>\n",
              "      <td>1.147312</td>\n",
              "      <td>0.004043</td>\n",
              "      <td>0.000004</td>\n",
              "      <td>2.289012e-08</td>\n",
              "      <td>0.822010</td>\n",
              "      <td>1449.883911</td>\n",
              "      <td>-1.326884</td>\n",
              "      <td>7572.200684</td>\n",
              "      <td>246.546585</td>\n",
              "      <td>42.528969</td>\n",
              "      <td>13.476807</td>\n",
              "    </tr>\n",
              "    <tr>\n",
              "      <th>6</th>\n",
              "      <td>306.733124</td>\n",
              "      <td>218.231766</td>\n",
              "      <td>245.866669</td>\n",
              "      <td>169.988663</td>\n",
              "      <td>199.351898</td>\n",
              "      <td>399.251648</td>\n",
              "      <td>1.518919</td>\n",
              "      <td>0.003965</td>\n",
              "      <td>0.000004</td>\n",
              "      <td>2.147193e-08</td>\n",
              "      <td>0.893526</td>\n",
              "      <td>1326.674194</td>\n",
              "      <td>-0.780401</td>\n",
              "      <td>7573.687988</td>\n",
              "      <td>298.089752</td>\n",
              "      <td>37.328396</td>\n",
              "      <td>18.331331</td>\n",
              "    </tr>\n",
              "    <tr>\n",
              "      <th>7</th>\n",
              "      <td>289.971283</td>\n",
              "      <td>231.828491</td>\n",
              "      <td>298.116882</td>\n",
              "      <td>229.917511</td>\n",
              "      <td>168.944214</td>\n",
              "      <td>345.349060</td>\n",
              "      <td>1.228537</td>\n",
              "      <td>0.004222</td>\n",
              "      <td>0.000004</td>\n",
              "      <td>2.388058e-08</td>\n",
              "      <td>0.844204</td>\n",
              "      <td>1468.154175</td>\n",
              "      <td>-0.807486</td>\n",
              "      <td>7551.409180</td>\n",
              "      <td>238.366714</td>\n",
              "      <td>33.128159</td>\n",
              "      <td>13.388607</td>\n",
              "    </tr>\n",
              "    <tr>\n",
              "      <th>8</th>\n",
              "      <td>300.342957</td>\n",
              "      <td>213.181778</td>\n",
              "      <td>283.677307</td>\n",
              "      <td>202.746902</td>\n",
              "      <td>225.470383</td>\n",
              "      <td>314.401459</td>\n",
              "      <td>1.182000</td>\n",
              "      <td>0.004026</td>\n",
              "      <td>0.000004</td>\n",
              "      <td>2.362293e-08</td>\n",
              "      <td>0.783219</td>\n",
              "      <td>1344.221191</td>\n",
              "      <td>-1.399495</td>\n",
              "      <td>7579.458008</td>\n",
              "      <td>238.729904</td>\n",
              "      <td>33.969273</td>\n",
              "      <td>9.245286</td>\n",
              "    </tr>\n",
              "    <tr>\n",
              "      <th>9</th>\n",
              "      <td>300.163513</td>\n",
              "      <td>219.272537</td>\n",
              "      <td>284.862305</td>\n",
              "      <td>202.481705</td>\n",
              "      <td>211.742996</td>\n",
              "      <td>344.376495</td>\n",
              "      <td>1.187309</td>\n",
              "      <td>0.003790</td>\n",
              "      <td>0.000004</td>\n",
              "      <td>1.914428e-08</td>\n",
              "      <td>0.718695</td>\n",
              "      <td>1470.694092</td>\n",
              "      <td>-2.384006</td>\n",
              "      <td>7623.458008</td>\n",
              "      <td>228.601685</td>\n",
              "      <td>41.281330</td>\n",
              "      <td>6.913965</td>\n",
              "    </tr>\n",
              "  </tbody>\n",
              "</table>"
            ],
            "text/plain": [
              "<IPython.core.display.HTML object>"
            ]
          },
          "metadata": {
            "tags": []
          }
        }
      ]
    },
    {
      "cell_type": "code",
      "metadata": {
        "id": "ISWuKjzP6iKm",
        "colab_type": "code",
        "colab": {}
      },
      "source": [
        "learn = tabular_learner(dls, loss_func=MSELossFlat())"
      ],
      "execution_count": 0,
      "outputs": []
    },
    {
      "cell_type": "code",
      "metadata": {
        "id": "8PjtORXUMBbG",
        "colab_type": "code",
        "outputId": "08c3d7c8-6d6d-48d8-bda9-681770cd6390",
        "colab": {
          "base_uri": "https://localhost:8080/",
          "height": 586
        }
      },
      "source": [
        "learn.summary()"
      ],
      "execution_count": 0,
      "outputs": [
        {
          "output_type": "execute_result",
          "data": {
            "text/plain": [
              "TabularModel (Input shape: ['20 x 0', '20 x 16'])\n",
              "================================================================\n",
              "Layer (type)         Output Shape         Param #    Trainable \n",
              "================================================================\n",
              "BatchNorm1d          20 x 16              32         True      \n",
              "________________________________________________________________\n",
              "BatchNorm1d          20 x 16              32         True      \n",
              "________________________________________________________________\n",
              "Linear               20 x 200             3,200      True      \n",
              "________________________________________________________________\n",
              "ReLU                 20 x 200             0          False     \n",
              "________________________________________________________________\n",
              "BatchNorm1d          20 x 200             400        True      \n",
              "________________________________________________________________\n",
              "Linear               20 x 100             20,000     True      \n",
              "________________________________________________________________\n",
              "ReLU                 20 x 100             0          False     \n",
              "________________________________________________________________\n",
              "Linear               20 x 1               101        True      \n",
              "________________________________________________________________\n",
              "\n",
              "Total params: 23,765\n",
              "Total trainable params: 23,765\n",
              "Total non-trainable params: 0\n",
              "\n",
              "Optimizer used: <function Adam at 0x7f341d953a60>\n",
              "Loss function: FlattenedLoss of MSELoss()\n",
              "\n",
              "Callbacks:\n",
              "  - TrainEvalCallback\n",
              "  - Recorder\n",
              "  - ProgressCallback"
            ]
          },
          "metadata": {
            "tags": []
          },
          "execution_count": 78
        }
      ]
    },
    {
      "cell_type": "code",
      "metadata": {
        "id": "1es7zTTh7LLG",
        "colab_type": "code",
        "outputId": "19bde75b-3bc6-4c8d-eea9-ece4f17f0876",
        "colab": {
          "base_uri": "https://localhost:8080/",
          "height": 300
        }
      },
      "source": [
        "suggested_lrs = learn.lr_find()\n",
        "suggested_lrs.lr_min"
      ],
      "execution_count": 0,
      "outputs": [
        {
          "output_type": "display_data",
          "data": {
            "text/html": [
              ""
            ],
            "text/plain": [
              "<IPython.core.display.HTML object>"
            ]
          },
          "metadata": {
            "tags": []
          }
        },
        {
          "output_type": "execute_result",
          "data": {
            "text/plain": [
              "SuggestedLRs(lr_min=0.02089296132326126, lr_steep=3.981071586167673e-06)"
            ]
          },
          "metadata": {
            "tags": []
          },
          "execution_count": 79
        },
        {
          "output_type": "display_data",
          "data": {
            "image/png": "[encoded data removed]",
            "text/plain": [
              "<Figure size 432x288 with 1 Axes>"
            ]
          },
          "metadata": {
            "tags": [],
            "needs_background": "light"
          }
        }
      ]
    },
    {
      "cell_type": "code",
      "metadata": {
        "id": "SQa0vwoz6lp7",
        "colab_type": "code",
        "outputId": "ad04e2bb-594e-4d4c-b450-b0facd2729fe",
        "colab": {
          "base_uri": "https://localhost:8080/",
          "height": 970
        }
      },
      "source": [
        "learn.fit_one_cycle(n_epoch=20, lr_max=suggested_lrs.lr_min)\n",
        "learn.recorder.plot_loss()"
      ],
      "execution_count": 0,
      "outputs": [
        {
          "output_type": "display_data",
          "data": {
            "text/html": [
              "<table border=\"1\" class=\"dataframe\">\n",
              "  <thead>\n",
              "    <tr style=\"text-align: left;\">\n",
              "      <th>epoch</th>\n",
              "      <th>train_loss</th>\n",
              "      <th>valid_loss</th>\n",
              "      <th>time</th>\n",
              "    </tr>\n",
              "  </thead>\n",
              "  <tbody>\n",
              "    <tr>\n",
              "      <td>0</td>\n",
              "      <td>5.109234</td>\n",
              "      <td>6.761182</td>\n",
              "      <td>00:00</td>\n",
              "    </tr>\n",
              "    <tr>\n",
              "      <td>1</td>\n",
              "      <td>4.816710</td>\n",
              "      <td>9.600367</td>\n",
              "      <td>00:00</td>\n",
              "    </tr>\n",
              "    <tr>\n",
              "      <td>2</td>\n",
              "      <td>5.368236</td>\n",
              "      <td>5.251392</td>\n",
              "      <td>00:00</td>\n",
              "    </tr>\n",
              "    <tr>\n",
              "      <td>3</td>\n",
              "      <td>5.142234</td>\n",
              "      <td>5.904932</td>\n",
              "      <td>00:00</td>\n",
              "    </tr>\n",
              "    <tr>\n",
              "      <td>4</td>\n",
              "      <td>4.635451</td>\n",
              "      <td>3.499086</td>\n",
              "      <td>00:00</td>\n",
              "    </tr>\n",
              "    <tr>\n",
              "      <td>5</td>\n",
              "      <td>5.837376</td>\n",
              "      <td>3.181424</td>\n",
              "      <td>00:00</td>\n",
              "    </tr>\n",
              "    <tr>\n",
              "      <td>6</td>\n",
              "      <td>6.021122</td>\n",
              "      <td>4.165838</td>\n",
              "      <td>00:00</td>\n",
              "    </tr>\n",
              "    <tr>\n",
              "      <td>7</td>\n",
              "      <td>6.854815</td>\n",
              "      <td>12.882620</td>\n",
              "      <td>00:00</td>\n",
              "    </tr>\n",
              "    <tr>\n",
              "      <td>8</td>\n",
              "      <td>6.818349</td>\n",
              "      <td>5.338478</td>\n",
              "      <td>00:00</td>\n",
              "    </tr>\n",
              "    <tr>\n",
              "      <td>9</td>\n",
              "      <td>6.443884</td>\n",
              "      <td>3.632694</td>\n",
              "      <td>00:00</td>\n",
              "    </tr>\n",
              "    <tr>\n",
              "      <td>10</td>\n",
              "      <td>6.097996</td>\n",
              "      <td>6.205737</td>\n",
              "      <td>00:00</td>\n",
              "    </tr>\n",
              "    <tr>\n",
              "      <td>11</td>\n",
              "      <td>5.710011</td>\n",
              "      <td>4.715400</td>\n",
              "      <td>00:00</td>\n",
              "    </tr>\n",
              "    <tr>\n",
              "      <td>12</td>\n",
              "      <td>5.543312</td>\n",
              "      <td>3.120490</td>\n",
              "      <td>00:00</td>\n",
              "    </tr>\n",
              "    <tr>\n",
              "      <td>13</td>\n",
              "      <td>5.107043</td>\n",
              "      <td>7.377732</td>\n",
              "      <td>00:00</td>\n",
              "    </tr>\n",
              "    <tr>\n",
              "      <td>14</td>\n",
              "      <td>4.983057</td>\n",
              "      <td>4.490593</td>\n",
              "      <td>00:00</td>\n",
              "    </tr>\n",
              "    <tr>\n",
              "      <td>15</td>\n",
              "      <td>4.647452</td>\n",
              "      <td>4.585692</td>\n",
              "      <td>00:00</td>\n",
              "    </tr>\n",
              "    <tr>\n",
              "      <td>16</td>\n",
              "      <td>4.571802</td>\n",
              "      <td>3.678400</td>\n",
              "      <td>00:00</td>\n",
              "    </tr>\n",
              "    <tr>\n",
              "      <td>17</td>\n",
              "      <td>4.198813</td>\n",
              "      <td>5.683701</td>\n",
              "      <td>00:00</td>\n",
              "    </tr>\n",
              "    <tr>\n",
              "      <td>18</td>\n",
              "      <td>3.755291</td>\n",
              "      <td>5.268126</td>\n",
              "      <td>00:00</td>\n",
              "    </tr>\n",
              "    <tr>\n",
              "      <td>19</td>\n",
              "      <td>3.576386</td>\n",
              "      <td>3.400793</td>\n",
              "      <td>00:00</td>\n",
              "    </tr>\n",
              "    <tr>\n",
              "      <td>20</td>\n",
              "      <td>3.303213</td>\n",
              "      <td>3.674899</td>\n",
              "      <td>00:00</td>\n",
              "    </tr>\n",
              "    <tr>\n",
              "      <td>21</td>\n",
              "      <td>3.002343</td>\n",
              "      <td>3.877181</td>\n",
              "      <td>00:00</td>\n",
              "    </tr>\n",
              "    <tr>\n",
              "      <td>22</td>\n",
              "      <td>3.066686</td>\n",
              "      <td>3.607787</td>\n",
              "      <td>00:00</td>\n",
              "    </tr>\n",
              "  </tbody>\n",
              "</table>"
            ],
            "text/plain": [
              "<IPython.core.display.HTML object>"
            ]
          },
          "metadata": {
            "tags": []
          }
        },
        {
          "output_type": "display_data",
          "data": {
            "image/png": "[encoded data removed]",
            "text/plain": [
              "<Figure size 432x288 with 1 Axes>"
            ]
          },
          "metadata": {
            "tags": [],
            "needs_background": "light"
          }
        }
      ]
    },
    {
      "cell_type": "code",
      "metadata": {
        "id": "MzgMsR8UNVlR",
        "colab_type": "code",
        "colab": {}
      },
      "source": [
        "nCases = 200\n",
        "samplesANN = []\n",
        "\n",
        "for ii in range(nCases):\n",
        "\n",
        "  T_h0 = 280 + 20*np.random.randn() ;\n",
        "  T_h20= 218 + 10*np.random.randn() ;\n",
        "  T_h50= 270 + 20*np.random.randn() ;\n",
        "  T_h70= 216 + 25*np.random.randn() ;\n",
        "  T_h90= 185 + 25*np.random.randn() ;\n",
        "  T_h120 = 360 + 25*np.random.randn() ;\n",
        "\n",
        "  rho_h0 = 1.225 + 0.1*np.random.randn() ;\n",
        "  rho_h40 = 4e-3 + 5e-4*np.random.randn() ;\n",
        "  rho_h90 = 3.5e-6 + 6e-7*np.random.randn() ;\n",
        "  rho_h120 = 2.5e-8 + 5e-9*np.random.randn() ; \n",
        "\n",
        "  parts_n2 = np.random.uniform()*(0.2) + 0.7 ;\n",
        "  cp = np.random.uniform()*200 + 1300 ;\n",
        "  gamma = np.random.uniform()*(-2) - 0.5 ;\n",
        "  res = np.random.uniform()*100 + 7550 ;\n",
        "  mod = np.random.uniform()*100 + 200 ;\n",
        "  Xi = np.random.uniform()*10 + 33 ;\n",
        "\n",
        "  samplesANN.append([T_h0, T_h20, T_h50, T_h70, T_h90, T_h120, rho_h0, rho_h40, rho_h90, rho_h120, parts_n2, cp, gamma, res, mod, Xi])\n",
        "\n",
        "samplesANN = np.array(samplesANN)"
      ],
      "execution_count": 0,
      "outputs": []
    },
    {
      "cell_type": "code",
      "metadata": {
        "id": "XyBgA8asPCuL",
        "colab_type": "code",
        "colab": {}
      },
      "source": [
        "samplesANN = pd.DataFrame(samplesANN, columns=['T_h0', 'T_h20', 'T_h50', 'T_h70', 'T_h90', 'T_h120', 'rho_h0',\n",
        "             'rho_h40', 'rho_h90', 'rho_h120', 'parts_n2', 'cp', 'gamma', 'res',\n",
        "             'mod', 'Xi'])"
      ],
      "execution_count": 0,
      "outputs": []
    },
    {
      "cell_type": "code",
      "metadata": {
        "id": "RlUwJPECO2tV",
        "colab_type": "code",
        "colab": {}
      },
      "source": [
        "dl = learn.dls.test_dl(samplesANN)"
      ],
      "execution_count": 0,
      "outputs": []
    },
    {
      "cell_type": "code",
      "metadata": {
        "id": "1IGyO2mjPS1q",
        "colab_type": "code",
        "outputId": "01502d2a-e389-44d0-9d19-a03a9a611ff4",
        "colab": {
          "base_uri": "https://localhost:8080/",
          "height": 17
        }
      },
      "source": [
        "raw_test_preds = learn.get_preds(dl=dl)\n",
        "predArray = np.array(raw_test_preds[0])"
      ],
      "execution_count": 0,
      "outputs": [
        {
          "output_type": "display_data",
          "data": {
            "text/html": [
              ""
            ],
            "text/plain": [
              "<IPython.core.display.HTML object>"
            ]
          },
          "metadata": {
            "tags": []
          }
        }
      ]
    },
    {
      "cell_type": "code",
      "metadata": {
        "id": "rYHOKPtpO1zb",
        "colab_type": "code",
        "colab": {
          "base_uri": "https://localhost:8080/",
          "height": 34
        },
        "outputId": "fd607fc3-016c-4854-fb86-8628eba610b4"
      },
      "source": [
        "statsML = ComputeStatParam(predArray.T[0])\n",
        "statsML"
      ],
      "execution_count": 131,
      "outputs": [
        {
          "output_type": "execute_result",
          "data": {
            "text/html": [
              "[11.965266227722168    (11.255563473701477, 12.656283259391785), 5.086628437042236    (4.744225335121154, 5.464013469219208), 0.4718995184965514, 2.067338846811656]"
            ],
            "text/plain": [
              "[11.965266227722168    (11.255563473701477, 12.656283259391785),\n",
              " 5.086628437042236    (4.744225335121154, 5.464013469219208),\n",
              " 0.4718995184965514,\n",
              " 2.067338846811656]"
            ]
          },
          "metadata": {
            "tags": []
          },
          "execution_count": 131
        }
      ]
    },
    {
      "cell_type": "markdown",
      "metadata": {
        "id": "KCfhHggQ8gl3",
        "colab_type": "text"
      },
      "source": [
        "### SHAP"
      ]
    },
    {
      "cell_type": "code",
      "metadata": {
        "id": "p5CDFdX_8hwL",
        "colab_type": "code",
        "outputId": "5ab2a638-5273-40f7-cf7f-4c563978c5b2",
        "colab": {
          "base_uri": "https://localhost:8080/",
          "height": 70
        }
      },
      "source": [
        "!pip install -q fastshap"
      ],
      "execution_count": 0,
      "outputs": [
        {
          "output_type": "stream",
          "text": [
            "\u001b[?25l\r\u001b[K     |█▏                              | 10kB 22.8MB/s eta 0:00:01\r\u001b[K     |██▍                             | 20kB 15.7MB/s eta 0:00:01\r\u001b[K     |███▋                            | 30kB 5.1MB/s eta 0:00:01\r\u001b[K     |████▉                           | 40kB 6.0MB/s eta 0:00:01\r\u001b[K     |██████                          | 51kB 6.4MB/s eta 0:00:01\r\u001b[K     |███████▏                        | 61kB 6.7MB/s eta 0:00:01\r\u001b[K     |████████▍                       | 71kB 7.1MB/s eta 0:00:01\r\u001b[K     |█████████▋                      | 81kB 7.0MB/s eta 0:00:01\r\u001b[K     |██████████▉                     | 92kB 7.1MB/s eta 0:00:01\r\u001b[K     |████████████                    | 102kB 7.6MB/s eta 0:00:01\r\u001b[K     |█████████████▏                  | 112kB 7.6MB/s eta 0:00:01\r\u001b[K     |██████████████▍                 | 122kB 7.6MB/s eta 0:00:01\r\u001b[K     |███████████████▋                | 133kB 7.6MB/s eta 0:00:01\r\u001b[K     |████████████████▉               | 143kB 7.6MB/s eta 0:00:01\r\u001b[K     |██████████████████              | 153kB 7.6MB/s eta 0:00:01\r\u001b[K     |███████████████████▏            | 163kB 7.6MB/s eta 0:00:01\r\u001b[K     |████████████████████▍           | 174kB 7.6MB/s eta 0:00:01\r\u001b[K     |█████████████████████▋          | 184kB 7.6MB/s eta 0:00:01\r\u001b[K     |██████████████████████▉         | 194kB 7.6MB/s eta 0:00:01\r\u001b[K     |████████████████████████        | 204kB 7.6MB/s eta 0:00:01\r\u001b[K     |█████████████████████████▏      | 215kB 7.6MB/s eta 0:00:01\r\u001b[K     |██████████████████████████▍     | 225kB 7.6MB/s eta 0:00:01\r\u001b[K     |███████████████████████████▋    | 235kB 7.6MB/s eta 0:00:01\r\u001b[K     |████████████████████████████▉   | 245kB 7.6MB/s eta 0:00:01\r\u001b[K     |██████████████████████████████  | 256kB 7.6MB/s eta 0:00:01\r\u001b[K     |███████████████████████████████▏| 266kB 7.6MB/s eta 0:00:01\r\u001b[K     |████████████████████████████████| 276kB 7.6MB/s \n",
            "\u001b[?25h  Building wheel for fastshap (setup.py) ... \u001b[?25l\u001b[?25hdone\n",
            "  Building wheel for shap (setup.py) ... \u001b[?25l\u001b[?25hdone\n"
          ],
          "name": "stdout"
        }
      ]
    },
    {
      "cell_type": "code",
      "metadata": {
        "id": "avR7I7RS8mT9",
        "colab_type": "code",
        "colab": {}
      },
      "source": [
        "from fastshap.interp import *"
      ],
      "execution_count": 0,
      "outputs": []
    },
    {
      "cell_type": "code",
      "metadata": {
        "id": "fuZIHiz-8nL-",
        "colab_type": "code",
        "outputId": "862006d8-8c94-482c-8918-72d87f1e905c",
        "colab": {
          "base_uri": "https://localhost:8080/",
          "height": 67,
          "referenced_widgets": [
            "dddb30f369b24864b61012a59bb7e292",
            "f3d6740042ca4307a5dfbe05d1cb750b",
            "c9aee4688bb64885b53fcaff3b0da27a",
            "d0ec34a95a23409587c25df0dba90969",
            "b0161512d3fc453fbf34aefc5439b877",
            "8d0ec073f75d445988182acbc864c928",
            "6f0ebfbc13b64d91b63fc8c7c289de97",
            "1cbfbf80ad59465d8780ca20b25715f2"
          ]
        }
      },
      "source": [
        "learn.dl.vocab = learn.dl.y_names # This is only needed for regression problems\n",
        "exp = ShapInterpretation(learn)"
      ],
      "execution_count": 0,
      "outputs": [
        {
          "output_type": "display_data",
          "data": {
            "application/vnd.jupyter.widget-view+json": {
              "model_id": "dddb30f369b24864b61012a59bb7e292",
              "version_minor": 0,
              "version_major": 2
            },
            "text/plain": [
              "HBox(children=(FloatProgress(value=0.0, max=40.0), HTML(value='')))"
            ]
          },
          "metadata": {
            "tags": []
          }
        },
        {
          "output_type": "stream",
          "text": [
            "\n"
          ],
          "name": "stdout"
        }
      ]
    },
    {
      "cell_type": "code",
      "metadata": {
        "id": "KuSo5PbF8qNA",
        "colab_type": "code",
        "outputId": "a839245b-8f94-4f16-edf1-fef14fb0e5e8",
        "colab": {
          "base_uri": "https://localhost:8080/",
          "height": 498
        }
      },
      "source": [
        "exp.summary_plot()"
      ],
      "execution_count": 0,
      "outputs": [
        {
          "output_type": "display_data",
          "data": {
            "image/png": "[encoded data removed]",
            "text/plain": [
              "<Figure size 576x568.8 with 2 Axes>"
            ]
          },
          "metadata": {
            "tags": [],
            "needs_background": "light"
          }
        }
      ]
    },
    {
      "cell_type": "markdown",
      "metadata": {
        "id": "EH14XSLsBobi",
        "colab_type": "text"
      },
      "source": [
        "## KS Test"
      ]
    },
    {
      "cell_type": "code",
      "metadata": {
        "id": "hJ9HcBDuFQgM",
        "colab_type": "code",
        "colab": {}
      },
      "source": [
        "from scipy import stats\n",
        "\n",
        "import numpy as np\n",
        "import matplotlib.pyplot as plt"
      ],
      "execution_count": 0,
      "outputs": []
    },
    {
      "cell_type": "code",
      "metadata": {
        "id": "drGfx7HSFaVA",
        "colab_type": "code",
        "colab": {}
      },
      "source": [
        "Nsamples1=len(np.array(samples[\"long\"]))\n",
        "Nsamples2=len(predArray.T[0])"
      ],
      "execution_count": 0,
      "outputs": []
    },
    {
      "cell_type": "code",
      "metadata": {
        "id": "lFgXqpleGBmu",
        "colab_type": "code",
        "colab": {}
      },
      "source": [
        "Nruns=1000\n",
        "VV=[];\n",
        "Calpha05=1.358\n",
        "Calpha01=1.628\n",
        "nrj05=0\n",
        "nrj01=0"
      ],
      "execution_count": 0,
      "outputs": []
    },
    {
      "cell_type": "code",
      "metadata": {
        "id": "NUFAenKgGYbW",
        "colab_type": "code",
        "colab": {}
      },
      "source": [
        "for i in range(Nruns):\n",
        "\txs1 = np.array(samples[\"long\"])\n",
        "\txs2 = predArray.T[0]\n",
        "\tKsStat,Ks_pvalue=stats.ks_2samp(xs1, xs2)\n",
        "\n",
        "\tDT05=Calpha05*np.sqrt((Nsamples1+Nsamples2)/Nsamples1/Nsamples2)\n",
        "\tif KsStat>DT05:\n",
        "\t\trj05=1;\n",
        "\t\tnrj05=nrj05+1\n",
        "\telse:\n",
        "\t\trj05=0;\n",
        "\tDT01=Calpha01*np.sqrt((Nsamples1+Nsamples2)/Nsamples1/Nsamples2)\n",
        "\tif KsStat>DT01:\n",
        "\t\trj01=1;\n",
        "\t\tnrj01=nrj01+1\n",
        "\telse:\n",
        "\t\trj01=0;\n",
        "\tVV.append([KsStat,Ks_pvalue, DT05, DT01, rj05, rj01])"
      ],
      "execution_count": 0,
      "outputs": []
    },
    {
      "cell_type": "code",
      "metadata": {
        "id": "ouxOJ1M4Ga7p",
        "colab_type": "code",
        "outputId": "bcc0ddd5-e85a-4f31-ade7-4bb60b70e622",
        "colab": {
          "base_uri": "https://localhost:8080/",
          "height": 549
        }
      },
      "source": [
        "VV=np.array(VV)\n",
        "sortedVV = VV[VV[:,1].argsort()]\n",
        "np.savetxt('VVKS2s.dat', sortedVV, delimiter=' ')\n",
        "plt.figure()\n",
        "plt.plot(sortedVV[:,0])\n",
        "plt.figure()\n",
        "plt.plot(sortedVV[:,1])\n",
        "print(\"The Null Hypothesis (distributions are equal) is rejected \",nrj05,\" times over \",Nruns,\" (\",nrj05/Nruns*100,\"%) with alpha=0.05\")\n",
        "print(\"The Null Hypothesis (distributions are equal) is rejected \",nrj01,\" times over \",Nruns,\" (\",nrj01/Nruns*100,\"%) with alpha=0.01\")"
      ],
      "execution_count": 0,
      "outputs": [
        {
          "output_type": "stream",
          "text": [
            "The Null Hypothesis (distributions are equal) is rejected  0  times over  1000  ( 0.0 %) with alpha=0.05\n",
            "The Null Hypothesis (distributions are equal) is rejected  0  times over  1000  ( 0.0 %) with alpha=0.01\n"
          ],
          "name": "stdout"
        },
        {
          "output_type": "display_data",
          "data": {
            "image/png": "[encoded data removed]",
            "text/plain": [
              "<Figure size 432x288 with 1 Axes>"
            ]
          },
          "metadata": {
            "tags": [],
            "needs_background": "light"
          }
        },
        {
          "output_type": "display_data",
          "data": {
            "image/png": "[encoded data removed]",
            "text/plain": [
              "<Figure size 432x288 with 1 Axes>"
            ]
          },
          "metadata": {
            "tags": [],
            "needs_background": "light"
          }
        }
      ]
    },
    {
      "cell_type": "markdown",
      "metadata": {
        "id": "y4ICJQWCBfP0",
        "colab_type": "text"
      },
      "source": [
        "## Histograms"
      ]
    },
    {
      "cell_type": "code",
      "metadata": {
        "id": "1bLXcGmxBhT4",
        "colab_type": "code",
        "outputId": "de8bbf23-febf-40a4-e7a6-34927b9462e8",
        "colab": {
          "base_uri": "https://localhost:8080/",
          "height": 35
        }
      },
      "source": [
        "import seaborn as sns"
      ],
      "execution_count": 0,
      "outputs": [
        {
          "output_type": "stream",
          "text": [
            "pandas.util.testing is deprecated. Use the functions in the public API at pandas.testing instead.\n"
          ],
          "name": "stderr"
        }
      ]
    },
    {
      "cell_type": "markdown",
      "metadata": {
        "id": "lhMr5cYTCe2j",
        "colab_type": "text"
      },
      "source": [
        "https://cmdlinetips.com/2019/02/how-to-make-histogram-in-python-with-pandas-and-seaborn/"
      ]
    },
    {
      "cell_type": "code",
      "metadata": {
        "id": "F5gtxh00CO-a",
        "colab_type": "code",
        "outputId": "71e14fb6-39d4-4bcb-ebcd-ba90038d73a7",
        "colab": {
          "base_uri": "https://localhost:8080/",
          "height": 313
        }
      },
      "source": [
        "# 1d hist\n",
        "# data['lon'].hist(bins=100)\n",
        "\n",
        "#\n",
        "sns.distplot(np.array(samples[\"long\"]), hist = True, kde = True, label='MC')\n",
        "#\n",
        "sns.distplot(predArray.T[0], hist = True, kde = True, label='ML')\n",
        "# Plot formatting\n",
        "plt.legend(prop={'size': 12})\n",
        "plt.title('KS Statistic: {}'.format(0))\n",
        "plt.xlabel('Longitude')\n",
        "plt.ylabel('Density')  "
      ],
      "execution_count": 0,
      "outputs": [
        {
          "output_type": "execute_result",
          "data": {
            "text/plain": [
              "Text(0, 0.5, 'Density')"
            ]
          },
          "metadata": {
            "tags": []
          },
          "execution_count": 130
        },
        {
          "output_type": "display_data",
          "data": {
            "image/png": "[encoded data removed]",
            "text/plain": [
              "<Figure size 432x288 with 1 Axes>"
            ]
          },
          "metadata": {
            "tags": [],
            "needs_background": "light"
          }
        }
      ]
    },
    {
      "cell_type": "code",
      "metadata": {
        "id": "ShnX_E1YBl2v",
        "colab_type": "code",
        "colab": {}
      },
      "source": [
        "# 2d hist\n",
        "# sns.jointplot(x=preds_longitude, y=preds_latitude, kind=\"hex\") "
      ],
      "execution_count": 0,
      "outputs": []
    }
  ]
}