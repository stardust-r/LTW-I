{
  "nbformat": 4,
  "nbformat_minor": 0,
  "metadata": {
    "colab": {
      "name": "ltw-i-wp2-tutorial.ipynb",
      "provenance": [],
      "collapsed_sections": []
    },
    "kernelspec": {
      "name": "python3",
      "display_name": "Python 3"
    },
    "accelerator": "GPU",
    "widgets": {
      "application/vnd.jupyter.widget-state+json": {
        "f7c8fe3b604e49458211b277fa10463c": {
          "model_module": "@jupyter-widgets/controls",
          "model_name": "HBoxModel",
          "state": {
            "_view_name": "HBoxView",
            "_dom_classes": [],
            "_model_name": "HBoxModel",
            "_view_module": "@jupyter-widgets/controls",
            "_model_module_version": "1.5.0",
            "_view_count": null,
            "_view_module_version": "1.5.0",
            "box_style": "",
            "layout": "IPY_MODEL_9c614ff9949e43b1ab65ff979584ab6a",
            "_model_module": "@jupyter-widgets/controls",
            "children": [
              "IPY_MODEL_059f1ab686a04951becfe493e4b7bc26",
              "IPY_MODEL_2847696cd483491a80fd6de9cc078643"
            ]
          }
        },
        "9c614ff9949e43b1ab65ff979584ab6a": {
          "model_module": "@jupyter-widgets/base",
          "model_name": "LayoutModel",
          "state": {
            "_view_name": "LayoutView",
            "grid_template_rows": null,
            "right": null,
            "justify_content": null,
            "_view_module": "@jupyter-widgets/base",
            "overflow": null,
            "_model_module_version": "1.2.0",
            "_view_count": null,
            "flex_flow": null,
            "width": null,
            "min_width": null,
            "border": null,
            "align_items": null,
            "bottom": null,
            "_model_module": "@jupyter-widgets/base",
            "top": null,
            "grid_column": null,
            "overflow_y": null,
            "overflow_x": null,
            "grid_auto_flow": null,
            "grid_area": null,
            "grid_template_columns": null,
            "flex": null,
            "_model_name": "LayoutModel",
            "justify_items": null,
            "grid_row": null,
            "max_height": null,
            "align_content": null,
            "visibility": null,
            "align_self": null,
            "height": null,
            "min_height": null,
            "padding": null,
            "grid_auto_rows": null,
            "grid_gap": null,
            "max_width": null,
            "order": null,
            "_view_module_version": "1.2.0",
            "grid_template_areas": null,
            "object_position": null,
            "object_fit": null,
            "grid_auto_columns": null,
            "margin": null,
            "display": null,
            "left": null
          }
        },
        "059f1ab686a04951becfe493e4b7bc26": {
          "model_module": "@jupyter-widgets/controls",
          "model_name": "FloatProgressModel",
          "state": {
            "_view_name": "ProgressView",
            "style": "IPY_MODEL_4386f3d9b1074da2bdb78959df683908",
            "_dom_classes": [],
            "description": "100%",
            "_model_name": "FloatProgressModel",
            "bar_style": "success",
            "max": 128,
            "_view_module": "@jupyter-widgets/controls",
            "_model_module_version": "1.5.0",
            "value": 128,
            "_view_count": null,
            "_view_module_version": "1.5.0",
            "orientation": "horizontal",
            "min": 0,
            "description_tooltip": null,
            "_model_module": "@jupyter-widgets/controls",
            "layout": "IPY_MODEL_6887cefd5f2b4753b7106113bde7044e"
          }
        },
        "2847696cd483491a80fd6de9cc078643": {
          "model_module": "@jupyter-widgets/controls",
          "model_name": "HTMLModel",
          "state": {
            "_view_name": "HTMLView",
            "style": "IPY_MODEL_288beac49d6043a6a2257655b4d09d88",
            "_dom_classes": [],
            "description": "",
            "_model_name": "HTMLModel",
            "placeholder": "​",
            "_view_module": "@jupyter-widgets/controls",
            "_model_module_version": "1.5.0",
            "value": " 128/128 [00:25&lt;00:00,  5.10it/s]",
            "_view_count": null,
            "_view_module_version": "1.5.0",
            "description_tooltip": null,
            "_model_module": "@jupyter-widgets/controls",
            "layout": "IPY_MODEL_a8503acfcbf640e4851fcdf0d25839b0"
          }
        },
        "4386f3d9b1074da2bdb78959df683908": {
          "model_module": "@jupyter-widgets/controls",
          "model_name": "ProgressStyleModel",
          "state": {
            "_view_name": "StyleView",
            "_model_name": "ProgressStyleModel",
            "description_width": "initial",
            "_view_module": "@jupyter-widgets/base",
            "_model_module_version": "1.5.0",
            "_view_count": null,
            "_view_module_version": "1.2.0",
            "bar_color": null,
            "_model_module": "@jupyter-widgets/controls"
          }
        },
        "6887cefd5f2b4753b7106113bde7044e": {
          "model_module": "@jupyter-widgets/base",
          "model_name": "LayoutModel",
          "state": {
            "_view_name": "LayoutView",
            "grid_template_rows": null,
            "right": null,
            "justify_content": null,
            "_view_module": "@jupyter-widgets/base",
            "overflow": null,
            "_model_module_version": "1.2.0",
            "_view_count": null,
            "flex_flow": null,
            "width": null,
            "min_width": null,
            "border": null,
            "align_items": null,
            "bottom": null,
            "_model_module": "@jupyter-widgets/base",
            "top": null,
            "grid_column": null,
            "overflow_y": null,
            "overflow_x": null,
            "grid_auto_flow": null,
            "grid_area": null,
            "grid_template_columns": null,
            "flex": null,
            "_model_name": "LayoutModel",
            "justify_items": null,
            "grid_row": null,
            "max_height": null,
            "align_content": null,
            "visibility": null,
            "align_self": null,
            "height": null,
            "min_height": null,
            "padding": null,
            "grid_auto_rows": null,
            "grid_gap": null,
            "max_width": null,
            "order": null,
            "_view_module_version": "1.2.0",
            "grid_template_areas": null,
            "object_position": null,
            "object_fit": null,
            "grid_auto_columns": null,
            "margin": null,
            "display": null,
            "left": null
          }
        },
        "288beac49d6043a6a2257655b4d09d88": {
          "model_module": "@jupyter-widgets/controls",
          "model_name": "DescriptionStyleModel",
          "state": {
            "_view_name": "StyleView",
            "_model_name": "DescriptionStyleModel",
            "description_width": "",
            "_view_module": "@jupyter-widgets/base",
            "_model_module_version": "1.5.0",
            "_view_count": null,
            "_view_module_version": "1.2.0",
            "_model_module": "@jupyter-widgets/controls"
          }
        },
        "a8503acfcbf640e4851fcdf0d25839b0": {
          "model_module": "@jupyter-widgets/base",
          "model_name": "LayoutModel",
          "state": {
            "_view_name": "LayoutView",
            "grid_template_rows": null,
            "right": null,
            "justify_content": null,
            "_view_module": "@jupyter-widgets/base",
            "overflow": null,
            "_model_module_version": "1.2.0",
            "_view_count": null,
            "flex_flow": null,
            "width": null,
            "min_width": null,
            "border": null,
            "align_items": null,
            "bottom": null,
            "_model_module": "@jupyter-widgets/base",
            "top": null,
            "grid_column": null,
            "overflow_y": null,
            "overflow_x": null,
            "grid_auto_flow": null,
            "grid_area": null,
            "grid_template_columns": null,
            "flex": null,
            "_model_name": "LayoutModel",
            "justify_items": null,
            "grid_row": null,
            "max_height": null,
            "align_content": null,
            "visibility": null,
            "align_self": null,
            "height": null,
            "min_height": null,
            "padding": null,
            "grid_auto_rows": null,
            "grid_gap": null,
            "max_width": null,
            "order": null,
            "_view_module_version": "1.2.0",
            "grid_template_areas": null,
            "object_position": null,
            "object_fit": null,
            "grid_auto_columns": null,
            "margin": null,
            "display": null,
            "left": null
          }
        }
      }
    }
  },
  "cells": [
    {
      "cell_type": "markdown",
      "metadata": {
        "id": "PiyMMUUY2G1j",
        "colab_type": "text"
      },
      "source": [
        "# Tutorial: Tabular regression model with fastai2\n",
        "\n"
      ]
    },
    {
      "cell_type": "markdown",
      "metadata": {
        "id": "auGoHfyOapE6",
        "colab_type": "text"
      },
      "source": [
        "Tabular modelling takes data in the form of a table (like a spreadsheet or CSV--comma separated values). The objective is to predict the value in one or more columns, based on the values in the other columns.\n",
        "\n",
        "A regression model is one which attempts to predict one or more numeric quantities, such as a temperature or a location.\n",
        "\n",
        "In this tutorial, we'll be looking at the dataset from the Rossmann's Kaggle competition. The premise is that we're given the sales data and information of their stores for the past few years. We need to make a model that can predict the number of sales that will be made in the future. This tutorial is based on selected contents from these two notebooks:\n",
        "* https://github.com/fastai/fastbook/blob/master/09_tabular.ipynb\n",
        "* https://github.com/muellerzr/Practical-Deep-Learning-for-Coders-2.0/blob/master/Tabular%20Notebooks/02_Regression_and_Permutation_Importance.ipynb\n",
        "\n",
        "This problem can then be expanded to predict the variables of interest in our dataset of re-entry uncertainties!"
      ]
    },
    {
      "cell_type": "markdown",
      "metadata": {
        "id": "N-O6gPY6W1IC",
        "colab_type": "text"
      },
      "source": [
        "## Setup the GPU"
      ]
    },
    {
      "cell_type": "markdown",
      "metadata": {
        "id": "kAPsD_VIhMEu",
        "colab_type": "text"
      },
      "source": [
        "Before starting, you will need to set colab to use the GPU:\n",
        "* Go to Edit > Notebook settings or Runtime > Change runtime type and select GPU as Hardware accelerator.\n",
        "* https://medium.com/deep-learning-turkey/google-colab-free-gpu-tutorial-e113627b9f5d"
      ]
    },
    {
      "cell_type": "markdown",
      "metadata": {
        "id": "A4CuOdYq9o9U",
        "colab_type": "text"
      },
      "source": [
        "## Install Fastai2 library"
      ]
    },
    {
      "cell_type": "markdown",
      "metadata": {
        "id": "voP1iR7ObeVJ",
        "colab_type": "text"
      },
      "source": [
        "The fastai2 library is not pre-installed in colab so we first need to pip install it. Using \"!\" at the beginning of a cell in a Jupyter notebook runs a shell command inside the notebook, and installs the library directly to the colab virtual machine. You only need to rerun this when restarting the kernel."
      ]
    },
    {
      "cell_type": "code",
      "metadata": {
        "id": "hWlStVmdAx72",
        "colab_type": "code",
        "outputId": "816625cc-0253-43e5-e883-3e0d54dc4a77",
        "colab": {
          "base_uri": "https://localhost:8080/",
          "height": 34
        }
      },
      "source": [
        "!pip install -q fastai2"
      ],
      "execution_count": 0,
      "outputs": [
        {
          "output_type": "stream",
          "text": [
            "\u001b[?25l\r\u001b[K     |█▊                              | 10kB 36.1MB/s eta 0:00:01\r\u001b[K     |███▌                            | 20kB 6.3MB/s eta 0:00:01\r\u001b[K     |█████▏                          | 30kB 8.9MB/s eta 0:00:01\r\u001b[K     |███████                         | 40kB 11.3MB/s eta 0:00:01\r\u001b[K     |████████▋                       | 51kB 7.4MB/s eta 0:00:01\r\u001b[K     |██████████▍                     | 61kB 8.6MB/s eta 0:00:01\r\u001b[K     |████████████                    | 71kB 9.8MB/s eta 0:00:01\r\u001b[K     |█████████████▉                  | 81kB 10.9MB/s eta 0:00:01\r\u001b[K     |███████████████▌                | 92kB 8.6MB/s eta 0:00:01\r\u001b[K     |█████████████████▎              | 102kB 9.4MB/s eta 0:00:01\r\u001b[K     |███████████████████             | 112kB 9.4MB/s eta 0:00:01\r\u001b[K     |████████████████████▊           | 122kB 9.4MB/s eta 0:00:01\r\u001b[K     |██████████████████████▍         | 133kB 9.4MB/s eta 0:00:01\r\u001b[K     |████████████████████████▏       | 143kB 9.4MB/s eta 0:00:01\r\u001b[K     |█████████████████████████▉      | 153kB 9.4MB/s eta 0:00:01\r\u001b[K     |███████████████████████████▋    | 163kB 9.4MB/s eta 0:00:01\r\u001b[K     |█████████████████████████████▎  | 174kB 9.4MB/s eta 0:00:01\r\u001b[K     |███████████████████████████████ | 184kB 9.4MB/s eta 0:00:01\r\u001b[K     |████████████████████████████████| 194kB 9.4MB/s \n",
            "\u001b[?25h"
          ],
          "name": "stdout"
        }
      ]
    },
    {
      "cell_type": "markdown",
      "metadata": {
        "id": "OAa6DBR4Q-lt",
        "colab_type": "text"
      },
      "source": [
        "In fastai2, all the modules related to tabular learning can be found under *fastai.tabular.all*.\n"
      ]
    },
    {
      "cell_type": "code",
      "metadata": {
        "id": "p1D1kqjS2Jjr",
        "colab_type": "code",
        "colab": {}
      },
      "source": [
        "from fastai2.tabular.all import *"
      ],
      "execution_count": 0,
      "outputs": []
    },
    {
      "cell_type": "markdown",
      "metadata": {
        "id": "f_PC7JNdgj1E",
        "colab_type": "text"
      },
      "source": [
        "We'll need to do some tabular data processing and querying, so we'll want to use the Pandas library. Finally, we'll also need numpy, since that's the main numeric programming library that Pandas rely on.\n"
      ]
    },
    {
      "cell_type": "code",
      "metadata": {
        "colab_type": "code",
        "id": "V8DpP16W2Izr",
        "colab": {}
      },
      "source": [
        "import numpy as np\n",
        "import pandas as pd"
      ],
      "execution_count": 0,
      "outputs": []
    },
    {
      "cell_type": "markdown",
      "metadata": {
        "id": "Fkqpiq-J390D",
        "colab_type": "text"
      },
      "source": [
        "## Download & Access Data"
      ]
    },
    {
      "cell_type": "markdown",
      "metadata": {
        "id": "tHzT31zPca5x",
        "colab_type": "text"
      },
      "source": [
        "Rossmann's Kaggle competition was a business sales prediction competition for $35,000 dollars to the winners.\n",
        "\n",
        "The premise is that we're given the sales data and information of their stores for the past few years. We need to make a model that can predict the number of sales that will be made in the future.\n",
        "\n",
        "For this tutorial we will download a clean engineered dataset"
      ]
    },
    {
      "cell_type": "code",
      "metadata": {
        "id": "W8_hCGlfkPLP",
        "colab_type": "code",
        "colab": {}
      },
      "source": [
        "from fastai2.data.all import *"
      ],
      "execution_count": 0,
      "outputs": []
    },
    {
      "cell_type": "code",
      "metadata": {
        "id": "D4Q7LjNu3wvA",
        "colab_type": "code",
        "outputId": "fdd829ce-365a-4d1c-99f1-8f3230a2601b",
        "colab": {
          "base_uri": "https://localhost:8080/",
          "height": 17
        }
      },
      "source": [
        "download_url('https://aida.ii.uam.es/data/stardust_ltw/train_rossman', dest='tutorial_data')"
      ],
      "execution_count": 0,
      "outputs": [
        {
          "output_type": "display_data",
          "data": {
            "text/html": [
              ""
            ],
            "text/plain": [
              "<IPython.core.display.HTML object>"
            ]
          },
          "metadata": {
            "tags": []
          }
        }
      ]
    },
    {
      "cell_type": "code",
      "metadata": {
        "id": "w49S6MFcjMt2",
        "colab_type": "code",
        "colab": {}
      },
      "source": [
        "df = pd.read_pickle('tutorial_data')"
      ],
      "execution_count": 0,
      "outputs": []
    },
    {
      "cell_type": "code",
      "metadata": {
        "id": "-Irr3g4qjZLB",
        "colab_type": "code",
        "outputId": "3663498b-556d-453b-e62c-c0f552f4219a",
        "colab": {
          "base_uri": "https://localhost:8080/",
          "height": 593
        }
      },
      "source": [
        "df.head()"
      ],
      "execution_count": 0,
      "outputs": [
        {
          "output_type": "execute_result",
          "data": {
            "text/html": [
              "<div>\n",
              "<style scoped>\n",
              "    .dataframe tbody tr th:only-of-type {\n",
              "        vertical-align: middle;\n",
              "    }\n",
              "\n",
              "    .dataframe tbody tr th {\n",
              "        vertical-align: top;\n",
              "    }\n",
              "\n",
              "    .dataframe thead th {\n",
              "        text-align: right;\n",
              "    }\n",
              "</style>\n",
              "<table border=\"1\" class=\"dataframe\">\n",
              "  <thead>\n",
              "    <tr style=\"text-align: right;\">\n",
              "      <th></th>\n",
              "      <th>index</th>\n",
              "      <th>Store</th>\n",
              "      <th>DayOfWeek</th>\n",
              "      <th>Date</th>\n",
              "      <th>Sales</th>\n",
              "      <th>Customers</th>\n",
              "      <th>Open</th>\n",
              "      <th>Promo</th>\n",
              "      <th>StateHoliday</th>\n",
              "      <th>SchoolHoliday</th>\n",
              "      <th>Year</th>\n",
              "      <th>Month</th>\n",
              "      <th>Week</th>\n",
              "      <th>Day</th>\n",
              "      <th>Dayofweek</th>\n",
              "      <th>Dayofyear</th>\n",
              "      <th>Is_month_end</th>\n",
              "      <th>Is_month_start</th>\n",
              "      <th>Is_quarter_end</th>\n",
              "      <th>Is_quarter_start</th>\n",
              "      <th>Is_year_end</th>\n",
              "      <th>Is_year_start</th>\n",
              "      <th>Elapsed</th>\n",
              "      <th>StoreType</th>\n",
              "      <th>Assortment</th>\n",
              "      <th>CompetitionDistance</th>\n",
              "      <th>CompetitionOpenSinceMonth</th>\n",
              "      <th>CompetitionOpenSinceYear</th>\n",
              "      <th>Promo2</th>\n",
              "      <th>Promo2SinceWeek</th>\n",
              "      <th>Promo2SinceYear</th>\n",
              "      <th>PromoInterval</th>\n",
              "      <th>State</th>\n",
              "      <th>file</th>\n",
              "      <th>week</th>\n",
              "      <th>trend</th>\n",
              "      <th>file_DE</th>\n",
              "      <th>week_DE</th>\n",
              "      <th>trend_DE</th>\n",
              "      <th>Date_DE</th>\n",
              "      <th>...</th>\n",
              "      <th>Mean_TemperatureC</th>\n",
              "      <th>Min_TemperatureC</th>\n",
              "      <th>Dew_PointC</th>\n",
              "      <th>MeanDew_PointC</th>\n",
              "      <th>Min_DewpointC</th>\n",
              "      <th>Max_Humidity</th>\n",
              "      <th>Mean_Humidity</th>\n",
              "      <th>Min_Humidity</th>\n",
              "      <th>Max_Sea_Level_PressurehPa</th>\n",
              "      <th>Mean_Sea_Level_PressurehPa</th>\n",
              "      <th>Min_Sea_Level_PressurehPa</th>\n",
              "      <th>Max_VisibilityKm</th>\n",
              "      <th>Mean_VisibilityKm</th>\n",
              "      <th>Min_VisibilitykM</th>\n",
              "      <th>Max_Wind_SpeedKm_h</th>\n",
              "      <th>Mean_Wind_SpeedKm_h</th>\n",
              "      <th>Max_Gust_SpeedKm_h</th>\n",
              "      <th>Precipitationmm</th>\n",
              "      <th>CloudCover</th>\n",
              "      <th>Events</th>\n",
              "      <th>WindDirDegrees</th>\n",
              "      <th>StateName</th>\n",
              "      <th>CompetitionOpenSince</th>\n",
              "      <th>CompetitionDaysOpen</th>\n",
              "      <th>CompetitionMonthsOpen</th>\n",
              "      <th>Promo2Since</th>\n",
              "      <th>Promo2Days</th>\n",
              "      <th>Promo2Weeks</th>\n",
              "      <th>AfterSchoolHoliday</th>\n",
              "      <th>BeforeSchoolHoliday</th>\n",
              "      <th>AfterStateHoliday</th>\n",
              "      <th>BeforeStateHoliday</th>\n",
              "      <th>AfterPromo</th>\n",
              "      <th>BeforePromo</th>\n",
              "      <th>SchoolHoliday_bw</th>\n",
              "      <th>StateHoliday_bw</th>\n",
              "      <th>Promo_bw</th>\n",
              "      <th>SchoolHoliday_fw</th>\n",
              "      <th>StateHoliday_fw</th>\n",
              "      <th>Promo_fw</th>\n",
              "    </tr>\n",
              "  </thead>\n",
              "  <tbody>\n",
              "    <tr>\n",
              "      <th>0</th>\n",
              "      <td>0</td>\n",
              "      <td>1</td>\n",
              "      <td>5</td>\n",
              "      <td>2015-07-31</td>\n",
              "      <td>5263</td>\n",
              "      <td>555</td>\n",
              "      <td>1</td>\n",
              "      <td>1</td>\n",
              "      <td>False</td>\n",
              "      <td>1</td>\n",
              "      <td>2015</td>\n",
              "      <td>7</td>\n",
              "      <td>31</td>\n",
              "      <td>31</td>\n",
              "      <td>4</td>\n",
              "      <td>212</td>\n",
              "      <td>True</td>\n",
              "      <td>False</td>\n",
              "      <td>False</td>\n",
              "      <td>False</td>\n",
              "      <td>False</td>\n",
              "      <td>False</td>\n",
              "      <td>1438300800</td>\n",
              "      <td>c</td>\n",
              "      <td>a</td>\n",
              "      <td>1270.0</td>\n",
              "      <td>9</td>\n",
              "      <td>2008</td>\n",
              "      <td>0</td>\n",
              "      <td>1</td>\n",
              "      <td>1900</td>\n",
              "      <td>NaN</td>\n",
              "      <td>HE</td>\n",
              "      <td>Rossmann_DE_HE</td>\n",
              "      <td>2015-08-02 - 2015-08-08</td>\n",
              "      <td>85</td>\n",
              "      <td>Rossmann_DE</td>\n",
              "      <td>2015-08-02 - 2015-08-08</td>\n",
              "      <td>83</td>\n",
              "      <td>2015-08-02</td>\n",
              "      <td>...</td>\n",
              "      <td>16</td>\n",
              "      <td>8</td>\n",
              "      <td>9</td>\n",
              "      <td>6</td>\n",
              "      <td>3</td>\n",
              "      <td>98</td>\n",
              "      <td>54</td>\n",
              "      <td>18</td>\n",
              "      <td>1021</td>\n",
              "      <td>1018</td>\n",
              "      <td>1015</td>\n",
              "      <td>31.0</td>\n",
              "      <td>15.0</td>\n",
              "      <td>10.0</td>\n",
              "      <td>24</td>\n",
              "      <td>11</td>\n",
              "      <td>NaN</td>\n",
              "      <td>0.0</td>\n",
              "      <td>1.0</td>\n",
              "      <td>Fog</td>\n",
              "      <td>13</td>\n",
              "      <td>Hessen</td>\n",
              "      <td>2008-09-15</td>\n",
              "      <td>2510</td>\n",
              "      <td>24</td>\n",
              "      <td>1900-01-01</td>\n",
              "      <td>0</td>\n",
              "      <td>0</td>\n",
              "      <td>0</td>\n",
              "      <td>0</td>\n",
              "      <td>57</td>\n",
              "      <td>0</td>\n",
              "      <td>0</td>\n",
              "      <td>0</td>\n",
              "      <td>5.0</td>\n",
              "      <td>0.0</td>\n",
              "      <td>5.0</td>\n",
              "      <td>7.0</td>\n",
              "      <td>0.0</td>\n",
              "      <td>5.0</td>\n",
              "    </tr>\n",
              "    <tr>\n",
              "      <th>1</th>\n",
              "      <td>1</td>\n",
              "      <td>2</td>\n",
              "      <td>5</td>\n",
              "      <td>2015-07-31</td>\n",
              "      <td>6064</td>\n",
              "      <td>625</td>\n",
              "      <td>1</td>\n",
              "      <td>1</td>\n",
              "      <td>False</td>\n",
              "      <td>1</td>\n",
              "      <td>2015</td>\n",
              "      <td>7</td>\n",
              "      <td>31</td>\n",
              "      <td>31</td>\n",
              "      <td>4</td>\n",
              "      <td>212</td>\n",
              "      <td>True</td>\n",
              "      <td>False</td>\n",
              "      <td>False</td>\n",
              "      <td>False</td>\n",
              "      <td>False</td>\n",
              "      <td>False</td>\n",
              "      <td>1438300800</td>\n",
              "      <td>a</td>\n",
              "      <td>a</td>\n",
              "      <td>570.0</td>\n",
              "      <td>11</td>\n",
              "      <td>2007</td>\n",
              "      <td>1</td>\n",
              "      <td>13</td>\n",
              "      <td>2010</td>\n",
              "      <td>Jan,Apr,Jul,Oct</td>\n",
              "      <td>TH</td>\n",
              "      <td>Rossmann_DE_TH</td>\n",
              "      <td>2015-08-02 - 2015-08-08</td>\n",
              "      <td>80</td>\n",
              "      <td>Rossmann_DE</td>\n",
              "      <td>2015-08-02 - 2015-08-08</td>\n",
              "      <td>83</td>\n",
              "      <td>2015-08-02</td>\n",
              "      <td>...</td>\n",
              "      <td>13</td>\n",
              "      <td>7</td>\n",
              "      <td>9</td>\n",
              "      <td>6</td>\n",
              "      <td>3</td>\n",
              "      <td>100</td>\n",
              "      <td>62</td>\n",
              "      <td>25</td>\n",
              "      <td>1021</td>\n",
              "      <td>1019</td>\n",
              "      <td>1017</td>\n",
              "      <td>10.0</td>\n",
              "      <td>10.0</td>\n",
              "      <td>10.0</td>\n",
              "      <td>14</td>\n",
              "      <td>11</td>\n",
              "      <td>NaN</td>\n",
              "      <td>0.0</td>\n",
              "      <td>4.0</td>\n",
              "      <td>Fog</td>\n",
              "      <td>309</td>\n",
              "      <td>Thueringen</td>\n",
              "      <td>2007-11-15</td>\n",
              "      <td>2815</td>\n",
              "      <td>24</td>\n",
              "      <td>2010-03-29</td>\n",
              "      <td>1950</td>\n",
              "      <td>25</td>\n",
              "      <td>0</td>\n",
              "      <td>0</td>\n",
              "      <td>67</td>\n",
              "      <td>0</td>\n",
              "      <td>0</td>\n",
              "      <td>0</td>\n",
              "      <td>5.0</td>\n",
              "      <td>0.0</td>\n",
              "      <td>5.0</td>\n",
              "      <td>1.0</td>\n",
              "      <td>0.0</td>\n",
              "      <td>1.0</td>\n",
              "    </tr>\n",
              "    <tr>\n",
              "      <th>2</th>\n",
              "      <td>2</td>\n",
              "      <td>3</td>\n",
              "      <td>5</td>\n",
              "      <td>2015-07-31</td>\n",
              "      <td>8314</td>\n",
              "      <td>821</td>\n",
              "      <td>1</td>\n",
              "      <td>1</td>\n",
              "      <td>False</td>\n",
              "      <td>1</td>\n",
              "      <td>2015</td>\n",
              "      <td>7</td>\n",
              "      <td>31</td>\n",
              "      <td>31</td>\n",
              "      <td>4</td>\n",
              "      <td>212</td>\n",
              "      <td>True</td>\n",
              "      <td>False</td>\n",
              "      <td>False</td>\n",
              "      <td>False</td>\n",
              "      <td>False</td>\n",
              "      <td>False</td>\n",
              "      <td>1438300800</td>\n",
              "      <td>a</td>\n",
              "      <td>a</td>\n",
              "      <td>14130.0</td>\n",
              "      <td>12</td>\n",
              "      <td>2006</td>\n",
              "      <td>1</td>\n",
              "      <td>14</td>\n",
              "      <td>2011</td>\n",
              "      <td>Jan,Apr,Jul,Oct</td>\n",
              "      <td>NW</td>\n",
              "      <td>Rossmann_DE_NW</td>\n",
              "      <td>2015-08-02 - 2015-08-08</td>\n",
              "      <td>86</td>\n",
              "      <td>Rossmann_DE</td>\n",
              "      <td>2015-08-02 - 2015-08-08</td>\n",
              "      <td>83</td>\n",
              "      <td>2015-08-02</td>\n",
              "      <td>...</td>\n",
              "      <td>13</td>\n",
              "      <td>6</td>\n",
              "      <td>10</td>\n",
              "      <td>7</td>\n",
              "      <td>4</td>\n",
              "      <td>100</td>\n",
              "      <td>61</td>\n",
              "      <td>24</td>\n",
              "      <td>1022</td>\n",
              "      <td>1019</td>\n",
              "      <td>1017</td>\n",
              "      <td>31.0</td>\n",
              "      <td>14.0</td>\n",
              "      <td>10.0</td>\n",
              "      <td>14</td>\n",
              "      <td>5</td>\n",
              "      <td>NaN</td>\n",
              "      <td>0.0</td>\n",
              "      <td>2.0</td>\n",
              "      <td>Fog</td>\n",
              "      <td>354</td>\n",
              "      <td>NordrheinWestfalen</td>\n",
              "      <td>2006-12-15</td>\n",
              "      <td>3150</td>\n",
              "      <td>24</td>\n",
              "      <td>2011-04-04</td>\n",
              "      <td>1579</td>\n",
              "      <td>25</td>\n",
              "      <td>0</td>\n",
              "      <td>0</td>\n",
              "      <td>57</td>\n",
              "      <td>0</td>\n",
              "      <td>0</td>\n",
              "      <td>0</td>\n",
              "      <td>5.0</td>\n",
              "      <td>0.0</td>\n",
              "      <td>5.0</td>\n",
              "      <td>5.0</td>\n",
              "      <td>0.0</td>\n",
              "      <td>5.0</td>\n",
              "    </tr>\n",
              "    <tr>\n",
              "      <th>3</th>\n",
              "      <td>3</td>\n",
              "      <td>4</td>\n",
              "      <td>5</td>\n",
              "      <td>2015-07-31</td>\n",
              "      <td>13995</td>\n",
              "      <td>1498</td>\n",
              "      <td>1</td>\n",
              "      <td>1</td>\n",
              "      <td>False</td>\n",
              "      <td>1</td>\n",
              "      <td>2015</td>\n",
              "      <td>7</td>\n",
              "      <td>31</td>\n",
              "      <td>31</td>\n",
              "      <td>4</td>\n",
              "      <td>212</td>\n",
              "      <td>True</td>\n",
              "      <td>False</td>\n",
              "      <td>False</td>\n",
              "      <td>False</td>\n",
              "      <td>False</td>\n",
              "      <td>False</td>\n",
              "      <td>1438300800</td>\n",
              "      <td>c</td>\n",
              "      <td>c</td>\n",
              "      <td>620.0</td>\n",
              "      <td>9</td>\n",
              "      <td>2009</td>\n",
              "      <td>0</td>\n",
              "      <td>1</td>\n",
              "      <td>1900</td>\n",
              "      <td>NaN</td>\n",
              "      <td>BE</td>\n",
              "      <td>Rossmann_DE_BE</td>\n",
              "      <td>2015-08-02 - 2015-08-08</td>\n",
              "      <td>74</td>\n",
              "      <td>Rossmann_DE</td>\n",
              "      <td>2015-08-02 - 2015-08-08</td>\n",
              "      <td>83</td>\n",
              "      <td>2015-08-02</td>\n",
              "      <td>...</td>\n",
              "      <td>14</td>\n",
              "      <td>9</td>\n",
              "      <td>9</td>\n",
              "      <td>7</td>\n",
              "      <td>4</td>\n",
              "      <td>94</td>\n",
              "      <td>61</td>\n",
              "      <td>30</td>\n",
              "      <td>1019</td>\n",
              "      <td>1017</td>\n",
              "      <td>1014</td>\n",
              "      <td>10.0</td>\n",
              "      <td>10.0</td>\n",
              "      <td>10.0</td>\n",
              "      <td>23</td>\n",
              "      <td>16</td>\n",
              "      <td>NaN</td>\n",
              "      <td>0.0</td>\n",
              "      <td>6.0</td>\n",
              "      <td>NaN</td>\n",
              "      <td>282</td>\n",
              "      <td>Berlin</td>\n",
              "      <td>2009-09-15</td>\n",
              "      <td>2145</td>\n",
              "      <td>24</td>\n",
              "      <td>1900-01-01</td>\n",
              "      <td>0</td>\n",
              "      <td>0</td>\n",
              "      <td>0</td>\n",
              "      <td>0</td>\n",
              "      <td>67</td>\n",
              "      <td>0</td>\n",
              "      <td>0</td>\n",
              "      <td>0</td>\n",
              "      <td>5.0</td>\n",
              "      <td>0.0</td>\n",
              "      <td>5.0</td>\n",
              "      <td>1.0</td>\n",
              "      <td>0.0</td>\n",
              "      <td>1.0</td>\n",
              "    </tr>\n",
              "    <tr>\n",
              "      <th>4</th>\n",
              "      <td>4</td>\n",
              "      <td>5</td>\n",
              "      <td>5</td>\n",
              "      <td>2015-07-31</td>\n",
              "      <td>4822</td>\n",
              "      <td>559</td>\n",
              "      <td>1</td>\n",
              "      <td>1</td>\n",
              "      <td>False</td>\n",
              "      <td>1</td>\n",
              "      <td>2015</td>\n",
              "      <td>7</td>\n",
              "      <td>31</td>\n",
              "      <td>31</td>\n",
              "      <td>4</td>\n",
              "      <td>212</td>\n",
              "      <td>True</td>\n",
              "      <td>False</td>\n",
              "      <td>False</td>\n",
              "      <td>False</td>\n",
              "      <td>False</td>\n",
              "      <td>False</td>\n",
              "      <td>1438300800</td>\n",
              "      <td>a</td>\n",
              "      <td>a</td>\n",
              "      <td>29910.0</td>\n",
              "      <td>4</td>\n",
              "      <td>2015</td>\n",
              "      <td>0</td>\n",
              "      <td>1</td>\n",
              "      <td>1900</td>\n",
              "      <td>NaN</td>\n",
              "      <td>SN</td>\n",
              "      <td>Rossmann_DE_SN</td>\n",
              "      <td>2015-08-02 - 2015-08-08</td>\n",
              "      <td>82</td>\n",
              "      <td>Rossmann_DE</td>\n",
              "      <td>2015-08-02 - 2015-08-08</td>\n",
              "      <td>83</td>\n",
              "      <td>2015-08-02</td>\n",
              "      <td>...</td>\n",
              "      <td>15</td>\n",
              "      <td>10</td>\n",
              "      <td>8</td>\n",
              "      <td>6</td>\n",
              "      <td>5</td>\n",
              "      <td>82</td>\n",
              "      <td>55</td>\n",
              "      <td>26</td>\n",
              "      <td>1020</td>\n",
              "      <td>1018</td>\n",
              "      <td>1016</td>\n",
              "      <td>10.0</td>\n",
              "      <td>10.0</td>\n",
              "      <td>10.0</td>\n",
              "      <td>14</td>\n",
              "      <td>11</td>\n",
              "      <td>NaN</td>\n",
              "      <td>0.0</td>\n",
              "      <td>4.0</td>\n",
              "      <td>NaN</td>\n",
              "      <td>290</td>\n",
              "      <td>Sachsen</td>\n",
              "      <td>2015-04-15</td>\n",
              "      <td>107</td>\n",
              "      <td>3</td>\n",
              "      <td>1900-01-01</td>\n",
              "      <td>0</td>\n",
              "      <td>0</td>\n",
              "      <td>0</td>\n",
              "      <td>0</td>\n",
              "      <td>57</td>\n",
              "      <td>0</td>\n",
              "      <td>0</td>\n",
              "      <td>0</td>\n",
              "      <td>5.0</td>\n",
              "      <td>0.0</td>\n",
              "      <td>5.0</td>\n",
              "      <td>1.0</td>\n",
              "      <td>0.0</td>\n",
              "      <td>1.0</td>\n",
              "    </tr>\n",
              "  </tbody>\n",
              "</table>\n",
              "<p>5 rows × 93 columns</p>\n",
              "</div>"
            ],
            "text/plain": [
              "   index  Store  DayOfWeek  ... SchoolHoliday_fw  StateHoliday_fw  Promo_fw\n",
              "0      0      1          5  ...              7.0              0.0       5.0\n",
              "1      1      2          5  ...              1.0              0.0       1.0\n",
              "2      2      3          5  ...              5.0              0.0       5.0\n",
              "3      3      4          5  ...              1.0              0.0       1.0\n",
              "4      4      5          5  ...              1.0              0.0       1.0\n",
              "\n",
              "[5 rows x 93 columns]"
            ]
          },
          "metadata": {
            "tags": []
          },
          "execution_count": 8
        }
      ]
    },
    {
      "cell_type": "markdown",
      "metadata": {
        "id": "pGVadTNV6HXI",
        "colab_type": "text"
      },
      "source": [
        "## Preprocess Data"
      ]
    },
    {
      "cell_type": "code",
      "metadata": {
        "id": "wMbp4h5k34Qw",
        "colab_type": "code",
        "colab": {}
      },
      "source": [
        "dep_var = 'Sales'"
      ],
      "execution_count": 0,
      "outputs": []
    },
    {
      "cell_type": "markdown",
      "metadata": {
        "id": "LCq8H2NMFlNh",
        "colab_type": "text"
      },
      "source": [
        "When doing Regression with these large numbers, we often use the log of these values for our y's. Let's transform them real quick:"
      ]
    },
    {
      "cell_type": "code",
      "metadata": {
        "id": "dcm5c2asFmKW",
        "colab_type": "code",
        "colab": {}
      },
      "source": [
        "df[dep_var] = np.log(df[dep_var])"
      ],
      "execution_count": 0,
      "outputs": []
    },
    {
      "cell_type": "code",
      "metadata": {
        "id": "UZBhkxrA4A61",
        "colab_type": "code",
        "colab": {}
      },
      "source": [
        "cont_vars = ['CompetitionDistance', 'Max_TemperatureC', 'Mean_TemperatureC', 'Min_TemperatureC',\n",
        "   'Max_Humidity', 'Mean_Humidity', 'Min_Humidity', 'Max_Wind_SpeedKm_h', \n",
        "   'Mean_Wind_SpeedKm_h', 'CloudCover', 'trend', 'trend_DE',\n",
        "   'AfterStateHoliday', 'BeforeStateHoliday']"
      ],
      "execution_count": 0,
      "outputs": []
    },
    {
      "cell_type": "markdown",
      "metadata": {
        "id": "_NWVWocDjunO",
        "colab_type": "text"
      },
      "source": [
        "Here is the code necessary to create a tabular dataloaders from a dataframe in `fastai2`:"
      ]
    },
    {
      "cell_type": "code",
      "metadata": {
        "id": "bLkae0hpkhrl",
        "colab_type": "code",
        "colab": {}
      },
      "source": [
        "dls = TabularDataLoaders.from_df(df=df, \n",
        "                           procs=[FillMissing(add_col=False), Normalize], \n",
        "                           cont_names=cont_vars, \n",
        "                           y_names=dep_var, \n",
        "                           y_block=RegressionBlock(), \n",
        "                           valid_pct=0.2,\n",
        "                           bs=1024)"
      ],
      "execution_count": 0,
      "outputs": []
    },
    {
      "cell_type": "markdown",
      "metadata": {
        "id": "c83uarBJnATe",
        "colab_type": "text"
      },
      "source": [
        "When you train a model, you must always have both a training set and a validation set, and must measure the accuracy of your model only on the validation set. If you train for too long, with not enough data, you will see the accuracy of your model start to get worse; this is called overfitting. fastai defaults valid_pct to 0.2, so even if you forget, fastai will create a validation set for you!\n",
        "\n"
      ]
    },
    {
      "cell_type": "code",
      "metadata": {
        "id": "nCD48L1dnHqh",
        "colab_type": "code",
        "outputId": "c829ffa0-5f93-41e6-d78a-01436c2ab903",
        "colab": {
          "base_uri": "https://localhost:8080/",
          "height": 34
        }
      },
      "source": [
        "dls.train.n, dls.valid.n"
      ],
      "execution_count": 0,
      "outputs": [
        {
          "output_type": "execute_result",
          "data": {
            "text/plain": [
              "(675471, 168867)"
            ]
          },
          "metadata": {
            "tags": []
          },
          "execution_count": 13
        }
      ]
    },
    {
      "cell_type": "markdown",
      "metadata": {
        "id": "ObfTEMxGjO1t",
        "colab_type": "text"
      },
      "source": [
        "As you see, we had to tell fastai which columns are categorical (that is, contain values that are one of a discrete set of choices, such as occupation) and which are continuous (that is, contain a number that represents a quantity, such as age), using the arguments `cat_names` and `cont_names` respectively. Since the aim of this tutorial is to be transfered to the re-entry problem, which only contains continuos variables, we will only add the `cont_names` from the dataset."
      ]
    },
    {
      "cell_type": "code",
      "metadata": {
        "id": "mHNVM1gV2Zj9",
        "colab_type": "code",
        "outputId": "14906a02-d08d-47d7-f605-5c6068baa4d2",
        "colab": {
          "base_uri": "https://localhost:8080/",
          "height": 34
        }
      },
      "source": [
        "dls.cont_names"
      ],
      "execution_count": 0,
      "outputs": [
        {
          "output_type": "execute_result",
          "data": {
            "text/plain": [
              "(#14) ['CompetitionDistance','Max_TemperatureC','Mean_TemperatureC','Min_TemperatureC','Max_Humidity','Mean_Humidity','Min_Humidity','Max_Wind_SpeedKm_h','Mean_Wind_SpeedKm_h','CloudCover'...]"
            ]
          },
          "metadata": {
            "tags": []
          },
          "execution_count": 14
        }
      ]
    },
    {
      "cell_type": "markdown",
      "metadata": {
        "id": "A66hE8t8i72C",
        "colab_type": "text"
      },
      "source": [
        "The other important piece of information that we have to tell fastai is how to get the dependent variables from the dataset (the `ys`). For that purpose you use the argument `y_names`. The argument `y_block` specifies the type of ML task we are interestied in (in this case, regression)."
      ]
    },
    {
      "cell_type": "code",
      "metadata": {
        "id": "ow7VCAGM54xN",
        "colab_type": "code",
        "outputId": "ccb56e42-8f91-4dbc-f068-bfbe19ed734c",
        "colab": {
          "base_uri": "https://localhost:8080/",
          "height": 419
        }
      },
      "source": [
        "dls.ys"
      ],
      "execution_count": 0,
      "outputs": [
        {
          "output_type": "execute_result",
          "data": {
            "text/html": [
              "<div>\n",
              "<style scoped>\n",
              "    .dataframe tbody tr th:only-of-type {\n",
              "        vertical-align: middle;\n",
              "    }\n",
              "\n",
              "    .dataframe tbody tr th {\n",
              "        vertical-align: top;\n",
              "    }\n",
              "\n",
              "    .dataframe thead th {\n",
              "        text-align: right;\n",
              "    }\n",
              "</style>\n",
              "<table border=\"1\" class=\"dataframe\">\n",
              "  <thead>\n",
              "    <tr style=\"text-align: right;\">\n",
              "      <th></th>\n",
              "      <th>Sales</th>\n",
              "    </tr>\n",
              "  </thead>\n",
              "  <tbody>\n",
              "    <tr>\n",
              "      <th>172725</th>\n",
              "      <td>8.838697</td>\n",
              "    </tr>\n",
              "    <tr>\n",
              "      <th>432815</th>\n",
              "      <td>8.569216</td>\n",
              "    </tr>\n",
              "    <tr>\n",
              "      <th>564031</th>\n",
              "      <td>8.048149</td>\n",
              "    </tr>\n",
              "    <tr>\n",
              "      <th>423394</th>\n",
              "      <td>8.480944</td>\n",
              "    </tr>\n",
              "    <tr>\n",
              "      <th>437957</th>\n",
              "      <td>8.828787</td>\n",
              "    </tr>\n",
              "    <tr>\n",
              "      <th>...</th>\n",
              "      <td>...</td>\n",
              "    </tr>\n",
              "    <tr>\n",
              "      <th>525165</th>\n",
              "      <td>8.710620</td>\n",
              "    </tr>\n",
              "    <tr>\n",
              "      <th>524584</th>\n",
              "      <td>8.437717</td>\n",
              "    </tr>\n",
              "    <tr>\n",
              "      <th>590892</th>\n",
              "      <td>8.401109</td>\n",
              "    </tr>\n",
              "    <tr>\n",
              "      <th>245100</th>\n",
              "      <td>8.508354</td>\n",
              "    </tr>\n",
              "    <tr>\n",
              "      <th>573242</th>\n",
              "      <td>9.007612</td>\n",
              "    </tr>\n",
              "  </tbody>\n",
              "</table>\n",
              "<p>675471 rows × 1 columns</p>\n",
              "</div>"
            ],
            "text/plain": [
              "           Sales\n",
              "172725  8.838697\n",
              "432815  8.569216\n",
              "564031  8.048149\n",
              "423394  8.480944\n",
              "437957  8.828787\n",
              "...          ...\n",
              "525165  8.710620\n",
              "524584  8.437717\n",
              "590892  8.401109\n",
              "245100  8.508354\n",
              "573242  9.007612\n",
              "\n",
              "[675471 rows x 1 columns]"
            ]
          },
          "metadata": {
            "tags": []
          },
          "execution_count": 15
        }
      ]
    },
    {
      "cell_type": "markdown",
      "metadata": {
        "id": "PKq5tWeTGdA2",
        "colab_type": "text"
      },
      "source": [
        "A neural network definitely cares about normalization of the input data. Therefore, we add the Normalize *processor* when we build our `TabularDataLoaders`. A `processor` transform the data auomatically for training."
      ]
    },
    {
      "cell_type": "code",
      "metadata": {
        "id": "y91dKH5xF2H3",
        "colab_type": "code",
        "outputId": "0cd0cfdc-84b4-4061-898e-2b31f4574e8c",
        "colab": {
          "base_uri": "https://localhost:8080/",
          "height": 34
        }
      },
      "source": [
        "dls.procs"
      ],
      "execution_count": 0,
      "outputs": [
        {
          "output_type": "execute_result",
          "data": {
            "text/plain": [
              "Pipeline: FillMissing -> RegressionSetup -> Normalize"
            ]
          },
          "metadata": {
            "tags": []
          },
          "execution_count": 16
        }
      ]
    },
    {
      "cell_type": "markdown",
      "metadata": {
        "id": "aw-m4sKv6F6C",
        "colab_type": "text"
      },
      "source": [
        "In deep learning, we don't feed the model one item at a time but several of them (what we call a *mini-batch*, or just a *batch*). To group them in a big array (usually called a tensor) that is going to go through our model, they all need to be of the same size. DataLoader is a class that provides batches of a few items at a time to the GPU. When you loop through a DataLoader fastai will give you 64 (default batch size `bs`) items at a time, all stacked up into a single tensor. Tabular models and data don't generally require much GPU RAM, so we can use larger batch sizes. We can take a look at a few of those items by calling the `show_batch` method on a DataLoader. Note that the `DataLoaders` object `dls` includes validation and training DataLoaders. "
      ]
    },
    {
      "cell_type": "code",
      "metadata": {
        "id": "R1pTMq5I6QFM",
        "colab_type": "code",
        "outputId": "11430103-e595-41a6-98ca-8f961b4bd84a",
        "colab": {
          "base_uri": "https://localhost:8080/",
          "height": 379
        }
      },
      "source": [
        "dls.valid.show_batch()"
      ],
      "execution_count": 0,
      "outputs": [
        {
          "output_type": "display_data",
          "data": {
            "text/html": [
              "<table border=\"1\" class=\"dataframe\">\n",
              "  <thead>\n",
              "    <tr style=\"text-align: right;\">\n",
              "      <th></th>\n",
              "      <th>CompetitionDistance</th>\n",
              "      <th>Max_TemperatureC</th>\n",
              "      <th>Mean_TemperatureC</th>\n",
              "      <th>Min_TemperatureC</th>\n",
              "      <th>Max_Humidity</th>\n",
              "      <th>Mean_Humidity</th>\n",
              "      <th>Min_Humidity</th>\n",
              "      <th>Max_Wind_SpeedKm_h</th>\n",
              "      <th>Mean_Wind_SpeedKm_h</th>\n",
              "      <th>CloudCover</th>\n",
              "      <th>trend</th>\n",
              "      <th>trend_DE</th>\n",
              "      <th>AfterStateHoliday</th>\n",
              "      <th>BeforeStateHoliday</th>\n",
              "      <th>Sales</th>\n",
              "    </tr>\n",
              "  </thead>\n",
              "  <tbody>\n",
              "    <tr>\n",
              "      <th>0</th>\n",
              "      <td>100.0</td>\n",
              "      <td>18.0</td>\n",
              "      <td>9.0</td>\n",
              "      <td>-1.0</td>\n",
              "      <td>94.0</td>\n",
              "      <td>65.0</td>\n",
              "      <td>23.999998</td>\n",
              "      <td>14.0</td>\n",
              "      <td>5.0</td>\n",
              "      <td>6.0</td>\n",
              "      <td>67.0</td>\n",
              "      <td>63.0</td>\n",
              "      <td>75.0</td>\n",
              "      <td>-17.0</td>\n",
              "      <td>8.956738</td>\n",
              "    </tr>\n",
              "    <tr>\n",
              "      <th>1</th>\n",
              "      <td>180.0</td>\n",
              "      <td>22.0</td>\n",
              "      <td>14.0</td>\n",
              "      <td>7.0</td>\n",
              "      <td>87.0</td>\n",
              "      <td>53.0</td>\n",
              "      <td>19.000002</td>\n",
              "      <td>16.0</td>\n",
              "      <td>8.0</td>\n",
              "      <td>6.0</td>\n",
              "      <td>62.0</td>\n",
              "      <td>67.0</td>\n",
              "      <td>7.0</td>\n",
              "      <td>-6.0</td>\n",
              "      <td>8.793916</td>\n",
              "    </tr>\n",
              "    <tr>\n",
              "      <th>2</th>\n",
              "      <td>100.0</td>\n",
              "      <td>22.0</td>\n",
              "      <td>18.0</td>\n",
              "      <td>12.0</td>\n",
              "      <td>95.0</td>\n",
              "      <td>65.0</td>\n",
              "      <td>29.000000</td>\n",
              "      <td>21.0</td>\n",
              "      <td>13.0</td>\n",
              "      <td>5.0</td>\n",
              "      <td>76.0</td>\n",
              "      <td>68.0</td>\n",
              "      <td>2.0</td>\n",
              "      <td>0.0</td>\n",
              "      <td>8.500657</td>\n",
              "    </tr>\n",
              "    <tr>\n",
              "      <th>3</th>\n",
              "      <td>840.0</td>\n",
              "      <td>7.0</td>\n",
              "      <td>2.0</td>\n",
              "      <td>-2.0</td>\n",
              "      <td>100.0</td>\n",
              "      <td>89.0</td>\n",
              "      <td>58.000000</td>\n",
              "      <td>14.0</td>\n",
              "      <td>6.0</td>\n",
              "      <td>4.0</td>\n",
              "      <td>73.0</td>\n",
              "      <td>62.0</td>\n",
              "      <td>4.0</td>\n",
              "      <td>-2.0</td>\n",
              "      <td>8.893161</td>\n",
              "    </tr>\n",
              "    <tr>\n",
              "      <th>4</th>\n",
              "      <td>9430.0</td>\n",
              "      <td>1.0</td>\n",
              "      <td>-1.0</td>\n",
              "      <td>-3.0</td>\n",
              "      <td>86.0</td>\n",
              "      <td>71.0</td>\n",
              "      <td>54.000000</td>\n",
              "      <td>29.0</td>\n",
              "      <td>16.0</td>\n",
              "      <td>5.0</td>\n",
              "      <td>51.0</td>\n",
              "      <td>51.0</td>\n",
              "      <td>51.0</td>\n",
              "      <td>-36.0</td>\n",
              "      <td>8.661813</td>\n",
              "    </tr>\n",
              "    <tr>\n",
              "      <th>5</th>\n",
              "      <td>130.0</td>\n",
              "      <td>6.0</td>\n",
              "      <td>0.0</td>\n",
              "      <td>-5.0</td>\n",
              "      <td>74.0</td>\n",
              "      <td>50.0</td>\n",
              "      <td>22.000000</td>\n",
              "      <td>27.0</td>\n",
              "      <td>14.0</td>\n",
              "      <td>6.0</td>\n",
              "      <td>57.0</td>\n",
              "      <td>57.0</td>\n",
              "      <td>85.0</td>\n",
              "      <td>-2.0</td>\n",
              "      <td>8.747352</td>\n",
              "    </tr>\n",
              "    <tr>\n",
              "      <th>6</th>\n",
              "      <td>8240.0</td>\n",
              "      <td>24.0</td>\n",
              "      <td>19.0</td>\n",
              "      <td>15.0</td>\n",
              "      <td>94.0</td>\n",
              "      <td>61.0</td>\n",
              "      <td>29.000000</td>\n",
              "      <td>34.0</td>\n",
              "      <td>18.0</td>\n",
              "      <td>7.0</td>\n",
              "      <td>66.0</td>\n",
              "      <td>83.0</td>\n",
              "      <td>53.0</td>\n",
              "      <td>0.0</td>\n",
              "      <td>9.275847</td>\n",
              "    </tr>\n",
              "    <tr>\n",
              "      <th>7</th>\n",
              "      <td>1090.0</td>\n",
              "      <td>21.0</td>\n",
              "      <td>18.0</td>\n",
              "      <td>14.0</td>\n",
              "      <td>95.0</td>\n",
              "      <td>81.0</td>\n",
              "      <td>47.000000</td>\n",
              "      <td>29.0</td>\n",
              "      <td>16.0</td>\n",
              "      <td>5.0</td>\n",
              "      <td>61.0</td>\n",
              "      <td>60.0</td>\n",
              "      <td>23.0</td>\n",
              "      <td>-6.0</td>\n",
              "      <td>8.522181</td>\n",
              "    </tr>\n",
              "    <tr>\n",
              "      <th>8</th>\n",
              "      <td>6560.0</td>\n",
              "      <td>19.0</td>\n",
              "      <td>16.0</td>\n",
              "      <td>11.0</td>\n",
              "      <td>88.0</td>\n",
              "      <td>67.0</td>\n",
              "      <td>39.000000</td>\n",
              "      <td>32.0</td>\n",
              "      <td>18.0</td>\n",
              "      <td>6.0</td>\n",
              "      <td>61.0</td>\n",
              "      <td>60.0</td>\n",
              "      <td>8.0</td>\n",
              "      <td>-20.0</td>\n",
              "      <td>9.257415</td>\n",
              "    </tr>\n",
              "    <tr>\n",
              "      <th>9</th>\n",
              "      <td>4260.0</td>\n",
              "      <td>18.0</td>\n",
              "      <td>11.0</td>\n",
              "      <td>4.0</td>\n",
              "      <td>81.0</td>\n",
              "      <td>62.0</td>\n",
              "      <td>27.000000</td>\n",
              "      <td>32.0</td>\n",
              "      <td>11.0</td>\n",
              "      <td>6.0</td>\n",
              "      <td>79.0</td>\n",
              "      <td>75.0</td>\n",
              "      <td>83.0</td>\n",
              "      <td>-9.0</td>\n",
              "      <td>8.621553</td>\n",
              "    </tr>\n",
              "  </tbody>\n",
              "</table>"
            ],
            "text/plain": [
              "<IPython.core.display.HTML object>"
            ]
          },
          "metadata": {
            "tags": []
          }
        }
      ]
    },
    {
      "cell_type": "markdown",
      "metadata": {
        "id": "AOmsLOBc6099",
        "colab_type": "text"
      },
      "source": [
        "## Training a Model"
      ]
    },
    {
      "cell_type": "markdown",
      "metadata": {
        "id": "kFoQ5UJ8DWpz",
        "colab_type": "text"
      },
      "source": [
        "First we set up a `tabular_learner`, and what data we want to train it on."
      ]
    },
    {
      "cell_type": "code",
      "metadata": {
        "id": "qMr7U7vSRdLR",
        "colab_type": "code",
        "colab": {}
      },
      "source": [
        "y_range = torch.tensor([0, np.max(df[dep_var])*1.2])"
      ],
      "execution_count": 0,
      "outputs": []
    },
    {
      "cell_type": "code",
      "metadata": {
        "id": "KvvP0mzbDZCc",
        "colab_type": "code",
        "colab": {}
      },
      "source": [
        "learn = tabular_learner(dls, loss_func=MSELossFlat())"
      ],
      "execution_count": 0,
      "outputs": []
    },
    {
      "cell_type": "markdown",
      "metadata": {
        "id": "EZ-sSCFGH6BS",
        "colab_type": "text"
      },
      "source": [
        "In order to define how well a model does on a single prediction, we need to define a loss function, which determines how we score a prediction as good or bad. We set the loss function to MSE, an standard in regression problems."
      ]
    },
    {
      "cell_type": "code",
      "metadata": {
        "id": "k0-jD_ayOfRn",
        "colab_type": "code",
        "outputId": "59602542-02ea-420f-df5d-950be0086392",
        "colab": {
          "base_uri": "https://localhost:8080/",
          "height": 34
        }
      },
      "source": [
        "learn.loss_func"
      ],
      "execution_count": 0,
      "outputs": [
        {
          "output_type": "execute_result",
          "data": {
            "text/plain": [
              "FlattenedLoss of MSELoss()"
            ]
          },
          "metadata": {
            "tags": []
          },
          "execution_count": 20
        }
      ]
    },
    {
      "cell_type": "markdown",
      "metadata": {
        "id": "ZulWERH4Eno2",
        "colab_type": "text"
      },
      "source": [
        "We can take a look at the default architecture created for our tabular regression model. You can change the number of size of the layers when creating the learner."
      ]
    },
    {
      "cell_type": "code",
      "metadata": {
        "id": "3KuRXgPlEw5A",
        "colab_type": "code",
        "outputId": "540581b9-fc36-41b9-b1e9-232f8527ad45",
        "colab": {
          "base_uri": "https://localhost:8080/",
          "height": 561
        }
      },
      "source": [
        "learn.summary()"
      ],
      "execution_count": 0,
      "outputs": [
        {
          "output_type": "execute_result",
          "data": {
            "text/plain": [
              "TabularModel (Input shape: ['1024 x 0', '1024 x 14'])\n",
              "================================================================\n",
              "Layer (type)         Output Shape         Param #    Trainable \n",
              "================================================================\n",
              "BatchNorm1d          1024 x 14            28         True      \n",
              "________________________________________________________________\n",
              "BatchNorm1d          1024 x 14            28         True      \n",
              "________________________________________________________________\n",
              "Linear               1024 x 200           2,800      True      \n",
              "________________________________________________________________\n",
              "ReLU                 1024 x 200           0          False     \n",
              "________________________________________________________________\n",
              "BatchNorm1d          1024 x 200           400        True      \n",
              "________________________________________________________________\n",
              "Linear               1024 x 100           20,000     True      \n",
              "________________________________________________________________\n",
              "ReLU                 1024 x 100           0          False     \n",
              "________________________________________________________________\n",
              "Linear               1024 x 1             101        True      \n",
              "________________________________________________________________\n",
              "\n",
              "Total params: 23,357\n",
              "Total trainable params: 23,357\n",
              "Total non-trainable params: 0\n",
              "\n",
              "Optimizer used: <function Adam at 0x7f0437ccd598>\n",
              "Loss function: FlattenedLoss of MSELoss()\n",
              "\n",
              "Callbacks:\n",
              "  - TrainEvalCallback\n",
              "  - Recorder\n",
              "  - ProgressCallback"
            ]
          },
          "metadata": {
            "tags": []
          },
          "execution_count": 21
        }
      ]
    },
    {
      "cell_type": "markdown",
      "metadata": {
        "id": "rQsuLI8699ni",
        "colab_type": "text"
      },
      "source": [
        "To fit the architecture to the data, we use `fit_one_cycle`, the most commonly used method for training fastai models from scratch (i.e. without transfer learning):"
      ]
    },
    {
      "cell_type": "code",
      "metadata": {
        "id": "EGGCisEAAjPU",
        "colab_type": "code",
        "outputId": "f2b9ad2c-9611-4d1d-e33a-e3ee2720beea",
        "colab": {
          "base_uri": "https://localhost:8080/",
          "height": 452
        }
      },
      "source": [
        "learn.fit_one_cycle(n_epoch=5, lr_max=1e-3)\n",
        "learn.recorder.plot_loss()"
      ],
      "execution_count": 0,
      "outputs": [
        {
          "output_type": "display_data",
          "data": {
            "text/html": [
              "<table border=\"1\" class=\"dataframe\">\n",
              "  <thead>\n",
              "    <tr style=\"text-align: left;\">\n",
              "      <th>epoch</th>\n",
              "      <th>train_loss</th>\n",
              "      <th>valid_loss</th>\n",
              "      <th>time</th>\n",
              "    </tr>\n",
              "  </thead>\n",
              "  <tbody>\n",
              "    <tr>\n",
              "      <td>0</td>\n",
              "      <td>0.266944</td>\n",
              "      <td>0.208318</td>\n",
              "      <td>00:09</td>\n",
              "    </tr>\n",
              "    <tr>\n",
              "      <td>1</td>\n",
              "      <td>0.192836</td>\n",
              "      <td>0.193657</td>\n",
              "      <td>00:09</td>\n",
              "    </tr>\n",
              "    <tr>\n",
              "      <td>2</td>\n",
              "      <td>0.173657</td>\n",
              "      <td>0.167535</td>\n",
              "      <td>00:09</td>\n",
              "    </tr>\n",
              "    <tr>\n",
              "      <td>3</td>\n",
              "      <td>0.170766</td>\n",
              "      <td>0.157776</td>\n",
              "      <td>00:09</td>\n",
              "    </tr>\n",
              "    <tr>\n",
              "      <td>4</td>\n",
              "      <td>0.163161</td>\n",
              "      <td>0.156086</td>\n",
              "      <td>00:09</td>\n",
              "    </tr>\n",
              "  </tbody>\n",
              "</table>"
            ],
            "text/plain": [
              "<IPython.core.display.HTML object>"
            ]
          },
          "metadata": {
            "tags": []
          }
        },
        {
          "output_type": "display_data",
          "data": {
            "image/png": "[encoded data removed]",
            "text/plain": [
              "<Figure size 432x288 with 1 Axes>"
            ]
          },
          "metadata": {
            "tags": [],
            "needs_background": "light"
          }
        }
      ]
    },
    {
      "cell_type": "markdown",
      "metadata": {
        "id": "0AyxJI-EB7bn",
        "colab_type": "text"
      },
      "source": [
        "Deciding how to change our parameters based on the values of the gradients is an important part of the deep learning process. Nearly all approaches start with the basic idea of multiplying the gradient by some small number, called the learning rate (lr). The learning rate is often a number between 0.001 and 0.1, although it could be anything. Often, people select a learning rate just by trying a few, and finding which results in the best model after training (we'll show you more about this in tomorrow's project). If you pick a learning rate that's too low, it can mean having to do a lot of steps. But picking a learning rate that's too high is even worse--it can actually result in the loss getting worse."
      ]
    },
    {
      "cell_type": "markdown",
      "metadata": {
        "id": "gZ9Ixd15OOgM",
        "colab_type": "text"
      },
      "source": [
        "### Inference on a test set\n",
        "\n",
        "Now that we have a model, we want to make our predictions on a *test set*. A test set cannot be used to improve the model; it can only be used to evaluate the model at the very end of our efforts."
      ]
    },
    {
      "cell_type": "code",
      "metadata": {
        "colab_type": "code",
        "id": "L1DaSP1qW9BH",
        "outputId": "614c80f4-a52a-4fe5-d17f-9f06764dae8d",
        "colab": {
          "base_uri": "https://localhost:8080/",
          "height": 17
        }
      },
      "source": [
        "download_url('https://aida.ii.uam.es/data/stardust_ltw/test_tutorial_tabular_regression', dest='tutorial_data_test')"
      ],
      "execution_count": 0,
      "outputs": [
        {
          "output_type": "display_data",
          "data": {
            "text/html": [
              ""
            ],
            "text/plain": [
              "<IPython.core.display.HTML object>"
            ]
          },
          "metadata": {
            "tags": []
          }
        }
      ]
    },
    {
      "cell_type": "code",
      "metadata": {
        "colab_type": "code",
        "id": "tiL8t3F5W9Bq",
        "colab": {}
      },
      "source": [
        "test_df = pd.read_pickle('tutorial_data_test')"
      ],
      "execution_count": 0,
      "outputs": []
    },
    {
      "cell_type": "markdown",
      "metadata": {
        "id": "R3b1ozMkXKI7",
        "colab_type": "text"
      },
      "source": [
        "Now we generate our test dataloader `test_dl` from our test dataframe `test_df`"
      ]
    },
    {
      "cell_type": "code",
      "metadata": {
        "id": "x79O_Lm5QS9-",
        "colab_type": "code",
        "colab": {}
      },
      "source": [
        "dl = learn.dls.test_dl(test_df)"
      ],
      "execution_count": 0,
      "outputs": []
    },
    {
      "cell_type": "markdown",
      "metadata": {
        "id": "_bAuEGsOXobE",
        "colab_type": "text"
      },
      "source": [
        "We need to tell the Learner to return the predictions for the test set we added"
      ]
    },
    {
      "cell_type": "code",
      "metadata": {
        "id": "PwxxQtLOXpna",
        "colab_type": "code",
        "outputId": "667ad5ee-bd9d-4ba7-ad8e-a9d5bd412a78",
        "colab": {
          "base_uri": "https://localhost:8080/",
          "height": 136
        }
      },
      "source": [
        "raw_test_preds = learn.get_preds(dl=dl)\n",
        "raw_test_preds"
      ],
      "execution_count": 0,
      "outputs": [
        {
          "output_type": "display_data",
          "data": {
            "text/html": [
              ""
            ],
            "text/plain": [
              "<IPython.core.display.HTML object>"
            ]
          },
          "metadata": {
            "tags": []
          }
        },
        {
          "output_type": "execute_result",
          "data": {
            "text/plain": [
              "(tensor([[8.5598],\n",
              "         [8.6992],\n",
              "         [8.5929],\n",
              "         ...,\n",
              "         [8.7424],\n",
              "         [8.7890],\n",
              "         [8.7494]]), None)"
            ]
          },
          "metadata": {
            "tags": []
          },
          "execution_count": 26
        }
      ]
    },
    {
      "cell_type": "markdown",
      "metadata": {
        "id": "97NYMW36YBHh",
        "colab_type": "text"
      },
      "source": [
        "You'll notice [0] contains our predictions, and [1] contains any labels (if we had any, in this case not because it's a test set)"
      ]
    },
    {
      "cell_type": "code",
      "metadata": {
        "id": "-E0920w1X4qn",
        "colab_type": "code",
        "outputId": "42313d57-315d-4ece-a671-712cf0ba96f3",
        "colab": {
          "base_uri": "https://localhost:8080/",
          "height": 136
        }
      },
      "source": [
        "raw_test_preds"
      ],
      "execution_count": 0,
      "outputs": [
        {
          "output_type": "execute_result",
          "data": {
            "text/plain": [
              "(tensor([[8.5598],\n",
              "         [8.6992],\n",
              "         [8.5929],\n",
              "         ...,\n",
              "         [8.7424],\n",
              "         [8.7890],\n",
              "         [8.7494]]), None)"
            ]
          },
          "metadata": {
            "tags": []
          },
          "execution_count": 27
        }
      ]
    },
    {
      "cell_type": "markdown",
      "metadata": {
        "id": "QP7yQ0bHYVJM",
        "colab_type": "text"
      },
      "source": [
        "We need to undo our log transform"
      ]
    },
    {
      "cell_type": "code",
      "metadata": {
        "id": "eaQ7uTziYWQ_",
        "colab_type": "code",
        "outputId": "6cf67255-cfd7-4db7-8b2d-8affcb8b1e8b",
        "colab": {
          "base_uri": "https://localhost:8080/",
          "height": 51
        }
      },
      "source": [
        "test_preds = np.exp(raw_test_preds[0]).numpy().T[0]\n",
        "test_preds"
      ],
      "execution_count": 0,
      "outputs": [
        {
          "output_type": "execute_result",
          "data": {
            "text/plain": [
              "array([5217.519, 5998.241, 5393.089, ..., 6263.101, 6561.727, 6306.651],\n",
              "      dtype=float32)"
            ]
          },
          "metadata": {
            "tags": []
          },
          "execution_count": 28
        }
      ]
    },
    {
      "cell_type": "markdown",
      "metadata": {
        "id": "jrBa3j9tpPFn",
        "colab_type": "text"
      },
      "source": [
        "Finally, we can save them into a CSV file, if needed"
      ]
    },
    {
      "cell_type": "code",
      "metadata": {
        "id": "yYuTGfUkpTgZ",
        "colab_type": "code",
        "colab": {}
      },
      "source": [
        "pd.DataFrame(test_preds).to_csv('results.csv')"
      ],
      "execution_count": 0,
      "outputs": []
    },
    {
      "cell_type": "markdown",
      "metadata": {
        "id": "hCzVJvuKCak2",
        "colab_type": "text"
      },
      "source": [
        "## Understanding the results"
      ]
    },
    {
      "cell_type": "markdown",
      "metadata": {
        "id": "Va2TNEkjaGPQ",
        "colab_type": "text"
      },
      "source": [
        "### Baseline\n",
        "\n",
        "A baseline is a simple model which you are confident should perform reasonably well. It should be very simple to implement, and very easy to test, so that you can then test each of your improved ideas, and make sure they are always better than your baseline. Without starting with a sensible baseline, it is very difficult to know whether your super-fancy models are actually any good.\n",
        "\n",
        "For this problem, the easiest baseline that you can think of is a model that always predicts the average value of the dependent variable."
      ]
    },
    {
      "cell_type": "code",
      "metadata": {
        "id": "6DxPS8YDoHLJ",
        "colab_type": "code",
        "outputId": "5fe57f21-b764-4cca-d78e-4dc598795c42",
        "colab": {
          "base_uri": "https://localhost:8080/",
          "height": 34
        }
      },
      "source": [
        "y_train_avg = dls.train.y.mean()\n",
        "y_train_avg"
      ],
      "execution_count": 0,
      "outputs": [
        {
          "output_type": "execute_result",
          "data": {
            "text/plain": [
              "8.757654425290276"
            ]
          },
          "metadata": {
            "tags": []
          },
          "execution_count": 43
        }
      ]
    },
    {
      "cell_type": "code",
      "metadata": {
        "id": "z3FGrey7pV8Y",
        "colab_type": "code",
        "outputId": "9e080570-ea39-428d-fd6e-0a2153561a24",
        "colab": {
          "base_uri": "https://localhost:8080/",
          "height": 51
        }
      },
      "source": [
        "F.mse_loss(tensor(dls.valid.y.values), tensor(y_train_avg))"
      ],
      "execution_count": 0,
      "outputs": [
        {
          "output_type": "stream",
          "text": [
            "Using a target size (torch.Size([])) that is different to the input size (torch.Size([168867])). This will likely lead to incorrect results due to broadcasting. Please ensure they have the same size.\n"
          ],
          "name": "stderr"
        },
        {
          "output_type": "execute_result",
          "data": {
            "text/plain": [
              "tensor(0.1810)"
            ]
          },
          "metadata": {
            "tags": []
          },
          "execution_count": 52
        }
      ]
    },
    {
      "cell_type": "markdown",
      "metadata": {
        "id": "bVdPs8sMrCji",
        "colab_type": "text"
      },
      "source": [
        "Our model is doing better than the baseline (the final validation loss is lower)"
      ]
    },
    {
      "cell_type": "markdown",
      "metadata": {
        "id": "TIAHSskBwu3Z",
        "colab_type": "text"
      },
      "source": [
        "### Show top losses\n",
        "\n",
        "Show the items where the model performs the worst (and best) to try and understanding what the model is deficient in, and successful at."
      ]
    },
    {
      "cell_type": "code",
      "metadata": {
        "id": "CJsg30UtaMzD",
        "colab_type": "code",
        "colab": {}
      },
      "source": [
        "def show_top_losses(tab_learner, k=None, largest=True):\n",
        "  interp = Interpretation.from_learner(tab_learner)\n",
        "  top_losses = interp.top_losses(k, largest)\n",
        "  to_top_losses = tab_learner.dls.valid.dataset.iloc[top_losses.indices]\n",
        "  to_top_losses.show()"
      ],
      "execution_count": 0,
      "outputs": []
    },
    {
      "cell_type": "code",
      "metadata": {
        "id": "cHoK0qnXaDtv",
        "colab_type": "code",
        "outputId": "597cbd26-fc50-4ded-c3d1-6e62789adcf1",
        "colab": {
          "base_uri": "https://localhost:8080/",
          "height": 379
        }
      },
      "source": [
        "show_top_losses(learn, k=10, largest=True)"
      ],
      "execution_count": 0,
      "outputs": [
        {
          "output_type": "display_data",
          "data": {
            "text/html": [
              ""
            ],
            "text/plain": [
              "<IPython.core.display.HTML object>"
            ]
          },
          "metadata": {
            "tags": []
          }
        },
        {
          "output_type": "display_data",
          "data": {
            "text/html": [
              "<table border=\"1\" class=\"dataframe\">\n",
              "  <thead>\n",
              "    <tr style=\"text-align: right;\">\n",
              "      <th></th>\n",
              "      <th>CompetitionDistance</th>\n",
              "      <th>Max_TemperatureC</th>\n",
              "      <th>Mean_TemperatureC</th>\n",
              "      <th>Min_TemperatureC</th>\n",
              "      <th>Max_Humidity</th>\n",
              "      <th>Mean_Humidity</th>\n",
              "      <th>Min_Humidity</th>\n",
              "      <th>Max_Wind_SpeedKm_h</th>\n",
              "      <th>Mean_Wind_SpeedKm_h</th>\n",
              "      <th>CloudCover</th>\n",
              "      <th>trend</th>\n",
              "      <th>trend_DE</th>\n",
              "      <th>AfterStateHoliday</th>\n",
              "      <th>BeforeStateHoliday</th>\n",
              "      <th>Sales</th>\n",
              "    </tr>\n",
              "  </thead>\n",
              "  <tbody>\n",
              "    <tr>\n",
              "      <th>168162</th>\n",
              "      <td>18540.0</td>\n",
              "      <td>1.000000</td>\n",
              "      <td>-1.0</td>\n",
              "      <td>-3.0</td>\n",
              "      <td>100.0</td>\n",
              "      <td>87.0</td>\n",
              "      <td>75.0</td>\n",
              "      <td>32.0</td>\n",
              "      <td>16.0</td>\n",
              "      <td>6.0</td>\n",
              "      <td>76.0</td>\n",
              "      <td>72.0</td>\n",
              "      <td>36.0</td>\n",
              "      <td>-62.0</td>\n",
              "      <td>4.820282</td>\n",
              "    </tr>\n",
              "    <tr>\n",
              "      <th>779886</th>\n",
              "      <td>21370.0</td>\n",
              "      <td>-1.999999</td>\n",
              "      <td>-3.0</td>\n",
              "      <td>-3.0</td>\n",
              "      <td>100.0</td>\n",
              "      <td>86.0</td>\n",
              "      <td>74.0</td>\n",
              "      <td>37.0</td>\n",
              "      <td>29.0</td>\n",
              "      <td>6.0</td>\n",
              "      <td>48.0</td>\n",
              "      <td>54.0</td>\n",
              "      <td>68.0</td>\n",
              "      <td>-19.0</td>\n",
              "      <td>5.655992</td>\n",
              "    </tr>\n",
              "    <tr>\n",
              "      <th>274995</th>\n",
              "      <td>290.0</td>\n",
              "      <td>22.000000</td>\n",
              "      <td>19.0</td>\n",
              "      <td>16.0</td>\n",
              "      <td>98.0</td>\n",
              "      <td>89.0</td>\n",
              "      <td>70.0</td>\n",
              "      <td>6.0</td>\n",
              "      <td>3.0</td>\n",
              "      <td>8.0</td>\n",
              "      <td>63.0</td>\n",
              "      <td>58.0</td>\n",
              "      <td>103.0</td>\n",
              "      <td>-13.0</td>\n",
              "      <td>6.612041</td>\n",
              "    </tr>\n",
              "    <tr>\n",
              "      <th>572972</th>\n",
              "      <td>290.0</td>\n",
              "      <td>17.000000</td>\n",
              "      <td>10.0</td>\n",
              "      <td>4.0</td>\n",
              "      <td>100.0</td>\n",
              "      <td>77.0</td>\n",
              "      <td>43.0</td>\n",
              "      <td>29.0</td>\n",
              "      <td>11.0</td>\n",
              "      <td>6.0</td>\n",
              "      <td>78.0</td>\n",
              "      <td>63.0</td>\n",
              "      <td>16.0</td>\n",
              "      <td>-12.0</td>\n",
              "      <td>6.513230</td>\n",
              "    </tr>\n",
              "    <tr>\n",
              "      <th>685811</th>\n",
              "      <td>290.0</td>\n",
              "      <td>22.000000</td>\n",
              "      <td>17.0</td>\n",
              "      <td>11.0</td>\n",
              "      <td>88.0</td>\n",
              "      <td>66.0</td>\n",
              "      <td>39.0</td>\n",
              "      <td>26.0</td>\n",
              "      <td>14.0</td>\n",
              "      <td>3.0</td>\n",
              "      <td>52.0</td>\n",
              "      <td>59.0</td>\n",
              "      <td>33.0</td>\n",
              "      <td>-103.0</td>\n",
              "      <td>6.603944</td>\n",
              "    </tr>\n",
              "    <tr>\n",
              "      <th>806013</th>\n",
              "      <td>1080.0</td>\n",
              "      <td>1.000000</td>\n",
              "      <td>-1.0</td>\n",
              "      <td>-4.0</td>\n",
              "      <td>69.0</td>\n",
              "      <td>57.0</td>\n",
              "      <td>35.0</td>\n",
              "      <td>26.0</td>\n",
              "      <td>16.0</td>\n",
              "      <td>7.0</td>\n",
              "      <td>66.0</td>\n",
              "      <td>58.0</td>\n",
              "      <td>41.0</td>\n",
              "      <td>-46.0</td>\n",
              "      <td>6.226537</td>\n",
              "    </tr>\n",
              "    <tr>\n",
              "      <th>625093</th>\n",
              "      <td>14600.0</td>\n",
              "      <td>19.000000</td>\n",
              "      <td>17.0</td>\n",
              "      <td>14.0</td>\n",
              "      <td>100.0</td>\n",
              "      <td>84.0</td>\n",
              "      <td>63.0</td>\n",
              "      <td>24.0</td>\n",
              "      <td>18.0</td>\n",
              "      <td>6.0</td>\n",
              "      <td>63.0</td>\n",
              "      <td>57.0</td>\n",
              "      <td>88.0</td>\n",
              "      <td>-38.0</td>\n",
              "      <td>6.800170</td>\n",
              "    </tr>\n",
              "    <tr>\n",
              "      <th>84475</th>\n",
              "      <td>1180.0</td>\n",
              "      <td>12.000000</td>\n",
              "      <td>8.0</td>\n",
              "      <td>3.0</td>\n",
              "      <td>100.0</td>\n",
              "      <td>74.0</td>\n",
              "      <td>41.0</td>\n",
              "      <td>23.0</td>\n",
              "      <td>11.0</td>\n",
              "      <td>3.0</td>\n",
              "      <td>62.0</td>\n",
              "      <td>73.0</td>\n",
              "      <td>0.0</td>\n",
              "      <td>0.0</td>\n",
              "      <td>10.557998</td>\n",
              "    </tr>\n",
              "    <tr>\n",
              "      <th>618894</th>\n",
              "      <td>290.0</td>\n",
              "      <td>23.000000</td>\n",
              "      <td>17.0</td>\n",
              "      <td>12.0</td>\n",
              "      <td>94.0</td>\n",
              "      <td>67.0</td>\n",
              "      <td>37.0</td>\n",
              "      <td>29.0</td>\n",
              "      <td>14.0</td>\n",
              "      <td>5.0</td>\n",
              "      <td>49.0</td>\n",
              "      <td>57.0</td>\n",
              "      <td>103.0</td>\n",
              "      <td>-33.0</td>\n",
              "      <td>6.891626</td>\n",
              "    </tr>\n",
              "    <tr>\n",
              "      <th>398565</th>\n",
              "      <td>290.0</td>\n",
              "      <td>19.000000</td>\n",
              "      <td>13.0</td>\n",
              "      <td>7.0</td>\n",
              "      <td>100.0</td>\n",
              "      <td>77.0</td>\n",
              "      <td>55.0</td>\n",
              "      <td>13.0</td>\n",
              "      <td>6.0</td>\n",
              "      <td>5.0</td>\n",
              "      <td>72.0</td>\n",
              "      <td>74.0</td>\n",
              "      <td>5.0</td>\n",
              "      <td>-5.0</td>\n",
              "      <td>6.595781</td>\n",
              "    </tr>\n",
              "  </tbody>\n",
              "</table>"
            ],
            "text/plain": [
              "<IPython.core.display.HTML object>"
            ]
          },
          "metadata": {
            "tags": []
          }
        }
      ]
    },
    {
      "cell_type": "code",
      "metadata": {
        "id": "IE_691Jcalkx",
        "colab_type": "code",
        "outputId": "d567acc5-737e-473c-b2a7-d9e38670008f",
        "colab": {
          "base_uri": "https://localhost:8080/",
          "height": 379
        }
      },
      "source": [
        "show_top_losses(learn, k=10, largest=False)"
      ],
      "execution_count": 0,
      "outputs": [
        {
          "output_type": "display_data",
          "data": {
            "text/html": [
              ""
            ],
            "text/plain": [
              "<IPython.core.display.HTML object>"
            ]
          },
          "metadata": {
            "tags": []
          }
        },
        {
          "output_type": "display_data",
          "data": {
            "text/html": [
              "<table border=\"1\" class=\"dataframe\">\n",
              "  <thead>\n",
              "    <tr style=\"text-align: right;\">\n",
              "      <th></th>\n",
              "      <th>CompetitionDistance</th>\n",
              "      <th>Max_TemperatureC</th>\n",
              "      <th>Mean_TemperatureC</th>\n",
              "      <th>Min_TemperatureC</th>\n",
              "      <th>Max_Humidity</th>\n",
              "      <th>Mean_Humidity</th>\n",
              "      <th>Min_Humidity</th>\n",
              "      <th>Max_Wind_SpeedKm_h</th>\n",
              "      <th>Mean_Wind_SpeedKm_h</th>\n",
              "      <th>CloudCover</th>\n",
              "      <th>trend</th>\n",
              "      <th>trend_DE</th>\n",
              "      <th>AfterStateHoliday</th>\n",
              "      <th>BeforeStateHoliday</th>\n",
              "      <th>Sales</th>\n",
              "    </tr>\n",
              "  </thead>\n",
              "  <tbody>\n",
              "    <tr>\n",
              "      <th>503790</th>\n",
              "      <td>6400.0</td>\n",
              "      <td>8.000000</td>\n",
              "      <td>7.000000</td>\n",
              "      <td>6.000000</td>\n",
              "      <td>100.0</td>\n",
              "      <td>82.0</td>\n",
              "      <td>57.0</td>\n",
              "      <td>26.0</td>\n",
              "      <td>13.0</td>\n",
              "      <td>6.0</td>\n",
              "      <td>72.0</td>\n",
              "      <td>67.0</td>\n",
              "      <td>3.0</td>\n",
              "      <td>-104.0</td>\n",
              "      <td>8.779711</td>\n",
              "    </tr>\n",
              "    <tr>\n",
              "      <th>96667</th>\n",
              "      <td>110.0</td>\n",
              "      <td>14.000000</td>\n",
              "      <td>8.000000</td>\n",
              "      <td>3.000000</td>\n",
              "      <td>76.0</td>\n",
              "      <td>47.0</td>\n",
              "      <td>18.0</td>\n",
              "      <td>26.0</td>\n",
              "      <td>14.0</td>\n",
              "      <td>2.0</td>\n",
              "      <td>61.0</td>\n",
              "      <td>65.0</td>\n",
              "      <td>12.0</td>\n",
              "      <td>-13.0</td>\n",
              "      <td>8.856518</td>\n",
              "    </tr>\n",
              "    <tr>\n",
              "      <th>807679</th>\n",
              "      <td>850.0</td>\n",
              "      <td>-1.999999</td>\n",
              "      <td>-5.999999</td>\n",
              "      <td>-9.000001</td>\n",
              "      <td>100.0</td>\n",
              "      <td>88.0</td>\n",
              "      <td>69.0</td>\n",
              "      <td>24.0</td>\n",
              "      <td>13.0</td>\n",
              "      <td>6.0</td>\n",
              "      <td>45.0</td>\n",
              "      <td>51.0</td>\n",
              "      <td>34.0</td>\n",
              "      <td>-48.0</td>\n",
              "      <td>8.735043</td>\n",
              "    </tr>\n",
              "    <tr>\n",
              "      <th>741425</th>\n",
              "      <td>8080.0</td>\n",
              "      <td>14.000000</td>\n",
              "      <td>11.000000</td>\n",
              "      <td>8.000000</td>\n",
              "      <td>93.0</td>\n",
              "      <td>78.0</td>\n",
              "      <td>59.0</td>\n",
              "      <td>14.0</td>\n",
              "      <td>11.0</td>\n",
              "      <td>6.0</td>\n",
              "      <td>54.0</td>\n",
              "      <td>52.0</td>\n",
              "      <td>21.0</td>\n",
              "      <td>-9.0</td>\n",
              "      <td>8.962007</td>\n",
              "    </tr>\n",
              "    <tr>\n",
              "      <th>469157</th>\n",
              "      <td>460.0</td>\n",
              "      <td>9.000000</td>\n",
              "      <td>6.000000</td>\n",
              "      <td>3.000000</td>\n",
              "      <td>94.0</td>\n",
              "      <td>66.0</td>\n",
              "      <td>32.0</td>\n",
              "      <td>26.0</td>\n",
              "      <td>18.0</td>\n",
              "      <td>7.0</td>\n",
              "      <td>74.0</td>\n",
              "      <td>68.0</td>\n",
              "      <td>40.0</td>\n",
              "      <td>-67.0</td>\n",
              "      <td>8.522579</td>\n",
              "    </tr>\n",
              "    <tr>\n",
              "      <th>673595</th>\n",
              "      <td>180.0</td>\n",
              "      <td>23.000000</td>\n",
              "      <td>20.000000</td>\n",
              "      <td>17.000000</td>\n",
              "      <td>94.0</td>\n",
              "      <td>73.0</td>\n",
              "      <td>46.0</td>\n",
              "      <td>18.0</td>\n",
              "      <td>6.0</td>\n",
              "      <td>5.0</td>\n",
              "      <td>75.0</td>\n",
              "      <td>58.0</td>\n",
              "      <td>46.0</td>\n",
              "      <td>-90.0</td>\n",
              "      <td>8.888619</td>\n",
              "    </tr>\n",
              "    <tr>\n",
              "      <th>18527</th>\n",
              "      <td>1590.0</td>\n",
              "      <td>22.000000</td>\n",
              "      <td>19.000000</td>\n",
              "      <td>16.000000</td>\n",
              "      <td>94.0</td>\n",
              "      <td>73.0</td>\n",
              "      <td>50.0</td>\n",
              "      <td>26.0</td>\n",
              "      <td>11.0</td>\n",
              "      <td>6.0</td>\n",
              "      <td>68.0</td>\n",
              "      <td>74.0</td>\n",
              "      <td>39.0</td>\n",
              "      <td>0.0</td>\n",
              "      <td>8.875007</td>\n",
              "    </tr>\n",
              "    <tr>\n",
              "      <th>246287</th>\n",
              "      <td>70.0</td>\n",
              "      <td>12.000000</td>\n",
              "      <td>9.000000</td>\n",
              "      <td>6.000000</td>\n",
              "      <td>100.0</td>\n",
              "      <td>87.0</td>\n",
              "      <td>66.0</td>\n",
              "      <td>19.0</td>\n",
              "      <td>10.0</td>\n",
              "      <td>5.0</td>\n",
              "      <td>82.0</td>\n",
              "      <td>72.0</td>\n",
              "      <td>24.0</td>\n",
              "      <td>-59.0</td>\n",
              "      <td>8.804475</td>\n",
              "    </tr>\n",
              "    <tr>\n",
              "      <th>550453</th>\n",
              "      <td>7660.0</td>\n",
              "      <td>5.000000</td>\n",
              "      <td>3.000000</td>\n",
              "      <td>1.000000</td>\n",
              "      <td>100.0</td>\n",
              "      <td>92.0</td>\n",
              "      <td>86.0</td>\n",
              "      <td>11.0</td>\n",
              "      <td>5.0</td>\n",
              "      <td>7.0</td>\n",
              "      <td>67.0</td>\n",
              "      <td>71.0</td>\n",
              "      <td>12.0</td>\n",
              "      <td>-42.0</td>\n",
              "      <td>8.596928</td>\n",
              "    </tr>\n",
              "    <tr>\n",
              "      <th>570741</th>\n",
              "      <td>10800.0</td>\n",
              "      <td>22.000000</td>\n",
              "      <td>18.000000</td>\n",
              "      <td>14.000000</td>\n",
              "      <td>94.0</td>\n",
              "      <td>74.0</td>\n",
              "      <td>54.0</td>\n",
              "      <td>40.0</td>\n",
              "      <td>23.0</td>\n",
              "      <td>6.0</td>\n",
              "      <td>61.0</td>\n",
              "      <td>60.0</td>\n",
              "      <td>19.0</td>\n",
              "      <td>-10.0</td>\n",
              "      <td>8.874868</td>\n",
              "    </tr>\n",
              "  </tbody>\n",
              "</table>"
            ],
            "text/plain": [
              "<IPython.core.display.HTML object>"
            ]
          },
          "metadata": {
            "tags": []
          }
        }
      ]
    },
    {
      "cell_type": "markdown",
      "metadata": {
        "id": "USFyAKx3azIQ",
        "colab_type": "text"
      },
      "source": [
        "### Interpreting the predictions with SHAP"
      ]
    },
    {
      "cell_type": "markdown",
      "metadata": {
        "id": "u5-6BjSybZ2e",
        "colab_type": "text"
      },
      "source": [
        "[SHAP](https://github.com/slundberg/shap) is a library for interpreting prediction models (of any kind), and we can use it to help us with tabular data too. SHAP measures the impact of variables taking into account the interaction with other variables. Shapley values calculate the importance of a feature by comparing what a model predicts with and without the feature. The library `FastSHAP` brings in part of the SHAP library into fastai2 and make it compatible.\n",
        "\n"
      ]
    },
    {
      "cell_type": "code",
      "metadata": {
        "id": "QsJpxZyybvqM",
        "colab_type": "code",
        "outputId": "f598c9d5-a83c-4317-d662-0b6a6b1981f4",
        "colab": {
          "base_uri": "https://localhost:8080/",
          "height": 68
        }
      },
      "source": [
        "!pip install -q fastshap"
      ],
      "execution_count": 0,
      "outputs": [
        {
          "output_type": "stream",
          "text": [
            "\u001b[?25l\r\u001b[K     |█▏                              | 10kB 30.4MB/s eta 0:00:01\r\u001b[K     |██▍                             | 20kB 35.8MB/s eta 0:00:01\r\u001b[K     |███▋                            | 30kB 9.1MB/s eta 0:00:01\r\u001b[K     |████▉                           | 40kB 11.5MB/s eta 0:00:01\r\u001b[K     |██████                          | 51kB 12.3MB/s eta 0:00:01\r\u001b[K     |███████▏                        | 61kB 12.7MB/s eta 0:00:01\r\u001b[K     |████████▍                       | 71kB 12.3MB/s eta 0:00:01\r\u001b[K     |█████████▋                      | 81kB 10.7MB/s eta 0:00:01\r\u001b[K     |██████████▉                     | 92kB 10.3MB/s eta 0:00:01\r\u001b[K     |████████████                    | 102kB 10.4MB/s eta 0:00:01\r\u001b[K     |█████████████▏                  | 112kB 10.4MB/s eta 0:00:01\r\u001b[K     |██████████████▍                 | 122kB 10.4MB/s eta 0:00:01\r\u001b[K     |███████████████▋                | 133kB 10.4MB/s eta 0:00:01\r\u001b[K     |████████████████▉               | 143kB 10.4MB/s eta 0:00:01\r\u001b[K     |██████████████████              | 153kB 10.4MB/s eta 0:00:01\r\u001b[K     |███████████████████▏            | 163kB 10.4MB/s eta 0:00:01\r\u001b[K     |████████████████████▍           | 174kB 10.4MB/s eta 0:00:01\r\u001b[K     |█████████████████████▋          | 184kB 10.4MB/s eta 0:00:01\r\u001b[K     |██████████████████████▉         | 194kB 10.4MB/s eta 0:00:01\r\u001b[K     |████████████████████████        | 204kB 10.4MB/s eta 0:00:01\r\u001b[K     |█████████████████████████▏      | 215kB 10.4MB/s eta 0:00:01\r\u001b[K     |██████████████████████████▍     | 225kB 10.4MB/s eta 0:00:01\r\u001b[K     |███████████████████████████▋    | 235kB 10.4MB/s eta 0:00:01\r\u001b[K     |████████████████████████████▉   | 245kB 10.4MB/s eta 0:00:01\r\u001b[K     |██████████████████████████████  | 256kB 10.4MB/s eta 0:00:01\r\u001b[K     |███████████████████████████████▏| 266kB 10.4MB/s eta 0:00:01\r\u001b[K     |████████████████████████████████| 276kB 10.4MB/s \n",
            "\u001b[?25h  Building wheel for fastshap (setup.py) ... \u001b[?25l\u001b[?25hdone\n",
            "  Building wheel for shap (setup.py) ... \u001b[?25l\u001b[?25hdone\n"
          ],
          "name": "stdout"
        }
      ]
    },
    {
      "cell_type": "markdown",
      "metadata": {
        "id": "JDIIvRlVb4X0",
        "colab_type": "text"
      },
      "source": [
        "First let's import the interpretability module:\n"
      ]
    },
    {
      "cell_type": "code",
      "metadata": {
        "id": "EkZG7PRJcSfU",
        "colab_type": "code",
        "colab": {}
      },
      "source": [
        "from fastshap.interp import *"
      ],
      "execution_count": 0,
      "outputs": []
    },
    {
      "cell_type": "markdown",
      "metadata": {
        "id": "jVThCc-WcWm0",
        "colab_type": "text"
      },
      "source": [
        "And now we'll make a ShapInterpretation object. It expects your Learner along with some test data to look at and any keywords that SHAP can use. If you don't pass anything in it will use a subset of your validation data:"
      ]
    },
    {
      "cell_type": "code",
      "metadata": {
        "id": "kGkk341ycXjS",
        "colab_type": "code",
        "outputId": "d12505ca-3399-4293-a777-84d5b921d781",
        "colab": {
          "base_uri": "https://localhost:8080/",
          "height": 66,
          "referenced_widgets": [
            "f7c8fe3b604e49458211b277fa10463c",
            "9c614ff9949e43b1ab65ff979584ab6a",
            "059f1ab686a04951becfe493e4b7bc26",
            "2847696cd483491a80fd6de9cc078643",
            "4386f3d9b1074da2bdb78959df683908",
            "6887cefd5f2b4753b7106113bde7044e",
            "288beac49d6043a6a2257655b4d09d88",
            "a8503acfcbf640e4851fcdf0d25839b0"
          ]
        }
      },
      "source": [
        "learn.dl.vocab = learn.dl.y_names # This is only needed for regression problems\n",
        "exp = ShapInterpretation(learn)"
      ],
      "execution_count": 0,
      "outputs": [
        {
          "output_type": "display_data",
          "data": {
            "application/vnd.jupyter.widget-view+json": {
              "model_id": "f7c8fe3b604e49458211b277fa10463c",
              "version_minor": 0,
              "version_major": 2
            },
            "text/plain": [
              "HBox(children=(FloatProgress(value=0.0, max=128.0), HTML(value='')))"
            ]
          },
          "metadata": {
            "tags": []
          }
        },
        {
          "output_type": "stream",
          "text": [
            "\n"
          ],
          "name": "stdout"
        }
      ]
    },
    {
      "cell_type": "markdown",
      "metadata": {
        "id": "TTBisre9cja8",
        "colab_type": "text"
      },
      "source": [
        "To get an overview of which features are most important for a model we can plot the SHAP values of every feature for every sample. The plot below (summary plot) sorts features by the sum of SHAP value magnitudes over all samples, and uses SHAP values to show the distribution of the impacts each feature has on the model output. The color represents the feature value (red high, blue low)."
      ]
    },
    {
      "cell_type": "code",
      "metadata": {
        "id": "n0DjChRfd2Br",
        "colab_type": "code",
        "outputId": "fe1f16dc-4cc7-4cda-f938-41451925da38",
        "colab": {
          "base_uri": "https://localhost:8080/",
          "height": 455
        }
      },
      "source": [
        "exp.summary_plot()"
      ],
      "execution_count": 0,
      "outputs": [
        {
          "output_type": "display_data",
          "data": {
            "image/png": "[encoded data removed]",
            "text/plain": [
              "<Figure size 576x511.2 with 2 Axes>"
            ]
          },
          "metadata": {
            "tags": [],
            "needs_background": "light"
          }
        }
      ]
    },
    {
      "cell_type": "markdown",
      "metadata": {
        "id": "hicn11xcevFl",
        "colab_type": "text"
      },
      "source": [
        "To understand how a single feature effects the output of the model we can plot the SHAP value of that feature vs. the value of the feature for all the examples in a dataset. Since SHAP values represent a feature's responsibility for a change in the model output, the plot below represents the change in predicted dependent variable as 'Mean_TemperatureC' changes. Vertical dispersion at a single value of 'Mean_TemperatureC' represents interaction effects with other features. To help reveal these interactions `dependence_plot` automatically selects another feature for coloring. You can change the interaction variable to visualize trhough the argument `interaction_index`"
      ]
    },
    {
      "cell_type": "code",
      "metadata": {
        "id": "JbeFIIisd4vY",
        "colab_type": "code",
        "outputId": "4b83c58d-5adc-4c49-dbae-9f1f81b735ba",
        "colab": {
          "base_uri": "https://localhost:8080/",
          "height": 340
        }
      },
      "source": [
        "exp.dependence_plot('trend_DE')"
      ],
      "execution_count": 0,
      "outputs": [
        {
          "output_type": "display_data",
          "data": {
            "image/png": "[encoded data removed]",
            "text/plain": [
              "<Figure size 540x360 with 2 Axes>"
            ]
          },
          "metadata": {
            "tags": [],
            "needs_background": "light"
          }
        }
      ]
    }
  ]
}