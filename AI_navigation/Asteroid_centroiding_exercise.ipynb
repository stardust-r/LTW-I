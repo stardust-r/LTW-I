{
  "nbformat": 4,
  "nbformat_minor": 0,
  "metadata": {
    "colab": {
      "name": "Asteroid-centroiding-exercise.ipynb",
      "provenance": [],
      "collapsed_sections": []
    },
    "kernelspec": {
      "name": "python3",
      "display_name": "Python 3"
    },
    "accelerator": "GPU"
  },
  "cells": [
    {
      "cell_type": "markdown",
      "metadata": {
        "id": "PiyMMUUY2G1j",
        "colab_type": "text"
      },
      "source": [
        "# Asteroid Centroiding Exercise"
      ]
    },
    {
      "cell_type": "markdown",
      "metadata": {
        "id": "auGoHfyOapE6",
        "colab_type": "text"
      },
      "source": [
        "This exercise follows the Key Point Detection Tutorial but applies it to the problem of asteroid centroiding. We provide you with the main DataLoader functions, but the rest is up to you! \n",
        "\n",
        "**Exercise: Achieve the best score!**\n",
        "\n",
        "Train your model as best you can using the available training dataset: https://aida.ii.uam.es/data/stardust_ltw/centroid_estimation_train_valid.zip\n",
        "\n",
        "Check out:\n",
        "* Training vs validation dataset splitting\n",
        "* Data augmentation\n",
        "* Batch size\n",
        "* Number of neural network (ResNet) layers\n",
        "* Learning rate selection\n",
        "* Number of training epochs (watch out for overfitting)\n",
        "* Understanding where your model is deficient\n",
        "\n",
        "When you are happy, use your model on this test dataset where the labels are not available: https://aida.ii.uam.es/data/stardust_ltw/centroid_estimation_test.zip\n",
        "\n",
        "You can have **3 attempts** where you pass your predictions to the mentors and they update your score on the **leaderboard**! Try to beat the other groups...\n",
        "\n",
        "\n",
        "**Extension Exercises (optional):**\n",
        "* Apply the Class Activation Mapping (CAM) from the tutorial for helping to \"explain\" how your model behaves\n",
        "* **Research question: What is the best model you can achieve with the least data?** Here the data is synthetic, but in reality you may not have access to as many images. How does the validation metric evolve across different data subsets?\n",
        "\n",
        "At the end of the working session, each group will **present their best model found**, and discuss about the possibilities to further improve the results of this exercise, with a view to its applicability in a real environment.\n",
        "\n",
        "Remember to use the LTW-I Slack workspace to ask questions and request mentors to your Zoom room. You can also visit the [fastai2 documentation website](https://dev.fast.ai/) for technical troubleshooting. \n",
        "\n",
        "\n",
        "\n"
      ]
    },
    {
      "cell_type": "markdown",
      "metadata": {
        "id": "cF6IwC4di-q_",
        "colab_type": "text"
      },
      "source": [
        "## Setup the GPU"
      ]
    },
    {
      "cell_type": "markdown",
      "metadata": {
        "id": "kAPsD_VIhMEu",
        "colab_type": "text"
      },
      "source": [
        "Before starting, you will need to set colab to use the GPU:\n",
        "* Go to Edit > Notebook settings or Runtime > Change runtime type and select GPU as Hardware accelerator.\n",
        "* https://medium.com/deep-learning-turkey/google-colab-free-gpu-tutorial-e113627b9f5d"
      ]
    },
    {
      "cell_type": "markdown",
      "metadata": {
        "id": "A4CuOdYq9o9U",
        "colab_type": "text"
      },
      "source": [
        "## Install Fastai libraries"
      ]
    },
    {
      "cell_type": "markdown",
      "metadata": {
        "id": "voP1iR7ObeVJ",
        "colab_type": "text"
      },
      "source": [
        "The fastai2 library is not pre-installed in colab so we first need to pip install it. Using \"!\" at the beginning of a cell in a Jupyter notebook runs a shell command inside the notebook, and installs the library directly to the colab virtual machine. You only need to rerun this when restarting the kernel."
      ]
    },
    {
      "cell_type": "code",
      "metadata": {
        "id": "DKEF2c6-3lyJ",
        "colab_type": "code",
        "outputId": "18c57d52-c988-4a11-fc3e-39ea046148f9",
        "colab": {
          "base_uri": "https://localhost:8080/",
          "height": 837
        }
      },
      "source": [
        "!pip3 install fastai2"
      ],
      "execution_count": 1,
      "outputs": [
        {
          "output_type": "stream",
          "text": [
            "Collecting fastai2\n",
            "\u001b[?25l  Downloading https://files.pythonhosted.org/packages/26/4f/0f61bb0d376eb47c20430639bac4946ca0cffcd7e693fb86698656324f2d/fastai2-0.0.17-py3-none-any.whl (190kB)\n",
            "\r\u001b[K     |█▊                              | 10kB 20.7MB/s eta 0:00:01\r\u001b[K     |███▌                            | 20kB 2.2MB/s eta 0:00:01\r\u001b[K     |█████▏                          | 30kB 3.2MB/s eta 0:00:01\r\u001b[K     |███████                         | 40kB 4.1MB/s eta 0:00:01\r\u001b[K     |████████▋                       | 51kB 2.6MB/s eta 0:00:01\r\u001b[K     |██████████▍                     | 61kB 3.1MB/s eta 0:00:01\r\u001b[K     |████████████                    | 71kB 3.6MB/s eta 0:00:01\r\u001b[K     |█████████████▉                  | 81kB 4.0MB/s eta 0:00:01\r\u001b[K     |███████████████▌                | 92kB 3.1MB/s eta 0:00:01\r\u001b[K     |█████████████████▎              | 102kB 3.4MB/s eta 0:00:01\r\u001b[K     |███████████████████             | 112kB 3.4MB/s eta 0:00:01\r\u001b[K     |████████████████████▊           | 122kB 3.4MB/s eta 0:00:01\r\u001b[K     |██████████████████████▍         | 133kB 3.4MB/s eta 0:00:01\r\u001b[K     |████████████████████████▏       | 143kB 3.4MB/s eta 0:00:01\r\u001b[K     |█████████████████████████▉      | 153kB 3.4MB/s eta 0:00:01\r\u001b[K     |███████████████████████████▋    | 163kB 3.4MB/s eta 0:00:01\r\u001b[K     |█████████████████████████████▎  | 174kB 3.4MB/s eta 0:00:01\r\u001b[K     |███████████████████████████████ | 184kB 3.4MB/s eta 0:00:01\r\u001b[K     |████████████████████████████████| 194kB 3.4MB/s \n",
            "\u001b[?25hRequirement already satisfied: torchvision>=0.5 in /usr/local/lib/python3.6/dist-packages (from fastai2) (0.6.0+cu101)\n",
            "Requirement already satisfied: fastprogress>=0.1.22 in /usr/local/lib/python3.6/dist-packages (from fastai2) (0.2.3)\n",
            "Requirement already satisfied: scikit-learn in /usr/local/lib/python3.6/dist-packages (from fastai2) (0.22.2.post1)\n",
            "Requirement already satisfied: pandas in /usr/local/lib/python3.6/dist-packages (from fastai2) (1.0.3)\n",
            "Requirement already satisfied: pillow in /usr/local/lib/python3.6/dist-packages (from fastai2) (7.0.0)\n",
            "Requirement already satisfied: pyyaml in /usr/local/lib/python3.6/dist-packages (from fastai2) (3.13)\n",
            "Requirement already satisfied: spacy in /usr/local/lib/python3.6/dist-packages (from fastai2) (2.2.4)\n",
            "Requirement already satisfied: requests in /usr/local/lib/python3.6/dist-packages (from fastai2) (2.23.0)\n",
            "Collecting fastcore\n",
            "  Downloading https://files.pythonhosted.org/packages/dd/f3/8cd2e1ed981b0ddbe4d56e5d44f52c9e56d27ac7d53c30abb534d10c82c2/fastcore-0.1.17-py3-none-any.whl\n",
            "Requirement already satisfied: torch>=1.3.0 in /usr/local/lib/python3.6/dist-packages (from fastai2) (1.5.0+cu101)\n",
            "Requirement already satisfied: scipy in /usr/local/lib/python3.6/dist-packages (from fastai2) (1.4.1)\n",
            "Requirement already satisfied: matplotlib in /usr/local/lib/python3.6/dist-packages (from fastai2) (3.2.1)\n",
            "Requirement already satisfied: numpy in /usr/local/lib/python3.6/dist-packages (from torchvision>=0.5->fastai2) (1.18.4)\n",
            "Requirement already satisfied: joblib>=0.11 in /usr/local/lib/python3.6/dist-packages (from scikit-learn->fastai2) (0.14.1)\n",
            "Requirement already satisfied: pytz>=2017.2 in /usr/local/lib/python3.6/dist-packages (from pandas->fastai2) (2018.9)\n",
            "Requirement already satisfied: python-dateutil>=2.6.1 in /usr/local/lib/python3.6/dist-packages (from pandas->fastai2) (2.8.1)\n",
            "Requirement already satisfied: setuptools in /usr/local/lib/python3.6/dist-packages (from spacy->fastai2) (46.3.0)\n",
            "Requirement already satisfied: srsly<1.1.0,>=1.0.2 in /usr/local/lib/python3.6/dist-packages (from spacy->fastai2) (1.0.2)\n",
            "Requirement already satisfied: preshed<3.1.0,>=3.0.2 in /usr/local/lib/python3.6/dist-packages (from spacy->fastai2) (3.0.2)\n",
            "Requirement already satisfied: cymem<2.1.0,>=2.0.2 in /usr/local/lib/python3.6/dist-packages (from spacy->fastai2) (2.0.3)\n",
            "Requirement already satisfied: plac<1.2.0,>=0.9.6 in /usr/local/lib/python3.6/dist-packages (from spacy->fastai2) (1.1.3)\n",
            "Requirement already satisfied: thinc==7.4.0 in /usr/local/lib/python3.6/dist-packages (from spacy->fastai2) (7.4.0)\n",
            "Requirement already satisfied: murmurhash<1.1.0,>=0.28.0 in /usr/local/lib/python3.6/dist-packages (from spacy->fastai2) (1.0.2)\n",
            "Requirement already satisfied: wasabi<1.1.0,>=0.4.0 in /usr/local/lib/python3.6/dist-packages (from spacy->fastai2) (0.6.0)\n",
            "Requirement already satisfied: catalogue<1.1.0,>=0.0.7 in /usr/local/lib/python3.6/dist-packages (from spacy->fastai2) (1.0.0)\n",
            "Requirement already satisfied: blis<0.5.0,>=0.4.0 in /usr/local/lib/python3.6/dist-packages (from spacy->fastai2) (0.4.1)\n",
            "Requirement already satisfied: tqdm<5.0.0,>=4.38.0 in /usr/local/lib/python3.6/dist-packages (from spacy->fastai2) (4.41.1)\n",
            "Requirement already satisfied: certifi>=2017.4.17 in /usr/local/lib/python3.6/dist-packages (from requests->fastai2) (2020.4.5.1)\n",
            "Requirement already satisfied: chardet<4,>=3.0.2 in /usr/local/lib/python3.6/dist-packages (from requests->fastai2) (3.0.4)\n",
            "Requirement already satisfied: urllib3!=1.25.0,!=1.25.1,<1.26,>=1.21.1 in /usr/local/lib/python3.6/dist-packages (from requests->fastai2) (1.24.3)\n",
            "Requirement already satisfied: idna<3,>=2.5 in /usr/local/lib/python3.6/dist-packages (from requests->fastai2) (2.9)\n",
            "Requirement already satisfied: dataclasses>='0.7'; python_version < \"3.7\" in /usr/local/lib/python3.6/dist-packages (from fastcore->fastai2) (0.7)\n",
            "Requirement already satisfied: future in /usr/local/lib/python3.6/dist-packages (from torch>=1.3.0->fastai2) (0.16.0)\n",
            "Requirement already satisfied: pyparsing!=2.0.4,!=2.1.2,!=2.1.6,>=2.0.1 in /usr/local/lib/python3.6/dist-packages (from matplotlib->fastai2) (2.4.7)\n",
            "Requirement already satisfied: cycler>=0.10 in /usr/local/lib/python3.6/dist-packages (from matplotlib->fastai2) (0.10.0)\n",
            "Requirement already satisfied: kiwisolver>=1.0.1 in /usr/local/lib/python3.6/dist-packages (from matplotlib->fastai2) (1.2.0)\n",
            "Requirement already satisfied: six>=1.5 in /usr/local/lib/python3.6/dist-packages (from python-dateutil>=2.6.1->pandas->fastai2) (1.12.0)\n",
            "Requirement already satisfied: importlib-metadata>=0.20; python_version < \"3.8\" in /usr/local/lib/python3.6/dist-packages (from catalogue<1.1.0,>=0.0.7->spacy->fastai2) (1.6.0)\n",
            "Requirement already satisfied: zipp>=0.5 in /usr/local/lib/python3.6/dist-packages (from importlib-metadata>=0.20; python_version < \"3.8\"->catalogue<1.1.0,>=0.0.7->spacy->fastai2) (3.1.0)\n",
            "Installing collected packages: fastcore, fastai2\n",
            "Successfully installed fastai2-0.0.17 fastcore-0.1.17\n"
          ],
          "name": "stdout"
        }
      ]
    },
    {
      "cell_type": "code",
      "metadata": {
        "id": "p1D1kqjS2Jjr",
        "colab_type": "code",
        "colab": {}
      },
      "source": [
        "from fastai2 import *\n",
        "from fastai2.vision.all import *"
      ],
      "execution_count": 0,
      "outputs": []
    },
    {
      "cell_type": "code",
      "metadata": {
        "colab_type": "code",
        "id": "V8DpP16W2Izr",
        "colab": {}
      },
      "source": [
        "import os\n",
        "import numpy as np\n",
        "import pandas as pd\n",
        "from pathlib import Path\n",
        "from zipfile import ZipFile"
      ],
      "execution_count": 0,
      "outputs": []
    },
    {
      "cell_type": "markdown",
      "metadata": {
        "id": "Fkqpiq-J390D",
        "colab_type": "text"
      },
      "source": [
        "## Download & Access Data"
      ]
    },
    {
      "cell_type": "markdown",
      "metadata": {
        "id": "2m1EM1kcj3eE",
        "colab_type": "text"
      },
      "source": [
        "Download and unzip the data. Check access to the image files (Centroid/*.png) and file containing target coordinates of centre of the asteroid (Par.txt)."
      ]
    },
    {
      "cell_type": "code",
      "metadata": {
        "id": "Cl7j40G-Yjyk",
        "colab_type": "code",
        "colab": {}
      },
      "source": [
        "# set pathlib object\n",
        "path = Path(\".\")"
      ],
      "execution_count": 0,
      "outputs": []
    },
    {
      "cell_type": "code",
      "metadata": {
        "id": "mT6Tke-YYSCg",
        "colab_type": "code",
        "colab": {
          "base_uri": "https://localhost:8080/",
          "height": 17
        },
        "outputId": "c63a9736-0129-41ad-ad25-7027d28c9b2a"
      },
      "source": [
        "download_url(url=\"https://aida.ii.uam.es/data/stardust_ltw/centroid_estimation_train_valid.zip\", dest=path/\"centroid_estimation_train_valid.zip\")"
      ],
      "execution_count": 5,
      "outputs": [
        {
          "output_type": "display_data",
          "data": {
            "text/html": [
              ""
            ],
            "text/plain": [
              "<IPython.core.display.HTML object>"
            ]
          },
          "metadata": {
            "tags": []
          }
        }
      ]
    },
    {
      "cell_type": "code",
      "metadata": {
        "id": "MTW2LLP7Yotu",
        "colab_type": "code",
        "outputId": "c0232e59-f540-4002-e474-ecf4d2fbdb7b",
        "colab": {
          "base_uri": "https://localhost:8080/",
          "height": 35
        }
      },
      "source": [
        "os.listdir()"
      ],
      "execution_count": 6,
      "outputs": [
        {
          "output_type": "execute_result",
          "data": {
            "text/plain": [
              "['.config', 'centroid_estimation_train_valid.zip', 'sample_data']"
            ]
          },
          "metadata": {
            "tags": []
          },
          "execution_count": 6
        }
      ]
    },
    {
      "cell_type": "code",
      "metadata": {
        "id": "h53AKB5fgNVH",
        "colab_type": "code",
        "colab": {}
      },
      "source": [
        "ZipFile('centroid_estimation_train_valid.zip').extractall()"
      ],
      "execution_count": 0,
      "outputs": []
    },
    {
      "cell_type": "code",
      "metadata": {
        "id": "wJNXhbXTgg2D",
        "colab_type": "code",
        "outputId": "278cd112-805b-4ae0-a2fd-e9842214b712",
        "colab": {
          "base_uri": "https://localhost:8080/",
          "height": 35
        }
      },
      "source": [
        "os.listdir()"
      ],
      "execution_count": 8,
      "outputs": [
        {
          "output_type": "execute_result",
          "data": {
            "text/plain": [
              "['.config', 'Train', 'centroid_estimation_train_valid.zip', 'sample_data']"
            ]
          },
          "metadata": {
            "tags": []
          },
          "execution_count": 8
        }
      ]
    },
    {
      "cell_type": "code",
      "metadata": {
        "id": "VAUJ6TnviPDU",
        "colab_type": "code",
        "outputId": "ce04803b-fd71-478a-fa8d-1c065644745f",
        "colab": {
          "base_uri": "https://localhost:8080/",
          "height": 200
        }
      },
      "source": [
        "# read in asteroid centres (cx, cy) per asteroid ID as pandas dataframe\n",
        "df = pd.read_csv(path/\"Train/Par_train.csv\")\n",
        "df.head()"
      ],
      "execution_count": 9,
      "outputs": [
        {
          "output_type": "execute_result",
          "data": {
            "text/html": [
              "<div>\n",
              "<style scoped>\n",
              "    .dataframe tbody tr th:only-of-type {\n",
              "        vertical-align: middle;\n",
              "    }\n",
              "\n",
              "    .dataframe tbody tr th {\n",
              "        vertical-align: top;\n",
              "    }\n",
              "\n",
              "    .dataframe thead th {\n",
              "        text-align: right;\n",
              "    }\n",
              "</style>\n",
              "<table border=\"1\" class=\"dataframe\">\n",
              "  <thead>\n",
              "    <tr style=\"text-align: right;\">\n",
              "      <th></th>\n",
              "      <th>ID</th>\n",
              "      <th>theta_Ast</th>\n",
              "      <th>theta_Sun</th>\n",
              "      <th>y_CAM</th>\n",
              "      <th>z_CAM</th>\n",
              "      <th>theta_CAM</th>\n",
              "      <th>cx</th>\n",
              "      <th>cy</th>\n",
              "    </tr>\n",
              "  </thead>\n",
              "  <tbody>\n",
              "    <tr>\n",
              "      <th>0</th>\n",
              "      <td>0</td>\n",
              "      <td>0.0</td>\n",
              "      <td>-135.0</td>\n",
              "      <td>0.082303</td>\n",
              "      <td>-0.221242</td>\n",
              "      <td>17.615241</td>\n",
              "      <td>443.799438</td>\n",
              "      <td>599.228210</td>\n",
              "    </tr>\n",
              "    <tr>\n",
              "      <th>1</th>\n",
              "      <td>1</td>\n",
              "      <td>0.0</td>\n",
              "      <td>-120.0</td>\n",
              "      <td>0.080931</td>\n",
              "      <td>0.194759</td>\n",
              "      <td>27.223517</td>\n",
              "      <td>520.035217</td>\n",
              "      <td>413.397461</td>\n",
              "    </tr>\n",
              "    <tr>\n",
              "      <th>2</th>\n",
              "      <td>2</td>\n",
              "      <td>0.0</td>\n",
              "      <td>-105.0</td>\n",
              "      <td>0.114268</td>\n",
              "      <td>0.050295</td>\n",
              "      <td>24.742404</td>\n",
              "      <td>473.195587</td>\n",
              "      <td>468.139862</td>\n",
              "    </tr>\n",
              "    <tr>\n",
              "      <th>3</th>\n",
              "      <td>3</td>\n",
              "      <td>0.0</td>\n",
              "      <td>-90.0</td>\n",
              "      <td>-0.317256</td>\n",
              "      <td>0.290575</td>\n",
              "      <td>29.001716</td>\n",
              "      <td>708.237549</td>\n",
              "      <td>464.942108</td>\n",
              "    </tr>\n",
              "    <tr>\n",
              "      <th>4</th>\n",
              "      <td>4</td>\n",
              "      <td>0.0</td>\n",
              "      <td>-75.0</td>\n",
              "      <td>0.126358</td>\n",
              "      <td>-0.387266</td>\n",
              "      <td>24.121571</td>\n",
              "      <td>383.667603</td>\n",
              "      <td>653.569763</td>\n",
              "    </tr>\n",
              "  </tbody>\n",
              "</table>\n",
              "</div>"
            ],
            "text/plain": [
              "   ID  theta_Ast  theta_Sun  ...  theta_CAM          cx          cy\n",
              "0   0        0.0     -135.0  ...  17.615241  443.799438  599.228210\n",
              "1   1        0.0     -120.0  ...  27.223517  520.035217  413.397461\n",
              "2   2        0.0     -105.0  ...  24.742404  473.195587  468.139862\n",
              "3   3        0.0      -90.0  ...  29.001716  708.237549  464.942108\n",
              "4   4        0.0      -75.0  ...  24.121571  383.667603  653.569763\n",
              "\n",
              "[5 rows x 8 columns]"
            ]
          },
          "metadata": {
            "tags": []
          },
          "execution_count": 9
        }
      ]
    },
    {
      "cell_type": "code",
      "metadata": {
        "id": "QvRW_q-PkVwz",
        "colab_type": "code",
        "colab": {}
      },
      "source": [
        "imagedir = path/\"Train\""
      ],
      "execution_count": 0,
      "outputs": []
    },
    {
      "cell_type": "code",
      "metadata": {
        "id": "ISKpkZkcikXv",
        "colab_type": "code",
        "outputId": "be42d8b4-cd24-4f1d-c37f-f5baa830f33b",
        "colab": {
          "base_uri": "https://localhost:8080/",
          "height": 212
        }
      },
      "source": [
        "# TEST (check access to asteroid images)\n",
        "i = 10\n",
        "img_files = get_image_files(imagedir)\n",
        "print(img_files[i])\n",
        "im = PILImage.create(img_files[i])\n",
        "ysize = im.shape[1]\n",
        "print(im.size, ysize)\n",
        "im.to_thumb(160)"
      ],
      "execution_count": 15,
      "outputs": [
        {
          "output_type": "stream",
          "text": [
            "Train/00649.png\n",
            "(1024, 1024) 1024\n"
          ],
          "name": "stdout"
        },
        {
          "output_type": "execute_result",
          "data": {
            "image/png": "[encoded data removed]",
            "text/plain": [
              "<PIL.Image.Image image mode=RGB size=160x160 at 0x7F21087CAE10>"
            ]
          },
          "metadata": {
            "tags": []
          },
          "execution_count": 15
        }
      ]
    },
    {
      "cell_type": "markdown",
      "metadata": {
        "id": "pGVadTNV6HXI",
        "colab_type": "text"
      },
      "source": [
        "## Preprocess Data"
      ]
    },
    {
      "cell_type": "code",
      "metadata": {
        "id": "590UhboR_x8B",
        "colab_type": "code",
        "colab": {}
      },
      "source": [
        "def label_func(fname):\n",
        "    \"\"\"\n",
        "    retrieve centroid coords\n",
        "    ysize = im.size[1], need to invert y axis\n",
        "    \"\"\"\n",
        "    i = int(str(fname).split(\"/\")[-1].split(\".\")[0])\n",
        "\n",
        "    cx,cy = df[df.ID==i].cx.values[0], ysize-df[df.ID==i].cy.values[0]\n",
        "    return tensor([cx,cy])"
      ],
      "execution_count": 0,
      "outputs": []
    },
    {
      "cell_type": "code",
      "metadata": {
        "id": "uhjBoa1i_zAC",
        "colab_type": "code",
        "colab": {}
      },
      "source": [
        "item_tfms  = [Resize(256)]\n",
        "batch_tfms = [Normalize.from_stats(*imagenet_stats)] # add data augmentation here...\n",
        "\n",
        "dblock = DataBlock(blocks    = (ImageBlock, PointBlock),\n",
        "                   get_items = get_image_files,\n",
        "                   get_y     = label_func,\n",
        "                   splitter  = RandomSplitter(valid_pct=0.2, seed=42), # valid_pct: 20% of your dataset is used for validation\n",
        "                   item_tfms = item_tfms,\n",
        "                   batch_tfms= batch_tfms)"
      ],
      "execution_count": 0,
      "outputs": []
    },
    {
      "cell_type": "code",
      "metadata": {
        "id": "2hoffpZv_6zR",
        "colab_type": "code",
        "colab": {}
      },
      "source": [
        "dls = dblock.dataloaders(imagedir, bs=8)"
      ],
      "execution_count": 0,
      "outputs": []
    },
    {
      "cell_type": "code",
      "metadata": {
        "id": "L5TS-7UYkx4M",
        "colab_type": "code",
        "outputId": "44c29354-1d9f-46b6-b98c-731211c6b7da",
        "colab": {
          "base_uri": "https://localhost:8080/",
          "height": 354
        }
      },
      "source": [
        "dls.show_batch()"
      ],
      "execution_count": 21,
      "outputs": [
        {
          "output_type": "display_data",
          "data": {
            "image/png": "[encoded data removed]",
            "text/plain": [
              "<Figure size 864x432 with 8 Axes>"
            ]
          },
          "metadata": {
            "tags": [],
            "needs_background": "light"
          }
        }
      ]
    },
    {
      "cell_type": "markdown",
      "metadata": {
        "id": "AOmsLOBc6099",
        "colab_type": "text"
      },
      "source": [
        "## Training the Model"
      ]
    },
    {
      "cell_type": "code",
      "metadata": {
        "id": "G8h3JFtBIcNq",
        "colab_type": "code",
        "colab": {}
      },
      "source": [
        ""
      ],
      "execution_count": 0,
      "outputs": []
    },
    {
      "cell_type": "markdown",
      "metadata": {
        "id": "hCzVJvuKCak2",
        "colab_type": "text"
      },
      "source": [
        "## Understanding the results"
      ]
    },
    {
      "cell_type": "code",
      "metadata": {
        "id": "kDalXclnIaOj",
        "colab_type": "code",
        "colab": {}
      },
      "source": [
        ""
      ],
      "execution_count": 0,
      "outputs": []
    }
  ]
}